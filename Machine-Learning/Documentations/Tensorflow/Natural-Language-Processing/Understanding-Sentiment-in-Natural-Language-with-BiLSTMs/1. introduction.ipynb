{
 "cells": [
  {
   "cell_type": "markdown",
   "metadata": {},
   "source": [
    "## Memahami Sentimen dalam Bahasa Alami dengan BiLSTMs\n",
    "\n",
    "**Natural Language Understanding (NLU)** adalah bagian penting dari **Natural Language Processing (NLP)**. Dalam dekade terakhir, minat terhadap bidang ini meningkat pesat berkat kesuksesan chatbot seperti Amazon Alexa dan Apple Siri. Bab ini akan memperkenalkan area luas NLU dan aplikasi utamanya.\n",
    "\n",
    "### Model Arsitektur: RNN dan LSTM\n",
    "\n",
    "Untuk memahami bahasa alami, kita menggunakan model arsitektur khusus yang disebut **Recurrent Neural Networks (RNNs)**. RNN memiliki unit khusus yang disebut **Long Short-Term Memory (LSTM)**. LSTM ini membantu model untuk \"mengingat\" informasi penting dalam teks, mirip dengan cara blok konvolusi bekerja dalam penglihatan komputer.\n",
    "\n",
    "### Contoh Aplikasi\n",
    "\n",
    "1. **Analisis Sentimen Ulasan Film**: Kita akan membangun model untuk memahami sentimen (positif atau negatif) dari ulasan film.\n",
    "2. **Named Entity Recognition (NER)**: Ini adalah dasar penting dari NLU yang akan dibahas di bab berikutnya.\n",
    "\n",
    "### Menggunakan BiLSTMs\n",
    "\n",
    "Untuk membangun model yang mampu memahami sentimen, kita menggunakan **Bi-Directional LSTMs (BiLSTMs)**. BiLSTMs memungkinkan model untuk melihat teks dari dua arah (maju dan mundur), sehingga lebih baik dalam menangkap konteks.\n",
    "\n",
    "### Langkah-Langkah yang Akan Dibahas\n",
    "\n",
    "- **Gambaran Umum NLU dan Aplikasinya**: Memahami apa itu NLU dan bagaimana digunakan.\n",
    "- **Gambaran Umum RNNs dan BiRNNs dengan LSTMs dan BiLSTMs**: Memahami bagaimana RNNs dan LSTMs bekerja.\n",
    "- **Analisis Sentimen Ulasan Film dengan LSTMs dan BiLSTMs**: Langkah-langkah untuk membangun model analisis sentimen.\n",
    "- **Menggunakan tf.data dan TensorFlow Datasets**: Cara mengelola data dengan efisien.\n",
    "- **Mengoptimalkan Kinerja Pemrosesan Data**: Memaksimalkan penggunaan CPU dan GPU untuk pemrosesan data yang lebih cepat."
   ]
  }
 ],
 "metadata": {
  "language_info": {
   "name": "python"
  }
 },
 "nbformat": 4,
 "nbformat_minor": 2
}
