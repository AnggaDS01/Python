{
 "cells": [
  {
   "cell_type": "markdown",
   "metadata": {},
   "source": [
    "## Natural Language Understanding (NLU)\n",
    "\n",
    "**Natural Language Understanding (NLU)** memungkinkan pemrosesan teks yang tidak terstruktur dan mengekstraksi makna serta informasi penting yang dapat ditindaklanjuti. Memungkinkan komputer untuk memahami kalimat teks adalah tantangan yang sangat sulit. Salah satu aspek NLU adalah memahami makna kalimat. Setelah memahami kalimat, analisis sentimen menjadi mungkin. Aplikasi lain yang berguna adalah klasifikasi kalimat ke dalam topik tertentu. Klasifikasi topik ini juga dapat membantu dalam mengatasi ambiguitas entitas.\n",
    "\n",
    "### Contoh Ambiguitas\n",
    "\n",
    "Pertimbangkan kalimat berikut: \"A CNN helps improve the accuracy of object recognition.\" Tanpa memahami bahwa kalimat ini tentang pembelajaran mesin, mungkin ada kesalahan dalam mengartikan entitas CNN. Bisa saja diartikan sebagai organisasi berita, bukan arsitektur pembelajaran mendalam yang digunakan dalam penglihatan komputer.\n",
    "\n",
    "### Analisis Sentimen dengan BiLSTMs\n",
    "\n",
    "Model analisis sentimen dibangun menggunakan arsitektur RNN khusus yang disebut **BiLSTMs**. BiLSTMs memungkinkan model untuk melihat teks dari dua arah (maju dan mundur), sehingga lebih baik dalam menangkap konteks.\n",
    "\n",
    "### Ekstraksi Informasi dari Teks\n",
    "\n",
    "Aspek lain dari NLU adalah mengekstraksi informasi atau perintah dari teks bebas. Teks ini bisa berasal dari konversi ucapan, seperti yang diucapkan ke perangkat Amazon Echo, menjadi teks. Kemajuan pesat dalam pengenalan ucapan sekarang memungkinkan mempertimbangkan ucapan setara dengan teks. Mengekstraksi perintah dari teks, seperti objek dan tindakan yang harus dilakukan, memungkinkan kontrol perangkat melalui perintah suara.\n",
    "\n",
    "### Contoh Perintah Suara\n",
    "\n",
    "Pertimbangkan kalimat \"Lower the volume.\" Di sini, objeknya adalah \"volume\" dan tindakannya adalah \"lower.\" Setelah diekstraksi dari teks, tindakan ini dapat dicocokkan dengan daftar tindakan yang tersedia dan dieksekusi. Kemampuan ini memungkinkan interaksi manusia-komputer (HCI) yang canggih, memungkinkan kontrol peralatan rumah tangga melalui perintah suara.\n",
    "\n",
    "### Named Entity Recognition (NER)\n",
    "\n",
    "**Named Entity Recognition (NER)** digunakan untuk mendeteksi token kunci dalam kalimat. Teknik ini sangat berguna dalam membangun chatbot pengisian formulir atau slot. NER juga menjadi dasar teknik NLU lainnya yang melakukan tugas seperti ekstraksi hubungan.\n",
    "\n",
    "### Contoh Ekstraksi Hubungan\n",
    "\n",
    "Pertimbangkan kalimat \"Sundar Pichai is the CEO of Google.\" Dalam kalimat ini, apa hubungan antara entitas \"Sundar Pichai\" dan \"Google\"? Jawaban yang benar adalah CEO. Ini adalah contoh ekstraksi hubungan, dan NER digunakan untuk mengidentifikasi entitas dalam kalimat."
   ]
  }
 ],
 "metadata": {
  "language_info": {
   "name": "python"
  }
 },
 "nbformat": 4,
 "nbformat_minor": 2
}
