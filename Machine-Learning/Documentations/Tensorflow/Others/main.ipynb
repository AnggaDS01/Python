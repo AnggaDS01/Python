{
 "cells": [
  {
   "cell_type": "code",
   "execution_count": 1,
   "metadata": {},
   "outputs": [],
   "source": [
    "import pandas as pd\n",
    "import numpy as np\n",
    "import csv\n",
    "import re"
   ]
  },
  {
   "cell_type": "code",
   "execution_count": 2,
   "metadata": {},
   "outputs": [],
   "source": [
    "DATASET_PATH = './Assets/Datasets/dataset_'"
   ]
  },
  {
   "cell_type": "code",
   "execution_count": 3,
   "metadata": {},
   "outputs": [
    {
     "name": "stdout",
     "output_type": "stream",
     "text": [
      "% Context --> idx: 0\n",
      "% The dataset provides user reviews on specific drugs along with related conditions, side effects, age, sex, and ratings reflecting overall patient satisfaction. --> idx: 1\n",
      "% Content --> idx: 2\n",
      "% Data was acquired by scraping WebMD site. There are around 0.36 million rows of unique reviews and is updated till Mar 2020. --> idx: 3\n",
      "% Inspiration --> idx: 4\n",
      "% This dataset intended to answer following questions: --> idx: 5\n",
      "% I. Identifying the condition of the patient based on drug reviews? --> idx: 6\n",
      "% II. How to predict drug rating based on patients reviews? --> idx: 7\n",
      "% III. How to visualize drug rating, kind of drugs, types of conditions a patient can have, sentiments based on reviews --> idx: 8\n",
      "@RELATION WebMD-Drug-Reviews-Dataset --> idx: 9\n",
      " --> idx: 10\n",
      "@ATTRIBUTE Age STRING --> idx: 11\n",
      "@ATTRIBUTE Condition STRING --> idx: 12\n",
      "@ATTRIBUTE Date STRING --> idx: 13\n",
      "@ATTRIBUTE Drug STRING --> idx: 14\n",
      "@ATTRIBUTE DrugId INTEGER --> idx: 15\n",
      "@ATTRIBUTE EaseofUse INTEGER --> idx: 16\n",
      "@ATTRIBUTE Effectiveness INTEGER --> idx: 17\n",
      "@ATTRIBUTE Reviews STRING --> idx: 18\n",
      "@ATTRIBUTE Satisfaction INTEGER --> idx: 19\n",
      "@ATTRIBUTE Sex STRING --> idx: 20\n",
      "@ATTRIBUTE Sides STRING --> idx: 21\n",
      "@ATTRIBUTE UsefulCount INTEGER --> idx: 22\n",
      " --> idx: 23\n",
      "@DATA --> idx: 24\n",
      "'75 or over','Stuffy Nose',9/21/2014,25dph-7.5peh,146724,5,5,'I\\'m a retired physician and of all the meds I have tried for my allergies (seasonal and not) - this one is the most effective for me.  When I first began using this drug some years ago - tiredness as a problem but is not currently.',5,Male,'Drowsiness,  dizziness ,  dry mouth /nose/throat,  headache ,  upset stomach ,  constipation , or  trouble sleeping  may occur.',0 --> idx: 25\n",
      "25-34,'Cold Symptoms',1/13/2011,25dph-7.5peh,146724,5,5,'cleared me right up even with my throat hurting it went away after taking the medicine',5,Female,'Drowsiness,  dizziness ,  dry mouth /nose/throat,  headache ,  upset stomach ,  constipation , or  trouble sleeping  may occur.',1 --> idx: 26\n",
      "65-74,Other,7/16/2012,'warfarin (bulk) 100  powder',144731,2,3,'why did my PTINR go from a normal of 2.5 to over \\n100?',3,Female,' ',0 --> idx: 27\n",
      "'75 or over',Other,9/23/2010,'warfarin (bulk) 100  powder',144731,2,2,'FALLING AND DON\\'T REALISE IT',1,Female,' ',0 --> idx: 28\n",
      "35-44,Other,1/6/2009,'warfarin (bulk) 100  powder',144731,1,1,'My grandfather was prescribed this medication (Coumadin) to assist in blood thinning due to a heart and thyroid condition.  His primary doctor was aware that he was on an aspirin regiment and still prescribed this medicine, it caused his blood to thin out to much and he ended up internally bleeding to death.  If you are going to take this medicine please ask your doctors about possible side effects or drug interactions.',1,Male,' ',1 --> idx: 29\n",
      "55-64,Other,7/19/2008,'warfarin (bulk) 100  powder',144731,4,4,'help heart condition operation well',4,Male,' ',0 --> idx: 30\n"
     ]
    }
   ],
   "source": [
    "with open(DATASET_PATH, 'r') as file:\n",
    "    for idx, line in enumerate(file):\n",
    "        line = line.strip()\n",
    "        print(f'{line} --> idx: {idx}')\n",
    "        if idx == 30:\n",
    "            break"
   ]
  },
  {
   "cell_type": "code",
   "execution_count": 145,
   "metadata": {},
   "outputs": [
    {
     "name": "stdout",
     "output_type": "stream",
     "text": [
      "['Sex', 'Sides', 'UsefulCount']\n"
     ]
    }
   ],
   "source": [
    "final_data = []\n",
    "exper_data = []\n",
    "columns = [\n",
    "    'Age', \n",
    "    'Condition', \n",
    "    'Date', \n",
    "    'Drug', \n",
    "    'DrugId', \n",
    "    'EaseofUse', \n",
    "    'Effectiveness', \n",
    "    'Reviews', \n",
    "    'Satisfaction', \n",
    "    'Sex', \n",
    "    'Sides', \n",
    "    'UsefulCount'\n",
    "]\n",
    "\n",
    "def extract_sex(description):\n",
    "    # Bersihkan spasi di awal dan akhir\n",
    "    description = description.strip()\n",
    "    # Cek apakah hanya berisi \"male\" atau \"female\"\n",
    "    if re.fullmatch(r'male|female', description, flags=re.I):\n",
    "        return description.lower()\n",
    "    # Jika string kosong atau hanya spasi, kembalikan string kosong\n",
    "    elif description == \"\":\n",
    "        return np.NaN\n",
    "\n",
    "print(columns[-3:])\n",
    "with open(DATASET_PATH, 'r') as file:\n",
    "    # Skip lines until the '@DATA' line\n",
    "    for line in file:\n",
    "        if line.strip() == '@DATA':\n",
    "            break\n",
    "        \n",
    "    # Read the actual data lines\n",
    "    reader = csv.reader(file, delimiter=',', quotechar=\"'\", doublequote=True)\n",
    "    for idx, row in enumerate(reader):\n",
    "        data_prep=row[:7] + [''.join(row[7:-4])] + row[-4:]\n",
    "        sex_value = data_prep[-3].strip()\n",
    "\n",
    "        # if idx >= 500:\n",
    "        #     break\n",
    "\n",
    "        if (re.fullmatch(r'male|female', sex_value, flags=re.I)) or (sex_value == ''):\n",
    "            final_data.append(data_prep)\n",
    "            # print(data_prep[-3:])\n",
    "        else:\n",
    "            exper_data.append(data_prep)\n",
    "            # print(data_prep[-3:])\n",
    "            # print()\n"
   ]
  },
  {
   "cell_type": "code",
   "execution_count": 146,
   "metadata": {},
   "outputs": [],
   "source": [
    "df = pd.DataFrame(final_data, columns=columns)"
   ]
  },
  {
   "cell_type": "code",
   "execution_count": 147,
   "metadata": {},
   "outputs": [
    {
     "data": {
      "text/html": [
       "<div>\n",
       "<style scoped>\n",
       "    .dataframe tbody tr th:only-of-type {\n",
       "        vertical-align: middle;\n",
       "    }\n",
       "\n",
       "    .dataframe tbody tr th {\n",
       "        vertical-align: top;\n",
       "    }\n",
       "\n",
       "    .dataframe thead th {\n",
       "        text-align: right;\n",
       "    }\n",
       "</style>\n",
       "<table border=\"1\" class=\"dataframe\">\n",
       "  <thead>\n",
       "    <tr style=\"text-align: right;\">\n",
       "      <th></th>\n",
       "      <th>Age</th>\n",
       "      <th>Condition</th>\n",
       "      <th>Date</th>\n",
       "      <th>Drug</th>\n",
       "      <th>DrugId</th>\n",
       "      <th>EaseofUse</th>\n",
       "      <th>Effectiveness</th>\n",
       "      <th>Reviews</th>\n",
       "      <th>Satisfaction</th>\n",
       "      <th>Sex</th>\n",
       "      <th>Sides</th>\n",
       "      <th>UsefulCount</th>\n",
       "    </tr>\n",
       "  </thead>\n",
       "  <tbody>\n",
       "    <tr>\n",
       "      <th>0</th>\n",
       "      <td>75 or over</td>\n",
       "      <td>Stuffy Nose</td>\n",
       "      <td>9/21/2014</td>\n",
       "      <td>25dph-7.5peh</td>\n",
       "      <td>146724</td>\n",
       "      <td>5</td>\n",
       "      <td>5</td>\n",
       "      <td>I\\m a retired physician and of all the meds I ...</td>\n",
       "      <td>5</td>\n",
       "      <td>Male</td>\n",
       "      <td>Drowsiness,  dizziness ,  dry mouth /nose/thro...</td>\n",
       "      <td>0</td>\n",
       "    </tr>\n",
       "    <tr>\n",
       "      <th>1</th>\n",
       "      <td>25-34</td>\n",
       "      <td>Cold Symptoms</td>\n",
       "      <td>1/13/2011</td>\n",
       "      <td>25dph-7.5peh</td>\n",
       "      <td>146724</td>\n",
       "      <td>5</td>\n",
       "      <td>5</td>\n",
       "      <td>cleared me right up even with my throat hurtin...</td>\n",
       "      <td>5</td>\n",
       "      <td>Female</td>\n",
       "      <td>Drowsiness,  dizziness ,  dry mouth /nose/thro...</td>\n",
       "      <td>1</td>\n",
       "    </tr>\n",
       "    <tr>\n",
       "      <th>2</th>\n",
       "      <td>65-74</td>\n",
       "      <td>Other</td>\n",
       "      <td>7/16/2012</td>\n",
       "      <td>warfarin (bulk) 100  powder</td>\n",
       "      <td>144731</td>\n",
       "      <td>2</td>\n",
       "      <td>3</td>\n",
       "      <td>why did my PTINR go from a normal of 2.5 to ov...</td>\n",
       "      <td>3</td>\n",
       "      <td>Female</td>\n",
       "      <td></td>\n",
       "      <td>0</td>\n",
       "    </tr>\n",
       "    <tr>\n",
       "      <th>3</th>\n",
       "      <td>75 or over</td>\n",
       "      <td>Other</td>\n",
       "      <td>9/23/2010</td>\n",
       "      <td>warfarin (bulk) 100  powder</td>\n",
       "      <td>144731</td>\n",
       "      <td>2</td>\n",
       "      <td>2</td>\n",
       "      <td>FALLING AND DON\\T REALISE IT'</td>\n",
       "      <td>1</td>\n",
       "      <td>Female</td>\n",
       "      <td></td>\n",
       "      <td>0</td>\n",
       "    </tr>\n",
       "    <tr>\n",
       "      <th>4</th>\n",
       "      <td>35-44</td>\n",
       "      <td>Other</td>\n",
       "      <td>1/6/2009</td>\n",
       "      <td>warfarin (bulk) 100  powder</td>\n",
       "      <td>144731</td>\n",
       "      <td>1</td>\n",
       "      <td>1</td>\n",
       "      <td>My grandfather was prescribed this medication ...</td>\n",
       "      <td>1</td>\n",
       "      <td>Male</td>\n",
       "      <td></td>\n",
       "      <td>1</td>\n",
       "    </tr>\n",
       "  </tbody>\n",
       "</table>\n",
       "</div>"
      ],
      "text/plain": [
       "          Age      Condition       Date                         Drug  DrugId  \\\n",
       "0  75 or over    Stuffy Nose  9/21/2014                 25dph-7.5peh  146724   \n",
       "1       25-34  Cold Symptoms  1/13/2011                 25dph-7.5peh  146724   \n",
       "2       65-74          Other  7/16/2012  warfarin (bulk) 100  powder  144731   \n",
       "3  75 or over          Other  9/23/2010  warfarin (bulk) 100  powder  144731   \n",
       "4       35-44          Other   1/6/2009  warfarin (bulk) 100  powder  144731   \n",
       "\n",
       "  EaseofUse Effectiveness                                            Reviews  \\\n",
       "0         5             5  I\\m a retired physician and of all the meds I ...   \n",
       "1         5             5  cleared me right up even with my throat hurtin...   \n",
       "2         2             3  why did my PTINR go from a normal of 2.5 to ov...   \n",
       "3         2             2                      FALLING AND DON\\T REALISE IT'   \n",
       "4         1             1  My grandfather was prescribed this medication ...   \n",
       "\n",
       "  Satisfaction     Sex                                              Sides  \\\n",
       "0            5    Male  Drowsiness,  dizziness ,  dry mouth /nose/thro...   \n",
       "1            5  Female  Drowsiness,  dizziness ,  dry mouth /nose/thro...   \n",
       "2            3  Female                                                      \n",
       "3            1  Female                                                      \n",
       "4            1    Male                                                      \n",
       "\n",
       "  UsefulCount  \n",
       "0           0  \n",
       "1           1  \n",
       "2           0  \n",
       "3           0  \n",
       "4           1  "
      ]
     },
     "execution_count": 147,
     "metadata": {},
     "output_type": "execute_result"
    }
   ],
   "source": [
    "df[:5]"
   ]
  },
  {
   "cell_type": "code",
   "execution_count": 148,
   "metadata": {},
   "outputs": [
    {
     "name": "stdout",
     "output_type": "stream",
     "text": [
      "<class 'pandas.core.frame.DataFrame'>\n",
      "RangeIndex: 362639 entries, 0 to 362638\n",
      "Data columns (total 12 columns):\n",
      " #   Column         Non-Null Count   Dtype \n",
      "---  ------         --------------   ----- \n",
      " 0   Age            362639 non-null  object\n",
      " 1   Condition      362639 non-null  object\n",
      " 2   Date           362639 non-null  object\n",
      " 3   Drug           362639 non-null  object\n",
      " 4   DrugId         362639 non-null  object\n",
      " 5   EaseofUse      362639 non-null  object\n",
      " 6   Effectiveness  362639 non-null  object\n",
      " 7   Reviews        362639 non-null  object\n",
      " 8   Satisfaction   362639 non-null  object\n",
      " 9   Sex            362639 non-null  object\n",
      " 10  Sides          362639 non-null  object\n",
      " 11  UsefulCount    362639 non-null  object\n",
      "dtypes: object(12)\n",
      "memory usage: 399.5 MB\n"
     ]
    }
   ],
   "source": [
    "df.info(memory_usage='deep')"
   ]
  },
  {
   "cell_type": "code",
   "execution_count": 163,
   "metadata": {},
   "outputs": [
    {
     "data": {
      "text/plain": [
       "Age                  12\n",
       "Condition          1806\n",
       "Date               4525\n",
       "Drug               7096\n",
       "DrugId             6573\n",
       "EaseofUse            13\n",
       "Effectiveness         7\n",
       "Reviews          250042\n",
       "Satisfaction          7\n",
       "Sex                   3\n",
       "Sides              1651\n",
       "UsefulCount         148\n",
       "dtype: int64"
      ]
     },
     "execution_count": 163,
     "metadata": {},
     "output_type": "execute_result"
    }
   ],
   "source": [
    "df.nunique()"
   ]
  },
  {
   "cell_type": "code",
   "execution_count": 165,
   "metadata": {},
   "outputs": [
    {
     "data": {
      "text/plain": [
       "Age\n",
       "45-54         80007\n",
       "55-64         75075\n",
       "35-44         54982\n",
       "25-34         49707\n",
       "65-74         41201\n",
       "19-24         24229\n",
       "75 or over    15218\n",
       "              12201\n",
       "13-18          7040\n",
       "7-12           1644\n",
       "3-6             838\n",
       "0-2             497\n",
       "Name: count, dtype: int64"
      ]
     },
     "metadata": {},
     "output_type": "display_data"
    },
    {
     "data": {
      "text/plain": [
       "EaseofUse\n",
       "5         192527\n",
       "4          74708\n",
       "3          41286\n",
       "1          35906\n",
       "2          18179\n",
       "62261         18\n",
       "154215         6\n",
       "11147          3\n",
       "6              2\n",
       "10149          1\n",
       "10             1\n",
       "169930         1\n",
       "57948          1\n",
       "Name: count, dtype: int64"
      ]
     },
     "metadata": {},
     "output_type": "display_data"
    },
    {
     "data": {
      "text/plain": [
       "Effectiveness\n",
       "5     130321\n",
       "4      81785\n",
       "3      60386\n",
       "1      59354\n",
       "2      30790\n",
       "6          2\n",
       "10         1\n",
       "Name: count, dtype: int64"
      ]
     },
     "metadata": {},
     "output_type": "display_data"
    },
    {
     "data": {
      "text/plain": [
       "Satisfaction\n",
       "5     111487\n",
       "1     100856\n",
       "4      63128\n",
       "3      51837\n",
       "2      35328\n",
       "6          2\n",
       "10         1\n",
       "Name: count, dtype: int64"
      ]
     },
     "metadata": {},
     "output_type": "display_data"
    },
    {
     "data": {
      "text/plain": [
       "Sex\n",
       "Female    238119\n",
       "Male       98000\n",
       "           26520\n",
       "Name: count, dtype: int64"
      ]
     },
     "metadata": {},
     "output_type": "display_data"
    }
   ],
   "source": [
    "display(df['Age'].value_counts())\n",
    "display(df['EaseofUse'].value_counts())\n",
    "display(df['Effectiveness'].value_counts())\n",
    "display(df['Satisfaction'].value_counts())\n",
    "display(df['Sex'].value_counts())"
   ]
  },
  {
   "cell_type": "code",
   "execution_count": 161,
   "metadata": {},
   "outputs": [
    {
     "data": {
      "text/plain": [
       "Age              0\n",
       "Condition        0\n",
       "Date             0\n",
       "Drug             0\n",
       "DrugId           0\n",
       "EaseofUse        0\n",
       "Effectiveness    0\n",
       "Reviews          0\n",
       "Satisfaction     0\n",
       "Sex              0\n",
       "Sides            0\n",
       "UsefulCount      0\n",
       "dtype: int64"
      ]
     },
     "execution_count": 161,
     "metadata": {},
     "output_type": "execute_result"
    }
   ],
   "source": [
    "df.isna().sum()"
   ]
  },
  {
   "cell_type": "code",
   "execution_count": 149,
   "metadata": {},
   "outputs": [],
   "source": [
    "cleaned_df = df.map(lambda x: np.NaN if re.search(r'^\\s*$', x, flags=re.I) else x)"
   ]
  },
  {
   "cell_type": "code",
   "execution_count": 150,
   "metadata": {},
   "outputs": [
    {
     "data": {
      "text/html": [
       "<div>\n",
       "<style scoped>\n",
       "    .dataframe tbody tr th:only-of-type {\n",
       "        vertical-align: middle;\n",
       "    }\n",
       "\n",
       "    .dataframe tbody tr th {\n",
       "        vertical-align: top;\n",
       "    }\n",
       "\n",
       "    .dataframe thead th {\n",
       "        text-align: right;\n",
       "    }\n",
       "</style>\n",
       "<table border=\"1\" class=\"dataframe\">\n",
       "  <thead>\n",
       "    <tr style=\"text-align: right;\">\n",
       "      <th></th>\n",
       "      <th>Age</th>\n",
       "      <th>Condition</th>\n",
       "      <th>Date</th>\n",
       "      <th>Drug</th>\n",
       "      <th>DrugId</th>\n",
       "      <th>EaseofUse</th>\n",
       "      <th>Effectiveness</th>\n",
       "      <th>Reviews</th>\n",
       "      <th>Satisfaction</th>\n",
       "      <th>Sex</th>\n",
       "      <th>Sides</th>\n",
       "      <th>UsefulCount</th>\n",
       "    </tr>\n",
       "  </thead>\n",
       "  <tbody>\n",
       "    <tr>\n",
       "      <th>0</th>\n",
       "      <td>75 or over</td>\n",
       "      <td>Stuffy Nose</td>\n",
       "      <td>9/21/2014</td>\n",
       "      <td>25dph-7.5peh</td>\n",
       "      <td>146724</td>\n",
       "      <td>5</td>\n",
       "      <td>5</td>\n",
       "      <td>I\\m a retired physician and of all the meds I ...</td>\n",
       "      <td>5</td>\n",
       "      <td>Male</td>\n",
       "      <td>Drowsiness,  dizziness ,  dry mouth /nose/thro...</td>\n",
       "      <td>0</td>\n",
       "    </tr>\n",
       "    <tr>\n",
       "      <th>1</th>\n",
       "      <td>25-34</td>\n",
       "      <td>Cold Symptoms</td>\n",
       "      <td>1/13/2011</td>\n",
       "      <td>25dph-7.5peh</td>\n",
       "      <td>146724</td>\n",
       "      <td>5</td>\n",
       "      <td>5</td>\n",
       "      <td>cleared me right up even with my throat hurtin...</td>\n",
       "      <td>5</td>\n",
       "      <td>Female</td>\n",
       "      <td>Drowsiness,  dizziness ,  dry mouth /nose/thro...</td>\n",
       "      <td>1</td>\n",
       "    </tr>\n",
       "    <tr>\n",
       "      <th>2</th>\n",
       "      <td>65-74</td>\n",
       "      <td>Other</td>\n",
       "      <td>7/16/2012</td>\n",
       "      <td>warfarin (bulk) 100  powder</td>\n",
       "      <td>144731</td>\n",
       "      <td>2</td>\n",
       "      <td>3</td>\n",
       "      <td>why did my PTINR go from a normal of 2.5 to ov...</td>\n",
       "      <td>3</td>\n",
       "      <td>Female</td>\n",
       "      <td>NaN</td>\n",
       "      <td>0</td>\n",
       "    </tr>\n",
       "    <tr>\n",
       "      <th>3</th>\n",
       "      <td>75 or over</td>\n",
       "      <td>Other</td>\n",
       "      <td>9/23/2010</td>\n",
       "      <td>warfarin (bulk) 100  powder</td>\n",
       "      <td>144731</td>\n",
       "      <td>2</td>\n",
       "      <td>2</td>\n",
       "      <td>FALLING AND DON\\T REALISE IT'</td>\n",
       "      <td>1</td>\n",
       "      <td>Female</td>\n",
       "      <td>NaN</td>\n",
       "      <td>0</td>\n",
       "    </tr>\n",
       "    <tr>\n",
       "      <th>4</th>\n",
       "      <td>35-44</td>\n",
       "      <td>Other</td>\n",
       "      <td>1/6/2009</td>\n",
       "      <td>warfarin (bulk) 100  powder</td>\n",
       "      <td>144731</td>\n",
       "      <td>1</td>\n",
       "      <td>1</td>\n",
       "      <td>My grandfather was prescribed this medication ...</td>\n",
       "      <td>1</td>\n",
       "      <td>Male</td>\n",
       "      <td>NaN</td>\n",
       "      <td>1</td>\n",
       "    </tr>\n",
       "  </tbody>\n",
       "</table>\n",
       "</div>"
      ],
      "text/plain": [
       "          Age      Condition       Date                         Drug  DrugId  \\\n",
       "0  75 or over    Stuffy Nose  9/21/2014                 25dph-7.5peh  146724   \n",
       "1       25-34  Cold Symptoms  1/13/2011                 25dph-7.5peh  146724   \n",
       "2       65-74          Other  7/16/2012  warfarin (bulk) 100  powder  144731   \n",
       "3  75 or over          Other  9/23/2010  warfarin (bulk) 100  powder  144731   \n",
       "4       35-44          Other   1/6/2009  warfarin (bulk) 100  powder  144731   \n",
       "\n",
       "  EaseofUse Effectiveness                                            Reviews  \\\n",
       "0         5             5  I\\m a retired physician and of all the meds I ...   \n",
       "1         5             5  cleared me right up even with my throat hurtin...   \n",
       "2         2             3  why did my PTINR go from a normal of 2.5 to ov...   \n",
       "3         2             2                      FALLING AND DON\\T REALISE IT'   \n",
       "4         1             1  My grandfather was prescribed this medication ...   \n",
       "\n",
       "  Satisfaction     Sex                                              Sides  \\\n",
       "0            5    Male  Drowsiness,  dizziness ,  dry mouth /nose/thro...   \n",
       "1            5  Female  Drowsiness,  dizziness ,  dry mouth /nose/thro...   \n",
       "2            3  Female                                                NaN   \n",
       "3            1  Female                                                NaN   \n",
       "4            1    Male                                                NaN   \n",
       "\n",
       "  UsefulCount  \n",
       "0           0  \n",
       "1           1  \n",
       "2           0  \n",
       "3           0  \n",
       "4           1  "
      ]
     },
     "execution_count": 150,
     "metadata": {},
     "output_type": "execute_result"
    }
   ],
   "source": [
    "cleaned_df[:5]"
   ]
  },
  {
   "cell_type": "code",
   "execution_count": 151,
   "metadata": {},
   "outputs": [
    {
     "data": {
      "text/plain": [
       "(362639, 12)"
      ]
     },
     "execution_count": 151,
     "metadata": {},
     "output_type": "execute_result"
    }
   ],
   "source": [
    "cleaned_df.shape"
   ]
  },
  {
   "cell_type": "code",
   "execution_count": 152,
   "metadata": {},
   "outputs": [
    {
     "name": "stdout",
     "output_type": "stream",
     "text": [
      "<class 'pandas.core.frame.DataFrame'>\n",
      "RangeIndex: 362639 entries, 0 to 362638\n",
      "Data columns (total 12 columns):\n",
      " #   Column         Non-Null Count   Dtype \n",
      "---  ------         --------------   ----- \n",
      " 0   Age            350438 non-null  object\n",
      " 1   Condition      362596 non-null  object\n",
      " 2   Date           362639 non-null  object\n",
      " 3   Drug           362639 non-null  object\n",
      " 4   DrugId         362639 non-null  object\n",
      " 5   EaseofUse      362639 non-null  object\n",
      " 6   Effectiveness  362639 non-null  object\n",
      " 7   Reviews        320809 non-null  object\n",
      " 8   Satisfaction   362639 non-null  object\n",
      " 9   Sex            336119 non-null  object\n",
      " 10  Sides          345184 non-null  object\n",
      " 11  UsefulCount    362639 non-null  object\n",
      "dtypes: object(12)\n",
      "memory usage: 397.1 MB\n"
     ]
    }
   ],
   "source": [
    "cleaned_df.info(memory_usage='deep')"
   ]
  },
  {
   "cell_type": "code",
   "execution_count": 153,
   "metadata": {},
   "outputs": [
    {
     "data": {
      "text/plain": [
       "Age              12201\n",
       "Condition           43\n",
       "Date                 0\n",
       "Drug                 0\n",
       "DrugId               0\n",
       "EaseofUse            0\n",
       "Effectiveness        0\n",
       "Reviews          41830\n",
       "Satisfaction         0\n",
       "Sex              26520\n",
       "Sides            17455\n",
       "UsefulCount          0\n",
       "dtype: int64"
      ]
     },
     "execution_count": 153,
     "metadata": {},
     "output_type": "execute_result"
    }
   ],
   "source": [
    "cleaned_df.isna().sum()"
   ]
  },
  {
   "cell_type": "code",
   "execution_count": 154,
   "metadata": {},
   "outputs": [
    {
     "data": {
      "text/plain": [
       "Age                  11\n",
       "Condition          1805\n",
       "Date               4525\n",
       "Drug               7096\n",
       "DrugId             6573\n",
       "EaseofUse            13\n",
       "Effectiveness         7\n",
       "Reviews          250039\n",
       "Satisfaction          7\n",
       "Sex                   2\n",
       "Sides              1650\n",
       "UsefulCount         148\n",
       "dtype: int64"
      ]
     },
     "execution_count": 154,
     "metadata": {},
     "output_type": "execute_result"
    }
   ],
   "source": [
    "cleaned_df.nunique()"
   ]
  },
  {
   "cell_type": "code",
   "execution_count": 157,
   "metadata": {},
   "outputs": [
    {
     "data": {
      "text/plain": [
       "Sex\n",
       "Female    238119\n",
       "Male       98000\n",
       "Name: count, dtype: int64"
      ]
     },
     "execution_count": 157,
     "metadata": {},
     "output_type": "execute_result"
    }
   ],
   "source": [
    "cleaned_df['Sex'].value_counts()"
   ]
  },
  {
   "cell_type": "code",
   "execution_count": 94,
   "metadata": {},
   "outputs": [
    {
     "data": {
      "text/plain": [
       "Effectiveness\n",
       "5    120829\n",
       "4     76425\n",
       "3     56096\n",
       "1     54300\n",
       "2     28467\n",
       "6         2\n",
       "Name: count, dtype: int64"
      ]
     },
     "execution_count": 94,
     "metadata": {},
     "output_type": "execute_result"
    }
   ],
   "source": [
    "cleaned_df['Effectiveness'].value_counts()"
   ]
  },
  {
   "cell_type": "code",
   "execution_count": 97,
   "metadata": {},
   "outputs": [
    {
     "data": {
      "text/plain": [
       "Condition\n",
       "Other                                                                             47648\n",
       "Pain                                                                              23624\n",
       "High Blood Pressure                                                               21627\n",
       "Depression                                                                        13807\n",
       "Birth Control                                                                     11192\n",
       "                                                                                  ...  \n",
       "Hospital-Acquired Pseudomonas Aeruginosa Pneumonia Treated with Multiple Drugs        1\n",
       "Bacterial Blood Infection caused by Pseudomonas Aeruginosa                            1\n",
       "Defect of Connective Tissue - Noonan\\s Syndrome'                                      1\n",
       "Infection of Female Pelvic Organs caused by Klebsiella                                1\n",
       "Complicated Skin Infection due to Peptostreptococcus Bacteria                         1\n",
       "Name: count, Length: 1753, dtype: int64"
      ]
     },
     "execution_count": 97,
     "metadata": {},
     "output_type": "execute_result"
    }
   ],
   "source": [
    "cleaned_df['Condition'].value_counts()"
   ]
  },
  {
   "cell_type": "code",
   "execution_count": 166,
   "metadata": {},
   "outputs": [],
   "source": [
    "exper_df = pd.DataFrame(exper_data, columns=columns)"
   ]
  },
  {
   "cell_type": "code",
   "execution_count": 168,
   "metadata": {},
   "outputs": [
    {
     "data": {
      "text/plain": [
       "(167, 12)"
      ]
     },
     "execution_count": 168,
     "metadata": {},
     "output_type": "execute_result"
    }
   ],
   "source": [
    "exper_df.shape"
   ]
  },
  {
   "cell_type": "code",
   "execution_count": 167,
   "metadata": {},
   "outputs": [
    {
     "data": {
      "text/html": [
       "<div>\n",
       "<style scoped>\n",
       "    .dataframe tbody tr th:only-of-type {\n",
       "        vertical-align: middle;\n",
       "    }\n",
       "\n",
       "    .dataframe tbody tr th {\n",
       "        vertical-align: top;\n",
       "    }\n",
       "\n",
       "    .dataframe thead th {\n",
       "        text-align: right;\n",
       "    }\n",
       "</style>\n",
       "<table border=\"1\" class=\"dataframe\">\n",
       "  <thead>\n",
       "    <tr style=\"text-align: right;\">\n",
       "      <th></th>\n",
       "      <th>Age</th>\n",
       "      <th>Condition</th>\n",
       "      <th>Date</th>\n",
       "      <th>Drug</th>\n",
       "      <th>DrugId</th>\n",
       "      <th>EaseofUse</th>\n",
       "      <th>Effectiveness</th>\n",
       "      <th>Reviews</th>\n",
       "      <th>Satisfaction</th>\n",
       "      <th>Sex</th>\n",
       "      <th>Sides</th>\n",
       "      <th>UsefulCount</th>\n",
       "    </tr>\n",
       "  </thead>\n",
       "  <tbody>\n",
       "    <tr>\n",
       "      <th>0</th>\n",
       "      <td>45-54</td>\n",
       "      <td>Disorder characterized by Stiff, Tender  Painf...</td>\n",
       "      <td>2/18/2010</td>\n",
       "      <td>lyrica</td>\n",
       "      <td>93965</td>\n",
       "      <td>5</td>\n",
       "      <td>5</td>\n",
       "      <td>I hope I never stop taking this med. It takes ...</td>\n",
       "      <td>constipation</td>\n",
       "      <td>difficulty concentrating</td>\n",
       "      <td>or  weight  gain may occur.'</td>\n",
       "      <td>1</td>\n",
       "    </tr>\n",
       "    <tr>\n",
       "      <th>1</th>\n",
       "      <td>55-64</td>\n",
       "      <td>Neuropathic Pain</td>\n",
       "      <td>3/12/2008</td>\n",
       "      <td>lyrica</td>\n",
       "      <td>93965</td>\n",
       "      <td>5</td>\n",
       "      <td>5</td>\n",
       "      <td>I have compressed nerve in my lower back due t...</td>\n",
       "      <td>constipation</td>\n",
       "      <td>difficulty concentrating</td>\n",
       "      <td>or  weight  gain may occur.'</td>\n",
       "      <td>21</td>\n",
       "    </tr>\n",
       "    <tr>\n",
       "      <th>2</th>\n",
       "      <td>65-74</td>\n",
       "      <td>High Amount of Triglyceride in the Blood</td>\n",
       "      <td>12/8/2008</td>\n",
       "      <td>lovaza</td>\n",
       "      <td>148529</td>\n",
       "      <td>5</td>\n",
       "      <td>2</td>\n",
       "      <td>2 years ago I took lovaza and my colestrol wen...</td>\n",
       "      <td>,2,Female,Upset stomach</td>\n",
       "      <td>burping</td>\n",
       "      <td>and strange taste in  mouth  may occur.'</td>\n",
       "      <td>6</td>\n",
       "    </tr>\n",
       "    <tr>\n",
       "      <th>3</th>\n",
       "      <td>55-64</td>\n",
       "      <td>High Blood Pressure</td>\n",
       "      <td>3/16/2009</td>\n",
       "      <td>lisinopril solution</td>\n",
       "      <td>6873</td>\n",
       "      <td>5</td>\n",
       "      <td>3</td>\n",
       "      <td>The first couple of months Lisinopril worked f...</td>\n",
       "      <td>lightheadedness</td>\n",
       "      <td>tiredness</td>\n",
       "      <td>or  headache  may occur as your body adjusts ...</td>\n",
       "      <td>12</td>\n",
       "    </tr>\n",
       "    <tr>\n",
       "      <th>4</th>\n",
       "      <td>55-64</td>\n",
       "      <td>High Blood Pressure</td>\n",
       "      <td>2/21/2010</td>\n",
       "      <td>lisinopril solution</td>\n",
       "      <td>6873</td>\n",
       "      <td>4</td>\n",
       "      <td>4</td>\n",
       "      <td>Really don\\t know if the issues I have is a si...</td>\n",
       "      <td>lightheadedness</td>\n",
       "      <td>tiredness</td>\n",
       "      <td>or  headache  may occur as your body adjusts ...</td>\n",
       "      <td>0</td>\n",
       "    </tr>\n",
       "  </tbody>\n",
       "</table>\n",
       "</div>"
      ],
      "text/plain": [
       "     Age                                          Condition       Date  \\\n",
       "0  45-54  Disorder characterized by Stiff, Tender  Painf...  2/18/2010   \n",
       "1  55-64                                   Neuropathic Pain  3/12/2008   \n",
       "2  65-74           High Amount of Triglyceride in the Blood  12/8/2008   \n",
       "3  55-64                                High Blood Pressure  3/16/2009   \n",
       "4  55-64                                High Blood Pressure  2/21/2010   \n",
       "\n",
       "                  Drug  DrugId EaseofUse Effectiveness  \\\n",
       "0               lyrica   93965         5             5   \n",
       "1               lyrica   93965         5             5   \n",
       "2               lovaza  148529         5             2   \n",
       "3  lisinopril solution    6873         5             3   \n",
       "4  lisinopril solution    6873         4             4   \n",
       "\n",
       "                                             Reviews  \\\n",
       "0  I hope I never stop taking this med. It takes ...   \n",
       "1  I have compressed nerve in my lower back due t...   \n",
       "2  2 years ago I took lovaza and my colestrol wen...   \n",
       "3  The first couple of months Lisinopril worked f...   \n",
       "4  Really don\\t know if the issues I have is a si...   \n",
       "\n",
       "               Satisfaction                        Sex  \\\n",
       "0             constipation    difficulty concentrating   \n",
       "1             constipation    difficulty concentrating   \n",
       "2  ,2,Female,Upset stomach                     burping   \n",
       "3          lightheadedness                   tiredness   \n",
       "4          lightheadedness                   tiredness   \n",
       "\n",
       "                                               Sides UsefulCount  \n",
       "0                       or  weight  gain may occur.'           1  \n",
       "1                       or  weight  gain may occur.'          21  \n",
       "2           and strange taste in  mouth  may occur.'           6  \n",
       "3   or  headache  may occur as your body adjusts ...          12  \n",
       "4   or  headache  may occur as your body adjusts ...           0  "
      ]
     },
     "execution_count": 167,
     "metadata": {},
     "output_type": "execute_result"
    }
   ],
   "source": [
    "exper_df[:5]"
   ]
  },
  {
   "cell_type": "code",
   "execution_count": 176,
   "metadata": {},
   "outputs": [
    {
     "data": {
      "text/plain": [
       "Age                9\n",
       "Condition         60\n",
       "Date             120\n",
       "Drug             136\n",
       "DrugId           103\n",
       "EaseofUse          5\n",
       "Effectiveness      5\n",
       "Reviews          120\n",
       "Satisfaction      67\n",
       "Sex               63\n",
       "Sides             88\n",
       "UsefulCount       27\n",
       "dtype: int64"
      ]
     },
     "execution_count": 176,
     "metadata": {},
     "output_type": "execute_result"
    }
   ],
   "source": [
    "exper_df.nunique()"
   ]
  },
  {
   "cell_type": "code",
   "execution_count": 179,
   "metadata": {},
   "outputs": [
    {
     "data": {
      "text/plain": [
       "Satisfaction\n",
       "  lightheadedness                          27\n",
       "  constipation                             12\n",
       "5                                          11\n",
       "  dizziness                                10\n",
       "  breast  tenderness                        8\n",
       "                                           ..\n",
       "  muscle pain                               1\n",
       "4                                           1\n",
       " it causes my blood sugar to bottom out     1\n",
       "  heartburn                                 1\n",
       "2                                           1\n",
       "Name: count, Length: 67, dtype: int64"
      ]
     },
     "metadata": {},
     "output_type": "display_data"
    },
    {
     "data": {
      "text/plain": [
       "Sex\n",
       "  dizziness                                                                                                                                        24\n",
       "  headache                                                                                                                                         14\n",
       " drowsiness                                                                                                                                         8\n",
       " tiredness                                                                                                                                          7\n",
       "  weight  gain                                                                                                                                      6\n",
       "                                                                                                                                                   ..\n",
       " I have been on Theragran more than six months and it is the longest I\\ve gone without a urinary tract infection!  For me it is a miracle pill      1\n",
       ",3, '                                                                                                                                               1\n",
       " irritability                                                                                                                                       1\n",
       " peeling/flaking/scabbing/crusting                                                                                                                  1\n",
       " unusual  dreams                                                                                                                                    1\n",
       "Name: count, Length: 63, dtype: int64"
      ]
     },
     "metadata": {},
     "output_type": "display_data"
    },
    {
     "data": {
      "text/plain": [
       "Sides\n",
       " or drowsiness may occur.'                                              19\n",
       " or  headache  may occur.'                                               6\n",
       " or  weight  changes may occur.'                                         5\n",
       " or  trouble sleeping  may occur.'                                       5\n",
       " or change in  sex drive /ability may occur.'                            4\n",
       "                                                                        ..\n",
       ",5,Female,Dizziness  may occur.'                                         1\n",
       ",4,Male,Dizziness  may occur.'                                           1\n",
       ",5,Female, '                                                             1\n",
       " or  dizziness  during and after placement of the device may occur.'     1\n",
       " or changes in taste may occur.'                                         1\n",
       "Name: count, Length: 88, dtype: int64"
      ]
     },
     "metadata": {},
     "output_type": "display_data"
    }
   ],
   "source": [
    "display(exper_df['Satisfaction'].value_counts())\n",
    "display(exper_df['Sex'].value_counts())\n",
    "display(exper_df['Sides'].value_counts())"
   ]
  },
  {
   "cell_type": "code",
   "execution_count": 270,
   "metadata": {},
   "outputs": [],
   "source": [
    "pattern = r'^(.+?),(\\d+),(\\w+),(.+)$'\n",
    "test_data = []\n",
    "for value in exper_df.loc[:, ['Reviews', 'Satisfaction', 'Sex', 'Sides']].values:\n",
    "    new_value = ''.join(value)\n",
    "    # print(new_value)\n",
    "    match = re.match(pattern, new_value)\n",
    "    if match:\n",
    "        test_data.append(match.groups())\n",
    "        # print(list(match.groups()))\n",
    "    # else:\n",
    "    #     test_data.append(new_value)\n",
    "        # print([new_value])"
   ]
  },
  {
   "cell_type": "code",
   "execution_count": 272,
   "metadata": {},
   "outputs": [
    {
     "data": {
      "text/plain": [
       "Index(['Age', 'Condition', 'Date', 'Drug', 'DrugId', 'EaseofUse',\n",
       "       'Effectiveness', 'Reviews', 'Satisfaction', 'Sex', 'Sides',\n",
       "       'UsefulCount'],\n",
       "      dtype='object')"
      ]
     },
     "execution_count": 272,
     "metadata": {},
     "output_type": "execute_result"
    }
   ],
   "source": [
    "exper_df.columns"
   ]
  },
  {
   "cell_type": "code",
   "execution_count": 278,
   "metadata": {},
   "outputs": [],
   "source": [
    "fix_exper_df = exper_df[['Age', 'Condition', 'Date', 'Drug', 'DrugId', 'EaseofUse', 'Effectiveness', 'Reviews', 'UsefulCount']]"
   ]
  },
  {
   "cell_type": "code",
   "execution_count": 280,
   "metadata": {},
   "outputs": [
    {
     "data": {
      "text/html": [
       "<div>\n",
       "<style scoped>\n",
       "    .dataframe tbody tr th:only-of-type {\n",
       "        vertical-align: middle;\n",
       "    }\n",
       "\n",
       "    .dataframe tbody tr th {\n",
       "        vertical-align: top;\n",
       "    }\n",
       "\n",
       "    .dataframe thead th {\n",
       "        text-align: right;\n",
       "    }\n",
       "</style>\n",
       "<table border=\"1\" class=\"dataframe\">\n",
       "  <thead>\n",
       "    <tr style=\"text-align: right;\">\n",
       "      <th></th>\n",
       "      <th>Age</th>\n",
       "      <th>Condition</th>\n",
       "      <th>Date</th>\n",
       "      <th>Drug</th>\n",
       "      <th>DrugId</th>\n",
       "      <th>EaseofUse</th>\n",
       "      <th>Effectiveness</th>\n",
       "      <th>Reviews</th>\n",
       "      <th>UsefulCount</th>\n",
       "    </tr>\n",
       "  </thead>\n",
       "  <tbody>\n",
       "    <tr>\n",
       "      <th>0</th>\n",
       "      <td>45-54</td>\n",
       "      <td>Disorder characterized by Stiff, Tender  Painf...</td>\n",
       "      <td>2/18/2010</td>\n",
       "      <td>lyrica</td>\n",
       "      <td>93965</td>\n",
       "      <td>5</td>\n",
       "      <td>5</td>\n",
       "      <td>I hope I never stop taking this med. It takes ...</td>\n",
       "      <td>1</td>\n",
       "    </tr>\n",
       "    <tr>\n",
       "      <th>1</th>\n",
       "      <td>55-64</td>\n",
       "      <td>Neuropathic Pain</td>\n",
       "      <td>3/12/2008</td>\n",
       "      <td>lyrica</td>\n",
       "      <td>93965</td>\n",
       "      <td>5</td>\n",
       "      <td>5</td>\n",
       "      <td>I have compressed nerve in my lower back due t...</td>\n",
       "      <td>21</td>\n",
       "    </tr>\n",
       "    <tr>\n",
       "      <th>2</th>\n",
       "      <td>65-74</td>\n",
       "      <td>High Amount of Triglyceride in the Blood</td>\n",
       "      <td>12/8/2008</td>\n",
       "      <td>lovaza</td>\n",
       "      <td>148529</td>\n",
       "      <td>5</td>\n",
       "      <td>2</td>\n",
       "      <td>2 years ago I took lovaza and my colestrol wen...</td>\n",
       "      <td>6</td>\n",
       "    </tr>\n",
       "    <tr>\n",
       "      <th>3</th>\n",
       "      <td>55-64</td>\n",
       "      <td>High Blood Pressure</td>\n",
       "      <td>3/16/2009</td>\n",
       "      <td>lisinopril solution</td>\n",
       "      <td>6873</td>\n",
       "      <td>5</td>\n",
       "      <td>3</td>\n",
       "      <td>The first couple of months Lisinopril worked f...</td>\n",
       "      <td>12</td>\n",
       "    </tr>\n",
       "    <tr>\n",
       "      <th>4</th>\n",
       "      <td>55-64</td>\n",
       "      <td>High Blood Pressure</td>\n",
       "      <td>2/21/2010</td>\n",
       "      <td>lisinopril solution</td>\n",
       "      <td>6873</td>\n",
       "      <td>4</td>\n",
       "      <td>4</td>\n",
       "      <td>Really don\\t know if the issues I have is a si...</td>\n",
       "      <td>0</td>\n",
       "    </tr>\n",
       "  </tbody>\n",
       "</table>\n",
       "</div>"
      ],
      "text/plain": [
       "     Age                                          Condition       Date  \\\n",
       "0  45-54  Disorder characterized by Stiff, Tender  Painf...  2/18/2010   \n",
       "1  55-64                                   Neuropathic Pain  3/12/2008   \n",
       "2  65-74           High Amount of Triglyceride in the Blood  12/8/2008   \n",
       "3  55-64                                High Blood Pressure  3/16/2009   \n",
       "4  55-64                                High Blood Pressure  2/21/2010   \n",
       "\n",
       "                  Drug  DrugId EaseofUse Effectiveness  \\\n",
       "0               lyrica   93965         5             5   \n",
       "1               lyrica   93965         5             5   \n",
       "2               lovaza  148529         5             2   \n",
       "3  lisinopril solution    6873         5             3   \n",
       "4  lisinopril solution    6873         4             4   \n",
       "\n",
       "                                             Reviews UsefulCount  \n",
       "0  I hope I never stop taking this med. It takes ...           1  \n",
       "1  I have compressed nerve in my lower back due t...          21  \n",
       "2  2 years ago I took lovaza and my colestrol wen...           6  \n",
       "3  The first couple of months Lisinopril worked f...          12  \n",
       "4  Really don\\t know if the issues I have is a si...           0  "
      ]
     },
     "execution_count": 280,
     "metadata": {},
     "output_type": "execute_result"
    }
   ],
   "source": [
    "fix_exper_df[:5]"
   ]
  },
  {
   "cell_type": "code",
   "execution_count": 279,
   "metadata": {},
   "outputs": [],
   "source": [
    "fix_test_df = pd.DataFrame(test_data, columns=['Reviews_2', 'Satisfaction', 'Sex', 'Sides'])"
   ]
  },
  {
   "cell_type": "code",
   "execution_count": 281,
   "metadata": {},
   "outputs": [
    {
     "data": {
      "text/html": [
       "<div>\n",
       "<style scoped>\n",
       "    .dataframe tbody tr th:only-of-type {\n",
       "        vertical-align: middle;\n",
       "    }\n",
       "\n",
       "    .dataframe tbody tr th {\n",
       "        vertical-align: top;\n",
       "    }\n",
       "\n",
       "    .dataframe thead th {\n",
       "        text-align: right;\n",
       "    }\n",
       "</style>\n",
       "<table border=\"1\" class=\"dataframe\">\n",
       "  <thead>\n",
       "    <tr style=\"text-align: right;\">\n",
       "      <th></th>\n",
       "      <th>Reviews_2</th>\n",
       "      <th>Satisfaction</th>\n",
       "      <th>Sex</th>\n",
       "      <th>Sides</th>\n",
       "    </tr>\n",
       "  </thead>\n",
       "  <tbody>\n",
       "    <tr>\n",
       "      <th>0</th>\n",
       "      <td>I hope I never stop taking this med. It takes ...</td>\n",
       "      <td>5</td>\n",
       "      <td>Female</td>\n",
       "      <td>Drowsiness  dizziness   dry mouth   constipati...</td>\n",
       "    </tr>\n",
       "    <tr>\n",
       "      <th>1</th>\n",
       "      <td>I have compressed nerve in my lower back due t...</td>\n",
       "      <td>5</td>\n",
       "      <td>Female</td>\n",
       "      <td>Drowsiness  dizziness   dry mouth   constipati...</td>\n",
       "    </tr>\n",
       "    <tr>\n",
       "      <th>2</th>\n",
       "      <td>2 years ago I took lovaza and my colestrol wen...</td>\n",
       "      <td>2</td>\n",
       "      <td>Female</td>\n",
       "      <td>Upset stomach  burping and strange taste in  m...</td>\n",
       "    </tr>\n",
       "    <tr>\n",
       "      <th>3</th>\n",
       "      <td>The first couple of months Lisinopril worked f...</td>\n",
       "      <td>1</td>\n",
       "      <td>Female</td>\n",
       "      <td>Dizziness   lightheadedness  tiredness or  hea...</td>\n",
       "    </tr>\n",
       "    <tr>\n",
       "      <th>4</th>\n",
       "      <td>Really don\\t know if the issues I have is a si...</td>\n",
       "      <td>4</td>\n",
       "      <td>Male</td>\n",
       "      <td>Dizziness   lightheadedness  tiredness or  hea...</td>\n",
       "    </tr>\n",
       "  </tbody>\n",
       "</table>\n",
       "</div>"
      ],
      "text/plain": [
       "                                           Reviews_2 Satisfaction     Sex  \\\n",
       "0  I hope I never stop taking this med. It takes ...            5  Female   \n",
       "1  I have compressed nerve in my lower back due t...            5  Female   \n",
       "2  2 years ago I took lovaza and my colestrol wen...            2  Female   \n",
       "3  The first couple of months Lisinopril worked f...            1  Female   \n",
       "4  Really don\\t know if the issues I have is a si...            4    Male   \n",
       "\n",
       "                                               Sides  \n",
       "0  Drowsiness  dizziness   dry mouth   constipati...  \n",
       "1  Drowsiness  dizziness   dry mouth   constipati...  \n",
       "2  Upset stomach  burping and strange taste in  m...  \n",
       "3  Dizziness   lightheadedness  tiredness or  hea...  \n",
       "4  Dizziness   lightheadedness  tiredness or  hea...  "
      ]
     },
     "execution_count": 281,
     "metadata": {},
     "output_type": "execute_result"
    }
   ],
   "source": [
    "fix_test_df[:5]"
   ]
  },
  {
   "cell_type": "code",
   "execution_count": 285,
   "metadata": {},
   "outputs": [
    {
     "data": {
      "text/html": [
       "<div>\n",
       "<style scoped>\n",
       "    .dataframe tbody tr th:only-of-type {\n",
       "        vertical-align: middle;\n",
       "    }\n",
       "\n",
       "    .dataframe tbody tr th {\n",
       "        vertical-align: top;\n",
       "    }\n",
       "\n",
       "    .dataframe thead th {\n",
       "        text-align: right;\n",
       "    }\n",
       "</style>\n",
       "<table border=\"1\" class=\"dataframe\">\n",
       "  <thead>\n",
       "    <tr style=\"text-align: right;\">\n",
       "      <th></th>\n",
       "      <th>Age</th>\n",
       "      <th>Condition</th>\n",
       "      <th>Date</th>\n",
       "      <th>Drug</th>\n",
       "      <th>DrugId</th>\n",
       "      <th>EaseofUse</th>\n",
       "      <th>Effectiveness</th>\n",
       "      <th>Reviews</th>\n",
       "      <th>UsefulCount</th>\n",
       "      <th>Reviews_2</th>\n",
       "      <th>Satisfaction</th>\n",
       "      <th>Sex</th>\n",
       "      <th>Sides</th>\n",
       "    </tr>\n",
       "  </thead>\n",
       "  <tbody>\n",
       "    <tr>\n",
       "      <th>0</th>\n",
       "      <td>45-54</td>\n",
       "      <td>Disorder characterized by Stiff, Tender  Painf...</td>\n",
       "      <td>2/18/2010</td>\n",
       "      <td>lyrica</td>\n",
       "      <td>93965</td>\n",
       "      <td>5</td>\n",
       "      <td>5</td>\n",
       "      <td>I hope I never stop taking this med. It takes ...</td>\n",
       "      <td>1</td>\n",
       "      <td>I hope I never stop taking this med. It takes ...</td>\n",
       "      <td>5</td>\n",
       "      <td>Female</td>\n",
       "      <td>Drowsiness  dizziness   dry mouth   constipati...</td>\n",
       "    </tr>\n",
       "    <tr>\n",
       "      <th>1</th>\n",
       "      <td>55-64</td>\n",
       "      <td>Neuropathic Pain</td>\n",
       "      <td>3/12/2008</td>\n",
       "      <td>lyrica</td>\n",
       "      <td>93965</td>\n",
       "      <td>5</td>\n",
       "      <td>5</td>\n",
       "      <td>I have compressed nerve in my lower back due t...</td>\n",
       "      <td>21</td>\n",
       "      <td>I have compressed nerve in my lower back due t...</td>\n",
       "      <td>5</td>\n",
       "      <td>Female</td>\n",
       "      <td>Drowsiness  dizziness   dry mouth   constipati...</td>\n",
       "    </tr>\n",
       "    <tr>\n",
       "      <th>2</th>\n",
       "      <td>65-74</td>\n",
       "      <td>High Amount of Triglyceride in the Blood</td>\n",
       "      <td>12/8/2008</td>\n",
       "      <td>lovaza</td>\n",
       "      <td>148529</td>\n",
       "      <td>5</td>\n",
       "      <td>2</td>\n",
       "      <td>2 years ago I took lovaza and my colestrol wen...</td>\n",
       "      <td>6</td>\n",
       "      <td>2 years ago I took lovaza and my colestrol wen...</td>\n",
       "      <td>2</td>\n",
       "      <td>Female</td>\n",
       "      <td>Upset stomach  burping and strange taste in  m...</td>\n",
       "    </tr>\n",
       "    <tr>\n",
       "      <th>3</th>\n",
       "      <td>55-64</td>\n",
       "      <td>High Blood Pressure</td>\n",
       "      <td>3/16/2009</td>\n",
       "      <td>lisinopril solution</td>\n",
       "      <td>6873</td>\n",
       "      <td>5</td>\n",
       "      <td>3</td>\n",
       "      <td>The first couple of months Lisinopril worked f...</td>\n",
       "      <td>12</td>\n",
       "      <td>The first couple of months Lisinopril worked f...</td>\n",
       "      <td>1</td>\n",
       "      <td>Female</td>\n",
       "      <td>Dizziness   lightheadedness  tiredness or  hea...</td>\n",
       "    </tr>\n",
       "    <tr>\n",
       "      <th>4</th>\n",
       "      <td>55-64</td>\n",
       "      <td>High Blood Pressure</td>\n",
       "      <td>2/21/2010</td>\n",
       "      <td>lisinopril solution</td>\n",
       "      <td>6873</td>\n",
       "      <td>4</td>\n",
       "      <td>4</td>\n",
       "      <td>Really don\\t know if the issues I have is a si...</td>\n",
       "      <td>0</td>\n",
       "      <td>Really don\\t know if the issues I have is a si...</td>\n",
       "      <td>4</td>\n",
       "      <td>Male</td>\n",
       "      <td>Dizziness   lightheadedness  tiredness or  hea...</td>\n",
       "    </tr>\n",
       "  </tbody>\n",
       "</table>\n",
       "</div>"
      ],
      "text/plain": [
       "     Age                                          Condition       Date  \\\n",
       "0  45-54  Disorder characterized by Stiff, Tender  Painf...  2/18/2010   \n",
       "1  55-64                                   Neuropathic Pain  3/12/2008   \n",
       "2  65-74           High Amount of Triglyceride in the Blood  12/8/2008   \n",
       "3  55-64                                High Blood Pressure  3/16/2009   \n",
       "4  55-64                                High Blood Pressure  2/21/2010   \n",
       "\n",
       "                  Drug  DrugId EaseofUse Effectiveness  \\\n",
       "0               lyrica   93965         5             5   \n",
       "1               lyrica   93965         5             5   \n",
       "2               lovaza  148529         5             2   \n",
       "3  lisinopril solution    6873         5             3   \n",
       "4  lisinopril solution    6873         4             4   \n",
       "\n",
       "                                             Reviews UsefulCount  \\\n",
       "0  I hope I never stop taking this med. It takes ...           1   \n",
       "1  I have compressed nerve in my lower back due t...          21   \n",
       "2  2 years ago I took lovaza and my colestrol wen...           6   \n",
       "3  The first couple of months Lisinopril worked f...          12   \n",
       "4  Really don\\t know if the issues I have is a si...           0   \n",
       "\n",
       "                                           Reviews_2 Satisfaction     Sex  \\\n",
       "0  I hope I never stop taking this med. It takes ...            5  Female   \n",
       "1  I have compressed nerve in my lower back due t...            5  Female   \n",
       "2  2 years ago I took lovaza and my colestrol wen...            2  Female   \n",
       "3  The first couple of months Lisinopril worked f...            1  Female   \n",
       "4  Really don\\t know if the issues I have is a si...            4    Male   \n",
       "\n",
       "                                               Sides  \n",
       "0  Drowsiness  dizziness   dry mouth   constipati...  \n",
       "1  Drowsiness  dizziness   dry mouth   constipati...  \n",
       "2  Upset stomach  burping and strange taste in  m...  \n",
       "3  Dizziness   lightheadedness  tiredness or  hea...  \n",
       "4  Dizziness   lightheadedness  tiredness or  hea...  "
      ]
     },
     "execution_count": 285,
     "metadata": {},
     "output_type": "execute_result"
    }
   ],
   "source": [
    "final_exper_df = pd.concat([fix_exper_df, fix_test_df], axis=1)\n",
    "final_exper_df[:5]"
   ]
  },
  {
   "cell_type": "code",
   "execution_count": 292,
   "metadata": {},
   "outputs": [
    {
     "data": {
      "text/plain": [
       "Age               0\n",
       "Condition         0\n",
       "Date              0\n",
       "Drug              0\n",
       "DrugId            0\n",
       "EaseofUse         0\n",
       "Effectiveness     0\n",
       "Reviews           0\n",
       "UsefulCount       0\n",
       "Reviews_2        17\n",
       "Satisfaction     17\n",
       "Sex              17\n",
       "Sides            17\n",
       "dtype: int64"
      ]
     },
     "execution_count": 292,
     "metadata": {},
     "output_type": "execute_result"
    }
   ],
   "source": [
    "final_exper_df.isna().sum()"
   ]
  },
  {
   "cell_type": "code",
   "execution_count": 322,
   "metadata": {},
   "outputs": [
    {
     "data": {
      "text/plain": [
       "\"This medication supposedly saved my life from a severe and rare allergic reaction to lamictal called DRESS syndrome. Prednisone has crippled me since being on it though, quite the trade off. I have had all of the severe side effects of this med, including a face so swollen that my airway is being watch, and I have been prescribed epi pens and allergy medicine. But the doctors still keep me on the prednisone. I was on 80 mgs for 2 months before I\\\\ve started weaning off if it and the weaning process for me is long. I will never ever take this drug again. Be careful if you are sensitive to meds like me because the side effects of prednisone are awful to live with,1,Female,Nausea   vomiting   heartburn |============================|when my depression comes on, it less me hopeless. Remeron keeps me from hitting those lows\\\\'\""
      ]
     },
     "execution_count": 322,
     "metadata": {},
     "output_type": "execute_result"
    }
   ],
   "source": [
    "a = final_exper_df['Reviews'] + '|============================|' + final_exper_df['Reviews_2']\n",
    "a[50]"
   ]
  }
 ],
 "metadata": {
  "kernelspec": {
   "display_name": "Python 3",
   "language": "python",
   "name": "python3"
  },
  "language_info": {
   "codemirror_mode": {
    "name": "ipython",
    "version": 3
   },
   "file_extension": ".py",
   "mimetype": "text/x-python",
   "name": "python",
   "nbconvert_exporter": "python",
   "pygments_lexer": "ipython3",
   "version": "3.9.2"
  }
 },
 "nbformat": 4,
 "nbformat_minor": 2
}
