{
 "cells": [
  {
   "cell_type": "code",
   "execution_count": 55,
   "metadata": {},
   "outputs": [
    {
     "name": "stdout",
     "output_type": "stream",
     "text": [
      "Using matplotlib backend: Qt5Agg\n"
     ]
    }
   ],
   "source": [
    "import cv2\n",
    "import numpy as np\n",
    "from PIL import Image\n",
    "from skimage.util import random_noise\n",
    "from matplotlib import pyplot as plt\n",
    "%matplotlib"
   ]
  },
  {
   "cell_type": "code",
   "execution_count": 66,
   "metadata": {},
   "outputs": [],
   "source": [
    "img = cv2.imread('car.jpeg')\n",
    "imgnoise = random_noise(img, mode='s&p',amount=0.3)\n",
    "plt.imsave(\"car2.jpg\", imgnoise)\n",
    "\n",
    "fig, axes = plt.subplots(nrows=2, ncols=2)\n",
    "fig.tight_layout() \n",
    "fig.subplots_adjust(hspace=0.5)"
   ]
  },
  {
   "cell_type": "code",
   "execution_count": 67,
   "metadata": {},
   "outputs": [],
   "source": [
    "imgnew = cv2.imread('car2.jpg')\n",
    "meanimg = cv2.blur(imgnew,(3,3))\n",
    "medianimg = cv2.medianBlur(imgnew,3)\n",
    "gaussianimg = cv2.GaussianBlur(imgnew,(3,3),0)"
   ]
  },
  {
   "cell_type": "code",
   "execution_count": 68,
   "metadata": {},
   "outputs": [
    {
     "data": {
      "text/plain": [
       "Text(0.5, 1.0, 'gaussian filter image')"
      ]
     },
     "execution_count": 68,
     "metadata": {},
     "output_type": "execute_result"
    }
   ],
   "source": [
    "plt.subplot(221)\n",
    "plt.imshow(imgnew)\n",
    "plt.title('base image')\n",
    "plt.subplot(222)\n",
    "plt.imshow(meanimg)\n",
    "plt.title('mean filter image')\n",
    "plt.subplot(223)\n",
    "plt.imshow(medianimg)\n",
    "plt.title('median filter image')\n",
    "plt.subplot(224)\n",
    "plt.imshow(gaussianimg)\n",
    "plt.title('gaussian filter image')"
   ]
  },
  {
   "cell_type": "code",
   "execution_count": null,
   "metadata": {},
   "outputs": [],
   "source": []
  }
 ],
 "metadata": {
  "kernelspec": {
   "display_name": "Python 3",
   "language": "python",
   "name": "python3"
  },
  "language_info": {
   "codemirror_mode": {
    "name": "ipython",
    "version": 3
   },
   "file_extension": ".py",
   "mimetype": "text/x-python",
   "name": "python",
   "nbconvert_exporter": "python",
   "pygments_lexer": "ipython3",
   "version": "3.7.3"
  }
 },
 "nbformat": 4,
 "nbformat_minor": 2
}
