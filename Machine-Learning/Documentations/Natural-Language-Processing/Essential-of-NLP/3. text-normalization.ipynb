{
 "cells": [
  {
   "cell_type": "code",
   "execution_count": 42,
   "metadata": {},
   "outputs": [
    {
     "name": "stdout",
     "output_type": "stream",
     "text": [
      "stopwordsiso version: 0.6.1\n",
      "tensorflow version: 2.17.0\n",
      "sklearn version: 1.5.1\n",
      "imblearn version: 0.12.3\n",
      "numpy version: 1.26.2\n",
      "pandas version: 2.1.3\n",
      "matplotlib version: 3.9.0\n",
      "seaborn version: 0.13.2\n",
      "spacy version: 3.7.5\n"
     ]
    }
   ],
   "source": [
    "from config import BASE_PATH, \\\n",
    "    DATASET_PATH, \\\n",
    "    NUM_LABEL, \\\n",
    "    MODEL_PATH, \\\n",
    "    INPUT_SHAPE_MODEL_V1, \\\n",
    "    INPUT_SHAPE_MODEL_V2, \\\n",
    "    INPUT_SHAPE_MODEL_V3, \\\n",
    "    INPUT_SHAPE_MODEL_V4, \\\n",
    "    BATCH_SIZE, \\\n",
    "    TRAIN_PROPORTION, \\\n",
    "    OPTIMIZER, \\\n",
    "    LOSS, \\\n",
    "    METRICS, \\\n",
    "    EN_NLP, \\\n",
    "    EN_SW, \\\n",
    "    JP_NLP\n",
    "\n",
    "from Src import DatasetSplitter, SpamLDetectionModel\n",
    "from Src import evaluate_model, minmax_scaling_tf, message_length, num_capitals, num_punctuation, word_counts_v1, word_counts_v2, word_counts_no_punct\n",
    "\n",
    "from sklearn.preprocessing import LabelBinarizer, MinMaxScaler\n",
    "from imblearn.over_sampling import SMOTE\n",
    "\n",
    "import os \n",
    "import sklearn\n",
    "import imblearn\n",
    "import matplotlib\n",
    "import unicodedata\n",
    "import spacy\n",
    "\n",
    "import tensorflow as tf \n",
    "import pandas as pd\n",
    "import numpy as np\n",
    "import matplotlib.pyplot as plt\n",
    "import seaborn as sns\n",
    "import stopwordsiso as sw\n",
    "\n",
    "print(f'stopwordsiso version: {sw.__version__}')\n",
    "print(f'tensorflow version: {tf.__version__}')\n",
    "print(f'sklearn version: {sklearn.__version__}')\n",
    "print(f'imblearn version: {imblearn.__version__}')\n",
    "print(f'numpy version: {np.__version__}')\n",
    "print(f'pandas version: {pd.__version__}')\n",
    "print(f'matplotlib version: {matplotlib.__version__}')\n",
    "print(f'seaborn version: {sns.__version__}')\n",
    "print(f'spacy version: {spacy.__version__}')"
   ]
  },
  {
   "cell_type": "code",
   "execution_count": 43,
   "metadata": {},
   "outputs": [],
   "source": [
    "df = pd.read_csv(DATASET_PATH, sep='\\t', names=['label', 'message'])"
   ]
  },
  {
   "cell_type": "code",
   "execution_count": 44,
   "metadata": {},
   "outputs": [
    {
     "data": {
      "text/html": [
       "<div>\n",
       "<style scoped>\n",
       "    .dataframe tbody tr th:only-of-type {\n",
       "        vertical-align: middle;\n",
       "    }\n",
       "\n",
       "    .dataframe tbody tr th {\n",
       "        vertical-align: top;\n",
       "    }\n",
       "\n",
       "    .dataframe thead th {\n",
       "        text-align: right;\n",
       "    }\n",
       "</style>\n",
       "<table border=\"1\" class=\"dataframe\">\n",
       "  <thead>\n",
       "    <tr style=\"text-align: right;\">\n",
       "      <th></th>\n",
       "      <th>label</th>\n",
       "      <th>message</th>\n",
       "    </tr>\n",
       "  </thead>\n",
       "  <tbody>\n",
       "    <tr>\n",
       "      <th>0</th>\n",
       "      <td>ham</td>\n",
       "      <td>Go until jurong point, crazy.. Available only ...</td>\n",
       "    </tr>\n",
       "    <tr>\n",
       "      <th>1</th>\n",
       "      <td>ham</td>\n",
       "      <td>Ok lar... Joking wif u oni...</td>\n",
       "    </tr>\n",
       "    <tr>\n",
       "      <th>2</th>\n",
       "      <td>spam</td>\n",
       "      <td>Free entry in 2 a wkly comp to win FA Cup fina...</td>\n",
       "    </tr>\n",
       "    <tr>\n",
       "      <th>3</th>\n",
       "      <td>ham</td>\n",
       "      <td>U dun say so early hor... U c already then say...</td>\n",
       "    </tr>\n",
       "    <tr>\n",
       "      <th>4</th>\n",
       "      <td>ham</td>\n",
       "      <td>Nah I don't think he goes to usf, he lives aro...</td>\n",
       "    </tr>\n",
       "  </tbody>\n",
       "</table>\n",
       "</div>"
      ],
      "text/plain": [
       "  label                                            message\n",
       "0   ham  Go until jurong point, crazy.. Available only ...\n",
       "1   ham                      Ok lar... Joking wif u oni...\n",
       "2  spam  Free entry in 2 a wkly comp to win FA Cup fina...\n",
       "3   ham  U dun say so early hor... U c already then say...\n",
       "4   ham  Nah I don't think he goes to usf, he lives aro..."
      ]
     },
     "execution_count": 44,
     "metadata": {},
     "output_type": "execute_result"
    }
   ],
   "source": [
    "df[:5]"
   ]
  },
  {
   "cell_type": "markdown",
   "metadata": {},
   "source": [
    "## Tokenisasi dalam Pemrosesan Bahasa Alami\n",
    "\n",
    "Tokenisasi adalah langkah awal dalam pemrosesan bahasa alami (Natural Language Processing atau NLP). Proses ini mengubah teks menjadi daftar token. Token adalah unit dasar dari teks yang bisa berupa kata, karakter, atau bahkan kalimat. Mari kita bahas lebih detail dengan cara yang mudah dipahami.\n",
    "\n",
    "#### Apa Itu Tokenisasi?\n",
    "\n",
    "Bayangkan kamu punya sebuah kalimat: \"Saya suka belajar NLP.\" Untuk memproses kalimat ini, komputer perlu memecahnya menjadi bagian-bagian yang lebih kecil yang disebut token. Ada beberapa cara untuk melakukan ini:\n",
    "\n",
    "1. **Tokenisasi Kata**: Memecah kalimat menjadi kata-kata terpisah.\n",
    "   - Contoh: \"Saya suka belajar NLP.\" menjadi [\"Saya\", \"suka\", \"belajar\", \"NLP\"]\n",
    "\n",
    "2. **Tokenisasi Karakter**: Memecah kalimat menjadi karakter-karakter terpisah.\n",
    "   - Contoh: \"Saya suka belajar NLP.\" menjadi [\"S\", \"a\", \"y\", \"a\", \" \", \"s\", \"u\", \"k\", \"a\", \" \", \"b\", \"e\", \"l\", \"a\", \"j\", \"a\", \"r\", \" \", \"N\", \"L\", \"P\"]\n",
    "\n",
    "#### Mengapa Tokenisasi Penting?\n",
    "\n",
    "Tokenisasi penting karena membantu komputer memahami dan memproses teks dengan lebih baik. Dengan memecah teks menjadi bagian-bagian kecil, komputer bisa menganalisis dan bekerja dengan setiap bagian secara lebih efisien.\n",
    "\n",
    "#### Tantangan dalam Tokenisasi\n",
    "\n",
    "Tokenisasi bisa menjadi rumit, terutama dalam bahasa seperti Jepang dan Mandarin. Dalam bahasa-bahasa ini, tidak ada spasi antara kata-kata, sehingga sulit untuk menentukan di mana satu kata berakhir dan kata berikutnya dimulai.\n",
    "\n",
    "#### Contoh Visual\n",
    "\n",
    "Bayangkan kamu punya kalimat: \n",
    "\"Belajar NLP itu menyenangkan.\"\n",
    "\n",
    "- **Tokenisasi Kata**: [\"Belajar\", \"NLP\", \"itu\", \"menyenangkan\"]\n",
    "- **Tokenisasi Karakter**: [\"B\", \"e\", \"l\", \"a\", \"j\", \"a\", \"r\", \" \", \"N\", \"L\", \"P\", \" \", \"i\", \"t\", \"u\", \" \", \"m\", \"e\", \"n\", \"y\", \"e\", \"n\", \"a\", \"n\",\"g\",\"k\",\"a\",\"n\"]\n",
    "\n",
    "Dengan memahami tokenisasi, kamu sudah mengambil langkah pertama dalam memahami bagaimana komputer memproses bahasa manusia!"
   ]
  },
  {
   "cell_type": "markdown",
   "metadata": {},
   "source": [
    "### Segmentasi dalam Bahasa Jepang\n",
    "\n",
    "Segmentasi adalah proses memisahkan teks menjadi unit-unit yang lebih kecil, seperti kata atau frasa. Dalam banyak bahasa, pemisahan ini dilakukan dengan menggunakan spasi. Namun, dalam bahasa seperti Jepang dan Mandarin, tidak ada pemisah antar kata, sehingga proses ini menjadi lebih rumit dan disebut segmentasi.\n",
    "\n",
    "#### Karakter dalam Bahasa Jepang\n",
    "\n",
    "Bahasa Jepang menggunakan tiga jenis karakter utama:\n",
    "1. **Hiragana**: Digunakan untuk elemen gramatikal dan kata-kata asli Jepang.\n",
    "2. **Kanji**: Diadaptasi dari karakter Tiongkok dan terdiri dari ribuan karakter.\n",
    "3. **Katakana**: Digunakan terutama untuk kata-kata asing dan nama.\n",
    "\n",
    "#### Tantangan Segmentasi\n",
    "\n",
    "Karena tidak ada spasi antar kata, menentukan di mana satu kata berakhir dan kata berikutnya dimulai bisa sangat sulit. Misalnya, sebuah karakter bisa menjadi bagian dari kata yang sudah ada atau awal dari kata baru, tergantung pada karakter sebelumnya.\n",
    "\n",
    "#### Contoh Segmentasi\n",
    "\n",
    "Mari kita lihat contoh kata majemuk dalam bahasa Jepang yang berarti \"Komite Administrasi Pemilihan\" ((選挙管理委員会)):\n",
    "- **Segmentasi 1**: 選挙 (Pemilihan) / 管理 (Administrasi) / 委員会 (Komite)\n",
    "- **Segmentasi 2**: 選挙 (Pemilihan) / 管理 (Administrasi) / 委員会 (Komite) /会議 (Pertemuan)\n",
    "\n",
    "#### Alat Segmentasi\n",
    "\n",
    "Ada beberapa perpustakaan yang digunakan khusus untuk segmentasi atau tokenisasi bahasa Jepang:\n",
    "- **MeCab**\n",
    "- **Juman**\n",
    "- **Sudachi**\n",
    "- **Kuromoji**\n",
    "\n",
    "MeCab sering digunakan dalam berbagai perpustakaan NLP seperti Hugging Face dan spaCy.\n",
    "\n",
    "#### Mengapa Segmentasi Penting?\n",
    "\n",
    "Segmentasi penting karena membantu komputer memahami teks dalam bahasa yang tidak memiliki pemisah antar kata. Dengan segmentasi yang tepat, komputer dapat menganalisis teks dengan lebih akurat dan efisien."
   ]
  },
  {
   "cell_type": "markdown",
   "metadata": {},
   "source": [
    "---\n",
    "#### Untungnya, sebagian besar bahasa tidak serumit bahasa Jepang dan menggunakan spasi untuk memisahkan kata. Dalam Python, pemisahan dengan spasi adalah hal yang sepele.  Mari kita ambil sebuah contoh:\n",
    "---"
   ]
  },
  {
   "cell_type": "code",
   "execution_count": 45,
   "metadata": {},
   "outputs": [
    {
     "data": {
      "text/plain": [
       "['Go',\n",
       " 'until',\n",
       " 'jurong',\n",
       " 'point,',\n",
       " 'crazy..',\n",
       " 'Available',\n",
       " 'only',\n",
       " 'in',\n",
       " 'bugis',\n",
       " 'n',\n",
       " 'great',\n",
       " 'world']"
      ]
     },
     "execution_count": 45,
     "metadata": {},
     "output_type": "execute_result"
    }
   ],
   "source": [
    "sample_text = 'Go until jurong point, crazy.. Available only in bugis n great world'\n",
    "sample_text.split(sep=' ')"
   ]
  },
  {
   "cell_type": "code",
   "execution_count": 46,
   "metadata": {},
   "outputs": [],
   "source": [
    "# spacy.cli.download(\"en_core_web_sm\")"
   ]
  },
  {
   "cell_type": "code",
   "execution_count": 47,
   "metadata": {},
   "outputs": [],
   "source": [
    "# Load English NLP pipeline\n",
    "tokenized = EN_NLP(sample_text)"
   ]
  },
  {
   "cell_type": "code",
   "execution_count": 48,
   "metadata": {},
   "outputs": [
    {
     "name": "stdout",
     "output_type": "stream",
     "text": [
      "Go\n",
      "until\n",
      "jurong\n",
      "point\n",
      ",\n",
      "crazy\n",
      "..\n",
      "<End of Sentence>\n",
      "Available\n",
      "only\n",
      "in\n",
      "bugis\n",
      "n\n",
      "great\n",
      "world\n",
      "<End of Sentence>\n"
     ]
    },
    {
     "data": {
      "text/plain": [
       "57"
      ]
     },
     "execution_count": 48,
     "metadata": {},
     "output_type": "execute_result"
    }
   ],
   "source": [
    "# Iterasi melalui kalimat dan kata-kata\n",
    "count = 0\n",
    "for sentence in tokenized.sents:\n",
    "    for token in sentence:\n",
    "        count += len(token)\n",
    "        print(token)\n",
    "    print(\"<End of Sentence>\")\n",
    "count"
   ]
  },
  {
   "cell_type": "markdown",
   "metadata": {},
   "source": [
    "### Japanese Tokenization Example"
   ]
  },
  {
   "cell_type": "code",
   "execution_count": 49,
   "metadata": {},
   "outputs": [],
   "source": [
    "# spacy.cli.download(\"ja_core_news_sm\")"
   ]
  },
  {
   "cell_type": "code",
   "execution_count": 50,
   "metadata": {},
   "outputs": [],
   "source": [
    "# Load English NLP pipeline\n",
    "jp_text = \"選挙管理委員会\"\n",
    "jp_tokenized = JP_NLP(jp_text)"
   ]
  },
  {
   "cell_type": "code",
   "execution_count": 51,
   "metadata": {},
   "outputs": [
    {
     "name": "stdout",
     "output_type": "stream",
     "text": [
      "選挙\n",
      "管理\n",
      "委員\n",
      "会\n"
     ]
    }
   ],
   "source": [
    "for jp_sentence in jp_tokenized.sents:\n",
    "    for jp_token in jp_sentence:\n",
    "        print(jp_token)"
   ]
  },
  {
   "cell_type": "markdown",
   "metadata": {},
   "source": [
    "### Adding Word Count Feature "
   ]
  },
  {
   "cell_type": "code",
   "execution_count": 52,
   "metadata": {},
   "outputs": [
    {
     "data": {
      "text/html": [
       "<div>\n",
       "<style scoped>\n",
       "    .dataframe tbody tr th:only-of-type {\n",
       "        vertical-align: middle;\n",
       "    }\n",
       "\n",
       "    .dataframe tbody tr th {\n",
       "        vertical-align: top;\n",
       "    }\n",
       "\n",
       "    .dataframe thead th {\n",
       "        text-align: right;\n",
       "    }\n",
       "</style>\n",
       "<table border=\"1\" class=\"dataframe\">\n",
       "  <thead>\n",
       "    <tr style=\"text-align: right;\">\n",
       "      <th></th>\n",
       "      <th>label</th>\n",
       "      <th>message</th>\n",
       "    </tr>\n",
       "  </thead>\n",
       "  <tbody>\n",
       "    <tr>\n",
       "      <th>0</th>\n",
       "      <td>ham</td>\n",
       "      <td>Go until jurong point, crazy.. Available only ...</td>\n",
       "    </tr>\n",
       "    <tr>\n",
       "      <th>1</th>\n",
       "      <td>ham</td>\n",
       "      <td>Ok lar... Joking wif u oni...</td>\n",
       "    </tr>\n",
       "    <tr>\n",
       "      <th>2</th>\n",
       "      <td>spam</td>\n",
       "      <td>Free entry in 2 a wkly comp to win FA Cup fina...</td>\n",
       "    </tr>\n",
       "    <tr>\n",
       "      <th>3</th>\n",
       "      <td>ham</td>\n",
       "      <td>U dun say so early hor... U c already then say...</td>\n",
       "    </tr>\n",
       "    <tr>\n",
       "      <th>4</th>\n",
       "      <td>ham</td>\n",
       "      <td>Nah I don't think he goes to usf, he lives aro...</td>\n",
       "    </tr>\n",
       "  </tbody>\n",
       "</table>\n",
       "</div>"
      ],
      "text/plain": [
       "  label                                            message\n",
       "0   ham  Go until jurong point, crazy.. Available only ...\n",
       "1   ham                      Ok lar... Joking wif u oni...\n",
       "2  spam  Free entry in 2 a wkly comp to win FA Cup fina...\n",
       "3   ham  U dun say so early hor... U c already then say...\n",
       "4   ham  Nah I don't think he goes to usf, he lives aro..."
      ]
     },
     "execution_count": 52,
     "metadata": {},
     "output_type": "execute_result"
    }
   ],
   "source": [
    "df[:5]"
   ]
  },
  {
   "cell_type": "code",
   "execution_count": 53,
   "metadata": {},
   "outputs": [],
   "source": [
    "df_copy = df.copy(deep=True)\n",
    "lb = LabelBinarizer()\n",
    "\n",
    "df_copy['label'] = lb.fit_transform(df_copy['label'])\n",
    "df_copy['capitals'] = df_copy['message'].apply(num_capitals)\n",
    "df_copy['punctuation'] = df_copy['message'].apply(num_punctuation)\n",
    "df_copy['length'] = df_copy['message'].apply(message_length)\n",
    "df_copy['words'] = df_copy['message'].apply(word_counts_v1)"
   ]
  },
  {
   "cell_type": "code",
   "execution_count": 54,
   "metadata": {},
   "outputs": [
    {
     "data": {
      "text/html": [
       "<div>\n",
       "<style scoped>\n",
       "    .dataframe tbody tr th:only-of-type {\n",
       "        vertical-align: middle;\n",
       "    }\n",
       "\n",
       "    .dataframe tbody tr th {\n",
       "        vertical-align: top;\n",
       "    }\n",
       "\n",
       "    .dataframe thead th {\n",
       "        text-align: right;\n",
       "    }\n",
       "</style>\n",
       "<table border=\"1\" class=\"dataframe\">\n",
       "  <thead>\n",
       "    <tr style=\"text-align: right;\">\n",
       "      <th></th>\n",
       "      <th>label</th>\n",
       "      <th>message</th>\n",
       "      <th>capitals</th>\n",
       "      <th>punctuation</th>\n",
       "      <th>length</th>\n",
       "      <th>words</th>\n",
       "    </tr>\n",
       "  </thead>\n",
       "  <tbody>\n",
       "    <tr>\n",
       "      <th>0</th>\n",
       "      <td>0</td>\n",
       "      <td>Go until jurong point, crazy.. Available only ...</td>\n",
       "      <td>3</td>\n",
       "      <td>9</td>\n",
       "      <td>111</td>\n",
       "      <td>24</td>\n",
       "    </tr>\n",
       "    <tr>\n",
       "      <th>1</th>\n",
       "      <td>0</td>\n",
       "      <td>Ok lar... Joking wif u oni...</td>\n",
       "      <td>2</td>\n",
       "      <td>6</td>\n",
       "      <td>29</td>\n",
       "      <td>8</td>\n",
       "    </tr>\n",
       "    <tr>\n",
       "      <th>2</th>\n",
       "      <td>1</td>\n",
       "      <td>Free entry in 2 a wkly comp to win FA Cup fina...</td>\n",
       "      <td>10</td>\n",
       "      <td>6</td>\n",
       "      <td>155</td>\n",
       "      <td>31</td>\n",
       "    </tr>\n",
       "    <tr>\n",
       "      <th>3</th>\n",
       "      <td>0</td>\n",
       "      <td>U dun say so early hor... U c already then say...</td>\n",
       "      <td>2</td>\n",
       "      <td>6</td>\n",
       "      <td>49</td>\n",
       "      <td>13</td>\n",
       "    </tr>\n",
       "    <tr>\n",
       "      <th>4</th>\n",
       "      <td>0</td>\n",
       "      <td>Nah I don't think he goes to usf, he lives aro...</td>\n",
       "      <td>2</td>\n",
       "      <td>2</td>\n",
       "      <td>61</td>\n",
       "      <td>15</td>\n",
       "    </tr>\n",
       "  </tbody>\n",
       "</table>\n",
       "</div>"
      ],
      "text/plain": [
       "   label                                            message  capitals  \\\n",
       "0      0  Go until jurong point, crazy.. Available only ...         3   \n",
       "1      0                      Ok lar... Joking wif u oni...         2   \n",
       "2      1  Free entry in 2 a wkly comp to win FA Cup fina...        10   \n",
       "3      0  U dun say so early hor... U c already then say...         2   \n",
       "4      0  Nah I don't think he goes to usf, he lives aro...         2   \n",
       "\n",
       "   punctuation  length  words  \n",
       "0            9     111     24  \n",
       "1            6      29      8  \n",
       "2            6     155     31  \n",
       "3            6      49     13  \n",
       "4            2      61     15  "
      ]
     },
     "execution_count": 54,
     "metadata": {},
     "output_type": "execute_result"
    }
   ],
   "source": [
    "df_copy[:5]"
   ]
  },
  {
   "cell_type": "code",
   "execution_count": 55,
   "metadata": {},
   "outputs": [
    {
     "data": {
      "text/html": [
       "<div>\n",
       "<style scoped>\n",
       "    .dataframe tbody tr th:only-of-type {\n",
       "        vertical-align: middle;\n",
       "    }\n",
       "\n",
       "    .dataframe tbody tr th {\n",
       "        vertical-align: top;\n",
       "    }\n",
       "\n",
       "    .dataframe thead th {\n",
       "        text-align: right;\n",
       "    }\n",
       "</style>\n",
       "<table border=\"1\" class=\"dataframe\">\n",
       "  <thead>\n",
       "    <tr style=\"text-align: right;\">\n",
       "      <th></th>\n",
       "      <th>label</th>\n",
       "      <th>capitals</th>\n",
       "      <th>punctuation</th>\n",
       "      <th>length</th>\n",
       "      <th>words</th>\n",
       "    </tr>\n",
       "  </thead>\n",
       "  <tbody>\n",
       "    <tr>\n",
       "      <th>count</th>\n",
       "      <td>5572.000000</td>\n",
       "      <td>5572.000000</td>\n",
       "      <td>5572.000000</td>\n",
       "      <td>5572.000000</td>\n",
       "      <td>5572.000000</td>\n",
       "    </tr>\n",
       "    <tr>\n",
       "      <th>mean</th>\n",
       "      <td>0.134063</td>\n",
       "      <td>5.633345</td>\n",
       "      <td>4.139268</td>\n",
       "      <td>80.489950</td>\n",
       "      <td>18.748744</td>\n",
       "    </tr>\n",
       "    <tr>\n",
       "      <th>std</th>\n",
       "      <td>0.340751</td>\n",
       "      <td>11.711637</td>\n",
       "      <td>4.568942</td>\n",
       "      <td>59.942907</td>\n",
       "      <td>13.736345</td>\n",
       "    </tr>\n",
       "    <tr>\n",
       "      <th>min</th>\n",
       "      <td>0.000000</td>\n",
       "      <td>0.000000</td>\n",
       "      <td>0.000000</td>\n",
       "      <td>2.000000</td>\n",
       "      <td>1.000000</td>\n",
       "    </tr>\n",
       "    <tr>\n",
       "      <th>25%</th>\n",
       "      <td>0.000000</td>\n",
       "      <td>1.000000</td>\n",
       "      <td>2.000000</td>\n",
       "      <td>36.000000</td>\n",
       "      <td>9.000000</td>\n",
       "    </tr>\n",
       "    <tr>\n",
       "      <th>50%</th>\n",
       "      <td>0.000000</td>\n",
       "      <td>2.000000</td>\n",
       "      <td>3.000000</td>\n",
       "      <td>62.000000</td>\n",
       "      <td>15.000000</td>\n",
       "    </tr>\n",
       "    <tr>\n",
       "      <th>75%</th>\n",
       "      <td>0.000000</td>\n",
       "      <td>4.000000</td>\n",
       "      <td>6.000000</td>\n",
       "      <td>122.000000</td>\n",
       "      <td>27.000000</td>\n",
       "    </tr>\n",
       "    <tr>\n",
       "      <th>max</th>\n",
       "      <td>1.000000</td>\n",
       "      <td>138.000000</td>\n",
       "      <td>133.000000</td>\n",
       "      <td>910.000000</td>\n",
       "      <td>196.000000</td>\n",
       "    </tr>\n",
       "  </tbody>\n",
       "</table>\n",
       "</div>"
      ],
      "text/plain": [
       "             label     capitals  punctuation       length        words\n",
       "count  5572.000000  5572.000000  5572.000000  5572.000000  5572.000000\n",
       "mean      0.134063     5.633345     4.139268    80.489950    18.748744\n",
       "std       0.340751    11.711637     4.568942    59.942907    13.736345\n",
       "min       0.000000     0.000000     0.000000     2.000000     1.000000\n",
       "25%       0.000000     1.000000     2.000000    36.000000     9.000000\n",
       "50%       0.000000     2.000000     3.000000    62.000000    15.000000\n",
       "75%       0.000000     4.000000     6.000000   122.000000    27.000000\n",
       "max       1.000000   138.000000   133.000000   910.000000   196.000000"
      ]
     },
     "execution_count": 55,
     "metadata": {},
     "output_type": "execute_result"
    }
   ],
   "source": [
    "df_copy.describe()"
   ]
  },
  {
   "cell_type": "code",
   "execution_count": 56,
   "metadata": {},
   "outputs": [
    {
     "data": {
      "text/plain": [
       "array(['ham', 'spam'], dtype='<U4')"
      ]
     },
     "execution_count": 56,
     "metadata": {},
     "output_type": "execute_result"
    }
   ],
   "source": [
    "lb.classes_"
   ]
  },
  {
   "cell_type": "code",
   "execution_count": 57,
   "metadata": {},
   "outputs": [
    {
     "name": "stdout",
     "output_type": "stream",
     "text": [
      "Ham dataframe statistic\n"
     ]
    },
    {
     "data": {
      "text/html": [
       "<div>\n",
       "<style scoped>\n",
       "    .dataframe tbody tr th:only-of-type {\n",
       "        vertical-align: middle;\n",
       "    }\n",
       "\n",
       "    .dataframe tbody tr th {\n",
       "        vertical-align: top;\n",
       "    }\n",
       "\n",
       "    .dataframe thead th {\n",
       "        text-align: right;\n",
       "    }\n",
       "</style>\n",
       "<table border=\"1\" class=\"dataframe\">\n",
       "  <thead>\n",
       "    <tr style=\"text-align: right;\">\n",
       "      <th></th>\n",
       "      <th>label</th>\n",
       "      <th>capitals</th>\n",
       "      <th>punctuation</th>\n",
       "      <th>length</th>\n",
       "      <th>words</th>\n",
       "    </tr>\n",
       "  </thead>\n",
       "  <tbody>\n",
       "    <tr>\n",
       "      <th>count</th>\n",
       "      <td>4825.0</td>\n",
       "      <td>4825.000000</td>\n",
       "      <td>4825.000000</td>\n",
       "      <td>4825.000000</td>\n",
       "      <td>4825.000000</td>\n",
       "    </tr>\n",
       "    <tr>\n",
       "      <th>mean</th>\n",
       "      <td>0.0</td>\n",
       "      <td>4.110466</td>\n",
       "      <td>3.928705</td>\n",
       "      <td>71.482487</td>\n",
       "      <td>17.178653</td>\n",
       "    </tr>\n",
       "    <tr>\n",
       "      <th>std</th>\n",
       "      <td>0.0</td>\n",
       "      <td>10.848116</td>\n",
       "      <td>4.692083</td>\n",
       "      <td>58.440652</td>\n",
       "      <td>13.831520</td>\n",
       "    </tr>\n",
       "    <tr>\n",
       "      <th>min</th>\n",
       "      <td>0.0</td>\n",
       "      <td>0.000000</td>\n",
       "      <td>0.000000</td>\n",
       "      <td>2.000000</td>\n",
       "      <td>1.000000</td>\n",
       "    </tr>\n",
       "    <tr>\n",
       "      <th>25%</th>\n",
       "      <td>0.0</td>\n",
       "      <td>1.000000</td>\n",
       "      <td>1.000000</td>\n",
       "      <td>33.000000</td>\n",
       "      <td>8.000000</td>\n",
       "    </tr>\n",
       "    <tr>\n",
       "      <th>50%</th>\n",
       "      <td>0.0</td>\n",
       "      <td>2.000000</td>\n",
       "      <td>3.000000</td>\n",
       "      <td>52.000000</td>\n",
       "      <td>13.000000</td>\n",
       "    </tr>\n",
       "    <tr>\n",
       "      <th>75%</th>\n",
       "      <td>0.0</td>\n",
       "      <td>3.000000</td>\n",
       "      <td>5.000000</td>\n",
       "      <td>93.000000</td>\n",
       "      <td>22.000000</td>\n",
       "    </tr>\n",
       "    <tr>\n",
       "      <th>max</th>\n",
       "      <td>0.0</td>\n",
       "      <td>138.000000</td>\n",
       "      <td>133.000000</td>\n",
       "      <td>910.000000</td>\n",
       "      <td>196.000000</td>\n",
       "    </tr>\n",
       "  </tbody>\n",
       "</table>\n",
       "</div>"
      ],
      "text/plain": [
       "        label     capitals  punctuation       length        words\n",
       "count  4825.0  4825.000000  4825.000000  4825.000000  4825.000000\n",
       "mean      0.0     4.110466     3.928705    71.482487    17.178653\n",
       "std       0.0    10.848116     4.692083    58.440652    13.831520\n",
       "min       0.0     0.000000     0.000000     2.000000     1.000000\n",
       "25%       0.0     1.000000     1.000000    33.000000     8.000000\n",
       "50%       0.0     2.000000     3.000000    52.000000    13.000000\n",
       "75%       0.0     3.000000     5.000000    93.000000    22.000000\n",
       "max       0.0   138.000000   133.000000   910.000000   196.000000"
      ]
     },
     "execution_count": 57,
     "metadata": {},
     "output_type": "execute_result"
    }
   ],
   "source": [
    "print('Ham dataframe statistic')\n",
    "df_copy[df_copy['label'] == 0].describe()"
   ]
  },
  {
   "cell_type": "code",
   "execution_count": 58,
   "metadata": {},
   "outputs": [
    {
     "name": "stdout",
     "output_type": "stream",
     "text": [
      "Spam dataframe statistic\n"
     ]
    },
    {
     "data": {
      "text/html": [
       "<div>\n",
       "<style scoped>\n",
       "    .dataframe tbody tr th:only-of-type {\n",
       "        vertical-align: middle;\n",
       "    }\n",
       "\n",
       "    .dataframe tbody tr th {\n",
       "        vertical-align: top;\n",
       "    }\n",
       "\n",
       "    .dataframe thead th {\n",
       "        text-align: right;\n",
       "    }\n",
       "</style>\n",
       "<table border=\"1\" class=\"dataframe\">\n",
       "  <thead>\n",
       "    <tr style=\"text-align: right;\">\n",
       "      <th></th>\n",
       "      <th>label</th>\n",
       "      <th>capitals</th>\n",
       "      <th>punctuation</th>\n",
       "      <th>length</th>\n",
       "      <th>words</th>\n",
       "    </tr>\n",
       "  </thead>\n",
       "  <tbody>\n",
       "    <tr>\n",
       "      <th>count</th>\n",
       "      <td>747.0</td>\n",
       "      <td>747.00000</td>\n",
       "      <td>747.000000</td>\n",
       "      <td>747.000000</td>\n",
       "      <td>747.000000</td>\n",
       "    </tr>\n",
       "    <tr>\n",
       "      <th>mean</th>\n",
       "      <td>1.0</td>\n",
       "      <td>15.46988</td>\n",
       "      <td>5.499331</td>\n",
       "      <td>138.670683</td>\n",
       "      <td>28.890228</td>\n",
       "    </tr>\n",
       "    <tr>\n",
       "      <th>std</th>\n",
       "      <td>0.0</td>\n",
       "      <td>12.30576</td>\n",
       "      <td>3.374870</td>\n",
       "      <td>28.873603</td>\n",
       "      <td>7.282963</td>\n",
       "    </tr>\n",
       "    <tr>\n",
       "      <th>min</th>\n",
       "      <td>1.0</td>\n",
       "      <td>0.00000</td>\n",
       "      <td>0.000000</td>\n",
       "      <td>13.000000</td>\n",
       "      <td>2.000000</td>\n",
       "    </tr>\n",
       "    <tr>\n",
       "      <th>25%</th>\n",
       "      <td>1.0</td>\n",
       "      <td>7.00000</td>\n",
       "      <td>3.000000</td>\n",
       "      <td>133.000000</td>\n",
       "      <td>26.000000</td>\n",
       "    </tr>\n",
       "    <tr>\n",
       "      <th>50%</th>\n",
       "      <td>1.0</td>\n",
       "      <td>14.00000</td>\n",
       "      <td>5.000000</td>\n",
       "      <td>149.000000</td>\n",
       "      <td>30.000000</td>\n",
       "    </tr>\n",
       "    <tr>\n",
       "      <th>75%</th>\n",
       "      <td>1.0</td>\n",
       "      <td>21.00000</td>\n",
       "      <td>8.000000</td>\n",
       "      <td>157.000000</td>\n",
       "      <td>34.000000</td>\n",
       "    </tr>\n",
       "    <tr>\n",
       "      <th>max</th>\n",
       "      <td>1.0</td>\n",
       "      <td>128.00000</td>\n",
       "      <td>25.000000</td>\n",
       "      <td>223.000000</td>\n",
       "      <td>49.000000</td>\n",
       "    </tr>\n",
       "  </tbody>\n",
       "</table>\n",
       "</div>"
      ],
      "text/plain": [
       "       label   capitals  punctuation      length       words\n",
       "count  747.0  747.00000   747.000000  747.000000  747.000000\n",
       "mean     1.0   15.46988     5.499331  138.670683   28.890228\n",
       "std      0.0   12.30576     3.374870   28.873603    7.282963\n",
       "min      1.0    0.00000     0.000000   13.000000    2.000000\n",
       "25%      1.0    7.00000     3.000000  133.000000   26.000000\n",
       "50%      1.0   14.00000     5.000000  149.000000   30.000000\n",
       "75%      1.0   21.00000     8.000000  157.000000   34.000000\n",
       "max      1.0  128.00000    25.000000  223.000000   49.000000"
      ]
     },
     "execution_count": 58,
     "metadata": {},
     "output_type": "execute_result"
    }
   ],
   "source": [
    "print('Spam dataframe statistic')\n",
    "df_copy[df_copy['label'] == 1].describe()"
   ]
  },
  {
   "cell_type": "markdown",
   "metadata": {},
   "source": [
    "Analisis statistik dari pesan spam dan pesan reguler, dengan fokus pada beberapa fitur utama seperti penggunaan huruf kapital dan jumlah kata. Berikut adalah poin-poin penting yang diuraikan:\n",
    "\n",
    "1. **Pola yang Terlihat**:\n",
    "   - Pesan spam cenderung memiliki variasi yang lebih kecil dari rata-rata dibandingkan dengan pesan reguler.\n",
    "\n",
    "2. **Penggunaan Huruf Kapital**:\n",
    "   - Kolom fitur \"Capitals\" menunjukkan bahwa pesan reguler menggunakan lebih sedikit huruf kapital dibandingkan pesan spam.\n",
    "   - Pada persentil ke-75, pesan reguler memiliki 3 huruf kapital, sedangkan pesan spam memiliki 21 huruf kapital.\n",
    "   - Rata-rata, pesan reguler memiliki 4 huruf kapital, sementara pesan spam memiliki 15 huruf kapital.\n",
    "\n",
    "3. **Jumlah Kata**:\n",
    "   - Variasi dalam jumlah kata tidak terlalu mencolok.\n",
    "   - Pesan reguler rata-rata memiliki 17 kata, sedangkan pesan spam memiliki 29 kata.\n",
    "   - Pada persentil ke-75, pesan reguler memiliki 22 kata, sementara pesan spam memiliki 34 kata.\n",
    "\n",
    "4. **Analisis Awal**:\n",
    "   - Analisis awal ini menunjukkan mengapa menambahkan fitur jumlah kata tidak terlalu berguna dalam membedakan pesan spam dari pesan reguler.\n",
    "\n",
    "5. **Pertimbangan Lain**:\n",
    "   - Model tokenisasi memisahkan tanda baca sebagai kata. Idealnya, tanda baca ini harus dihapus dari jumlah kata karena fitur tanda baca menunjukkan bahwa pesan spam menggunakan lebih banyak karakter tanda baca.\n",
    "   - Penghapusan kata umum (stop word removal) juga perlu dipertimbangkan. Ini adalah fokus dari bagian selanjutnya.\n",
    "\n",
    "Secara keseluruhan, teks ini menjelaskan bagaimana fitur-fitur tertentu seperti penggunaan huruf kapital dan jumlah kata dapat digunakan untuk membedakan antara pesan spam dan pesan reguler, serta beberapa langkah tambahan yang perlu diambil untuk meningkatkan akurasi analisis."
   ]
  },
  {
   "cell_type": "code",
   "execution_count": 59,
   "metadata": {},
   "outputs": [
    {
     "data": {
      "text/plain": [
       "label\n",
       "0    4825\n",
       "1     747\n",
       "Name: count, dtype: int64"
      ]
     },
     "execution_count": 59,
     "metadata": {},
     "output_type": "execute_result"
    }
   ],
   "source": [
    "df_copy['label'].value_counts()"
   ]
  },
  {
   "cell_type": "code",
   "execution_count": 60,
   "metadata": {},
   "outputs": [],
   "source": [
    "X = df_copy.drop(columns=['label', 'message'])\n",
    "y = df_copy['label']\n",
    "\n",
    "# smote = SMOTE(random_state=42)\n",
    "# X_resampled, y_resampled = smote.fit_resample(X, y)"
   ]
  },
  {
   "cell_type": "code",
   "execution_count": 19,
   "metadata": {},
   "outputs": [],
   "source": [
    "# X_resampled[:5]"
   ]
  },
  {
   "cell_type": "code",
   "execution_count": 20,
   "metadata": {},
   "outputs": [],
   "source": [
    "# y_resampled[:5]"
   ]
  },
  {
   "cell_type": "code",
   "execution_count": 21,
   "metadata": {},
   "outputs": [],
   "source": [
    "# y_resampled.value_counts()"
   ]
  },
  {
   "cell_type": "code",
   "execution_count": 24,
   "metadata": {},
   "outputs": [],
   "source": [
    "SMSSpamCollection_tf_data = tf.data.Dataset.from_tensor_slices((X, y))"
   ]
  },
  {
   "cell_type": "code",
   "execution_count": 61,
   "metadata": {},
   "outputs": [
    {
     "name": "stdout",
     "output_type": "stream",
     "text": [
      "info train data: <_TensorSliceDataset element_spec=(TensorSpec(shape=(4,), dtype=tf.int64, name=None), TensorSpec(shape=(), dtype=tf.int32, name=None))>\n",
      "number of train data: 5572\n"
     ]
    }
   ],
   "source": [
    "print(f'info train data: {SMSSpamCollection_tf_data}')\n",
    "print(f'number of train data: {len(SMSSpamCollection_tf_data)}')"
   ]
  },
  {
   "cell_type": "code",
   "execution_count": 62,
   "metadata": {},
   "outputs": [
    {
     "name": "stdout",
     "output_type": "stream",
     "text": [
      "data: [  3   9 111  24]\n",
      "label: 0 --> ham\n",
      "\n",
      "data: [ 2  6 29  8]\n",
      "label: 0 --> ham\n",
      "\n",
      "data: [ 10   6 155  31]\n",
      "label: 1 --> spam\n",
      "\n"
     ]
    }
   ],
   "source": [
    "for data, label in SMSSpamCollection_tf_data.skip(0).take(3):\n",
    "    label_str = lb.inverse_transform(np.array(label))\n",
    "    print(f'data: {data}')\n",
    "    print(f'label: {label} --> {label_str[0]}')\n",
    "    print()"
   ]
  },
  {
   "cell_type": "code",
   "execution_count": 63,
   "metadata": {},
   "outputs": [],
   "source": [
    "SMSSpamCollection_tf_data_scaled = SMSSpamCollection_tf_data.map( \n",
    "    map_func=lambda features, label: minmax_scaling_tf(features, label, feature_range=(0, 1)),\n",
    "    num_parallel_calls=tf.data.AUTOTUNE\n",
    ")\n",
    "SMSSpamCollection_tf_data_cached = SMSSpamCollection_tf_data_scaled.cache()"
   ]
  },
  {
   "cell_type": "code",
   "execution_count": 64,
   "metadata": {},
   "outputs": [
    {
     "name": "stdout",
     "output_type": "stream",
     "text": [
      "info train data: <CacheDataset element_spec=(TensorSpec(shape=(4,), dtype=tf.float32, name=None), TensorSpec(shape=(), dtype=tf.uint8, name=None))>\n",
      "number of train data: 5572\n"
     ]
    }
   ],
   "source": [
    "print(f'info train data: {SMSSpamCollection_tf_data_cached}')\n",
    "print(f'number of train data: {len(SMSSpamCollection_tf_data_cached)}')"
   ]
  },
  {
   "cell_type": "code",
   "execution_count": 65,
   "metadata": {},
   "outputs": [
    {
     "name": "stdout",
     "output_type": "stream",
     "text": [
      "data: [0.         0.05555556 1.         0.19444445]\n",
      "label: 0 --> ham\n",
      "\n",
      "data: [0.         0.14814815 1.         0.22222222]\n",
      "label: 0 --> ham\n",
      "\n",
      "data: [0.02684564 0.         1.         0.16778524]\n",
      "label: 1 --> spam\n",
      "\n"
     ]
    }
   ],
   "source": [
    "for data, label in SMSSpamCollection_tf_data_cached.skip(0).take(3):\n",
    "    label_str = lb.inverse_transform(np.array(label))\n",
    "    print(f'data: {data}')\n",
    "    print(f'label: {label} --> {label_str[0]}')\n",
    "    print()"
   ]
  },
  {
   "cell_type": "code",
   "execution_count": 66,
   "metadata": {},
   "outputs": [],
   "source": [
    "splitter = DatasetSplitter(batch_size=BATCH_SIZE, train_split=TRAIN_PROPORTION)"
   ]
  },
  {
   "cell_type": "code",
   "execution_count": 67,
   "metadata": {},
   "outputs": [
    {
     "name": "stdout",
     "output_type": "stream",
     "text": [
      "=================================== Training Dataset ===================================\n",
      "Info data: <_TakeDataset element_spec=(TensorSpec(shape=(4,), dtype=tf.float32, name=None), TensorSpec(shape=(), dtype=tf.uint8, name=None))>\n",
      "Training Split: 0.8\n",
      "Number of data: 4457\n",
      "AFTER BATCH: 32\n",
      "Number of data: 140\n",
      "=================================== Validation Dataset ===================================\n",
      "Info data: <_SkipDataset element_spec=(TensorSpec(shape=(4,), dtype=tf.float32, name=None), TensorSpec(shape=(), dtype=tf.uint8, name=None))>\n",
      "Validation Split: 0.2\n",
      "Number of data: 1115\n",
      "AFTER BATCH: 32\n",
      "Number of data: 35\n"
     ]
    }
   ],
   "source": [
    "SMSSpamCollection_tf_data_train, SMSSpamCollection_tf_data_valid = splitter.split_and_prepare(SMSSpamCollection_tf_data_cached)"
   ]
  },
  {
   "cell_type": "code",
   "execution_count": 70,
   "metadata": {},
   "outputs": [
    {
     "data": {
      "text/html": [
       "<pre style=\"white-space:pre;overflow-x:auto;line-height:normal;font-family:Menlo,'DejaVu Sans Mono',consolas,'Courier New',monospace\"><span style=\"font-weight: bold\">Model: \"functional_3\"</span>\n",
       "</pre>\n"
      ],
      "text/plain": [
       "\u001b[1mModel: \"functional_3\"\u001b[0m\n"
      ]
     },
     "metadata": {},
     "output_type": "display_data"
    },
    {
     "data": {
      "text/html": [
       "<pre style=\"white-space:pre;overflow-x:auto;line-height:normal;font-family:Menlo,'DejaVu Sans Mono',consolas,'Courier New',monospace\">┏━━━━━━━━━━━━━━━━━━━━━━━━━━━━━━━━━┳━━━━━━━━━━━━━━━━━━━━━━━━┳━━━━━━━━━━━━━━━┓\n",
       "┃<span style=\"font-weight: bold\"> Layer (type)                    </span>┃<span style=\"font-weight: bold\"> Output Shape           </span>┃<span style=\"font-weight: bold\">       Param # </span>┃\n",
       "┡━━━━━━━━━━━━━━━━━━━━━━━━━━━━━━━━━╇━━━━━━━━━━━━━━━━━━━━━━━━╇━━━━━━━━━━━━━━━┩\n",
       "│ input_layer_3 (<span style=\"color: #0087ff; text-decoration-color: #0087ff\">InputLayer</span>)      │ (<span style=\"color: #00d7ff; text-decoration-color: #00d7ff\">None</span>, <span style=\"color: #00af00; text-decoration-color: #00af00\">4</span>)              │             <span style=\"color: #00af00; text-decoration-color: #00af00\">0</span> │\n",
       "├─────────────────────────────────┼────────────────────────┼───────────────┤\n",
       "│ dense_6 (<span style=\"color: #0087ff; text-decoration-color: #0087ff\">Dense</span>)                 │ (<span style=\"color: #00d7ff; text-decoration-color: #00d7ff\">None</span>, <span style=\"color: #00af00; text-decoration-color: #00af00\">12</span>)             │            <span style=\"color: #00af00; text-decoration-color: #00af00\">60</span> │\n",
       "├─────────────────────────────────┼────────────────────────┼───────────────┤\n",
       "│ dense_7 (<span style=\"color: #0087ff; text-decoration-color: #0087ff\">Dense</span>)                 │ (<span style=\"color: #00d7ff; text-decoration-color: #00d7ff\">None</span>, <span style=\"color: #00af00; text-decoration-color: #00af00\">1</span>)              │            <span style=\"color: #00af00; text-decoration-color: #00af00\">13</span> │\n",
       "└─────────────────────────────────┴────────────────────────┴───────────────┘\n",
       "</pre>\n"
      ],
      "text/plain": [
       "┏━━━━━━━━━━━━━━━━━━━━━━━━━━━━━━━━━┳━━━━━━━━━━━━━━━━━━━━━━━━┳━━━━━━━━━━━━━━━┓\n",
       "┃\u001b[1m \u001b[0m\u001b[1mLayer (type)                   \u001b[0m\u001b[1m \u001b[0m┃\u001b[1m \u001b[0m\u001b[1mOutput Shape          \u001b[0m\u001b[1m \u001b[0m┃\u001b[1m \u001b[0m\u001b[1m      Param #\u001b[0m\u001b[1m \u001b[0m┃\n",
       "┡━━━━━━━━━━━━━━━━━━━━━━━━━━━━━━━━━╇━━━━━━━━━━━━━━━━━━━━━━━━╇━━━━━━━━━━━━━━━┩\n",
       "│ input_layer_3 (\u001b[38;5;33mInputLayer\u001b[0m)      │ (\u001b[38;5;45mNone\u001b[0m, \u001b[38;5;34m4\u001b[0m)              │             \u001b[38;5;34m0\u001b[0m │\n",
       "├─────────────────────────────────┼────────────────────────┼───────────────┤\n",
       "│ dense_6 (\u001b[38;5;33mDense\u001b[0m)                 │ (\u001b[38;5;45mNone\u001b[0m, \u001b[38;5;34m12\u001b[0m)             │            \u001b[38;5;34m60\u001b[0m │\n",
       "├─────────────────────────────────┼────────────────────────┼───────────────┤\n",
       "│ dense_7 (\u001b[38;5;33mDense\u001b[0m)                 │ (\u001b[38;5;45mNone\u001b[0m, \u001b[38;5;34m1\u001b[0m)              │            \u001b[38;5;34m13\u001b[0m │\n",
       "└─────────────────────────────────┴────────────────────────┴───────────────┘\n"
      ]
     },
     "metadata": {},
     "output_type": "display_data"
    },
    {
     "data": {
      "text/html": [
       "<pre style=\"white-space:pre;overflow-x:auto;line-height:normal;font-family:Menlo,'DejaVu Sans Mono',consolas,'Courier New',monospace\"><span style=\"font-weight: bold\"> Total params: </span><span style=\"color: #00af00; text-decoration-color: #00af00\">73</span> (292.00 B)\n",
       "</pre>\n"
      ],
      "text/plain": [
       "\u001b[1m Total params: \u001b[0m\u001b[38;5;34m73\u001b[0m (292.00 B)\n"
      ]
     },
     "metadata": {},
     "output_type": "display_data"
    },
    {
     "data": {
      "text/html": [
       "<pre style=\"white-space:pre;overflow-x:auto;line-height:normal;font-family:Menlo,'DejaVu Sans Mono',consolas,'Courier New',monospace\"><span style=\"font-weight: bold\"> Trainable params: </span><span style=\"color: #00af00; text-decoration-color: #00af00\">73</span> (292.00 B)\n",
       "</pre>\n"
      ],
      "text/plain": [
       "\u001b[1m Trainable params: \u001b[0m\u001b[38;5;34m73\u001b[0m (292.00 B)\n"
      ]
     },
     "metadata": {},
     "output_type": "display_data"
    },
    {
     "data": {
      "text/html": [
       "<pre style=\"white-space:pre;overflow-x:auto;line-height:normal;font-family:Menlo,'DejaVu Sans Mono',consolas,'Courier New',monospace\"><span style=\"font-weight: bold\"> Non-trainable params: </span><span style=\"color: #00af00; text-decoration-color: #00af00\">0</span> (0.00 B)\n",
       "</pre>\n"
      ],
      "text/plain": [
       "\u001b[1m Non-trainable params: \u001b[0m\u001b[38;5;34m0\u001b[0m (0.00 B)\n"
      ]
     },
     "metadata": {},
     "output_type": "display_data"
    }
   ],
   "source": [
    "OPTIMIZER = tf.keras.optimizers.Adam(learning_rate=0.001)\n",
    "my_model=SpamLDetectionModel(\n",
    "    input_shape=INPUT_SHAPE_MODEL_V2, \n",
    "    num_classes=NUM_LABEL, \n",
    "    optimizer=OPTIMIZER,\n",
    "    loss=LOSS,\n",
    "    metrics=METRICS\n",
    ")\n",
    "my_model.model.summary()"
   ]
  },
  {
   "cell_type": "code",
   "execution_count": 71,
   "metadata": {},
   "outputs": [
    {
     "name": "stdout",
     "output_type": "stream",
     "text": [
      "Epoch 1/30\n",
      "\u001b[1m140/140\u001b[0m \u001b[32m━━━━━━━━━━━━━━━━━━━━\u001b[0m\u001b[37m\u001b[0m \u001b[1m1s\u001b[0m 2ms/step - accuracy: 0.4503 - loss: 0.6931 - val_accuracy: 0.8556 - val_loss: 0.4882\n",
      "Epoch 2/30\n",
      "\u001b[1m140/140\u001b[0m \u001b[32m━━━━━━━━━━━━━━━━━━━━\u001b[0m\u001b[37m\u001b[0m \u001b[1m0s\u001b[0m 2ms/step - accuracy: 0.8605 - loss: 0.4546 - val_accuracy: 0.8700 - val_loss: 0.3937\n",
      "Epoch 3/30\n",
      "\u001b[1m140/140\u001b[0m \u001b[32m━━━━━━━━━━━━━━━━━━━━\u001b[0m\u001b[37m\u001b[0m \u001b[1m0s\u001b[0m 1ms/step - accuracy: 0.8737 - loss: 0.3818 - val_accuracy: 0.8691 - val_loss: 0.3816\n",
      "Epoch 4/30\n",
      "\u001b[1m140/140\u001b[0m \u001b[32m━━━━━━━━━━━━━━━━━━━━\u001b[0m\u001b[37m\u001b[0m \u001b[1m0s\u001b[0m 2ms/step - accuracy: 0.8693 - loss: 0.3795 - val_accuracy: 0.8717 - val_loss: 0.3721\n",
      "Epoch 5/30\n",
      "\u001b[1m140/140\u001b[0m \u001b[32m━━━━━━━━━━━━━━━━━━━━\u001b[0m\u001b[37m\u001b[0m \u001b[1m0s\u001b[0m 2ms/step - accuracy: 0.8639 - loss: 0.3849 - val_accuracy: 0.8601 - val_loss: 0.3892\n",
      "Epoch 6/30\n",
      "\u001b[1m140/140\u001b[0m \u001b[32m━━━━━━━━━━━━━━━━━━━━\u001b[0m\u001b[37m\u001b[0m \u001b[1m0s\u001b[0m 1ms/step - accuracy: 0.8603 - loss: 0.3860 - val_accuracy: 0.8592 - val_loss: 0.3869\n",
      "Epoch 7/30\n",
      "\u001b[1m140/140\u001b[0m \u001b[32m━━━━━━━━━━━━━━━━━━━━\u001b[0m\u001b[37m\u001b[0m \u001b[1m0s\u001b[0m 2ms/step - accuracy: 0.8574 - loss: 0.3880 - val_accuracy: 0.8655 - val_loss: 0.3697\n",
      "Epoch 8/30\n",
      "\u001b[1m140/140\u001b[0m \u001b[32m━━━━━━━━━━━━━━━━━━━━\u001b[0m\u001b[37m\u001b[0m \u001b[1m0s\u001b[0m 2ms/step - accuracy: 0.8700 - loss: 0.3625 - val_accuracy: 0.8565 - val_loss: 0.3821\n",
      "Epoch 9/30\n",
      "\u001b[1m140/140\u001b[0m \u001b[32m━━━━━━━━━━━━━━━━━━━━\u001b[0m\u001b[37m\u001b[0m \u001b[1m0s\u001b[0m 2ms/step - accuracy: 0.8614 - loss: 0.3721 - val_accuracy: 0.8834 - val_loss: 0.3282\n",
      "Epoch 10/30\n",
      "\u001b[1m140/140\u001b[0m \u001b[32m━━━━━━━━━━━━━━━━━━━━\u001b[0m\u001b[37m\u001b[0m \u001b[1m0s\u001b[0m 2ms/step - accuracy: 0.8633 - loss: 0.3651 - val_accuracy: 0.8493 - val_loss: 0.3851\n",
      "Epoch 11/30\n",
      "\u001b[1m140/140\u001b[0m \u001b[32m━━━━━━━━━━━━━━━━━━━━\u001b[0m\u001b[37m\u001b[0m \u001b[1m0s\u001b[0m 2ms/step - accuracy: 0.8660 - loss: 0.3565 - val_accuracy: 0.8574 - val_loss: 0.3652\n",
      "Epoch 12/30\n",
      "\u001b[1m140/140\u001b[0m \u001b[32m━━━━━━━━━━━━━━━━━━━━\u001b[0m\u001b[37m\u001b[0m \u001b[1m0s\u001b[0m 2ms/step - accuracy: 0.8680 - loss: 0.3473 - val_accuracy: 0.8816 - val_loss: 0.3217\n",
      "Epoch 13/30\n",
      "\u001b[1m140/140\u001b[0m \u001b[32m━━━━━━━━━━━━━━━━━━━━\u001b[0m\u001b[37m\u001b[0m \u001b[1m0s\u001b[0m 2ms/step - accuracy: 0.8596 - loss: 0.3564 - val_accuracy: 0.8529 - val_loss: 0.3618\n",
      "Epoch 14/30\n",
      "\u001b[1m140/140\u001b[0m \u001b[32m━━━━━━━━━━━━━━━━━━━━\u001b[0m\u001b[37m\u001b[0m \u001b[1m0s\u001b[0m 2ms/step - accuracy: 0.8582 - loss: 0.3513 - val_accuracy: 0.8691 - val_loss: 0.3278\n",
      "Epoch 15/30\n",
      "\u001b[1m140/140\u001b[0m \u001b[32m━━━━━━━━━━━━━━━━━━━━\u001b[0m\u001b[37m\u001b[0m \u001b[1m0s\u001b[0m 2ms/step - accuracy: 0.8721 - loss: 0.3315 - val_accuracy: 0.8529 - val_loss: 0.3536\n",
      "Epoch 16/30\n",
      "\u001b[1m140/140\u001b[0m \u001b[32m━━━━━━━━━━━━━━━━━━━━\u001b[0m\u001b[37m\u001b[0m \u001b[1m0s\u001b[0m 2ms/step - accuracy: 0.8582 - loss: 0.3430 - val_accuracy: 0.8601 - val_loss: 0.3387\n",
      "Epoch 17/30\n",
      "\u001b[1m140/140\u001b[0m \u001b[32m━━━━━━━━━━━━━━━━━━━━\u001b[0m\u001b[37m\u001b[0m \u001b[1m0s\u001b[0m 2ms/step - accuracy: 0.8574 - loss: 0.3389 - val_accuracy: 0.8673 - val_loss: 0.3187\n",
      "Epoch 18/30\n",
      "\u001b[1m140/140\u001b[0m \u001b[32m━━━━━━━━━━━━━━━━━━━━\u001b[0m\u001b[37m\u001b[0m \u001b[1m0s\u001b[0m 2ms/step - accuracy: 0.8621 - loss: 0.3327 - val_accuracy: 0.8879 - val_loss: 0.2849\n",
      "Epoch 19/30\n",
      "\u001b[1m140/140\u001b[0m \u001b[32m━━━━━━━━━━━━━━━━━━━━\u001b[0m\u001b[37m\u001b[0m \u001b[1m0s\u001b[0m 2ms/step - accuracy: 0.8662 - loss: 0.3201 - val_accuracy: 0.8646 - val_loss: 0.3127\n",
      "Epoch 20/30\n",
      "\u001b[1m140/140\u001b[0m \u001b[32m━━━━━━━━━━━━━━━━━━━━\u001b[0m\u001b[37m\u001b[0m \u001b[1m0s\u001b[0m 2ms/step - accuracy: 0.8627 - loss: 0.3163 - val_accuracy: 0.8484 - val_loss: 0.3304\n",
      "Epoch 21/30\n",
      "\u001b[1m140/140\u001b[0m \u001b[32m━━━━━━━━━━━━━━━━━━━━\u001b[0m\u001b[37m\u001b[0m \u001b[1m0s\u001b[0m 2ms/step - accuracy: 0.8607 - loss: 0.3176 - val_accuracy: 0.8789 - val_loss: 0.2871\n",
      "Epoch 22/30\n",
      "\u001b[1m140/140\u001b[0m \u001b[32m━━━━━━━━━━━━━━━━━━━━\u001b[0m\u001b[37m\u001b[0m \u001b[1m0s\u001b[0m 2ms/step - accuracy: 0.8675 - loss: 0.2989 - val_accuracy: 0.8583 - val_loss: 0.3087\n",
      "Epoch 23/30\n",
      "\u001b[1m140/140\u001b[0m \u001b[32m━━━━━━━━━━━━━━━━━━━━\u001b[0m\u001b[37m\u001b[0m \u001b[1m0s\u001b[0m 2ms/step - accuracy: 0.8605 - loss: 0.3113 - val_accuracy: 0.8646 - val_loss: 0.2968\n",
      "Epoch 24/30\n",
      "\u001b[1m140/140\u001b[0m \u001b[32m━━━━━━━━━━━━━━━━━━━━\u001b[0m\u001b[37m\u001b[0m \u001b[1m0s\u001b[0m 2ms/step - accuracy: 0.8720 - loss: 0.2933 - val_accuracy: 0.8717 - val_loss: 0.2818\n",
      "Epoch 25/30\n",
      "\u001b[1m140/140\u001b[0m \u001b[32m━━━━━━━━━━━━━━━━━━━━\u001b[0m\u001b[37m\u001b[0m \u001b[1m0s\u001b[0m 2ms/step - accuracy: 0.8695 - loss: 0.2868 - val_accuracy: 0.8780 - val_loss: 0.2764\n",
      "Epoch 26/30\n",
      "\u001b[1m140/140\u001b[0m \u001b[32m━━━━━━━━━━━━━━━━━━━━\u001b[0m\u001b[37m\u001b[0m \u001b[1m0s\u001b[0m 2ms/step - accuracy: 0.8701 - loss: 0.2885 - val_accuracy: 0.8664 - val_loss: 0.2934\n",
      "Epoch 27/30\n",
      "\u001b[1m140/140\u001b[0m \u001b[32m━━━━━━━━━━━━━━━━━━━━\u001b[0m\u001b[37m\u001b[0m \u001b[1m0s\u001b[0m 2ms/step - accuracy: 0.8760 - loss: 0.2739 - val_accuracy: 0.8717 - val_loss: 0.2738\n",
      "Epoch 28/30\n",
      "\u001b[1m140/140\u001b[0m \u001b[32m━━━━━━━━━━━━━━━━━━━━\u001b[0m\u001b[37m\u001b[0m \u001b[1m0s\u001b[0m 2ms/step - accuracy: 0.8663 - loss: 0.2874 - val_accuracy: 0.8520 - val_loss: 0.3079\n",
      "Epoch 29/30\n",
      "\u001b[1m140/140\u001b[0m \u001b[32m━━━━━━━━━━━━━━━━━━━━\u001b[0m\u001b[37m\u001b[0m \u001b[1m0s\u001b[0m 2ms/step - accuracy: 0.8698 - loss: 0.2837 - val_accuracy: 0.8744 - val_loss: 0.2680\n",
      "Epoch 30/30\n",
      "\u001b[1m140/140\u001b[0m \u001b[32m━━━━━━━━━━━━━━━━━━━━\u001b[0m\u001b[37m\u001b[0m \u001b[1m0s\u001b[0m 2ms/step - accuracy: 0.8699 - loss: 0.2834 - val_accuracy: 0.8726 - val_loss: 0.2758\n"
     ]
    }
   ],
   "source": [
    "history = my_model.train(\n",
    "    SMSSpamCollection_tf_data_train,\n",
    "    validation_data=SMSSpamCollection_tf_data_valid,\n",
    "    epochs=30,\n",
    ")"
   ]
  },
  {
   "cell_type": "code",
   "execution_count": 72,
   "metadata": {},
   "outputs": [
    {
     "name": "stdout",
     "output_type": "stream",
     "text": [
      "\u001b[1m 1/35\u001b[0m \u001b[37m━━━━━━━━━━━━━━━━━━━━\u001b[0m \u001b[1m0s\u001b[0m 14ms/step - accuracy: 0.9062 - loss: 0.2433"
     ]
    },
    {
     "name": "stdout",
     "output_type": "stream",
     "text": [
      "\u001b[1m35/35\u001b[0m \u001b[32m━━━━━━━━━━━━━━━━━━━━\u001b[0m\u001b[37m\u001b[0m \u001b[1m0s\u001b[0m 1ms/step - accuracy: 0.8815 - loss: 0.2736 \n",
      "Evaluation on validation data (loaded model): [0.28024137020111084, 0.8807175159454346]\n"
     ]
    }
   ],
   "source": [
    "# Evaluasi model yang dimuat\n",
    "loaded_evaluation = my_model.model.evaluate(SMSSpamCollection_tf_data_valid)\n",
    "print(f'Evaluation on validation data (loaded model): {loaded_evaluation}')"
   ]
  },
  {
   "cell_type": "code",
   "execution_count": 73,
   "metadata": {},
   "outputs": [
    {
     "data": {
      "image/png": "[encoded data removed]",
      "text/plain": [
       "<Figure size 1200x1000 with 2 Axes>"
      ]
     },
     "metadata": {},
     "output_type": "display_data"
    },
    {
     "name": "stdout",
     "output_type": "stream",
     "text": [
      "Classification Report:\n",
      "              precision    recall  f1-score   support\n",
      "\n",
      "         0.0       0.89      0.99      0.94       973\n",
      "         1.0       0.72      0.13      0.22       142\n",
      "\n",
      "    accuracy                           0.88      1115\n",
      "   macro avg       0.80      0.56      0.58      1115\n",
      "weighted avg       0.87      0.88      0.84      1115\n",
      "\n"
     ]
    }
   ],
   "source": [
    "evaluate_model(my_model.model, SMSSpamCollection_tf_data_valid, lb.classes_)"
   ]
  },
  {
   "cell_type": "markdown",
   "metadata": {},
   "source": [
    "---\n",
    "#### Setelah melalui Tokenisasi model mengalami peningkatan akurasi, dengan menunjukkan bahwa 966 dari 973 pesan reguler (ham) diklasifikasikan dengan benar, sementara 18 dari 142 pesan spam diklasifikasikan dengan benar.\n",
    "---"
   ]
  },
  {
   "cell_type": "markdown",
   "metadata": {},
   "source": [
    "## Penghapusan Kata Umum (Stop Word Removal)\n",
    "\n",
    "Penghapusan kata umum adalah proses menghilangkan kata-kata yang sering muncul dan tidak memberikan banyak informasi, seperti artikel (the, an) dan konjungsi (and, but). Dalam konteks pencarian informasi atau mesin pencari, kata-kata ini tidak membantu dalam menemukan dokumen atau halaman web yang relevan dengan kueri.\n",
    "\n",
    "#### Contoh Penghapusan Kata Umum\n",
    "\n",
    "Misalnya, dalam kueri \"Where is Google based?\" kata \"is\" adalah kata umum. Hasil pencarian akan tetap sama meskipun kata \"is\" dihapus. Untuk menentukan kata umum, kita bisa menggunakan petunjuk tata bahasa. Dalam bahasa Inggris, artikel dan konjungsi biasanya bisa dihapus.\n",
    "\n",
    "#### Pendekatan yang Lebih Kuat\n",
    "\n",
    "Pendekatan yang lebih kuat adalah dengan mempertimbangkan frekuensi kemunculan kata dalam korpus (kumpulan dokumen atau teks). Kata-kata yang paling sering muncul bisa dipilih sebagai kandidat untuk daftar kata umum. Namun, daftar ini sebaiknya ditinjau secara manual karena ada kasus di mana kata-kata yang sering muncul tetap memiliki makna penting. Misalnya, dalam dokumen dari Federal Reserve, kata \"economy\" mungkin sering muncul tetapi tetap penting dan tidak boleh dihapus.\n",
    "\n",
    "#### Informasi dalam Kata Umum\n",
    "\n",
    "Kadang-kadang, kata umum bisa mengandung informasi penting. Ini berlaku untuk frasa tertentu. Misalnya, dalam frasa \"flights to Paris,\" kata \"to\" memberikan informasi berharga dan penghapusannya bisa mengubah makna frasa tersebut.\n",
    "\n",
    "#### Tahapan Pemrosesan Teks\n",
    "\n",
    "Setelah normalisasi teks, langkah berikutnya adalah vektorisasi. Langkah ini melibatkan pembuatan kosakata atau kamus dari semua token. Ukuran kosakata ini bisa dikurangi dengan menghapus kata umum. Saat melatih dan mengevaluasi model, penghapusan kata umum mengurangi jumlah langkah komputasi yang perlu dilakukan, sehingga meningkatkan kecepatan komputasi dan menghemat ruang penyimpanan.\n",
    "\n",
    "#### Perkembangan Modern dalam NLP\n",
    "\n",
    "Kemajuan modern dalam NLP melihat daftar kata umum yang semakin kecil karena skema pengkodean dan metode komputasi yang lebih efisien terus berkembang. Banyak paket NLP menyediakan daftar kata umum yang bisa dihapus setelah tokenisasi. Misalnya, NLTK dan spaCy menyediakan daftar kata umum untuk berbagai bahasa."
   ]
  },
  {
   "cell_type": "code",
   "execution_count": 40,
   "metadata": {},
   "outputs": [
    {
     "name": "stdout",
     "output_type": "stream",
     "text": [
      "available languages: 58\n"
     ]
    }
   ],
   "source": [
    "print(f'available languages: {len(sw.langs())}')"
   ]
  },
  {
   "cell_type": "markdown",
   "metadata": {},
   "source": [
    "The list of codes itself is from [www.loc.gov](http://www.loc.gov/standards/iso639-2/php/code_list.php).\n",
    "\n",
    "| ISO 639-1 Code | Language | Included Here |\n",
    "| -------------- | -------- | ------------- |\n",
    "| aa | Afar |  |\n",
    "| ab | Abkhazian |  |\n",
    "| af | Afrikaans | ✓ |\n",
    "| ak | Akan |  |\n",
    "| sq | Albanian |  |\n",
    "| am | Amharic |  |\n",
    "| ar | Arabic | ✓ |\n",
    "| an | Aragonese |  |\n",
    "| hy | Armenian | ✓ |\n",
    "| as | Assamese |  |\n",
    "| av | Avaric |  |\n",
    "| ae | Avestan |  |\n",
    "| ay | Aymara |  |\n",
    "| az | Azerbaijani |  |\n",
    "| ba | Bashkir |  |\n",
    "| bm | Bambara |  |\n",
    "| eu | Basque | ✓ |\n",
    "| be | Belarusian |  |\n",
    "| bn | Bengali | ✓ |\n",
    "| bh | Bihari languages |  |\n",
    "| bi | Bislama |  |\n",
    "| bo | Tibetan |  |\n",
    "| bs | Bosnian |  |\n",
    "| br | Breton | ✓ |\n",
    "| bg | Bulgarian | ✓ |\n",
    "| my | Burmese |  |\n",
    "| ca | Catalan; Valencian | ✓ |\n",
    "| cs | Czech | ✓ |\n",
    "| ch | Chamorro |  |\n",
    "| ce | Chechen |  |\n",
    "| zh | Chinese | ✓ |\n",
    "| cu | Church Slavic; Old Slavonic; Church Slavonic; Old Bulgarian; Old Church Slavonic |  |\n",
    "| cv | Chuvash |  |\n",
    "| kw | Cornish |  |\n",
    "| co | Corsican |  |\n",
    "| cr | Cree |  |\n",
    "| cy | Welsh |  |\n",
    "| da | Danish | ✓ |\n",
    "| de | German | ✓ |\n",
    "| dv | Divehi; Dhivehi; Maldivian |  |\n",
    "| nl | Dutch; Flemish | ✓ |\n",
    "| dz | Dzongkha |  |\n",
    "| el | Greek, Modern (1453-) | ✓ |\n",
    "| en | English | ✓ |\n",
    "| eo | Esperanto | ✓ |\n",
    "| et | Estonian | ✓ |\n",
    "| ee | Ewe |  |\n",
    "| fo | Faroese |  |\n",
    "| fa | Persian | ✓ |\n",
    "| fj | Fijian |  |\n",
    "| fi | Finnish | ✓ |\n",
    "| fr | French | ✓ |\n",
    "| fy | Western Frisian |  |\n",
    "| ff | Fulah |  |\n",
    "| ka | Georgian |  |\n",
    "| gd | Gaelic; Scottish Gaelic |  |\n",
    "| ga | Irish | ✓ |\n",
    "| gl | Galician | ✓ |\n",
    "| gv | Manx |  |\n",
    "| gn | Guarani |  |\n",
    "| gu | Gujarati | ✓ |\n",
    "| ht | Haitian; Haitian Creole |  |\n",
    "| ha | Hausa | ✓ |\n",
    "| he | Hebrew | ✓ |\n",
    "| hz | Herero |  |\n",
    "| hi | Hindi | ✓ |\n",
    "| ho | Hiri Motu |  |\n",
    "| hr | Croatian | ✓ |\n",
    "| hu | Hungarian | ✓ |\n",
    "| ig | Igbo |  |\n",
    "| is | Icelandic |  |\n",
    "| io | Ido |  |\n",
    "| ii | Sichuan Yi; Nuosu |  |\n",
    "| iu | Inuktitut |  |\n",
    "| ie | Interlingue; Occidental |  |\n",
    "| ia | Interlingua (International Auxiliary Language Association) |  |\n",
    "| id | Indonesian | ✓ |\n",
    "| ik | Inupiaq |  |\n",
    "| it | Italian | ✓ |\n",
    "| jv | Javanese |  |\n",
    "| ja | Japanese | ✓ |\n",
    "| kl | Kalaallisut; Greenlandic |  |\n",
    "| kn | Kannada |  |\n",
    "| ks | Kashmiri |  |\n",
    "| kr | Kanuri |  |\n",
    "| kk | Kazakh |  |\n",
    "| km | Central Khmer |  |\n",
    "| ki | Kikuyu; Gikuyu |  |\n",
    "| rw | Kinyarwanda |  |\n",
    "| ky | Kirghiz; Kyrgyz |  |\n",
    "| kv | Komi |  |\n",
    "| kg | Kongo |  |\n",
    "| ko | Korean | ✓ |\n",
    "| kj | Kuanyama; Kwanyama |  |\n",
    "| ku | Kurdish | ✓ |\n",
    "| lo | Lao |  |\n",
    "| la | Latin | ✓ |\n",
    "| lv | Latvian | ✓ |\n",
    "| li | Limburgan; Limburger; Limburgish |  |\n",
    "| ln | Lingala |  |\n",
    "| lt | Lithuanian | ✓ |\n",
    "| lb | Luxembourgish; Letzeburgesch |  |\n",
    "| lu | Luba-Katanga |  |\n",
    "| lg | Ganda |  |\n",
    "| mk | Macedonian |  |\n",
    "| mh | Marshallese |  |\n",
    "| ml | Malayalam |  |\n",
    "| mi | Maori |  |\n",
    "| mr | Marathi | ✓ |\n",
    "| ms | Malay | ✓ |\n",
    "| mg | Malagasy |  |\n",
    "| mt | Maltese |  |\n",
    "| mn | Mongolian |  |\n",
    "| na | Nauru |  |\n",
    "| nv | Navajo; Navaho |  |\n",
    "| nr | Ndebele, South; South Ndebele |  |\n",
    "| nd | Ndebele, North; North Ndebele |  |\n",
    "| ng | Ndonga |  |\n",
    "| ne | Nepali |  |\n",
    "| nn | Norwegian Nynorsk; Nynorsk, Norwegian |  |\n",
    "| nb | Bokmål, Norwegian; Norwegian Bokmål |  |\n",
    "| no | Norwegian | ✓ |\n",
    "| ny | Chichewa; Chewa; Nyanja |  |\n",
    "| oc | Occitan (post 1500) |  |\n",
    "| oj | Ojibwa |  |\n",
    "| or | Oriya |  |\n",
    "| om | Oromo |  |\n",
    "| os | Ossetian; Ossetic |  |\n",
    "| pa | Panjabi; Punjabi |  |\n",
    "| pi | Pali |  |\n",
    "| pl | Polish | ✓ |\n",
    "| pt | Portuguese | ✓ |\n",
    "| ps | Pushto; Pashto |  |\n",
    "| qu | Quechua |  |\n",
    "| rm | Romansh |  |\n",
    "| ro | Romanian; Moldavian; Moldovan | ✓ |\n",
    "| rn | Rundi |  |\n",
    "| ru | Russian | ✓ |\n",
    "| sg | Sango |  |\n",
    "| sa | Sanskrit |  |\n",
    "| si | Sinhala; Sinhalese |  |\n",
    "| sk | Slovak | ✓ |\n",
    "| sl | Slovenian | ✓ |\n",
    "| se | Northern Sami |  |\n",
    "| sm | Samoan |  |\n",
    "| sn | Shona |  |\n",
    "| sd | Sindhi |  |\n",
    "| so | Somali | ✓ |\n",
    "| st | Sotho, Southern | ✓ |\n",
    "| es | Spanish; Castilian | ✓ |\n",
    "| sc | Sardinian |  |\n",
    "| sr | Serbian |  |\n",
    "| ss | Swati |  |\n",
    "| su | Sundanese |  |\n",
    "| sw | Swahili | ✓ |\n",
    "| sv | Swedish | ✓ |\n",
    "| ty | Tahitian |  |\n",
    "| ta | Tamil |  |\n",
    "| tt | Tatar |  |\n",
    "| te | Telugu |  |\n",
    "| tg | Tajik |  |\n",
    "| tl | Tagalog | ✓ |\n",
    "| th | Thai | ✓ |\n",
    "| ti | Tigrinya |  |\n",
    "| to | Tonga (Tonga Islands) |  |\n",
    "| tn | Tswana |  |\n",
    "| ts | Tsonga |  |\n",
    "| tk | Turkmen |  |\n",
    "| tr | Turkish | ✓ |\n",
    "| tw | Twi |  |\n",
    "| ug | Uighur; Uyghur |  |\n",
    "| uk | Ukrainian | ✓ |\n",
    "| ur | Urdu | ✓ |\n",
    "| uz | Uzbek |  |\n",
    "| ve | Venda |  |\n",
    "| vi | Vietnamese | ✓ |\n",
    "| vo | Volapük |  |\n",
    "| wa | Walloon |  |\n",
    "| wo | Wolof |  |\n",
    "| xh | Xhosa |  |\n",
    "| yi | Yiddish |  |\n",
    "| yo | Yoruba | ✓ |\n",
    "| za | Zhuang; Chuang |  |\n",
    "| zu | Zulu | ✓ |"
   ]
  },
  {
   "cell_type": "code",
   "execution_count": 41,
   "metadata": {},
   "outputs": [
    {
     "name": "stdout",
     "output_type": "stream",
     "text": [
      "[\"'ll\", \"'tis\", \"'twas\", \"'ve\", '10', '39', 'a', \"a's\", 'able', 'ableabout']\n"
     ]
    }
   ],
   "source": [
    "en_sw_list = list(EN_SW)\n",
    "print(sorted(en_sw_list)[:10])"
   ]
  },
  {
   "cell_type": "code",
   "execution_count": 42,
   "metadata": {},
   "outputs": [
    {
     "name": "stdout",
     "output_type": "stream",
     "text": [
      "ride\n",
      "bike\n"
     ]
    }
   ],
   "source": [
    "sample_text = 'When are you going to ride your bike'\n",
    "doc = EN_NLP(sample_text)\n",
    "\n",
    "count = 0\n",
    "for sentence in doc.sents:\n",
    "    for token in sentence:\n",
    "        if token.text.lower() not in EN_SW:\n",
    "            print(token)"
   ]
  },
  {
   "cell_type": "code",
   "execution_count": 43,
   "metadata": {},
   "outputs": [
    {
     "data": {
      "text/plain": [
       "2"
      ]
     },
     "execution_count": 43,
     "metadata": {},
     "output_type": "execute_result"
    }
   ],
   "source": [
    "def word_counts_tester(text, pipeline=None, stopwords=None):\n",
    "    doc = pipeline(text)\n",
    "    return sum(1 for token in doc if token.text.lower() not in stopwords)\n",
    "    \n",
    "word_counts_tester(sample_text, EN_NLP, EN_SW)"
   ]
  },
  {
   "cell_type": "code",
   "execution_count": 44,
   "metadata": {},
   "outputs": [
    {
     "data": {
      "text/html": [
       "<div>\n",
       "<style scoped>\n",
       "    .dataframe tbody tr th:only-of-type {\n",
       "        vertical-align: middle;\n",
       "    }\n",
       "\n",
       "    .dataframe tbody tr th {\n",
       "        vertical-align: top;\n",
       "    }\n",
       "\n",
       "    .dataframe thead th {\n",
       "        text-align: right;\n",
       "    }\n",
       "</style>\n",
       "<table border=\"1\" class=\"dataframe\">\n",
       "  <thead>\n",
       "    <tr style=\"text-align: right;\">\n",
       "      <th></th>\n",
       "      <th>label</th>\n",
       "      <th>message</th>\n",
       "    </tr>\n",
       "  </thead>\n",
       "  <tbody>\n",
       "    <tr>\n",
       "      <th>0</th>\n",
       "      <td>ham</td>\n",
       "      <td>Go until jurong point, crazy.. Available only ...</td>\n",
       "    </tr>\n",
       "    <tr>\n",
       "      <th>1</th>\n",
       "      <td>ham</td>\n",
       "      <td>Ok lar... Joking wif u oni...</td>\n",
       "    </tr>\n",
       "    <tr>\n",
       "      <th>2</th>\n",
       "      <td>spam</td>\n",
       "      <td>Free entry in 2 a wkly comp to win FA Cup fina...</td>\n",
       "    </tr>\n",
       "    <tr>\n",
       "      <th>3</th>\n",
       "      <td>ham</td>\n",
       "      <td>U dun say so early hor... U c already then say...</td>\n",
       "    </tr>\n",
       "    <tr>\n",
       "      <th>4</th>\n",
       "      <td>ham</td>\n",
       "      <td>Nah I don't think he goes to usf, he lives aro...</td>\n",
       "    </tr>\n",
       "  </tbody>\n",
       "</table>\n",
       "</div>"
      ],
      "text/plain": [
       "  label                                            message\n",
       "0   ham  Go until jurong point, crazy.. Available only ...\n",
       "1   ham                      Ok lar... Joking wif u oni...\n",
       "2  spam  Free entry in 2 a wkly comp to win FA Cup fina...\n",
       "3   ham  U dun say so early hor... U c already then say...\n",
       "4   ham  Nah I don't think he goes to usf, he lives aro..."
      ]
     },
     "execution_count": 44,
     "metadata": {},
     "output_type": "execute_result"
    }
   ],
   "source": [
    "df[:5]"
   ]
  },
  {
   "cell_type": "code",
   "execution_count": 45,
   "metadata": {},
   "outputs": [],
   "source": [
    "df_copy = df.copy(deep=True)\n",
    "lb = LabelBinarizer()\n",
    "\n",
    "df_copy['label'] = lb.fit_transform(df_copy['label'])\n",
    "df_copy['capitals'] = df_copy['message'].apply(num_capitals)\n",
    "df_copy['punctuation'] = df_copy['message'].apply(num_punctuation)\n",
    "df_copy['length'] = df_copy['message'].apply(message_length)\n",
    "df_copy['words'] = df_copy['message'].apply(lambda text: word_counts_v2(text, EN_NLP, EN_SW))"
   ]
  },
  {
   "cell_type": "code",
   "execution_count": 46,
   "metadata": {},
   "outputs": [
    {
     "data": {
      "text/html": [
       "<div>\n",
       "<style scoped>\n",
       "    .dataframe tbody tr th:only-of-type {\n",
       "        vertical-align: middle;\n",
       "    }\n",
       "\n",
       "    .dataframe tbody tr th {\n",
       "        vertical-align: top;\n",
       "    }\n",
       "\n",
       "    .dataframe thead th {\n",
       "        text-align: right;\n",
       "    }\n",
       "</style>\n",
       "<table border=\"1\" class=\"dataframe\">\n",
       "  <thead>\n",
       "    <tr style=\"text-align: right;\">\n",
       "      <th></th>\n",
       "      <th>label</th>\n",
       "      <th>message</th>\n",
       "      <th>capitals</th>\n",
       "      <th>punctuation</th>\n",
       "      <th>length</th>\n",
       "      <th>words</th>\n",
       "    </tr>\n",
       "  </thead>\n",
       "  <tbody>\n",
       "    <tr>\n",
       "      <th>0</th>\n",
       "      <td>0</td>\n",
       "      <td>Go until jurong point, crazy.. Available only ...</td>\n",
       "      <td>3</td>\n",
       "      <td>9</td>\n",
       "      <td>111</td>\n",
       "      <td>11</td>\n",
       "    </tr>\n",
       "    <tr>\n",
       "      <th>1</th>\n",
       "      <td>0</td>\n",
       "      <td>Ok lar... Joking wif u oni...</td>\n",
       "      <td>2</td>\n",
       "      <td>6</td>\n",
       "      <td>29</td>\n",
       "      <td>6</td>\n",
       "    </tr>\n",
       "    <tr>\n",
       "      <th>2</th>\n",
       "      <td>1</td>\n",
       "      <td>Free entry in 2 a wkly comp to win FA Cup fina...</td>\n",
       "      <td>10</td>\n",
       "      <td>6</td>\n",
       "      <td>155</td>\n",
       "      <td>23</td>\n",
       "    </tr>\n",
       "    <tr>\n",
       "      <th>3</th>\n",
       "      <td>0</td>\n",
       "      <td>U dun say so early hor... U c already then say...</td>\n",
       "      <td>2</td>\n",
       "      <td>6</td>\n",
       "      <td>49</td>\n",
       "      <td>4</td>\n",
       "    </tr>\n",
       "    <tr>\n",
       "      <th>4</th>\n",
       "      <td>0</td>\n",
       "      <td>Nah I don't think he goes to usf, he lives aro...</td>\n",
       "      <td>2</td>\n",
       "      <td>2</td>\n",
       "      <td>61</td>\n",
       "      <td>5</td>\n",
       "    </tr>\n",
       "  </tbody>\n",
       "</table>\n",
       "</div>"
      ],
      "text/plain": [
       "   label                                            message  capitals  \\\n",
       "0      0  Go until jurong point, crazy.. Available only ...         3   \n",
       "1      0                      Ok lar... Joking wif u oni...         2   \n",
       "2      1  Free entry in 2 a wkly comp to win FA Cup fina...        10   \n",
       "3      0  U dun say so early hor... U c already then say...         2   \n",
       "4      0  Nah I don't think he goes to usf, he lives aro...         2   \n",
       "\n",
       "   punctuation  length  words  \n",
       "0            9     111     11  \n",
       "1            6      29      6  \n",
       "2            6     155     23  \n",
       "3            6      49      4  \n",
       "4            2      61      5  "
      ]
     },
     "execution_count": 46,
     "metadata": {},
     "output_type": "execute_result"
    }
   ],
   "source": [
    "df_copy[:5]"
   ]
  },
  {
   "cell_type": "code",
   "execution_count": 47,
   "metadata": {},
   "outputs": [
    {
     "data": {
      "text/html": [
       "<div>\n",
       "<style scoped>\n",
       "    .dataframe tbody tr th:only-of-type {\n",
       "        vertical-align: middle;\n",
       "    }\n",
       "\n",
       "    .dataframe tbody tr th {\n",
       "        vertical-align: top;\n",
       "    }\n",
       "\n",
       "    .dataframe thead th {\n",
       "        text-align: right;\n",
       "    }\n",
       "</style>\n",
       "<table border=\"1\" class=\"dataframe\">\n",
       "  <thead>\n",
       "    <tr style=\"text-align: right;\">\n",
       "      <th></th>\n",
       "      <th>label</th>\n",
       "      <th>capitals</th>\n",
       "      <th>punctuation</th>\n",
       "      <th>length</th>\n",
       "      <th>words</th>\n",
       "    </tr>\n",
       "  </thead>\n",
       "  <tbody>\n",
       "    <tr>\n",
       "      <th>count</th>\n",
       "      <td>5572.000000</td>\n",
       "      <td>5572.000000</td>\n",
       "      <td>5572.000000</td>\n",
       "      <td>5572.000000</td>\n",
       "      <td>5572.000000</td>\n",
       "    </tr>\n",
       "    <tr>\n",
       "      <th>mean</th>\n",
       "      <td>0.134063</td>\n",
       "      <td>5.633345</td>\n",
       "      <td>4.139268</td>\n",
       "      <td>80.489950</td>\n",
       "      <td>9.316762</td>\n",
       "    </tr>\n",
       "    <tr>\n",
       "      <th>std</th>\n",
       "      <td>0.340751</td>\n",
       "      <td>11.711637</td>\n",
       "      <td>4.568942</td>\n",
       "      <td>59.942907</td>\n",
       "      <td>8.021197</td>\n",
       "    </tr>\n",
       "    <tr>\n",
       "      <th>min</th>\n",
       "      <td>0.000000</td>\n",
       "      <td>0.000000</td>\n",
       "      <td>0.000000</td>\n",
       "      <td>2.000000</td>\n",
       "      <td>0.000000</td>\n",
       "    </tr>\n",
       "    <tr>\n",
       "      <th>25%</th>\n",
       "      <td>0.000000</td>\n",
       "      <td>1.000000</td>\n",
       "      <td>2.000000</td>\n",
       "      <td>36.000000</td>\n",
       "      <td>4.000000</td>\n",
       "    </tr>\n",
       "    <tr>\n",
       "      <th>50%</th>\n",
       "      <td>0.000000</td>\n",
       "      <td>2.000000</td>\n",
       "      <td>3.000000</td>\n",
       "      <td>62.000000</td>\n",
       "      <td>7.000000</td>\n",
       "    </tr>\n",
       "    <tr>\n",
       "      <th>75%</th>\n",
       "      <td>0.000000</td>\n",
       "      <td>4.000000</td>\n",
       "      <td>6.000000</td>\n",
       "      <td>122.000000</td>\n",
       "      <td>13.000000</td>\n",
       "    </tr>\n",
       "    <tr>\n",
       "      <th>max</th>\n",
       "      <td>1.000000</td>\n",
       "      <td>138.000000</td>\n",
       "      <td>133.000000</td>\n",
       "      <td>910.000000</td>\n",
       "      <td>147.000000</td>\n",
       "    </tr>\n",
       "  </tbody>\n",
       "</table>\n",
       "</div>"
      ],
      "text/plain": [
       "             label     capitals  punctuation       length        words\n",
       "count  5572.000000  5572.000000  5572.000000  5572.000000  5572.000000\n",
       "mean      0.134063     5.633345     4.139268    80.489950     9.316762\n",
       "std       0.340751    11.711637     4.568942    59.942907     8.021197\n",
       "min       0.000000     0.000000     0.000000     2.000000     0.000000\n",
       "25%       0.000000     1.000000     2.000000    36.000000     4.000000\n",
       "50%       0.000000     2.000000     3.000000    62.000000     7.000000\n",
       "75%       0.000000     4.000000     6.000000   122.000000    13.000000\n",
       "max       1.000000   138.000000   133.000000   910.000000   147.000000"
      ]
     },
     "execution_count": 47,
     "metadata": {},
     "output_type": "execute_result"
    }
   ],
   "source": [
    "df_copy.describe()"
   ]
  },
  {
   "cell_type": "code",
   "execution_count": 48,
   "metadata": {},
   "outputs": [
    {
     "name": "stdout",
     "output_type": "stream",
     "text": [
      "Ham dataframe statistic\n"
     ]
    },
    {
     "data": {
      "text/html": [
       "<div>\n",
       "<style scoped>\n",
       "    .dataframe tbody tr th:only-of-type {\n",
       "        vertical-align: middle;\n",
       "    }\n",
       "\n",
       "    .dataframe tbody tr th {\n",
       "        vertical-align: top;\n",
       "    }\n",
       "\n",
       "    .dataframe thead th {\n",
       "        text-align: right;\n",
       "    }\n",
       "</style>\n",
       "<table border=\"1\" class=\"dataframe\">\n",
       "  <thead>\n",
       "    <tr style=\"text-align: right;\">\n",
       "      <th></th>\n",
       "      <th>label</th>\n",
       "      <th>capitals</th>\n",
       "      <th>punctuation</th>\n",
       "      <th>length</th>\n",
       "      <th>words</th>\n",
       "    </tr>\n",
       "  </thead>\n",
       "  <tbody>\n",
       "    <tr>\n",
       "      <th>count</th>\n",
       "      <td>4825.0</td>\n",
       "      <td>4825.000000</td>\n",
       "      <td>4825.000000</td>\n",
       "      <td>4825.000000</td>\n",
       "      <td>4825.000000</td>\n",
       "    </tr>\n",
       "    <tr>\n",
       "      <th>mean</th>\n",
       "      <td>0.0</td>\n",
       "      <td>4.110466</td>\n",
       "      <td>3.928705</td>\n",
       "      <td>71.482487</td>\n",
       "      <td>7.933886</td>\n",
       "    </tr>\n",
       "    <tr>\n",
       "      <th>std</th>\n",
       "      <td>0.0</td>\n",
       "      <td>10.848116</td>\n",
       "      <td>4.692083</td>\n",
       "      <td>58.440652</td>\n",
       "      <td>7.368244</td>\n",
       "    </tr>\n",
       "    <tr>\n",
       "      <th>min</th>\n",
       "      <td>0.0</td>\n",
       "      <td>0.000000</td>\n",
       "      <td>0.000000</td>\n",
       "      <td>2.000000</td>\n",
       "      <td>0.000000</td>\n",
       "    </tr>\n",
       "    <tr>\n",
       "      <th>25%</th>\n",
       "      <td>0.0</td>\n",
       "      <td>1.000000</td>\n",
       "      <td>1.000000</td>\n",
       "      <td>33.000000</td>\n",
       "      <td>4.000000</td>\n",
       "    </tr>\n",
       "    <tr>\n",
       "      <th>50%</th>\n",
       "      <td>0.0</td>\n",
       "      <td>2.000000</td>\n",
       "      <td>3.000000</td>\n",
       "      <td>52.000000</td>\n",
       "      <td>6.000000</td>\n",
       "    </tr>\n",
       "    <tr>\n",
       "      <th>75%</th>\n",
       "      <td>0.0</td>\n",
       "      <td>3.000000</td>\n",
       "      <td>5.000000</td>\n",
       "      <td>93.000000</td>\n",
       "      <td>10.000000</td>\n",
       "    </tr>\n",
       "    <tr>\n",
       "      <th>max</th>\n",
       "      <td>0.0</td>\n",
       "      <td>138.000000</td>\n",
       "      <td>133.000000</td>\n",
       "      <td>910.000000</td>\n",
       "      <td>147.000000</td>\n",
       "    </tr>\n",
       "  </tbody>\n",
       "</table>\n",
       "</div>"
      ],
      "text/plain": [
       "        label     capitals  punctuation       length        words\n",
       "count  4825.0  4825.000000  4825.000000  4825.000000  4825.000000\n",
       "mean      0.0     4.110466     3.928705    71.482487     7.933886\n",
       "std       0.0    10.848116     4.692083    58.440652     7.368244\n",
       "min       0.0     0.000000     0.000000     2.000000     0.000000\n",
       "25%       0.0     1.000000     1.000000    33.000000     4.000000\n",
       "50%       0.0     2.000000     3.000000    52.000000     6.000000\n",
       "75%       0.0     3.000000     5.000000    93.000000    10.000000\n",
       "max       0.0   138.000000   133.000000   910.000000   147.000000"
      ]
     },
     "execution_count": 48,
     "metadata": {},
     "output_type": "execute_result"
    }
   ],
   "source": [
    "print('Ham dataframe statistic')\n",
    "df_copy[df_copy['label'] == 0].describe()"
   ]
  },
  {
   "cell_type": "markdown",
   "metadata": {},
   "source": [
    "Membandingkan statistik ini dengan statistik sebelum stop word removal, jumlah rata-rata kata telah berkurang lebih dari separuhnya menjadi hampir 8. Jumlah maksimum kata juga berkurang dari 209 menjadi 147. Standar deviasi dari pesan biasa hampir sama dengan rata-ratanya, yang mengindikasikan bahwa ada banyak variasi dalam jumlah kata dalam pesan biasa. Sekarang, mari kita lihat apakah hal ini dapat membantu kita melatih model dan meningkatkan akurasinya."
   ]
  },
  {
   "cell_type": "code",
   "execution_count": 49,
   "metadata": {},
   "outputs": [
    {
     "name": "stdout",
     "output_type": "stream",
     "text": [
      "Spam dataframe statistic\n"
     ]
    },
    {
     "data": {
      "text/html": [
       "<div>\n",
       "<style scoped>\n",
       "    .dataframe tbody tr th:only-of-type {\n",
       "        vertical-align: middle;\n",
       "    }\n",
       "\n",
       "    .dataframe tbody tr th {\n",
       "        vertical-align: top;\n",
       "    }\n",
       "\n",
       "    .dataframe thead th {\n",
       "        text-align: right;\n",
       "    }\n",
       "</style>\n",
       "<table border=\"1\" class=\"dataframe\">\n",
       "  <thead>\n",
       "    <tr style=\"text-align: right;\">\n",
       "      <th></th>\n",
       "      <th>label</th>\n",
       "      <th>capitals</th>\n",
       "      <th>punctuation</th>\n",
       "      <th>length</th>\n",
       "      <th>words</th>\n",
       "    </tr>\n",
       "  </thead>\n",
       "  <tbody>\n",
       "    <tr>\n",
       "      <th>count</th>\n",
       "      <td>747.0</td>\n",
       "      <td>747.00000</td>\n",
       "      <td>747.000000</td>\n",
       "      <td>747.000000</td>\n",
       "      <td>747.000000</td>\n",
       "    </tr>\n",
       "    <tr>\n",
       "      <th>mean</th>\n",
       "      <td>1.0</td>\n",
       "      <td>15.46988</td>\n",
       "      <td>5.499331</td>\n",
       "      <td>138.670683</td>\n",
       "      <td>18.248996</td>\n",
       "    </tr>\n",
       "    <tr>\n",
       "      <th>std</th>\n",
       "      <td>0.0</td>\n",
       "      <td>12.30576</td>\n",
       "      <td>3.374870</td>\n",
       "      <td>28.873603</td>\n",
       "      <td>6.094617</td>\n",
       "    </tr>\n",
       "    <tr>\n",
       "      <th>min</th>\n",
       "      <td>1.0</td>\n",
       "      <td>0.00000</td>\n",
       "      <td>0.000000</td>\n",
       "      <td>13.000000</td>\n",
       "      <td>2.000000</td>\n",
       "    </tr>\n",
       "    <tr>\n",
       "      <th>25%</th>\n",
       "      <td>1.0</td>\n",
       "      <td>7.00000</td>\n",
       "      <td>3.000000</td>\n",
       "      <td>133.000000</td>\n",
       "      <td>14.000000</td>\n",
       "    </tr>\n",
       "    <tr>\n",
       "      <th>50%</th>\n",
       "      <td>1.0</td>\n",
       "      <td>14.00000</td>\n",
       "      <td>5.000000</td>\n",
       "      <td>149.000000</td>\n",
       "      <td>18.000000</td>\n",
       "    </tr>\n",
       "    <tr>\n",
       "      <th>75%</th>\n",
       "      <td>1.0</td>\n",
       "      <td>21.00000</td>\n",
       "      <td>8.000000</td>\n",
       "      <td>157.000000</td>\n",
       "      <td>22.500000</td>\n",
       "    </tr>\n",
       "    <tr>\n",
       "      <th>max</th>\n",
       "      <td>1.0</td>\n",
       "      <td>128.00000</td>\n",
       "      <td>25.000000</td>\n",
       "      <td>223.000000</td>\n",
       "      <td>38.000000</td>\n",
       "    </tr>\n",
       "  </tbody>\n",
       "</table>\n",
       "</div>"
      ],
      "text/plain": [
       "       label   capitals  punctuation      length       words\n",
       "count  747.0  747.00000   747.000000  747.000000  747.000000\n",
       "mean     1.0   15.46988     5.499331  138.670683   18.248996\n",
       "std      0.0   12.30576     3.374870   28.873603    6.094617\n",
       "min      1.0    0.00000     0.000000   13.000000    2.000000\n",
       "25%      1.0    7.00000     3.000000  133.000000   14.000000\n",
       "50%      1.0   14.00000     5.000000  149.000000   18.000000\n",
       "75%      1.0   21.00000     8.000000  157.000000   22.500000\n",
       "max      1.0  128.00000    25.000000  223.000000   38.000000"
      ]
     },
     "execution_count": 49,
     "metadata": {},
     "output_type": "execute_result"
    }
   ],
   "source": [
    "print('Spam dataframe statistic')\n",
    "df_copy[df_copy['label'] == 1].describe()"
   ]
  },
  {
   "cell_type": "markdown",
   "metadata": {},
   "source": [
    "Dibandingkan dengan jumlah kata sebelum stop word removal, jumlah rata-rata kata telah berkurang dari 29 menjadi 18, hampir 30%. Persentil ke-25 berubah dari 26 menjadi 14. Jumlah maksimum juga berkurang dari 49 menjadi 38."
   ]
  },
  {
   "cell_type": "code",
   "execution_count": 50,
   "metadata": {},
   "outputs": [],
   "source": [
    "X = df_copy.drop(columns=['label', 'message'])\n",
    "y = df_copy['label']\n",
    "\n",
    "smote = SMOTE(random_state=42)\n",
    "X_resampled, y_resampled = smote.fit_resample(X, y)"
   ]
  },
  {
   "cell_type": "code",
   "execution_count": 51,
   "metadata": {},
   "outputs": [],
   "source": [
    "SMSSpamCollection_tf_data = tf.data.Dataset.from_tensor_slices((X_resampled, y_resampled))"
   ]
  },
  {
   "cell_type": "code",
   "execution_count": 52,
   "metadata": {},
   "outputs": [],
   "source": [
    "SMSSpamCollection_tf_data_scaled = SMSSpamCollection_tf_data.map( \n",
    "    map_func=lambda features, label: minmax_scaling_tf(features, label, feature_range=(0, 1)),\n",
    "    num_parallel_calls=tf.data.AUTOTUNE\n",
    ")\n",
    "SMSSpamCollection_tf_data_cached = SMSSpamCollection_tf_data_scaled.cache()"
   ]
  },
  {
   "cell_type": "code",
   "execution_count": 53,
   "metadata": {},
   "outputs": [],
   "source": [
    "splitter = DatasetSplitter(batch_size=32, train_split=0.8)"
   ]
  },
  {
   "cell_type": "code",
   "execution_count": 54,
   "metadata": {},
   "outputs": [
    {
     "name": "stdout",
     "output_type": "stream",
     "text": [
      "=================================== Training Dataset ===================================\n",
      "Info data: <_TakeDataset element_spec=(TensorSpec(shape=(4,), dtype=tf.float32, name=None), TensorSpec(shape=(), dtype=tf.uint8, name=None))>\n",
      "Training Split: 0.8\n",
      "Number of data: 7720\n",
      "AFTER BATCH: 32\n",
      "Number of data: 242\n",
      "=================================== Validation Dataset ===================================\n",
      "Info data: <_SkipDataset element_spec=(TensorSpec(shape=(4,), dtype=tf.float32, name=None), TensorSpec(shape=(), dtype=tf.uint8, name=None))>\n",
      "Validation Split: 0.2\n",
      "Number of data: 1930\n",
      "AFTER BATCH: 32\n",
      "Number of data: 61\n"
     ]
    }
   ],
   "source": [
    "SMSSpamCollection_tf_data_train, SMSSpamCollection_tf_data_valid = splitter.split_and_prepare(SMSSpamCollection_tf_data_cached)"
   ]
  },
  {
   "cell_type": "code",
   "execution_count": 56,
   "metadata": {},
   "outputs": [
    {
     "data": {
      "text/html": [
       "<pre style=\"white-space:pre;overflow-x:auto;line-height:normal;font-family:Menlo,'DejaVu Sans Mono',consolas,'Courier New',monospace\"><span style=\"font-weight: bold\">Model: \"functional_2\"</span>\n",
       "</pre>\n"
      ],
      "text/plain": [
       "\u001b[1mModel: \"functional_2\"\u001b[0m\n"
      ]
     },
     "metadata": {},
     "output_type": "display_data"
    },
    {
     "data": {
      "text/html": [
       "<pre style=\"white-space:pre;overflow-x:auto;line-height:normal;font-family:Menlo,'DejaVu Sans Mono',consolas,'Courier New',monospace\">┏━━━━━━━━━━━━━━━━━━━━━━━━━━━━━━━━━┳━━━━━━━━━━━━━━━━━━━━━━━━┳━━━━━━━━━━━━━━━┓\n",
       "┃<span style=\"font-weight: bold\"> Layer (type)                    </span>┃<span style=\"font-weight: bold\"> Output Shape           </span>┃<span style=\"font-weight: bold\">       Param # </span>┃\n",
       "┡━━━━━━━━━━━━━━━━━━━━━━━━━━━━━━━━━╇━━━━━━━━━━━━━━━━━━━━━━━━╇━━━━━━━━━━━━━━━┩\n",
       "│ input_layer_2 (<span style=\"color: #0087ff; text-decoration-color: #0087ff\">InputLayer</span>)      │ (<span style=\"color: #00d7ff; text-decoration-color: #00d7ff\">None</span>, <span style=\"color: #00af00; text-decoration-color: #00af00\">4</span>)              │             <span style=\"color: #00af00; text-decoration-color: #00af00\">0</span> │\n",
       "├─────────────────────────────────┼────────────────────────┼───────────────┤\n",
       "│ dense_4 (<span style=\"color: #0087ff; text-decoration-color: #0087ff\">Dense</span>)                 │ (<span style=\"color: #00d7ff; text-decoration-color: #00d7ff\">None</span>, <span style=\"color: #00af00; text-decoration-color: #00af00\">12</span>)             │            <span style=\"color: #00af00; text-decoration-color: #00af00\">60</span> │\n",
       "├─────────────────────────────────┼────────────────────────┼───────────────┤\n",
       "│ dense_5 (<span style=\"color: #0087ff; text-decoration-color: #0087ff\">Dense</span>)                 │ (<span style=\"color: #00d7ff; text-decoration-color: #00d7ff\">None</span>, <span style=\"color: #00af00; text-decoration-color: #00af00\">1</span>)              │            <span style=\"color: #00af00; text-decoration-color: #00af00\">13</span> │\n",
       "└─────────────────────────────────┴────────────────────────┴───────────────┘\n",
       "</pre>\n"
      ],
      "text/plain": [
       "┏━━━━━━━━━━━━━━━━━━━━━━━━━━━━━━━━━┳━━━━━━━━━━━━━━━━━━━━━━━━┳━━━━━━━━━━━━━━━┓\n",
       "┃\u001b[1m \u001b[0m\u001b[1mLayer (type)                   \u001b[0m\u001b[1m \u001b[0m┃\u001b[1m \u001b[0m\u001b[1mOutput Shape          \u001b[0m\u001b[1m \u001b[0m┃\u001b[1m \u001b[0m\u001b[1m      Param #\u001b[0m\u001b[1m \u001b[0m┃\n",
       "┡━━━━━━━━━━━━━━━━━━━━━━━━━━━━━━━━━╇━━━━━━━━━━━━━━━━━━━━━━━━╇━━━━━━━━━━━━━━━┩\n",
       "│ input_layer_2 (\u001b[38;5;33mInputLayer\u001b[0m)      │ (\u001b[38;5;45mNone\u001b[0m, \u001b[38;5;34m4\u001b[0m)              │             \u001b[38;5;34m0\u001b[0m │\n",
       "├─────────────────────────────────┼────────────────────────┼───────────────┤\n",
       "│ dense_4 (\u001b[38;5;33mDense\u001b[0m)                 │ (\u001b[38;5;45mNone\u001b[0m, \u001b[38;5;34m12\u001b[0m)             │            \u001b[38;5;34m60\u001b[0m │\n",
       "├─────────────────────────────────┼────────────────────────┼───────────────┤\n",
       "│ dense_5 (\u001b[38;5;33mDense\u001b[0m)                 │ (\u001b[38;5;45mNone\u001b[0m, \u001b[38;5;34m1\u001b[0m)              │            \u001b[38;5;34m13\u001b[0m │\n",
       "└─────────────────────────────────┴────────────────────────┴───────────────┘\n"
      ]
     },
     "metadata": {},
     "output_type": "display_data"
    },
    {
     "data": {
      "text/html": [
       "<pre style=\"white-space:pre;overflow-x:auto;line-height:normal;font-family:Menlo,'DejaVu Sans Mono',consolas,'Courier New',monospace\"><span style=\"font-weight: bold\"> Total params: </span><span style=\"color: #00af00; text-decoration-color: #00af00\">73</span> (292.00 B)\n",
       "</pre>\n"
      ],
      "text/plain": [
       "\u001b[1m Total params: \u001b[0m\u001b[38;5;34m73\u001b[0m (292.00 B)\n"
      ]
     },
     "metadata": {},
     "output_type": "display_data"
    },
    {
     "data": {
      "text/html": [
       "<pre style=\"white-space:pre;overflow-x:auto;line-height:normal;font-family:Menlo,'DejaVu Sans Mono',consolas,'Courier New',monospace\"><span style=\"font-weight: bold\"> Trainable params: </span><span style=\"color: #00af00; text-decoration-color: #00af00\">73</span> (292.00 B)\n",
       "</pre>\n"
      ],
      "text/plain": [
       "\u001b[1m Trainable params: \u001b[0m\u001b[38;5;34m73\u001b[0m (292.00 B)\n"
      ]
     },
     "metadata": {},
     "output_type": "display_data"
    },
    {
     "data": {
      "text/html": [
       "<pre style=\"white-space:pre;overflow-x:auto;line-height:normal;font-family:Menlo,'DejaVu Sans Mono',consolas,'Courier New',monospace\"><span style=\"font-weight: bold\"> Non-trainable params: </span><span style=\"color: #00af00; text-decoration-color: #00af00\">0</span> (0.00 B)\n",
       "</pre>\n"
      ],
      "text/plain": [
       "\u001b[1m Non-trainable params: \u001b[0m\u001b[38;5;34m0\u001b[0m (0.00 B)\n"
      ]
     },
     "metadata": {},
     "output_type": "display_data"
    }
   ],
   "source": [
    "my_model=SpamLDetectionModel(\n",
    "    input_shape=INPUT_SHAPE_MODEL_V3, \n",
    "    num_classes=NUM_LABEL, \n",
    "    optimizer=OPTIMIZER,\n",
    "    loss=LOSS,\n",
    "    metrics=METRICS\n",
    ")\n",
    "my_model.model.summary()"
   ]
  },
  {
   "cell_type": "code",
   "execution_count": 57,
   "metadata": {},
   "outputs": [
    {
     "name": "stdout",
     "output_type": "stream",
     "text": [
      "Epoch 1/30\n",
      "\u001b[1m242/242\u001b[0m \u001b[32m━━━━━━━━━━━━━━━━━━━━\u001b[0m\u001b[37m\u001b[0m \u001b[1m1s\u001b[0m 2ms/step - accuracy: 0.5264 - loss: 0.6923 - val_accuracy: 0.7456 - val_loss: 0.6822\n",
      "Epoch 2/30\n",
      "\u001b[1m242/242\u001b[0m \u001b[32m━━━━━━━━━━━━━━━━━━━━\u001b[0m\u001b[37m\u001b[0m \u001b[1m0s\u001b[0m 1ms/step - accuracy: 0.7342 - loss: 0.6794 - val_accuracy: 0.7710 - val_loss: 0.6699\n",
      "Epoch 3/30\n",
      "\u001b[1m242/242\u001b[0m \u001b[32m━━━━━━━━━━━━━━━━━━━━\u001b[0m\u001b[37m\u001b[0m \u001b[1m0s\u001b[0m 2ms/step - accuracy: 0.7685 - loss: 0.6663 - val_accuracy: 0.7964 - val_loss: 0.6546\n",
      "Epoch 4/30\n",
      "\u001b[1m242/242\u001b[0m \u001b[32m━━━━━━━━━━━━━━━━━━━━\u001b[0m\u001b[37m\u001b[0m \u001b[1m0s\u001b[0m 2ms/step - accuracy: 0.7808 - loss: 0.6504 - val_accuracy: 0.7762 - val_loss: 0.6348\n",
      "Epoch 5/30\n",
      "\u001b[1m242/242\u001b[0m \u001b[32m━━━━━━━━━━━━━━━━━━━━\u001b[0m\u001b[37m\u001b[0m \u001b[1m0s\u001b[0m 1ms/step - accuracy: 0.7999 - loss: 0.6277 - val_accuracy: 0.7798 - val_loss: 0.6111\n",
      "Epoch 6/30\n",
      "\u001b[1m242/242\u001b[0m \u001b[32m━━━━━━━━━━━━━━━━━━━━\u001b[0m\u001b[37m\u001b[0m \u001b[1m0s\u001b[0m 1ms/step - accuracy: 0.7932 - loss: 0.6034 - val_accuracy: 0.8036 - val_loss: 0.5837\n",
      "Epoch 7/30\n",
      "\u001b[1m242/242\u001b[0m \u001b[32m━━━━━━━━━━━━━━━━━━━━\u001b[0m\u001b[37m\u001b[0m \u001b[1m0s\u001b[0m 2ms/step - accuracy: 0.7941 - loss: 0.5826 - val_accuracy: 0.7907 - val_loss: 0.5613\n",
      "Epoch 8/30\n",
      "\u001b[1m242/242\u001b[0m \u001b[32m━━━━━━━━━━━━━━━━━━━━\u001b[0m\u001b[37m\u001b[0m \u001b[1m0s\u001b[0m 2ms/step - accuracy: 0.7974 - loss: 0.5533 - val_accuracy: 0.7984 - val_loss: 0.5357\n",
      "Epoch 9/30\n",
      "\u001b[1m242/242\u001b[0m \u001b[32m━━━━━━━━━━━━━━━━━━━━\u001b[0m\u001b[37m\u001b[0m \u001b[1m0s\u001b[0m 2ms/step - accuracy: 0.7970 - loss: 0.5324 - val_accuracy: 0.7881 - val_loss: 0.5208\n",
      "Epoch 10/30\n",
      "\u001b[1m242/242\u001b[0m \u001b[32m━━━━━━━━━━━━━━━━━━━━\u001b[0m\u001b[37m\u001b[0m \u001b[1m0s\u001b[0m 1ms/step - accuracy: 0.8001 - loss: 0.5127 - val_accuracy: 0.7984 - val_loss: 0.4989\n",
      "Epoch 11/30\n",
      "\u001b[1m242/242\u001b[0m \u001b[32m━━━━━━━━━━━━━━━━━━━━\u001b[0m\u001b[37m\u001b[0m \u001b[1m0s\u001b[0m 2ms/step - accuracy: 0.8077 - loss: 0.4884 - val_accuracy: 0.8078 - val_loss: 0.4739\n",
      "Epoch 12/30\n",
      "\u001b[1m242/242\u001b[0m \u001b[32m━━━━━━━━━━━━━━━━━━━━\u001b[0m\u001b[37m\u001b[0m \u001b[1m0s\u001b[0m 2ms/step - accuracy: 0.8048 - loss: 0.4733 - val_accuracy: 0.7850 - val_loss: 0.4728\n",
      "Epoch 13/30\n",
      "\u001b[1m242/242\u001b[0m \u001b[32m━━━━━━━━━━━━━━━━━━━━\u001b[0m\u001b[37m\u001b[0m \u001b[1m0s\u001b[0m 2ms/step - accuracy: 0.7991 - loss: 0.4645 - val_accuracy: 0.7922 - val_loss: 0.4588\n",
      "Epoch 14/30\n",
      "\u001b[1m242/242\u001b[0m \u001b[32m━━━━━━━━━━━━━━━━━━━━\u001b[0m\u001b[37m\u001b[0m \u001b[1m0s\u001b[0m 2ms/step - accuracy: 0.8045 - loss: 0.4523 - val_accuracy: 0.8041 - val_loss: 0.4402\n",
      "Epoch 15/30\n",
      "\u001b[1m242/242\u001b[0m \u001b[32m━━━━━━━━━━━━━━━━━━━━\u001b[0m\u001b[37m\u001b[0m \u001b[1m0s\u001b[0m 1ms/step - accuracy: 0.8059 - loss: 0.4404 - val_accuracy: 0.8098 - val_loss: 0.4376\n",
      "Epoch 16/30\n",
      "\u001b[1m242/242\u001b[0m \u001b[32m━━━━━━━━━━━━━━━━━━━━\u001b[0m\u001b[37m\u001b[0m \u001b[1m0s\u001b[0m 2ms/step - accuracy: 0.8038 - loss: 0.4352 - val_accuracy: 0.8021 - val_loss: 0.4448\n",
      "Epoch 17/30\n",
      "\u001b[1m242/242\u001b[0m \u001b[32m━━━━━━━━━━━━━━━━━━━━\u001b[0m\u001b[37m\u001b[0m \u001b[1m0s\u001b[0m 2ms/step - accuracy: 0.8105 - loss: 0.4209 - val_accuracy: 0.8124 - val_loss: 0.4235\n",
      "Epoch 18/30\n",
      "\u001b[1m242/242\u001b[0m \u001b[32m━━━━━━━━━━━━━━━━━━━━\u001b[0m\u001b[37m\u001b[0m \u001b[1m0s\u001b[0m 2ms/step - accuracy: 0.8113 - loss: 0.4217 - val_accuracy: 0.8052 - val_loss: 0.4252\n",
      "Epoch 19/30\n",
      "\u001b[1m242/242\u001b[0m \u001b[32m━━━━━━━━━━━━━━━━━━━━\u001b[0m\u001b[37m\u001b[0m \u001b[1m0s\u001b[0m 2ms/step - accuracy: 0.8068 - loss: 0.4214 - val_accuracy: 0.8223 - val_loss: 0.4207\n",
      "Epoch 20/30\n",
      "\u001b[1m242/242\u001b[0m \u001b[32m━━━━━━━━━━━━━━━━━━━━\u001b[0m\u001b[37m\u001b[0m \u001b[1m0s\u001b[0m 2ms/step - accuracy: 0.8225 - loss: 0.4162 - val_accuracy: 0.8104 - val_loss: 0.4235\n",
      "Epoch 21/30\n",
      "\u001b[1m242/242\u001b[0m \u001b[32m━━━━━━━━━━━━━━━━━━━━\u001b[0m\u001b[37m\u001b[0m \u001b[1m0s\u001b[0m 1ms/step - accuracy: 0.8123 - loss: 0.4114 - val_accuracy: 0.8130 - val_loss: 0.4121\n",
      "Epoch 22/30\n",
      "\u001b[1m242/242\u001b[0m \u001b[32m━━━━━━━━━━━━━━━━━━━━\u001b[0m\u001b[37m\u001b[0m \u001b[1m0s\u001b[0m 2ms/step - accuracy: 0.8019 - loss: 0.4187 - val_accuracy: 0.8264 - val_loss: 0.3968\n",
      "Epoch 23/30\n",
      "\u001b[1m242/242\u001b[0m \u001b[32m━━━━━━━━━━━━━━━━━━━━\u001b[0m\u001b[37m\u001b[0m \u001b[1m0s\u001b[0m 2ms/step - accuracy: 0.8125 - loss: 0.4135 - val_accuracy: 0.8166 - val_loss: 0.4064\n",
      "Epoch 24/30\n",
      "\u001b[1m242/242\u001b[0m \u001b[32m━━━━━━━━━━━━━━━━━━━━\u001b[0m\u001b[37m\u001b[0m \u001b[1m0s\u001b[0m 2ms/step - accuracy: 0.8092 - loss: 0.4180 - val_accuracy: 0.7933 - val_loss: 0.4347\n",
      "Epoch 25/30\n",
      "\u001b[1m242/242\u001b[0m \u001b[32m━━━━━━━━━━━━━━━━━━━━\u001b[0m\u001b[37m\u001b[0m \u001b[1m0s\u001b[0m 2ms/step - accuracy: 0.8110 - loss: 0.4149 - val_accuracy: 0.8155 - val_loss: 0.4227\n",
      "Epoch 26/30\n",
      "\u001b[1m242/242\u001b[0m \u001b[32m━━━━━━━━━━━━━━━━━━━━\u001b[0m\u001b[37m\u001b[0m \u001b[1m0s\u001b[0m 2ms/step - accuracy: 0.8137 - loss: 0.4072 - val_accuracy: 0.8166 - val_loss: 0.4082\n",
      "Epoch 27/30\n",
      "\u001b[1m242/242\u001b[0m \u001b[32m━━━━━━━━━━━━━━━━━━━━\u001b[0m\u001b[37m\u001b[0m \u001b[1m0s\u001b[0m 2ms/step - accuracy: 0.8139 - loss: 0.4096 - val_accuracy: 0.8197 - val_loss: 0.4099\n",
      "Epoch 28/30\n",
      "\u001b[1m242/242\u001b[0m \u001b[32m━━━━━━━━━━━━━━━━━━━━\u001b[0m\u001b[37m\u001b[0m \u001b[1m0s\u001b[0m 2ms/step - accuracy: 0.8184 - loss: 0.4021 - val_accuracy: 0.7990 - val_loss: 0.4247\n",
      "Epoch 29/30\n",
      "\u001b[1m242/242\u001b[0m \u001b[32m━━━━━━━━━━━━━━━━━━━━\u001b[0m\u001b[37m\u001b[0m \u001b[1m0s\u001b[0m 2ms/step - accuracy: 0.8019 - loss: 0.4230 - val_accuracy: 0.8155 - val_loss: 0.4052\n",
      "Epoch 30/30\n",
      "\u001b[1m242/242\u001b[0m \u001b[32m━━━━━━━━━━━━━━━━━━━━\u001b[0m\u001b[37m\u001b[0m \u001b[1m0s\u001b[0m 2ms/step - accuracy: 0.7975 - loss: 0.4251 - val_accuracy: 0.8047 - val_loss: 0.4161\n"
     ]
    }
   ],
   "source": [
    "history = my_model.train(\n",
    "    SMSSpamCollection_tf_data_train,\n",
    "    validation_data=SMSSpamCollection_tf_data_valid,\n",
    "    epochs=30,\n",
    ")"
   ]
  },
  {
   "cell_type": "code",
   "execution_count": 58,
   "metadata": {},
   "outputs": [
    {
     "data": {
      "image/png": "[encoded data removed]",
      "text/plain": [
       "<Figure size 1200x1000 with 2 Axes>"
      ]
     },
     "metadata": {},
     "output_type": "display_data"
    },
    {
     "name": "stdout",
     "output_type": "stream",
     "text": [
      "Classification Report:\n",
      "              precision    recall  f1-score   support\n",
      "\n",
      "         0.0       0.80      0.85      0.83       975\n",
      "         1.0       0.84      0.78      0.81       955\n",
      "\n",
      "    accuracy                           0.82      1930\n",
      "   macro avg       0.82      0.82      0.82      1930\n",
      "weighted avg       0.82      0.82      0.82      1930\n",
      "\n"
     ]
    }
   ],
   "source": [
    "evaluate_model(my_model.model, SMSSpamCollection_tf_data_valid, lb.classes_)"
   ]
  },
  {
   "cell_type": "markdown",
   "metadata": {},
   "source": [
    "---\n",
    "#### Setelah melalui Stopword removal model mengalami penurunan akurasi, dengan menunjukkan bahwa 833 dari 971 pesan reguler (ham) diklasifikasikan dengan benar, sementara 745 dari 956 pesan spam diklasifikasikan dengan benar. Dengan kata lain dengan menerapkan stop word removal pada jumlah perhitungan kata dalam suatu kalimat spam atau bukan tidak membantu akurasi.\n",
    "---"
   ]
  },
  {
   "cell_type": "markdown",
   "metadata": {},
   "source": [
    "## Part-of-Speech Tagging\n",
    "\n",
    "Bahasa memiliki struktur tata bahasa. Dalam banyak bahasa, kata-kata dapat dikategorikan terutama menjadi kata kerja, kata keterangan, kata benda, dan kata sifat. Tujuan dari langkah pemrosesan ini adalah untuk mengambil sepotong teks dan memberi tag pada setiap token kata dengan pengenal POS (Part-of-Speech). Ini hanya masuk akal dalam kasus token tingkat kata.\n",
    "\n",
    "Biasanya, Penn Treebank POS tagger digunakan oleh perpustakaan termasuk StanfordNLP untuk memberi tag pada kata-kata. Secara konvensional, tag POS ditambahkan dengan menggunakan kode setelah kata, dipisahkan oleh garis miring. Sebagai contoh, NNS adalah tag untuk kata benda jamak. Jika kata \"goats\" ditemukan, itu akan diwakili sebagai \"goats/NNS\". Dalam perpustakaan StandfordNLP, Universal POS (UPOS) tags digunakan. Berikut adalah tabel dari tag UPOS yang paling umum:\n",
    "\n",
    "| Tag    | Kelas     | Contoh                |\n",
    "|--------|-----------|-----------------------|\n",
    "| ADJ    | Adjektiva | besar, cepat          |\n",
    "| ADP    | Adposisi  | di, dengan            |\n",
    "| ADV    | Adverbia  | sangat, cepat          |\n",
    "| AUX    | Auksilier | telah, akan           |\n",
    "| CCONJ  | Konjungsi Koordinatif | dan, atau  |\n",
    "| INTJ   | Interjeksi| oh, wow               |\n",
    "| NOUN   | Nomina    | buku, rumah           |\n",
    "| NUM    | Numeralia | satu, dua             |\n",
    "| DET    | Determiner| ini, itu              |\n",
    "| PART   | Partikel  | lah, pun              |\n",
    "| PRON   | Pronomina | saya, kamu            |\n",
    "| PROPN  | Nama Diri | Jakarta, John         |\n",
    "| PUNCT  | Tanda Baca| ., !                  |\n",
    "| SCONJ  | Konjungsi Subordinatif | karena, jika|\n",
    "| SYM    | Simbol    | $, %, +               |\n",
    "| VERB   | Verba     | makan, tidur          |\n",
    "| X      | Lainnya   | e.g., etc.            |\n",
    "\n",
    "#### Penjelasan\n",
    "\n",
    "Bayangkan kamu sedang membaca sebuah cerita dan ingin tahu fungsi setiap kata dalam kalimat. Misalnya:\n",
    "\n",
    "- **ADJ (Adjektiva)**: Kata sifat yang menggambarkan sesuatu. Contoh: \"besar\", \"cepat\".\n",
    "- **ADP (Adposisi)**: Kata yang menunjukkan hubungan antara kata benda lainnya. Contoh: \"di\", \"dengan\".\n",
    "- **ADV (Adverbia)**: Kata keterangan yang menjelaskan bagaimana sesuatu dilakukan. Contoh: \"sangat\", \"cepat\".\n",
    "- **AUX (Auksilier)**: Kata bantu yang membantu kata kerja utama. Contoh: \"telah\", \"akan\".\n",
    "- **CCONJ (Konjungsi Koordinatif)**: Kata penghubung yang menghubungkan dua bagian kalimat yang setara. Contoh: \"dan\", \"atau\".\n",
    "- **INTJ (Interjeksi)**: Kata seru yang mengekspresikan emosi. Contoh: \"oh\", \"wow\".\n",
    "- **NOUN (Nomina)**: Kata benda yang menyebutkan orang, tempat, atau benda. Contoh: \"buku\", \"rumah\".\n",
    "- **NUM (Numeralia)**: Angka atau jumlah. Contoh: \"satu\", \"dua\".\n",
    "- **DET (Determiner)**: Kata penentu yang menunjukkan spesifik atau umum dari suatu benda. Contoh: \"ini\", \"itu\".\n",
    "- **PART (Partikel)**: Kata kecil yang sering digunakan untuk menekankan atau menghubungkan kalimat. Contoh: \"lah\", \"pun\".\n",
    "- **PRON (Pronomina)**: Kata ganti yang menggantikan nama orang atau benda. Contoh: \"saya\", \"kamu\".\n",
    "- **PROPN (Nama Diri)**: Nama khusus untuk orang atau tempat tertentu. Contoh: \"Jakarta\", \"John\".\n",
    "- **PUNCT (Tanda Baca)**: Tanda baca seperti titik atau tanda seru. Contoh: \".\", \"!\".\n",
    "- **SCONJ (Konjungsi Subordinatif)**: Kata penghubung yang menghubungkan kalimat utama dengan kalimat subordinat. Contoh: \"karena\", \"jika\".\n",
    "- **SYM (Simbol)**: Simbol matematika atau lainnya. Contoh: \"$\", \"%\", \"+\".\n",
    "- **VERB (Verba)**: Kata kerja yang menunjukkan tindakan atau keadaan. Contoh: \"makan\", \"tidur\".\n",
    "- **X (Lainnya)**: Kategori lain yang tidak termasuk dalam kategori di atas."
   ]
  },
  {
   "cell_type": "code",
   "execution_count": 59,
   "metadata": {},
   "outputs": [
    {
     "name": "stdout",
     "output_type": "stream",
     "text": [
      "Yo:\t VERB\n",
      "you:\t PRON\n",
      "around:\t ADV\n",
      "A:\t DET\n",
      "friend:\t NOUN\n",
      "of:\t ADP\n",
      "mine:\t NOUN\n",
      "'s:\t PART\n",
      "lookin:\t NOUN\n"
     ]
    }
   ],
   "source": [
    "txt = \"Yo you around? A friend of mine's lookin.\"\n",
    "doc = EN_NLP(txt)\n",
    "\n",
    "for sentence in doc.sents:\n",
    "    for word in sentence:\n",
    "        if word.pos_ not in ['PUNCT', 'SYM']:\n",
    "            print(f'{word}:\\t {word.pos_}')"
   ]
  },
  {
   "cell_type": "markdown",
   "metadata": {},
   "source": [
    "Sekarang kita akan melanjutkan pembahasan tentang Part-of-Speech (POS) tagging. Bayangkan kita sedang mencoba memahami bagaimana komputer bisa mengerti teks seperti kita membaca buku.\n",
    "\n",
    "#### Ketidaksempurnaan Model\n",
    "Pertama, penting untuk diingat bahwa model seperti Spacy tidak selalu sempurna. Misalnya, kata \"lookin\" bisa saja dikategorikan sebagai kata benda (noun) padahal seharusnya bukan. Ini adalah hal yang wajar dan perlu kita perhatikan saat membangun model menggunakan fitur-fitur ini.\n",
    "\n",
    "#### Fitur Tambahan dari POS Tagging\n",
    "Ada beberapa fitur tambahan yang bisa kita buat menggunakan POS tagging:\n",
    "\n",
    "1. **Menghitung Kata Tanpa Tanda Baca**:\n",
    "   - Saat ini, metode `word_counts()` menghitung semua kata tanpa memperhatikan tanda baca. Kita bisa memperbarui metode ini agar tidak menghitung tanda baca sebagai kata.\n",
    "\n",
    "2. **Proporsi Elemen Gramatikal**:\n",
    "   - Kita bisa membuat fitur yang melihat proporsi berbagai jenis elemen gramatikal dalam pesan. Misalnya, berapa banyak kata kerja, kata benda, atau tanda baca dalam sebuah pesan.\n",
    "\n",
    "3. **Hipotesis Spam**:\n",
    "   - Salah satu hipotesis yang bisa kita uji adalah apakah pesan spam menggunakan lebih banyak tanda baca dan simbol. Kita bisa menambahkan fitur untuk menunjukkan persentase simbol dan tanda baca dalam sebuah pesan.\n",
    "\n",
    "#### Langkah Selanjutnya\n",
    "Sebagai langkah berikutnya, mari kita perbarui metode `word_counts()` dan tambahkan fitur untuk menunjukkan persentase simbol dan tanda baca dalam sebuah pesan. Fitur-fitur lain terkait jenis elemen gramatikal juga bisa dibuat, dan ini adalah tugas yang bisa kamu coba implementasikan sendiri."
   ]
  },
  {
   "cell_type": "code",
   "execution_count": 64,
   "metadata": {},
   "outputs": [],
   "source": [
    "df_copy = df.copy(deep=True)\n",
    "lb = LabelBinarizer()\n",
    "\n",
    "df_copy['label'] = lb.fit_transform(df_copy['label'])\n",
    "df_copy['capitals'] = df_copy['message'].apply(num_capitals)\n",
    "df_copy['punctuation'] = df_copy['message'].apply(num_punctuation)\n",
    "df_copy['length'] = df_copy['message'].apply(message_length)\n",
    "df_copy['words'] = df_copy['message'].apply(lambda text: word_counts_v2(text, EN_NLP, EN_SW))\n",
    "\n",
    "results = df_copy['message'].apply(lambda text: word_counts_no_punct(text, pipeline=EN_NLP, stopwords=EN_SW))\n",
    "df_copy['words_nopunct'], df_copy['punct_proportion'] = zip(*results)"
   ]
  },
  {
   "cell_type": "code",
   "execution_count": 74,
   "metadata": {},
   "outputs": [
    {
     "data": {
      "text/html": [
       "<div>\n",
       "<style scoped>\n",
       "    .dataframe tbody tr th:only-of-type {\n",
       "        vertical-align: middle;\n",
       "    }\n",
       "\n",
       "    .dataframe tbody tr th {\n",
       "        vertical-align: top;\n",
       "    }\n",
       "\n",
       "    .dataframe thead th {\n",
       "        text-align: right;\n",
       "    }\n",
       "</style>\n",
       "<table border=\"1\" class=\"dataframe\">\n",
       "  <thead>\n",
       "    <tr style=\"text-align: right;\">\n",
       "      <th></th>\n",
       "      <th>label</th>\n",
       "      <th>message</th>\n",
       "      <th>capitals</th>\n",
       "      <th>punctuation</th>\n",
       "      <th>length</th>\n",
       "      <th>words</th>\n",
       "      <th>words_nopunct</th>\n",
       "      <th>punct_proportion</th>\n",
       "    </tr>\n",
       "  </thead>\n",
       "  <tbody>\n",
       "    <tr>\n",
       "      <th>0</th>\n",
       "      <td>0</td>\n",
       "      <td>Go until jurong point, crazy.. Available only ...</td>\n",
       "      <td>3</td>\n",
       "      <td>9</td>\n",
       "      <td>111</td>\n",
       "      <td>11</td>\n",
       "      <td>7</td>\n",
       "      <td>0.166667</td>\n",
       "    </tr>\n",
       "    <tr>\n",
       "      <th>1</th>\n",
       "      <td>0</td>\n",
       "      <td>Ok lar... Joking wif u oni...</td>\n",
       "      <td>2</td>\n",
       "      <td>6</td>\n",
       "      <td>29</td>\n",
       "      <td>6</td>\n",
       "      <td>4</td>\n",
       "      <td>0.250000</td>\n",
       "    </tr>\n",
       "    <tr>\n",
       "      <th>2</th>\n",
       "      <td>1</td>\n",
       "      <td>Free entry in 2 a wkly comp to win FA Cup fina...</td>\n",
       "      <td>10</td>\n",
       "      <td>6</td>\n",
       "      <td>155</td>\n",
       "      <td>23</td>\n",
       "      <td>22</td>\n",
       "      <td>0.032258</td>\n",
       "    </tr>\n",
       "    <tr>\n",
       "      <th>3</th>\n",
       "      <td>0</td>\n",
       "      <td>U dun say so early hor... U c already then say...</td>\n",
       "      <td>2</td>\n",
       "      <td>6</td>\n",
       "      <td>49</td>\n",
       "      <td>4</td>\n",
       "      <td>2</td>\n",
       "      <td>0.153846</td>\n",
       "    </tr>\n",
       "    <tr>\n",
       "      <th>4</th>\n",
       "      <td>0</td>\n",
       "      <td>Nah I don't think he goes to usf, he lives aro...</td>\n",
       "      <td>2</td>\n",
       "      <td>2</td>\n",
       "      <td>61</td>\n",
       "      <td>5</td>\n",
       "      <td>4</td>\n",
       "      <td>0.066667</td>\n",
       "    </tr>\n",
       "  </tbody>\n",
       "</table>\n",
       "</div>"
      ],
      "text/plain": [
       "   label                                            message  capitals  \\\n",
       "0      0  Go until jurong point, crazy.. Available only ...         3   \n",
       "1      0                      Ok lar... Joking wif u oni...         2   \n",
       "2      1  Free entry in 2 a wkly comp to win FA Cup fina...        10   \n",
       "3      0  U dun say so early hor... U c already then say...         2   \n",
       "4      0  Nah I don't think he goes to usf, he lives aro...         2   \n",
       "\n",
       "   punctuation  length  words  words_nopunct  punct_proportion  \n",
       "0            9     111     11              7          0.166667  \n",
       "1            6      29      6              4          0.250000  \n",
       "2            6     155     23             22          0.032258  \n",
       "3            6      49      4              2          0.153846  \n",
       "4            2      61      5              4          0.066667  "
      ]
     },
     "execution_count": 74,
     "metadata": {},
     "output_type": "execute_result"
    }
   ],
   "source": [
    "df_copy[:5]"
   ]
  },
  {
   "cell_type": "code",
   "execution_count": 75,
   "metadata": {},
   "outputs": [
    {
     "name": "stdout",
     "output_type": "stream",
     "text": [
      "Ham dataframe statistic\n"
     ]
    },
    {
     "data": {
      "text/html": [
       "<div>\n",
       "<style scoped>\n",
       "    .dataframe tbody tr th:only-of-type {\n",
       "        vertical-align: middle;\n",
       "    }\n",
       "\n",
       "    .dataframe tbody tr th {\n",
       "        vertical-align: top;\n",
       "    }\n",
       "\n",
       "    .dataframe thead th {\n",
       "        text-align: right;\n",
       "    }\n",
       "</style>\n",
       "<table border=\"1\" class=\"dataframe\">\n",
       "  <thead>\n",
       "    <tr style=\"text-align: right;\">\n",
       "      <th></th>\n",
       "      <th>label</th>\n",
       "      <th>capitals</th>\n",
       "      <th>punctuation</th>\n",
       "      <th>length</th>\n",
       "      <th>words</th>\n",
       "      <th>words_nopunct</th>\n",
       "      <th>punct_proportion</th>\n",
       "    </tr>\n",
       "  </thead>\n",
       "  <tbody>\n",
       "    <tr>\n",
       "      <th>count</th>\n",
       "      <td>4825.0</td>\n",
       "      <td>4825.000000</td>\n",
       "      <td>4825.000000</td>\n",
       "      <td>4825.000000</td>\n",
       "      <td>4825.000000</td>\n",
       "      <td>4825.000000</td>\n",
       "      <td>4825.000000</td>\n",
       "    </tr>\n",
       "    <tr>\n",
       "      <th>mean</th>\n",
       "      <td>0.0</td>\n",
       "      <td>4.110466</td>\n",
       "      <td>3.928705</td>\n",
       "      <td>71.482487</td>\n",
       "      <td>7.933886</td>\n",
       "      <td>5.536580</td>\n",
       "      <td>0.136657</td>\n",
       "    </tr>\n",
       "    <tr>\n",
       "      <th>std</th>\n",
       "      <td>0.0</td>\n",
       "      <td>10.848116</td>\n",
       "      <td>4.692083</td>\n",
       "      <td>58.440652</td>\n",
       "      <td>7.368244</td>\n",
       "      <td>5.077464</td>\n",
       "      <td>0.089366</td>\n",
       "    </tr>\n",
       "    <tr>\n",
       "      <th>min</th>\n",
       "      <td>0.0</td>\n",
       "      <td>0.000000</td>\n",
       "      <td>0.000000</td>\n",
       "      <td>2.000000</td>\n",
       "      <td>0.000000</td>\n",
       "      <td>0.000000</td>\n",
       "      <td>0.000000</td>\n",
       "    </tr>\n",
       "    <tr>\n",
       "      <th>25%</th>\n",
       "      <td>0.0</td>\n",
       "      <td>1.000000</td>\n",
       "      <td>1.000000</td>\n",
       "      <td>33.000000</td>\n",
       "      <td>4.000000</td>\n",
       "      <td>2.000000</td>\n",
       "      <td>0.083333</td>\n",
       "    </tr>\n",
       "    <tr>\n",
       "      <th>50%</th>\n",
       "      <td>0.0</td>\n",
       "      <td>2.000000</td>\n",
       "      <td>3.000000</td>\n",
       "      <td>52.000000</td>\n",
       "      <td>6.000000</td>\n",
       "      <td>4.000000</td>\n",
       "      <td>0.133333</td>\n",
       "    </tr>\n",
       "    <tr>\n",
       "      <th>75%</th>\n",
       "      <td>0.0</td>\n",
       "      <td>3.000000</td>\n",
       "      <td>5.000000</td>\n",
       "      <td>93.000000</td>\n",
       "      <td>10.000000</td>\n",
       "      <td>7.000000</td>\n",
       "      <td>0.181818</td>\n",
       "    </tr>\n",
       "    <tr>\n",
       "      <th>max</th>\n",
       "      <td>0.0</td>\n",
       "      <td>138.000000</td>\n",
       "      <td>133.000000</td>\n",
       "      <td>910.000000</td>\n",
       "      <td>147.000000</td>\n",
       "      <td>72.000000</td>\n",
       "      <td>1.000000</td>\n",
       "    </tr>\n",
       "  </tbody>\n",
       "</table>\n",
       "</div>"
      ],
      "text/plain": [
       "        label     capitals  punctuation       length        words  \\\n",
       "count  4825.0  4825.000000  4825.000000  4825.000000  4825.000000   \n",
       "mean      0.0     4.110466     3.928705    71.482487     7.933886   \n",
       "std       0.0    10.848116     4.692083    58.440652     7.368244   \n",
       "min       0.0     0.000000     0.000000     2.000000     0.000000   \n",
       "25%       0.0     1.000000     1.000000    33.000000     4.000000   \n",
       "50%       0.0     2.000000     3.000000    52.000000     6.000000   \n",
       "75%       0.0     3.000000     5.000000    93.000000    10.000000   \n",
       "max       0.0   138.000000   133.000000   910.000000   147.000000   \n",
       "\n",
       "       words_nopunct  punct_proportion  \n",
       "count    4825.000000       4825.000000  \n",
       "mean        5.536580          0.136657  \n",
       "std         5.077464          0.089366  \n",
       "min         0.000000          0.000000  \n",
       "25%         2.000000          0.083333  \n",
       "50%         4.000000          0.133333  \n",
       "75%         7.000000          0.181818  \n",
       "max        72.000000          1.000000  "
      ]
     },
     "execution_count": 75,
     "metadata": {},
     "output_type": "execute_result"
    }
   ],
   "source": [
    "print('Ham dataframe statistic')\n",
    "df_copy[df_copy['label'] == 0].describe()"
   ]
  },
  {
   "cell_type": "code",
   "execution_count": 76,
   "metadata": {},
   "outputs": [
    {
     "name": "stdout",
     "output_type": "stream",
     "text": [
      "Spam dataframe statistic\n"
     ]
    },
    {
     "data": {
      "text/html": [
       "<div>\n",
       "<style scoped>\n",
       "    .dataframe tbody tr th:only-of-type {\n",
       "        vertical-align: middle;\n",
       "    }\n",
       "\n",
       "    .dataframe tbody tr th {\n",
       "        vertical-align: top;\n",
       "    }\n",
       "\n",
       "    .dataframe thead th {\n",
       "        text-align: right;\n",
       "    }\n",
       "</style>\n",
       "<table border=\"1\" class=\"dataframe\">\n",
       "  <thead>\n",
       "    <tr style=\"text-align: right;\">\n",
       "      <th></th>\n",
       "      <th>label</th>\n",
       "      <th>capitals</th>\n",
       "      <th>punctuation</th>\n",
       "      <th>length</th>\n",
       "      <th>words</th>\n",
       "      <th>words_nopunct</th>\n",
       "      <th>punct_proportion</th>\n",
       "    </tr>\n",
       "  </thead>\n",
       "  <tbody>\n",
       "    <tr>\n",
       "      <th>count</th>\n",
       "      <td>747.0</td>\n",
       "      <td>747.00000</td>\n",
       "      <td>747.000000</td>\n",
       "      <td>747.000000</td>\n",
       "      <td>747.000000</td>\n",
       "      <td>747.000000</td>\n",
       "      <td>747.000000</td>\n",
       "    </tr>\n",
       "    <tr>\n",
       "      <th>mean</th>\n",
       "      <td>1.0</td>\n",
       "      <td>15.46988</td>\n",
       "      <td>5.499331</td>\n",
       "      <td>138.670683</td>\n",
       "      <td>18.248996</td>\n",
       "      <td>14.127175</td>\n",
       "      <td>0.137495</td>\n",
       "    </tr>\n",
       "    <tr>\n",
       "      <th>std</th>\n",
       "      <td>0.0</td>\n",
       "      <td>12.30576</td>\n",
       "      <td>3.374870</td>\n",
       "      <td>28.873603</td>\n",
       "      <td>6.094617</td>\n",
       "      <td>4.693118</td>\n",
       "      <td>0.070607</td>\n",
       "    </tr>\n",
       "    <tr>\n",
       "      <th>min</th>\n",
       "      <td>1.0</td>\n",
       "      <td>0.00000</td>\n",
       "      <td>0.000000</td>\n",
       "      <td>13.000000</td>\n",
       "      <td>2.000000</td>\n",
       "      <td>2.000000</td>\n",
       "      <td>0.000000</td>\n",
       "    </tr>\n",
       "    <tr>\n",
       "      <th>25%</th>\n",
       "      <td>1.0</td>\n",
       "      <td>7.00000</td>\n",
       "      <td>3.000000</td>\n",
       "      <td>133.000000</td>\n",
       "      <td>14.000000</td>\n",
       "      <td>11.000000</td>\n",
       "      <td>0.093750</td>\n",
       "    </tr>\n",
       "    <tr>\n",
       "      <th>50%</th>\n",
       "      <td>1.0</td>\n",
       "      <td>14.00000</td>\n",
       "      <td>5.000000</td>\n",
       "      <td>149.000000</td>\n",
       "      <td>18.000000</td>\n",
       "      <td>14.000000</td>\n",
       "      <td>0.133333</td>\n",
       "    </tr>\n",
       "    <tr>\n",
       "      <th>75%</th>\n",
       "      <td>1.0</td>\n",
       "      <td>21.00000</td>\n",
       "      <td>8.000000</td>\n",
       "      <td>157.000000</td>\n",
       "      <td>22.500000</td>\n",
       "      <td>17.000000</td>\n",
       "      <td>0.181818</td>\n",
       "    </tr>\n",
       "    <tr>\n",
       "      <th>max</th>\n",
       "      <td>1.0</td>\n",
       "      <td>128.00000</td>\n",
       "      <td>25.000000</td>\n",
       "      <td>223.000000</td>\n",
       "      <td>38.000000</td>\n",
       "      <td>29.000000</td>\n",
       "      <td>0.454545</td>\n",
       "    </tr>\n",
       "  </tbody>\n",
       "</table>\n",
       "</div>"
      ],
      "text/plain": [
       "       label   capitals  punctuation      length       words  words_nopunct  \\\n",
       "count  747.0  747.00000   747.000000  747.000000  747.000000     747.000000   \n",
       "mean     1.0   15.46988     5.499331  138.670683   18.248996      14.127175   \n",
       "std      0.0   12.30576     3.374870   28.873603    6.094617       4.693118   \n",
       "min      1.0    0.00000     0.000000   13.000000    2.000000       2.000000   \n",
       "25%      1.0    7.00000     3.000000  133.000000   14.000000      11.000000   \n",
       "50%      1.0   14.00000     5.000000  149.000000   18.000000      14.000000   \n",
       "75%      1.0   21.00000     8.000000  157.000000   22.500000      17.000000   \n",
       "max      1.0  128.00000    25.000000  223.000000   38.000000      29.000000   \n",
       "\n",
       "       punct_proportion  \n",
       "count        747.000000  \n",
       "mean           0.137495  \n",
       "std            0.070607  \n",
       "min            0.000000  \n",
       "25%            0.093750  \n",
       "50%            0.133333  \n",
       "75%            0.181818  \n",
       "max            0.454545  "
      ]
     },
     "execution_count": 76,
     "metadata": {},
     "output_type": "execute_result"
    }
   ],
   "source": [
    "print('Spam dataframe statistic')\n",
    "df_copy[df_copy['label'] == 1].describe()"
   ]
  },
  {
   "cell_type": "code",
   "execution_count": 77,
   "metadata": {},
   "outputs": [
    {
     "name": "stdout",
     "output_type": "stream",
     "text": [
      "=================================== Training Dataset ===================================\n",
      "Info data: <_TakeDataset element_spec=(TensorSpec(shape=(6,), dtype=tf.float32, name=None), TensorSpec(shape=(), dtype=tf.uint8, name=None))>\n",
      "Training Split: 0.8\n",
      "Number of data: 7720\n",
      "AFTER BATCH: 32\n",
      "Number of data: 242\n",
      "=================================== Validation Dataset ===================================\n",
      "Info data: <_SkipDataset element_spec=(TensorSpec(shape=(6,), dtype=tf.float32, name=None), TensorSpec(shape=(), dtype=tf.uint8, name=None))>\n",
      "Validation Split: 0.2\n",
      "Number of data: 1930\n",
      "AFTER BATCH: 32\n",
      "Number of data: 61\n"
     ]
    }
   ],
   "source": [
    "X = df_copy.drop(columns=['label', 'message'])\n",
    "y = df_copy['label']\n",
    "\n",
    "smote = SMOTE(random_state=42)\n",
    "X_resampled, y_resampled = smote.fit_resample(X, y)\n",
    "\n",
    "SMSSpamCollection_tf_data = tf.data.Dataset.from_tensor_slices((X_resampled, y_resampled))\n",
    "\n",
    "SMSSpamCollection_tf_data_scaled = SMSSpamCollection_tf_data.map( \n",
    "    map_func=lambda features, label: minmax_scaling_tf(features, label, feature_range=(0, 1)),\n",
    "    num_parallel_calls=tf.data.AUTOTUNE\n",
    ")\n",
    "SMSSpamCollection_tf_data_cached = SMSSpamCollection_tf_data_scaled.cache()\n",
    "\n",
    "splitter = DatasetSplitter(batch_size=32, train_split=0.8)\n",
    "\n",
    "SMSSpamCollection_tf_data_train, SMSSpamCollection_tf_data_valid = splitter.split_and_prepare(SMSSpamCollection_tf_data_cached)"
   ]
  },
  {
   "cell_type": "code",
   "execution_count": 89,
   "metadata": {},
   "outputs": [
    {
     "data": {
      "text/html": [
       "<pre style=\"white-space:pre;overflow-x:auto;line-height:normal;font-family:Menlo,'DejaVu Sans Mono',consolas,'Courier New',monospace\"><span style=\"font-weight: bold\">Model: \"functional_9\"</span>\n",
       "</pre>\n"
      ],
      "text/plain": [
       "\u001b[1mModel: \"functional_9\"\u001b[0m\n"
      ]
     },
     "metadata": {},
     "output_type": "display_data"
    },
    {
     "data": {
      "text/html": [
       "<pre style=\"white-space:pre;overflow-x:auto;line-height:normal;font-family:Menlo,'DejaVu Sans Mono',consolas,'Courier New',monospace\">┏━━━━━━━━━━━━━━━━━━━━━━━━━━━━━━━━━┳━━━━━━━━━━━━━━━━━━━━━━━━┳━━━━━━━━━━━━━━━┓\n",
       "┃<span style=\"font-weight: bold\"> Layer (type)                    </span>┃<span style=\"font-weight: bold\"> Output Shape           </span>┃<span style=\"font-weight: bold\">       Param # </span>┃\n",
       "┡━━━━━━━━━━━━━━━━━━━━━━━━━━━━━━━━━╇━━━━━━━━━━━━━━━━━━━━━━━━╇━━━━━━━━━━━━━━━┩\n",
       "│ input_layer_9 (<span style=\"color: #0087ff; text-decoration-color: #0087ff\">InputLayer</span>)      │ (<span style=\"color: #00d7ff; text-decoration-color: #00d7ff\">None</span>, <span style=\"color: #00af00; text-decoration-color: #00af00\">6</span>)              │             <span style=\"color: #00af00; text-decoration-color: #00af00\">0</span> │\n",
       "├─────────────────────────────────┼────────────────────────┼───────────────┤\n",
       "│ dense_18 (<span style=\"color: #0087ff; text-decoration-color: #0087ff\">Dense</span>)                │ (<span style=\"color: #00d7ff; text-decoration-color: #00d7ff\">None</span>, <span style=\"color: #00af00; text-decoration-color: #00af00\">12</span>)             │            <span style=\"color: #00af00; text-decoration-color: #00af00\">84</span> │\n",
       "├─────────────────────────────────┼────────────────────────┼───────────────┤\n",
       "│ dense_19 (<span style=\"color: #0087ff; text-decoration-color: #0087ff\">Dense</span>)                │ (<span style=\"color: #00d7ff; text-decoration-color: #00d7ff\">None</span>, <span style=\"color: #00af00; text-decoration-color: #00af00\">1</span>)              │            <span style=\"color: #00af00; text-decoration-color: #00af00\">13</span> │\n",
       "└─────────────────────────────────┴────────────────────────┴───────────────┘\n",
       "</pre>\n"
      ],
      "text/plain": [
       "┏━━━━━━━━━━━━━━━━━━━━━━━━━━━━━━━━━┳━━━━━━━━━━━━━━━━━━━━━━━━┳━━━━━━━━━━━━━━━┓\n",
       "┃\u001b[1m \u001b[0m\u001b[1mLayer (type)                   \u001b[0m\u001b[1m \u001b[0m┃\u001b[1m \u001b[0m\u001b[1mOutput Shape          \u001b[0m\u001b[1m \u001b[0m┃\u001b[1m \u001b[0m\u001b[1m      Param #\u001b[0m\u001b[1m \u001b[0m┃\n",
       "┡━━━━━━━━━━━━━━━━━━━━━━━━━━━━━━━━━╇━━━━━━━━━━━━━━━━━━━━━━━━╇━━━━━━━━━━━━━━━┩\n",
       "│ input_layer_9 (\u001b[38;5;33mInputLayer\u001b[0m)      │ (\u001b[38;5;45mNone\u001b[0m, \u001b[38;5;34m6\u001b[0m)              │             \u001b[38;5;34m0\u001b[0m │\n",
       "├─────────────────────────────────┼────────────────────────┼───────────────┤\n",
       "│ dense_18 (\u001b[38;5;33mDense\u001b[0m)                │ (\u001b[38;5;45mNone\u001b[0m, \u001b[38;5;34m12\u001b[0m)             │            \u001b[38;5;34m84\u001b[0m │\n",
       "├─────────────────────────────────┼────────────────────────┼───────────────┤\n",
       "│ dense_19 (\u001b[38;5;33mDense\u001b[0m)                │ (\u001b[38;5;45mNone\u001b[0m, \u001b[38;5;34m1\u001b[0m)              │            \u001b[38;5;34m13\u001b[0m │\n",
       "└─────────────────────────────────┴────────────────────────┴───────────────┘\n"
      ]
     },
     "metadata": {},
     "output_type": "display_data"
    },
    {
     "data": {
      "text/html": [
       "<pre style=\"white-space:pre;overflow-x:auto;line-height:normal;font-family:Menlo,'DejaVu Sans Mono',consolas,'Courier New',monospace\"><span style=\"font-weight: bold\"> Total params: </span><span style=\"color: #00af00; text-decoration-color: #00af00\">97</span> (388.00 B)\n",
       "</pre>\n"
      ],
      "text/plain": [
       "\u001b[1m Total params: \u001b[0m\u001b[38;5;34m97\u001b[0m (388.00 B)\n"
      ]
     },
     "metadata": {},
     "output_type": "display_data"
    },
    {
     "data": {
      "text/html": [
       "<pre style=\"white-space:pre;overflow-x:auto;line-height:normal;font-family:Menlo,'DejaVu Sans Mono',consolas,'Courier New',monospace\"><span style=\"font-weight: bold\"> Trainable params: </span><span style=\"color: #00af00; text-decoration-color: #00af00\">97</span> (388.00 B)\n",
       "</pre>\n"
      ],
      "text/plain": [
       "\u001b[1m Trainable params: \u001b[0m\u001b[38;5;34m97\u001b[0m (388.00 B)\n"
      ]
     },
     "metadata": {},
     "output_type": "display_data"
    },
    {
     "data": {
      "text/html": [
       "<pre style=\"white-space:pre;overflow-x:auto;line-height:normal;font-family:Menlo,'DejaVu Sans Mono',consolas,'Courier New',monospace\"><span style=\"font-weight: bold\"> Non-trainable params: </span><span style=\"color: #00af00; text-decoration-color: #00af00\">0</span> (0.00 B)\n",
       "</pre>\n"
      ],
      "text/plain": [
       "\u001b[1m Non-trainable params: \u001b[0m\u001b[38;5;34m0\u001b[0m (0.00 B)\n"
      ]
     },
     "metadata": {},
     "output_type": "display_data"
    }
   ],
   "source": [
    "my_model=SpamLDetectionModel(\n",
    "    input_shape=INPUT_SHAPE_MODEL_V4, \n",
    "    num_classes=NUM_LABEL, \n",
    "    optimizer=tf.keras.optimizers.Adam(learning_rate=0.001),\n",
    "    loss=LOSS,\n",
    "    metrics=METRICS\n",
    ")\n",
    "my_model.model.summary()"
   ]
  },
  {
   "cell_type": "code",
   "execution_count": 90,
   "metadata": {},
   "outputs": [
    {
     "name": "stdout",
     "output_type": "stream",
     "text": [
      "Epoch 1/30\n",
      "\u001b[1m242/242\u001b[0m \u001b[32m━━━━━━━━━━━━━━━━━━━━\u001b[0m\u001b[37m\u001b[0m \u001b[1m1s\u001b[0m 2ms/step - accuracy: 0.5454 - loss: 0.6914 - val_accuracy: 0.5161 - val_loss: 0.6798\n",
      "Epoch 2/30\n",
      "\u001b[1m242/242\u001b[0m \u001b[32m━━━━━━━━━━━━━━━━━━━━\u001b[0m\u001b[37m\u001b[0m \u001b[1m0s\u001b[0m 2ms/step - accuracy: 0.7252 - loss: 0.6752 - val_accuracy: 0.7865 - val_loss: 0.6591\n",
      "Epoch 3/30\n",
      "\u001b[1m242/242\u001b[0m \u001b[32m━━━━━━━━━━━━━━━━━━━━\u001b[0m\u001b[37m\u001b[0m \u001b[1m0s\u001b[0m 2ms/step - accuracy: 0.7718 - loss: 0.6555 - val_accuracy: 0.7870 - val_loss: 0.6320\n",
      "Epoch 4/30\n",
      "\u001b[1m242/242\u001b[0m \u001b[32m━━━━━━━━━━━━━━━━━━━━\u001b[0m\u001b[37m\u001b[0m \u001b[1m0s\u001b[0m 2ms/step - accuracy: 0.7854 - loss: 0.6224 - val_accuracy: 0.7813 - val_loss: 0.6040\n",
      "Epoch 5/30\n",
      "\u001b[1m242/242\u001b[0m \u001b[32m━━━━━━━━━━━━━━━━━━━━\u001b[0m\u001b[37m\u001b[0m \u001b[1m0s\u001b[0m 1ms/step - accuracy: 0.8021 - loss: 0.5903 - val_accuracy: 0.7938 - val_loss: 0.5773\n",
      "Epoch 6/30\n",
      "\u001b[1m242/242\u001b[0m \u001b[32m━━━━━━━━━━━━━━━━━━━━\u001b[0m\u001b[37m\u001b[0m \u001b[1m0s\u001b[0m 2ms/step - accuracy: 0.7932 - loss: 0.5630 - val_accuracy: 0.7865 - val_loss: 0.5582\n",
      "Epoch 7/30\n",
      "\u001b[1m242/242\u001b[0m \u001b[32m━━━━━━━━━━━━━━━━━━━━\u001b[0m\u001b[37m\u001b[0m \u001b[1m0s\u001b[0m 2ms/step - accuracy: 0.8101 - loss: 0.5378 - val_accuracy: 0.8052 - val_loss: 0.5347\n",
      "Epoch 8/30\n",
      "\u001b[1m242/242\u001b[0m \u001b[32m━━━━━━━━━━━━━━━━━━━━\u001b[0m\u001b[37m\u001b[0m \u001b[1m0s\u001b[0m 2ms/step - accuracy: 0.8079 - loss: 0.5232 - val_accuracy: 0.8005 - val_loss: 0.5192\n",
      "Epoch 9/30\n",
      "\u001b[1m242/242\u001b[0m \u001b[32m━━━━━━━━━━━━━━━━━━━━\u001b[0m\u001b[37m\u001b[0m \u001b[1m0s\u001b[0m 2ms/step - accuracy: 0.8062 - loss: 0.5086 - val_accuracy: 0.8078 - val_loss: 0.4846\n",
      "Epoch 10/30\n",
      "\u001b[1m242/242\u001b[0m \u001b[32m━━━━━━━━━━━━━━━━━━━━\u001b[0m\u001b[37m\u001b[0m \u001b[1m0s\u001b[0m 2ms/step - accuracy: 0.7995 - loss: 0.4991 - val_accuracy: 0.8047 - val_loss: 0.4839\n",
      "Epoch 11/30\n",
      "\u001b[1m242/242\u001b[0m \u001b[32m━━━━━━━━━━━━━━━━━━━━\u001b[0m\u001b[37m\u001b[0m \u001b[1m0s\u001b[0m 1ms/step - accuracy: 0.8003 - loss: 0.4943 - val_accuracy: 0.8155 - val_loss: 0.4713\n",
      "Epoch 12/30\n",
      "\u001b[1m242/242\u001b[0m \u001b[32m━━━━━━━━━━━━━━━━━━━━\u001b[0m\u001b[37m\u001b[0m \u001b[1m0s\u001b[0m 2ms/step - accuracy: 0.8103 - loss: 0.4690 - val_accuracy: 0.8098 - val_loss: 0.4544\n",
      "Epoch 13/30\n",
      "\u001b[1m242/242\u001b[0m \u001b[32m━━━━━━━━━━━━━━━━━━━━\u001b[0m\u001b[37m\u001b[0m \u001b[1m0s\u001b[0m 2ms/step - accuracy: 0.8109 - loss: 0.4607 - val_accuracy: 0.8218 - val_loss: 0.4456\n",
      "Epoch 14/30\n",
      "\u001b[1m242/242\u001b[0m \u001b[32m━━━━━━━━━━━━━━━━━━━━\u001b[0m\u001b[37m\u001b[0m \u001b[1m0s\u001b[0m 2ms/step - accuracy: 0.8024 - loss: 0.4618 - val_accuracy: 0.8119 - val_loss: 0.4420\n",
      "Epoch 15/30\n",
      "\u001b[1m242/242\u001b[0m \u001b[32m━━━━━━━━━━━━━━━━━━━━\u001b[0m\u001b[37m\u001b[0m \u001b[1m0s\u001b[0m 2ms/step - accuracy: 0.8085 - loss: 0.4420 - val_accuracy: 0.8067 - val_loss: 0.4522\n",
      "Epoch 16/30\n",
      "\u001b[1m242/242\u001b[0m \u001b[32m━━━━━━━━━━━━━━━━━━━━\u001b[0m\u001b[37m\u001b[0m \u001b[1m0s\u001b[0m 2ms/step - accuracy: 0.8137 - loss: 0.4285 - val_accuracy: 0.8124 - val_loss: 0.4419\n",
      "Epoch 17/30\n",
      "\u001b[1m242/242\u001b[0m \u001b[32m━━━━━━━━━━━━━━━━━━━━\u001b[0m\u001b[37m\u001b[0m \u001b[1m0s\u001b[0m 1ms/step - accuracy: 0.8055 - loss: 0.4372 - val_accuracy: 0.7948 - val_loss: 0.4488\n",
      "Epoch 18/30\n",
      "\u001b[1m242/242\u001b[0m \u001b[32m━━━━━━━━━━━━━━━━━━━━\u001b[0m\u001b[37m\u001b[0m \u001b[1m0s\u001b[0m 2ms/step - accuracy: 0.8108 - loss: 0.4248 - val_accuracy: 0.8171 - val_loss: 0.4282\n",
      "Epoch 19/30\n",
      "\u001b[1m242/242\u001b[0m \u001b[32m━━━━━━━━━━━━━━━━━━━━\u001b[0m\u001b[37m\u001b[0m \u001b[1m0s\u001b[0m 2ms/step - accuracy: 0.8183 - loss: 0.4180 - val_accuracy: 0.8223 - val_loss: 0.4211\n",
      "Epoch 20/30\n",
      "\u001b[1m242/242\u001b[0m \u001b[32m━━━━━━━━━━━━━━━━━━━━\u001b[0m\u001b[37m\u001b[0m \u001b[1m0s\u001b[0m 2ms/step - accuracy: 0.8187 - loss: 0.4117 - val_accuracy: 0.8233 - val_loss: 0.4100\n",
      "Epoch 21/30\n",
      "\u001b[1m242/242\u001b[0m \u001b[32m━━━━━━━━━━━━━━━━━━━━\u001b[0m\u001b[37m\u001b[0m \u001b[1m0s\u001b[0m 2ms/step - accuracy: 0.8174 - loss: 0.4141 - val_accuracy: 0.8166 - val_loss: 0.4189\n",
      "Epoch 22/30\n",
      "\u001b[1m242/242\u001b[0m \u001b[32m━━━━━━━━━━━━━━━━━━━━\u001b[0m\u001b[37m\u001b[0m \u001b[1m0s\u001b[0m 1ms/step - accuracy: 0.8154 - loss: 0.4151 - val_accuracy: 0.7995 - val_loss: 0.4352\n",
      "Epoch 23/30\n",
      "\u001b[1m242/242\u001b[0m \u001b[32m━━━━━━━━━━━━━━━━━━━━\u001b[0m\u001b[37m\u001b[0m \u001b[1m0s\u001b[0m 2ms/step - accuracy: 0.8178 - loss: 0.4117 - val_accuracy: 0.8171 - val_loss: 0.4251\n",
      "Epoch 24/30\n",
      "\u001b[1m242/242\u001b[0m \u001b[32m━━━━━━━━━━━━━━━━━━━━\u001b[0m\u001b[37m\u001b[0m \u001b[1m0s\u001b[0m 2ms/step - accuracy: 0.8238 - loss: 0.4097 - val_accuracy: 0.8150 - val_loss: 0.4172\n",
      "Epoch 25/30\n",
      "\u001b[1m242/242\u001b[0m \u001b[32m━━━━━━━━━━━━━━━━━━━━\u001b[0m\u001b[37m\u001b[0m \u001b[1m0s\u001b[0m 2ms/step - accuracy: 0.8186 - loss: 0.4115 - val_accuracy: 0.8373 - val_loss: 0.3917\n",
      "Epoch 26/30\n",
      "\u001b[1m242/242\u001b[0m \u001b[32m━━━━━━━━━━━━━━━━━━━━\u001b[0m\u001b[37m\u001b[0m \u001b[1m0s\u001b[0m 2ms/step - accuracy: 0.8175 - loss: 0.4140 - val_accuracy: 0.8264 - val_loss: 0.4076\n",
      "Epoch 27/30\n",
      "\u001b[1m242/242\u001b[0m \u001b[32m━━━━━━━━━━━━━━━━━━━━\u001b[0m\u001b[37m\u001b[0m \u001b[1m0s\u001b[0m 2ms/step - accuracy: 0.8244 - loss: 0.4080 - val_accuracy: 0.8295 - val_loss: 0.4014\n",
      "Epoch 28/30\n",
      "\u001b[1m242/242\u001b[0m \u001b[32m━━━━━━━━━━━━━━━━━━━━\u001b[0m\u001b[37m\u001b[0m \u001b[1m0s\u001b[0m 2ms/step - accuracy: 0.8202 - loss: 0.4080 - val_accuracy: 0.8249 - val_loss: 0.3983\n",
      "Epoch 29/30\n",
      "\u001b[1m242/242\u001b[0m \u001b[32m━━━━━━━━━━━━━━━━━━━━\u001b[0m\u001b[37m\u001b[0m \u001b[1m0s\u001b[0m 2ms/step - accuracy: 0.8253 - loss: 0.4005 - val_accuracy: 0.8275 - val_loss: 0.3887\n",
      "Epoch 30/30\n",
      "\u001b[1m242/242\u001b[0m \u001b[32m━━━━━━━━━━━━━━━━━━━━\u001b[0m\u001b[37m\u001b[0m \u001b[1m0s\u001b[0m 2ms/step - accuracy: 0.8213 - loss: 0.4044 - val_accuracy: 0.8187 - val_loss: 0.3985\n"
     ]
    }
   ],
   "source": [
    "history = my_model.train(\n",
    "    SMSSpamCollection_tf_data_train,\n",
    "    validation_data=SMSSpamCollection_tf_data_valid,\n",
    "    epochs=30,\n",
    ")"
   ]
  },
  {
   "cell_type": "code",
   "execution_count": 85,
   "metadata": {},
   "outputs": [
    {
     "data": {
      "image/png": "[encoded data removed]",
      "text/plain": [
       "<Figure size 1200x1000 with 2 Axes>"
      ]
     },
     "metadata": {},
     "output_type": "display_data"
    },
    {
     "name": "stdout",
     "output_type": "stream",
     "text": [
      "Classification Report:\n",
      "              precision    recall  f1-score   support\n",
      "\n",
      "         0.0       0.83      0.83      0.83       984\n",
      "         1.0       0.82      0.82      0.82       946\n",
      "\n",
      "    accuracy                           0.83      1930\n",
      "   macro avg       0.83      0.83      0.83      1930\n",
      "weighted avg       0.83      0.83      0.83      1930\n",
      "\n"
     ]
    }
   ],
   "source": [
    "evaluate_model(my_model.model, SMSSpamCollection_tf_data_valid, lb.classes_)"
   ]
  },
  {
   "cell_type": "markdown",
   "metadata": {},
   "source": [
    "---\n",
    "#### Setelah melalui Stopword removal model mengalami sedikit peningkatan akurasi, dengan menunjukkan bahwa 819 dari 971 pesan reguler (ham) diklasifikasikan dengan benar, sementara 775 dari 956 pesan spam diklasifikasikan dengan benar. Dengan kata lain dengan menerapkan POS tagging pada jumlah perhitungan kata dalam suatu kalimat spam atau bukan sedikit membantu akurasi.\n",
    "---"
   ]
  },
  {
   "cell_type": "markdown",
   "metadata": {},
   "source": [
    "## Stemming dan Lemmatization\n",
    "\n",
    "#### Apa itu Stemming dan Lemmatization?\n",
    "\n",
    "Dalam pemrosesan bahasa alami (Natural Language Processing atau NLP), kita sering menemui kata-kata yang memiliki berbagai bentuk tergantung pada penggunaannya. Misalnya, kata \"depend\" memiliki bentuk lain seperti \"depends\", \"depending\", \"depended\", dan \"dependent\". Variasi ini bisa disebabkan oleh perubahan waktu (tenses) atau bentuk kata lainnya.\n",
    "\n",
    "Untuk mengatasi variasi ini dan membuat analisis teks lebih efisien, kita menggunakan dua teknik utama: **stemming** dan **lemmatization**.\n",
    "\n",
    "#### Stemming\n",
    "\n",
    "**Stemming** adalah proses menghilangkan akhiran (suffix) dari kata untuk mendapatkan bentuk dasarnya. Teknik ini menggunakan aturan sederhana dan sering kali menghasilkan kata yang tidak selalu merupakan kata yang benar dalam bahasa tersebut. Contoh paling terkenal adalah **Porter Stemmer**, yang dikembangkan oleh Martin Porter pada tahun 1980.\n",
    "\n",
    "Contoh:\n",
    "- Kata \"running\" setelah stemming menjadi \"run\".\n",
    "- Kata \"happiness\" setelah stemming menjadi \"happi\".\n",
    "\n",
    "Kalimat asli: \n",
    "\"Stemming is aimed at reducing vocabulary and aid understanding of morphological processes.\"\n",
    "\n",
    "Setelah stemming dengan Porter Stemmer:\n",
    "\"Stem is aim at reduc vocabulari and aid understand of morpholog process.\"\n",
    "\n",
    "#### Lemmatization\n",
    "\n",
    "**Lemmatization** adalah proses yang lebih canggih dibandingkan stemming. Teknik ini menggunakan kamus dan analisis morfologi untuk mengubah kata ke bentuk dasarnya yang benar, yang disebut **lemma**. Lemmatization mempertimbangkan konteks dan bagian dari kata (part of speech) untuk menghasilkan kata dasar yang benar.\n",
    "\n",
    "Contoh:\n",
    "- Kata \"running\" setelah lemmatization menjadi \"run\".\n",
    "- Kata \"better\" setelah lemmatization menjadi \"good\".\n",
    "\n",
    "Kalimat asli: \n",
    "\"Lemmatization approaches this task in a more sophisticated manner, using vocabularies and morphological analysis of words.\"\n",
    "\n",
    "Setelah lemmatization:\n",
    "\"Lemmatization approach this task in a more sophisticated manner, use vocabulary and morphological analysis of word.\"\n",
    "\n",
    "#### Mengapa Ini Penting?\n",
    "\n",
    "Dengan menggunakan stemming atau lemmatization, kita bisa mengurangi ukuran kosakata yang perlu dianalisis dan meningkatkan akurasi pencocokan kata dalam dokumen. Misalnya, dalam bahasa Rusia, kata \"London\" bisa memiliki bentuk berbeda tergantung pada penggunaannya dalam kalimat. Dengan normalisasi menggunakan stemming atau lemmatization, semua bentuk kata \"London\" bisa dikenali sebagai satu entitas yang sama.\n",
    "\n",
    "#### Kesimpulan\n",
    "\n",
    "- **Stemming**: Teknik sederhana yang menghilangkan akhiran kata. Contoh: \"running\" menjadi \"run\".\n",
    "- **Lemmatization**: Teknik canggih yang mengubah kata ke bentuk dasarnya yang benar dengan mempertimbangkan konteks. Contoh: \"better\" menjadi \"good\".\n",
    "\n",
    "Kedua teknik ini membantu dalam mengurangi ukuran kosakata dan meningkatkan pemahaman teks dalam analisis bahasa alami."
   ]
  },
  {
   "cell_type": "code",
   "execution_count": 86,
   "metadata": {},
   "outputs": [
    {
     "name": "stdout",
     "output_type": "stream",
     "text": [
      "Stemming: --> : stemming\n",
      "is: --> : be\n",
      "aimed: --> : aim\n",
      "at: --> : at\n",
      "reducing: --> : reduce\n",
      "vocabulary: --> : vocabulary\n",
      "and: --> : and\n",
      "aid: --> : aid\n",
      "un: --> : un\n",
      "-: --> : -\n",
      "derstanding: --> : derstanding\n",
      "of: --> : of\n",
      "morphological: --> : morphological\n",
      "processes: --> : process\n",
      ".: --> : .\n",
      "This: --> : this\n",
      "helps: --> : help\n",
      "people: --> : people\n",
      "un: --> : un\n",
      "-: --> : -\n",
      "derstand: --> : derstand\n",
      "the: --> : the\n",
      "morphology: --> : morphology\n",
      "of: --> : of\n",
      "words: --> : word\n",
      "and: --> : and\n",
      "reduce: --> : reduce\n",
      "size: --> : size\n",
      "of: --> : of\n",
      "corpus: --> : corpus\n",
      ".: --> : .\n",
      "\n",
      "stemming/NOUN\tbe/AUX\taim/VERB\tat/ADP\treduce/VERB\tvocabulary/NOUN\tand/CCONJ\taid/VERB\tun/NOUN\t-/NOUN\tderstanding/NOUN\tof/ADP\tmorphological/ADJ\tprocess/NOUN\t./PUNCT\t\n",
      "this/PRON\thelp/VERB\tpeople/NOUN\tun/PROPN\t-/NOUN\tderstand/VERB\tthe/DET\tmorphology/NOUN\tof/ADP\tword/NOUN\tand/CCONJ\treduce/VERB\tsize/NOUN\tof/ADP\tcorpus/PROPN\t./PUNCT\t\n",
      "\n"
     ]
    }
   ],
   "source": [
    "text = \"Stemming is aimed at reducing vocabulary and aid un-derstanding of\" +\\\n",
    "       \" morphological processes. This helps people un-derstand the\" +\\\n",
    "       \" morphology of words and reduce size of corpus.\"\n",
    "\n",
    "doc = EN_NLP(text) \n",
    "\n",
    "lemma = \"\"\n",
    "for sentence in doc.sents:\n",
    "    for word in sentence:\n",
    "        lemma += f\"{word.lemma_}/{word.pos_}\\t\"\n",
    "        print(f'{word}: --> : {word.lemma_}')\n",
    "    lemma += f\"\\n\"\n",
    "print()\n",
    "print(lemma)"
   ]
  },
  {
   "cell_type": "markdown",
   "metadata": {},
   "source": [
    "Setelah normalisasi teks selesai, kita dapat memulai vektorisasi teks. "
   ]
  }
 ],
 "metadata": {
  "kernelspec": {
   "display_name": "Python 3",
   "language": "python",
   "name": "python3"
  },
  "language_info": {
   "codemirror_mode": {
    "name": "ipython",
    "version": 3
   },
   "file_extension": ".py",
   "mimetype": "text/x-python",
   "name": "python",
   "nbconvert_exporter": "python",
   "pygments_lexer": "ipython3",
   "version": "3.9.2"
  }
 },
 "nbformat": 4,
 "nbformat_minor": 2
}
