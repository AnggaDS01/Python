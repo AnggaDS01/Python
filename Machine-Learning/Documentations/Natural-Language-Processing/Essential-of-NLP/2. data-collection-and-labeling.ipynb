{
 "cells": [
  {
   "cell_type": "markdown",
   "metadata": {},
   "source": [
    "## Mengumpulkan dan Melabeli Data dalam NLP\n",
    "\n",
    "Ketika kita ingin memproses data teks dari web, biasanya data tersebut tidak memiliki label. Artinya, data tersebut tidak bisa langsung digunakan dalam model yang diawasi (supervised). Namun, data ini tetap berguna. Dengan menggunakan **transfer learning**, kita bisa melatih model bahasa menggunakan metode yang tidak diawasi (unsupervised) atau semi-diawasi (semi-supervised). Model ini kemudian bisa digunakan dengan dataset pelatihan kecil yang spesifik untuk tugas tertentu.\n",
    "\n",
    "**Apa itu Transfer Learning?** Transfer learning adalah teknik di mana model yang sudah dilatih pada satu tugas digunakan kembali untuk tugas lain. Misalnya, kita bisa melatih model bahasa besar dengan data yang tidak berlabel, lalu menggunakan model ini untuk tugas spesifik seperti klasifikasi spam dengan dataset kecil yang berlabel.\n",
    "\n",
    "**Langkah Melabeli Data**: Setelah mengumpulkan data teks, langkah berikutnya adalah melabeli data tersebut dengan kelas yang tepat. Contohnya:\n",
    "- **Klasifikasi Spam**: Jika tugasnya adalah membuat pengklasifikasi spam untuk email, kita perlu mengumpulkan banyak email. Langkah melabeli adalah memberi label \"spam\" atau \"bukan spam\" pada setiap email.\n",
    "- **Deteksi Sentimen**: Jika tugasnya adalah mendeteksi sentimen pada tweet, kita perlu mengumpulkan banyak tweet. Langkah melabeli adalah memberi label sentimen seperti \"positif\", \"negatif\", atau \"netral\" pada setiap tweet.\n",
    "- **Ringkasan Artikel Berita**: Jika tugasnya adalah merangkum artikel berita, kita perlu mengumpulkan banyak artikel berita. Langkah melabeli adalah membuat ringkasan untuk setiap artikel.\n",
    "\n",
    "**Tantangan dalam Melabeli Data**: Melabeli data bisa sangat memakan waktu dan sumber daya. Oleh karena itu, ada banyak fokus pada pendekatan semi-diawasi untuk melabeli data. Misalnya, kita bisa menggunakan perpustakaan seperti Snorkel untuk melabeli data dalam skala besar dengan metode semi-diawasi.\n",
    "\n",
    "**Dataset yang Tersedia Secara Publik**: Ada banyak dataset yang tersedia di web untuk melatih model. Dengan menggunakan transfer learning, dataset umum ini bisa digunakan untuk memulai model pembelajaran mesin, lalu kita bisa menggunakan sedikit data spesifik domain untuk menyempurnakan model. Keuntungan menggunakan dataset publik adalah:\n",
    "1. Pengumpulan data sudah dilakukan.\n",
    "2. Pelabelan sudah dilakukan.\n",
    "3. Kita bisa membandingkan hasil dengan standar terkini karena banyak makalah penelitian menggunakan dataset spesifik dan mempublikasikan benchmark.\n",
    "\n",
    "Contoh dataset yang sering digunakan adalah **Stanford Question Answering Dataset (SQuAD)**, yang sering digunakan sebagai benchmark untuk model tanya jawab."
   ]
  },
  {
   "cell_type": "code",
   "execution_count": 17,
   "metadata": {},
   "outputs": [
    {
     "name": "stdout",
     "output_type": "stream",
     "text": [
      "tensorflow version: 2.17.0\n",
      "sklearn version: 1.5.1\n",
      "imblearn version: 0.12.3\n",
      "numpy version: 1.26.2\n",
      "pandas version: 2.1.3\n",
      "matplotlib version: 3.9.0\n",
      "seaborn version: 0.13.2\n",
      "spacy version: 3.7.5\n"
     ]
    }
   ],
   "source": [
    "from Src.tf_data_split import DatasetSplitter\n",
    "from Src.visualize_confusion_matrix import evaluate_model\n",
    "from Src.min_max_scaling_tf_data import minmax_scaling_tf\n",
    "\n",
    "from sklearn.preprocessing import LabelBinarizer, MinMaxScaler\n",
    "from imblearn.over_sampling import SMOTE\n",
    "\n",
    "import os \n",
    "import sklearn\n",
    "import imblearn\n",
    "import matplotlib\n",
    "import unicodedata\n",
    "import spacy\n",
    "\n",
    "import tensorflow as tf \n",
    "import pandas as pd\n",
    "import numpy as np\n",
    "import matplotlib.pyplot as plt\n",
    "import seaborn as sns\n",
    "\n",
    "print(f'tensorflow version: {tf.__version__}')\n",
    "print(f'sklearn version: {sklearn.__version__}')\n",
    "print(f'imblearn version: {imblearn.__version__}')\n",
    "print(f'numpy version: {np.__version__}')\n",
    "print(f'pandas version: {pd.__version__}')\n",
    "print(f'matplotlib version: {matplotlib.__version__}')\n",
    "print(f'seaborn version: {sns.__version__}')\n",
    "print(f'spacy version: {spacy.__version__}')\n",
    "\n",
    "file_path = '../Assets/Datasets/SMSSpamCollection'"
   ]
  },
  {
   "cell_type": "code",
   "execution_count": 2,
   "metadata": {},
   "outputs": [
    {
     "data": {
      "text/plain": [
       "'ham\\tGo until jurong point, crazy.. Available only in bugis n great world la e buffet... Cine there got amore wat...'"
      ]
     },
     "metadata": {},
     "output_type": "display_data"
    },
    {
     "data": {
      "text/plain": [
       "'ham\\tOk lar... Joking wif u oni...'"
      ]
     },
     "metadata": {},
     "output_type": "display_data"
    },
    {
     "data": {
      "text/plain": [
       "\"spam\\tFree entry in 2 a wkly comp to win FA Cup final tkts 21st May 2005. Text FA to 87121 to receive entry question(std txt rate)T&C's apply 08452810075over18's\""
      ]
     },
     "metadata": {},
     "output_type": "display_data"
    },
    {
     "data": {
      "text/plain": [
       "'ham\\tU dun say so early hor... U c already then say...'"
      ]
     },
     "metadata": {},
     "output_type": "display_data"
    },
    {
     "data": {
      "text/plain": [
       "\"ham\\tNah I don't think he goes to usf, he lives around here though\""
      ]
     },
     "metadata": {},
     "output_type": "display_data"
    }
   ],
   "source": [
    "with open(file_path, 'r') as file:\n",
    "    for idx, line in enumerate(file, 1):\n",
    "        line = line.strip()\n",
    "        display(line)\n",
    "        if idx == 5:\n",
    "            break"
   ]
  },
  {
   "cell_type": "code",
   "execution_count": 3,
   "metadata": {},
   "outputs": [],
   "source": [
    "df = pd.read_csv(file_path, sep='\\t', names=['label', 'message'])"
   ]
  },
  {
   "cell_type": "code",
   "execution_count": 4,
   "metadata": {},
   "outputs": [
    {
     "data": {
      "text/html": [
       "<div>\n",
       "<style scoped>\n",
       "    .dataframe tbody tr th:only-of-type {\n",
       "        vertical-align: middle;\n",
       "    }\n",
       "\n",
       "    .dataframe tbody tr th {\n",
       "        vertical-align: top;\n",
       "    }\n",
       "\n",
       "    .dataframe thead th {\n",
       "        text-align: right;\n",
       "    }\n",
       "</style>\n",
       "<table border=\"1\" class=\"dataframe\">\n",
       "  <thead>\n",
       "    <tr style=\"text-align: right;\">\n",
       "      <th></th>\n",
       "      <th>label</th>\n",
       "      <th>message</th>\n",
       "    </tr>\n",
       "  </thead>\n",
       "  <tbody>\n",
       "    <tr>\n",
       "      <th>0</th>\n",
       "      <td>ham</td>\n",
       "      <td>Go until jurong point, crazy.. Available only ...</td>\n",
       "    </tr>\n",
       "    <tr>\n",
       "      <th>1</th>\n",
       "      <td>ham</td>\n",
       "      <td>Ok lar... Joking wif u oni...</td>\n",
       "    </tr>\n",
       "    <tr>\n",
       "      <th>2</th>\n",
       "      <td>spam</td>\n",
       "      <td>Free entry in 2 a wkly comp to win FA Cup fina...</td>\n",
       "    </tr>\n",
       "    <tr>\n",
       "      <th>3</th>\n",
       "      <td>ham</td>\n",
       "      <td>U dun say so early hor... U c already then say...</td>\n",
       "    </tr>\n",
       "    <tr>\n",
       "      <th>4</th>\n",
       "      <td>ham</td>\n",
       "      <td>Nah I don't think he goes to usf, he lives aro...</td>\n",
       "    </tr>\n",
       "  </tbody>\n",
       "</table>\n",
       "</div>"
      ],
      "text/plain": [
       "  label                                            message\n",
       "0   ham  Go until jurong point, crazy.. Available only ...\n",
       "1   ham                      Ok lar... Joking wif u oni...\n",
       "2  spam  Free entry in 2 a wkly comp to win FA Cup fina...\n",
       "3   ham  U dun say so early hor... U c already then say...\n",
       "4   ham  Nah I don't think he goes to usf, he lives aro..."
      ]
     },
     "execution_count": 4,
     "metadata": {},
     "output_type": "execute_result"
    }
   ],
   "source": [
    "df[:5]"
   ]
  },
  {
   "cell_type": "markdown",
   "metadata": {},
   "source": [
    "## Normalisasi Teks dalam NLP\n",
    "\n",
    "**Normalisasi teks** adalah langkah awal dalam pemrosesan teks yang bertujuan untuk meningkatkan kualitas teks dan membuatnya lebih mudah diproses oleh mesin. Ada empat langkah utama dalam normalisasi teks:\n",
    "\n",
    "1. **Normalisasi Huruf Besar-Kecil (Case Normalization)**\n",
    "2. **Tokenisasi dan Penghapusan Kata Umum (Stop Word Removal)**\n",
    "3. **Penandaan Bagian dari Ucapan (Parts-of-Speech Tagging)**\n",
    "4. **Stemming**\n",
    "\n",
    "#### 1. Normalisasi Huruf Besar-Kecil\n",
    "Normalisasi huruf besar-kecil berlaku untuk bahasa yang menggunakan huruf besar dan kecil, seperti alfabet Latin atau Sirilik (misalnya, bahasa Rusia dan Mongolia). Dalam langkah ini, semua huruf diubah menjadi huruf kecil atau besar. Ini membantu dalam kasus penggunaan semantik, tetapi bisa mengurangi kinerja dalam beberapa kasus lain. Misalnya, pesan spam mungkin memiliki lebih banyak kata dengan huruf besar dibandingkan pesan biasa.\n",
    "\n",
    "#### 2. Tokenisasi dan Penghapusan Kata Umum\n",
    "Tokenisasi adalah proses memecah teks menjadi unit-unit kecil seperti kata atau frasa. Setelah itu, kata-kata umum yang tidak memberikan banyak informasi (seperti \"dan\", \"atau\", \"tetapi\") dihapus. Ini membantu fokus pada kata-kata yang lebih penting.\n",
    "\n",
    "#### 3. Penandaan Bagian dari Ucapan (POS Tagging)\n",
    "Penandaan bagian dari ucapan adalah proses memberi label pada setiap kata dalam teks dengan kategori gramatikalnya, seperti kata benda, kata kerja, atau kata sifat. Ini membantu memahami struktur kalimat dan hubungan antar kata.\n",
    "\n",
    "#### 4. Stemming\n",
    "Stemming adalah proses mengubah kata ke bentuk dasarnya. Misalnya, kata \"running\" diubah menjadi \"run\". Ini membantu mengurangi variasi kata sehingga mesin bisa lebih mudah memprosesnya.\n",
    "\n",
    "#### Contoh Normalisasi Teks\n",
    "Misalkan kita ingin membangun model dasar dengan tiga fitur sederhana:\n",
    "- Jumlah karakter dalam pesan\n",
    "- Jumlah huruf besar dalam pesan\n",
    "- Jumlah simbol tanda baca dalam pesan\n",
    "\n",
    "Langkah-langkah normalisasi ini membantu kita mempersiapkan teks agar lebih mudah dianalisis dan diproses oleh model pembelajaran mesin."
   ]
  },
  {
   "cell_type": "code",
   "execution_count": 5,
   "metadata": {},
   "outputs": [],
   "source": [
    "# Normalization functions\n",
    "\n",
    "def message_length(x):\n",
    "    # returns total number of characters\n",
    "    return len(x)\n",
    "\n",
    "def num_capitals(x):\n",
    "    count = sum(1 for char in x if char.isupper())\n",
    "    return count\n",
    "\n",
    "def num_punctuation(x):\n",
    "    count = sum(1 for char in x if unicodedata.category(char).startswith('P'))\n",
    "    return count"
   ]
  },
  {
   "cell_type": "code",
   "execution_count": 6,
   "metadata": {},
   "outputs": [],
   "source": [
    "df_copy = df.copy(deep=True)\n",
    "\n",
    "lb = LabelBinarizer()\n",
    "df_copy['label'] = lb.fit_transform(df_copy['label'])\n",
    "\n",
    "df_copy['Capitals'] = df_copy['message'].apply(num_capitals)\n",
    "df_copy['Punctuation'] = df_copy['message'].apply(num_punctuation)\n",
    "df_copy['Length'] = df_copy['message'].apply(message_length)"
   ]
  },
  {
   "cell_type": "code",
   "execution_count": 7,
   "metadata": {},
   "outputs": [
    {
     "data": {
      "text/html": [
       "<div>\n",
       "<style scoped>\n",
       "    .dataframe tbody tr th:only-of-type {\n",
       "        vertical-align: middle;\n",
       "    }\n",
       "\n",
       "    .dataframe tbody tr th {\n",
       "        vertical-align: top;\n",
       "    }\n",
       "\n",
       "    .dataframe thead th {\n",
       "        text-align: right;\n",
       "    }\n",
       "</style>\n",
       "<table border=\"1\" class=\"dataframe\">\n",
       "  <thead>\n",
       "    <tr style=\"text-align: right;\">\n",
       "      <th></th>\n",
       "      <th>label</th>\n",
       "      <th>message</th>\n",
       "      <th>Capitals</th>\n",
       "      <th>Punctuation</th>\n",
       "      <th>Length</th>\n",
       "    </tr>\n",
       "  </thead>\n",
       "  <tbody>\n",
       "    <tr>\n",
       "      <th>0</th>\n",
       "      <td>0</td>\n",
       "      <td>Go until jurong point, crazy.. Available only ...</td>\n",
       "      <td>3</td>\n",
       "      <td>9</td>\n",
       "      <td>111</td>\n",
       "    </tr>\n",
       "    <tr>\n",
       "      <th>1</th>\n",
       "      <td>0</td>\n",
       "      <td>Ok lar... Joking wif u oni...</td>\n",
       "      <td>2</td>\n",
       "      <td>6</td>\n",
       "      <td>29</td>\n",
       "    </tr>\n",
       "    <tr>\n",
       "      <th>2</th>\n",
       "      <td>1</td>\n",
       "      <td>Free entry in 2 a wkly comp to win FA Cup fina...</td>\n",
       "      <td>10</td>\n",
       "      <td>6</td>\n",
       "      <td>155</td>\n",
       "    </tr>\n",
       "    <tr>\n",
       "      <th>3</th>\n",
       "      <td>0</td>\n",
       "      <td>U dun say so early hor... U c already then say...</td>\n",
       "      <td>2</td>\n",
       "      <td>6</td>\n",
       "      <td>49</td>\n",
       "    </tr>\n",
       "    <tr>\n",
       "      <th>4</th>\n",
       "      <td>0</td>\n",
       "      <td>Nah I don't think he goes to usf, he lives aro...</td>\n",
       "      <td>2</td>\n",
       "      <td>2</td>\n",
       "      <td>61</td>\n",
       "    </tr>\n",
       "  </tbody>\n",
       "</table>\n",
       "</div>"
      ],
      "text/plain": [
       "   label                                            message  Capitals  \\\n",
       "0      0  Go until jurong point, crazy.. Available only ...         3   \n",
       "1      0                      Ok lar... Joking wif u oni...         2   \n",
       "2      1  Free entry in 2 a wkly comp to win FA Cup fina...        10   \n",
       "3      0  U dun say so early hor... U c already then say...         2   \n",
       "4      0  Nah I don't think he goes to usf, he lives aro...         2   \n",
       "\n",
       "   Punctuation  Length  \n",
       "0            9     111  \n",
       "1            6      29  \n",
       "2            6     155  \n",
       "3            6      49  \n",
       "4            2      61  "
      ]
     },
     "execution_count": 7,
     "metadata": {},
     "output_type": "execute_result"
    }
   ],
   "source": [
    "df_copy[:5]"
   ]
  },
  {
   "cell_type": "code",
   "execution_count": 8,
   "metadata": {},
   "outputs": [
    {
     "data": {
      "text/plain": [
       "label\n",
       "0    4825\n",
       "1     747\n",
       "Name: count, dtype: int64"
      ]
     },
     "execution_count": 8,
     "metadata": {},
     "output_type": "execute_result"
    }
   ],
   "source": [
    "df_copy['label'].value_counts()"
   ]
  },
  {
   "cell_type": "code",
   "execution_count": 9,
   "metadata": {},
   "outputs": [
    {
     "name": "stdout",
     "output_type": "stream",
     "text": [
      "message: Go until jurong point, crazy.. Available only in bugis n great world la e buffet... Cine there got amore wat...\n",
      "label: 0\n",
      "Capitals         3\n",
      "Punctuation      9\n",
      "Length         111\n",
      "Name: 0, dtype: object\n"
     ]
    }
   ],
   "source": [
    "idx=0\n",
    "print(f\"message: {df_copy.loc[idx, 'message']}\")\n",
    "print(f\"label: {df_copy.loc[idx, 'label']}\")\n",
    "print(df_copy.loc[idx, 'Capitals':'Length'])"
   ]
  },
  {
   "cell_type": "code",
   "execution_count": 10,
   "metadata": {},
   "outputs": [
    {
     "data": {
      "text/html": [
       "<div>\n",
       "<style scoped>\n",
       "    .dataframe tbody tr th:only-of-type {\n",
       "        vertical-align: middle;\n",
       "    }\n",
       "\n",
       "    .dataframe tbody tr th {\n",
       "        vertical-align: top;\n",
       "    }\n",
       "\n",
       "    .dataframe thead th {\n",
       "        text-align: right;\n",
       "    }\n",
       "</style>\n",
       "<table border=\"1\" class=\"dataframe\">\n",
       "  <thead>\n",
       "    <tr style=\"text-align: right;\">\n",
       "      <th></th>\n",
       "      <th>label</th>\n",
       "      <th>Capitals</th>\n",
       "      <th>Punctuation</th>\n",
       "      <th>Length</th>\n",
       "    </tr>\n",
       "  </thead>\n",
       "  <tbody>\n",
       "    <tr>\n",
       "      <th>count</th>\n",
       "      <td>5572.000000</td>\n",
       "      <td>5572.000000</td>\n",
       "      <td>5572.000000</td>\n",
       "      <td>5572.000000</td>\n",
       "    </tr>\n",
       "    <tr>\n",
       "      <th>mean</th>\n",
       "      <td>0.134063</td>\n",
       "      <td>5.633345</td>\n",
       "      <td>4.139268</td>\n",
       "      <td>80.489950</td>\n",
       "    </tr>\n",
       "    <tr>\n",
       "      <th>std</th>\n",
       "      <td>0.340751</td>\n",
       "      <td>11.711637</td>\n",
       "      <td>4.568942</td>\n",
       "      <td>59.942907</td>\n",
       "    </tr>\n",
       "    <tr>\n",
       "      <th>min</th>\n",
       "      <td>0.000000</td>\n",
       "      <td>0.000000</td>\n",
       "      <td>0.000000</td>\n",
       "      <td>2.000000</td>\n",
       "    </tr>\n",
       "    <tr>\n",
       "      <th>25%</th>\n",
       "      <td>0.000000</td>\n",
       "      <td>1.000000</td>\n",
       "      <td>2.000000</td>\n",
       "      <td>36.000000</td>\n",
       "    </tr>\n",
       "    <tr>\n",
       "      <th>50%</th>\n",
       "      <td>0.000000</td>\n",
       "      <td>2.000000</td>\n",
       "      <td>3.000000</td>\n",
       "      <td>62.000000</td>\n",
       "    </tr>\n",
       "    <tr>\n",
       "      <th>75%</th>\n",
       "      <td>0.000000</td>\n",
       "      <td>4.000000</td>\n",
       "      <td>6.000000</td>\n",
       "      <td>122.000000</td>\n",
       "    </tr>\n",
       "    <tr>\n",
       "      <th>max</th>\n",
       "      <td>1.000000</td>\n",
       "      <td>138.000000</td>\n",
       "      <td>133.000000</td>\n",
       "      <td>910.000000</td>\n",
       "    </tr>\n",
       "  </tbody>\n",
       "</table>\n",
       "</div>"
      ],
      "text/plain": [
       "             label     Capitals  Punctuation       Length\n",
       "count  5572.000000  5572.000000  5572.000000  5572.000000\n",
       "mean      0.134063     5.633345     4.139268    80.489950\n",
       "std       0.340751    11.711637     4.568942    59.942907\n",
       "min       0.000000     0.000000     0.000000     2.000000\n",
       "25%       0.000000     1.000000     2.000000    36.000000\n",
       "50%       0.000000     2.000000     3.000000    62.000000\n",
       "75%       0.000000     4.000000     6.000000   122.000000\n",
       "max       1.000000   138.000000   133.000000   910.000000"
      ]
     },
     "execution_count": 10,
     "metadata": {},
     "output_type": "execute_result"
    }
   ],
   "source": [
    "df_copy.describe()"
   ]
  },
  {
   "cell_type": "code",
   "execution_count": 11,
   "metadata": {},
   "outputs": [],
   "source": [
    "X = df_copy.drop(columns=['label', 'message'])\n",
    "y = df_copy['label']\n",
    "\n",
    "smote = SMOTE(random_state=42)\n",
    "X_resampled, y_resampled = smote.fit_resample(X, y)"
   ]
  },
  {
   "cell_type": "code",
   "execution_count": 12,
   "metadata": {},
   "outputs": [
    {
     "data": {
      "text/plain": [
       "label\n",
       "0    4825\n",
       "1    4825\n",
       "Name: count, dtype: int64"
      ]
     },
     "execution_count": 12,
     "metadata": {},
     "output_type": "execute_result"
    }
   ],
   "source": [
    "y_resampled.value_counts()"
   ]
  },
  {
   "cell_type": "code",
   "execution_count": 13,
   "metadata": {},
   "outputs": [],
   "source": [
    "SMSSpamCollection_tf_data = tf.data.Dataset.from_tensor_slices((X_resampled, y_resampled))"
   ]
  },
  {
   "cell_type": "code",
   "execution_count": 14,
   "metadata": {},
   "outputs": [
    {
     "name": "stdout",
     "output_type": "stream",
     "text": [
      "info train data: <_TensorSliceDataset element_spec=(TensorSpec(shape=(3,), dtype=tf.int64, name=None), TensorSpec(shape=(), dtype=tf.int32, name=None))>\n",
      "number of train data: 9650\n"
     ]
    }
   ],
   "source": [
    "print(f'info train data: {SMSSpamCollection_tf_data}')\n",
    "print(f'number of train data: {len(SMSSpamCollection_tf_data)}')"
   ]
  },
  {
   "cell_type": "code",
   "execution_count": 15,
   "metadata": {},
   "outputs": [
    {
     "name": "stdout",
     "output_type": "stream",
     "text": [
      "data: [  3   9 111]\n",
      "label: 0 --> ham\n",
      "\n",
      "data: [ 2  6 29]\n",
      "label: 0 --> ham\n",
      "\n",
      "data: [ 10   6 155]\n",
      "label: 1 --> spam\n",
      "\n"
     ]
    }
   ],
   "source": [
    "for data, label in SMSSpamCollection_tf_data.skip(0).take(3):\n",
    "    label_str = lb.inverse_transform(np.array(label))\n",
    "    print(f'data: {data}')\n",
    "    print(f'label: {label} --> {label_str[0]}')\n",
    "    print()"
   ]
  },
  {
   "cell_type": "code",
   "execution_count": 18,
   "metadata": {},
   "outputs": [],
   "source": [
    "SMSSpamCollection_tf_data_scaled = SMSSpamCollection_tf_data.map( \n",
    "    map_func=lambda features, label: minmax_scaling_tf(features, label, feature_range=(0, 1)),\n",
    "    num_parallel_calls=tf.data.AUTOTUNE\n",
    ")\n",
    "SMSSpamCollection_tf_data_cached = SMSSpamCollection_tf_data_scaled.cache()"
   ]
  },
  {
   "cell_type": "code",
   "execution_count": 19,
   "metadata": {},
   "outputs": [
    {
     "name": "stdout",
     "output_type": "stream",
     "text": [
      "info train data: <CacheDataset element_spec=(TensorSpec(shape=(3,), dtype=tf.float32, name=None), TensorSpec(shape=(), dtype=tf.uint8, name=None))>\n",
      "number of train data: 9650\n"
     ]
    }
   ],
   "source": [
    "print(f'info train data: {SMSSpamCollection_tf_data_cached}')\n",
    "print(f'number of train data: {len(SMSSpamCollection_tf_data_cached)}')"
   ]
  },
  {
   "cell_type": "code",
   "execution_count": 20,
   "metadata": {},
   "outputs": [
    {
     "name": "stdout",
     "output_type": "stream",
     "text": [
      "data: [0.         0.05555556 1.        ]\n",
      "label: 0 --> ham\n",
      "\n",
      "data: [0.         0.14814815 1.        ]\n",
      "label: 0 --> ham\n",
      "\n",
      "data: [0.02684564 0.         1.        ]\n",
      "label: 1 --> spam\n",
      "\n"
     ]
    }
   ],
   "source": [
    "for data, label in SMSSpamCollection_tf_data_cached.skip(0).take(3):\n",
    "    label_str = lb.inverse_transform(np.array(label))\n",
    "    print(f'data: {data}')\n",
    "    print(f'label: {label} --> {label_str[0]}')\n",
    "    print()"
   ]
  },
  {
   "cell_type": "code",
   "execution_count": 21,
   "metadata": {},
   "outputs": [],
   "source": [
    "splitter = DatasetSplitter(batch_size=32, train_split=0.8)"
   ]
  },
  {
   "cell_type": "code",
   "execution_count": 22,
   "metadata": {},
   "outputs": [
    {
     "name": "stdout",
     "output_type": "stream",
     "text": [
      "=================================== Training Dataset ===================================\n",
      "Info data: <_TakeDataset element_spec=(TensorSpec(shape=(3,), dtype=tf.float32, name=None), TensorSpec(shape=(), dtype=tf.uint8, name=None))>\n",
      "Training Split: 0.8\n",
      "Number of data: 7720\n",
      "AFTER BATCH: 32\n",
      "Number of data: 242\n",
      "=================================== Validation Dataset ===================================\n",
      "Info data: <_SkipDataset element_spec=(TensorSpec(shape=(3,), dtype=tf.float32, name=None), TensorSpec(shape=(), dtype=tf.uint8, name=None))>\n",
      "Validation Split: 0.2\n",
      "Number of data: 1930\n",
      "AFTER BATCH: 32\n",
      "Number of data: 61\n"
     ]
    }
   ],
   "source": [
    "SMSSpamCollection_tf_data_train, SMSSpamCollection_tf_data_valid = splitter.split_and_prepare(SMSSpamCollection_tf_data_cached)"
   ]
  },
  {
   "cell_type": "markdown",
   "metadata": {},
   "source": [
    "## Model Building"
   ]
  },
  {
   "cell_type": "code",
   "execution_count": 23,
   "metadata": {},
   "outputs": [
    {
     "data": {
      "text/html": [
       "<pre style=\"white-space:pre;overflow-x:auto;line-height:normal;font-family:Menlo,'DejaVu Sans Mono',consolas,'Courier New',monospace\"><span style=\"font-weight: bold\">Model: \"functional\"</span>\n",
       "</pre>\n"
      ],
      "text/plain": [
       "\u001b[1mModel: \"functional\"\u001b[0m\n"
      ]
     },
     "metadata": {},
     "output_type": "display_data"
    },
    {
     "data": {
      "text/html": [
       "<pre style=\"white-space:pre;overflow-x:auto;line-height:normal;font-family:Menlo,'DejaVu Sans Mono',consolas,'Courier New',monospace\">┏━━━━━━━━━━━━━━━━━━━━━━━━━━━━━━━━━┳━━━━━━━━━━━━━━━━━━━━━━━━┳━━━━━━━━━━━━━━━┓\n",
       "┃<span style=\"font-weight: bold\"> Layer (type)                    </span>┃<span style=\"font-weight: bold\"> Output Shape           </span>┃<span style=\"font-weight: bold\">       Param # </span>┃\n",
       "┡━━━━━━━━━━━━━━━━━━━━━━━━━━━━━━━━━╇━━━━━━━━━━━━━━━━━━━━━━━━╇━━━━━━━━━━━━━━━┩\n",
       "│ input_layer (<span style=\"color: #0087ff; text-decoration-color: #0087ff\">InputLayer</span>)        │ (<span style=\"color: #00d7ff; text-decoration-color: #00d7ff\">None</span>, <span style=\"color: #00af00; text-decoration-color: #00af00\">3</span>)              │             <span style=\"color: #00af00; text-decoration-color: #00af00\">0</span> │\n",
       "├─────────────────────────────────┼────────────────────────┼───────────────┤\n",
       "│ dense (<span style=\"color: #0087ff; text-decoration-color: #0087ff\">Dense</span>)                   │ (<span style=\"color: #00d7ff; text-decoration-color: #00d7ff\">None</span>, <span style=\"color: #00af00; text-decoration-color: #00af00\">12</span>)             │            <span style=\"color: #00af00; text-decoration-color: #00af00\">48</span> │\n",
       "├─────────────────────────────────┼────────────────────────┼───────────────┤\n",
       "│ dense_1 (<span style=\"color: #0087ff; text-decoration-color: #0087ff\">Dense</span>)                 │ (<span style=\"color: #00d7ff; text-decoration-color: #00d7ff\">None</span>, <span style=\"color: #00af00; text-decoration-color: #00af00\">1</span>)              │            <span style=\"color: #00af00; text-decoration-color: #00af00\">13</span> │\n",
       "└─────────────────────────────────┴────────────────────────┴───────────────┘\n",
       "</pre>\n"
      ],
      "text/plain": [
       "┏━━━━━━━━━━━━━━━━━━━━━━━━━━━━━━━━━┳━━━━━━━━━━━━━━━━━━━━━━━━┳━━━━━━━━━━━━━━━┓\n",
       "┃\u001b[1m \u001b[0m\u001b[1mLayer (type)                   \u001b[0m\u001b[1m \u001b[0m┃\u001b[1m \u001b[0m\u001b[1mOutput Shape          \u001b[0m\u001b[1m \u001b[0m┃\u001b[1m \u001b[0m\u001b[1m      Param #\u001b[0m\u001b[1m \u001b[0m┃\n",
       "┡━━━━━━━━━━━━━━━━━━━━━━━━━━━━━━━━━╇━━━━━━━━━━━━━━━━━━━━━━━━╇━━━━━━━━━━━━━━━┩\n",
       "│ input_layer (\u001b[38;5;33mInputLayer\u001b[0m)        │ (\u001b[38;5;45mNone\u001b[0m, \u001b[38;5;34m3\u001b[0m)              │             \u001b[38;5;34m0\u001b[0m │\n",
       "├─────────────────────────────────┼────────────────────────┼───────────────┤\n",
       "│ dense (\u001b[38;5;33mDense\u001b[0m)                   │ (\u001b[38;5;45mNone\u001b[0m, \u001b[38;5;34m12\u001b[0m)             │            \u001b[38;5;34m48\u001b[0m │\n",
       "├─────────────────────────────────┼────────────────────────┼───────────────┤\n",
       "│ dense_1 (\u001b[38;5;33mDense\u001b[0m)                 │ (\u001b[38;5;45mNone\u001b[0m, \u001b[38;5;34m1\u001b[0m)              │            \u001b[38;5;34m13\u001b[0m │\n",
       "└─────────────────────────────────┴────────────────────────┴───────────────┘\n"
      ]
     },
     "metadata": {},
     "output_type": "display_data"
    },
    {
     "data": {
      "text/html": [
       "<pre style=\"white-space:pre;overflow-x:auto;line-height:normal;font-family:Menlo,'DejaVu Sans Mono',consolas,'Courier New',monospace\"><span style=\"font-weight: bold\"> Total params: </span><span style=\"color: #00af00; text-decoration-color: #00af00\">61</span> (244.00 B)\n",
       "</pre>\n"
      ],
      "text/plain": [
       "\u001b[1m Total params: \u001b[0m\u001b[38;5;34m61\u001b[0m (244.00 B)\n"
      ]
     },
     "metadata": {},
     "output_type": "display_data"
    },
    {
     "data": {
      "text/html": [
       "<pre style=\"white-space:pre;overflow-x:auto;line-height:normal;font-family:Menlo,'DejaVu Sans Mono',consolas,'Courier New',monospace\"><span style=\"font-weight: bold\"> Trainable params: </span><span style=\"color: #00af00; text-decoration-color: #00af00\">61</span> (244.00 B)\n",
       "</pre>\n"
      ],
      "text/plain": [
       "\u001b[1m Trainable params: \u001b[0m\u001b[38;5;34m61\u001b[0m (244.00 B)\n"
      ]
     },
     "metadata": {},
     "output_type": "display_data"
    },
    {
     "data": {
      "text/html": [
       "<pre style=\"white-space:pre;overflow-x:auto;line-height:normal;font-family:Menlo,'DejaVu Sans Mono',consolas,'Courier New',monospace\"><span style=\"font-weight: bold\"> Non-trainable params: </span><span style=\"color: #00af00; text-decoration-color: #00af00\">0</span> (0.00 B)\n",
       "</pre>\n"
      ],
      "text/plain": [
       "\u001b[1m Non-trainable params: \u001b[0m\u001b[38;5;34m0\u001b[0m (0.00 B)\n"
      ]
     },
     "metadata": {},
     "output_type": "display_data"
    }
   ],
   "source": [
    "def make_model(input_shape=(3,), num_label=1):\n",
    "    input_layer = tf.keras.Input(shape=input_shape)\n",
    "    x = tf.keras.layers.Dense(12, activation='relu')(input_layer)\n",
    "    output_layer = tf.keras.layers.Dense(num_label, activation='sigmoid')(x)\n",
    "    model = tf.keras.models.Model(inputs=input_layer, outputs=output_layer)\n",
    "    \n",
    "    return model\n",
    "\n",
    "INPUT_SHAPE = (3,)\n",
    "NUM_LABEL = 1\n",
    "LOSS = tf.keras.losses.BinaryCrossentropy()\n",
    "OPTIMIZER = tf.keras.optimizers.Adam(learning_rate=0.001)\n",
    "METRICS = ['accuracy']\n",
    "\n",
    "model = make_model(INPUT_SHAPE, NUM_LABEL)\n",
    "model.compile(\n",
    "    loss=LOSS, \n",
    "    optimizer=OPTIMIZER, \n",
    "    metrics=METRICS\n",
    ")\n",
    "model.summary()"
   ]
  },
  {
   "cell_type": "code",
   "execution_count": 24,
   "metadata": {},
   "outputs": [
    {
     "name": "stdout",
     "output_type": "stream",
     "text": [
      "Epoch 1/30\n",
      "\u001b[1m242/242\u001b[0m \u001b[32m━━━━━━━━━━━━━━━━━━━━\u001b[0m\u001b[37m\u001b[0m \u001b[1m6s\u001b[0m 10ms/step - accuracy: 0.5344 - loss: 0.6922 - val_accuracy: 0.7731 - val_loss: 0.6789\n",
      "Epoch 2/30\n",
      "\u001b[1m242/242\u001b[0m \u001b[32m━━━━━━━━━━━━━━━━━━━━\u001b[0m\u001b[37m\u001b[0m \u001b[1m2s\u001b[0m 7ms/step - accuracy: 0.7141 - loss: 0.6753 - val_accuracy: 0.7798 - val_loss: 0.6614\n",
      "Epoch 3/30\n",
      "\u001b[1m242/242\u001b[0m \u001b[32m━━━━━━━━━━━━━━━━━━━━\u001b[0m\u001b[37m\u001b[0m \u001b[1m1s\u001b[0m 4ms/step - accuracy: 0.7764 - loss: 0.6558 - val_accuracy: 0.7668 - val_loss: 0.6420\n",
      "Epoch 4/30\n",
      "\u001b[1m242/242\u001b[0m \u001b[32m━━━━━━━━━━━━━━━━━━━━\u001b[0m\u001b[37m\u001b[0m \u001b[1m2s\u001b[0m 9ms/step - accuracy: 0.7852 - loss: 0.6372 - val_accuracy: 0.7870 - val_loss: 0.6243\n",
      "Epoch 5/30\n",
      "\u001b[1m242/242\u001b[0m \u001b[32m━━━━━━━━━━━━━━━━━━━━\u001b[0m\u001b[37m\u001b[0m \u001b[1m1s\u001b[0m 5ms/step - accuracy: 0.7906 - loss: 0.6142 - val_accuracy: 0.7876 - val_loss: 0.6008\n",
      "Epoch 6/30\n",
      "\u001b[1m242/242\u001b[0m \u001b[32m━━━━━━━━━━━━━━━━━━━━\u001b[0m\u001b[37m\u001b[0m \u001b[1m2s\u001b[0m 6ms/step - accuracy: 0.7827 - loss: 0.5990 - val_accuracy: 0.7762 - val_loss: 0.5867\n",
      "Epoch 7/30\n",
      "\u001b[1m242/242\u001b[0m \u001b[32m━━━━━━━━━━━━━━━━━━━━\u001b[0m\u001b[37m\u001b[0m \u001b[1m2s\u001b[0m 7ms/step - accuracy: 0.7805 - loss: 0.5756 - val_accuracy: 0.7865 - val_loss: 0.5557\n",
      "Epoch 8/30\n",
      "\u001b[1m242/242\u001b[0m \u001b[32m━━━━━━━━━━━━━━━━━━━━\u001b[0m\u001b[37m\u001b[0m \u001b[1m2s\u001b[0m 8ms/step - accuracy: 0.7891 - loss: 0.5565 - val_accuracy: 0.7979 - val_loss: 0.5372\n",
      "Epoch 9/30\n",
      "\u001b[1m242/242\u001b[0m \u001b[32m━━━━━━━━━━━━━━━━━━━━\u001b[0m\u001b[37m\u001b[0m \u001b[1m2s\u001b[0m 7ms/step - accuracy: 0.7884 - loss: 0.5477 - val_accuracy: 0.7876 - val_loss: 0.5374\n",
      "Epoch 10/30\n",
      "\u001b[1m242/242\u001b[0m \u001b[32m━━━━━━━━━━━━━━━━━━━━\u001b[0m\u001b[37m\u001b[0m \u001b[1m2s\u001b[0m 6ms/step - accuracy: 0.7753 - loss: 0.5381 - val_accuracy: 0.7896 - val_loss: 0.5265\n",
      "Epoch 11/30\n",
      "\u001b[1m242/242\u001b[0m \u001b[32m━━━━━━━━━━━━━━━━━━━━\u001b[0m\u001b[37m\u001b[0m \u001b[1m2s\u001b[0m 6ms/step - accuracy: 0.7824 - loss: 0.5248 - val_accuracy: 0.7788 - val_loss: 0.5274\n",
      "Epoch 12/30\n",
      "\u001b[1m242/242\u001b[0m \u001b[32m━━━━━━━━━━━━━━━━━━━━\u001b[0m\u001b[37m\u001b[0m \u001b[1m2s\u001b[0m 9ms/step - accuracy: 0.7880 - loss: 0.5117 - val_accuracy: 0.8031 - val_loss: 0.4842\n",
      "Epoch 13/30\n",
      "\u001b[1m242/242\u001b[0m \u001b[32m━━━━━━━━━━━━━━━━━━━━\u001b[0m\u001b[37m\u001b[0m \u001b[1m1s\u001b[0m 3ms/step - accuracy: 0.7926 - loss: 0.4929 - val_accuracy: 0.7933 - val_loss: 0.4901\n",
      "Epoch 14/30\n",
      "\u001b[1m242/242\u001b[0m \u001b[32m━━━━━━━━━━━━━━━━━━━━\u001b[0m\u001b[37m\u001b[0m \u001b[1m1s\u001b[0m 3ms/step - accuracy: 0.7743 - loss: 0.5078 - val_accuracy: 0.7819 - val_loss: 0.4920\n",
      "Epoch 15/30\n",
      "\u001b[1m242/242\u001b[0m \u001b[32m━━━━━━━━━━━━━━━━━━━━\u001b[0m\u001b[37m\u001b[0m \u001b[1m1s\u001b[0m 4ms/step - accuracy: 0.7896 - loss: 0.4945 - val_accuracy: 0.7824 - val_loss: 0.4861\n",
      "Epoch 16/30\n",
      "\u001b[1m242/242\u001b[0m \u001b[32m━━━━━━━━━━━━━━━━━━━━\u001b[0m\u001b[37m\u001b[0m \u001b[1m1s\u001b[0m 4ms/step - accuracy: 0.7789 - loss: 0.4943 - val_accuracy: 0.7959 - val_loss: 0.4722\n",
      "Epoch 17/30\n",
      "\u001b[1m242/242\u001b[0m \u001b[32m━━━━━━━━━━━━━━━━━━━━\u001b[0m\u001b[37m\u001b[0m \u001b[1m1s\u001b[0m 4ms/step - accuracy: 0.7885 - loss: 0.4759 - val_accuracy: 0.7845 - val_loss: 0.4899\n",
      "Epoch 18/30\n",
      "\u001b[1m242/242\u001b[0m \u001b[32m━━━━━━━━━━━━━━━━━━━━\u001b[0m\u001b[37m\u001b[0m \u001b[1m1s\u001b[0m 3ms/step - accuracy: 0.7895 - loss: 0.4774 - val_accuracy: 0.7907 - val_loss: 0.4665\n",
      "Epoch 19/30\n",
      "\u001b[1m242/242\u001b[0m \u001b[32m━━━━━━━━━━━━━━━━━━━━\u001b[0m\u001b[37m\u001b[0m \u001b[1m1s\u001b[0m 3ms/step - accuracy: 0.7878 - loss: 0.4733 - val_accuracy: 0.7829 - val_loss: 0.4840\n",
      "Epoch 20/30\n",
      "\u001b[1m242/242\u001b[0m \u001b[32m━━━━━━━━━━━━━━━━━━━━\u001b[0m\u001b[37m\u001b[0m \u001b[1m1s\u001b[0m 3ms/step - accuracy: 0.7824 - loss: 0.4775 - val_accuracy: 0.7839 - val_loss: 0.4615\n",
      "Epoch 21/30\n",
      "\u001b[1m242/242\u001b[0m \u001b[32m━━━━━━━━━━━━━━━━━━━━\u001b[0m\u001b[37m\u001b[0m \u001b[1m1s\u001b[0m 4ms/step - accuracy: 0.7868 - loss: 0.4642 - val_accuracy: 0.7715 - val_loss: 0.4708\n",
      "Epoch 22/30\n",
      "\u001b[1m242/242\u001b[0m \u001b[32m━━━━━━━━━━━━━━━━━━━━\u001b[0m\u001b[37m\u001b[0m \u001b[1m1s\u001b[0m 4ms/step - accuracy: 0.7934 - loss: 0.4586 - val_accuracy: 0.7865 - val_loss: 0.4700\n",
      "Epoch 23/30\n",
      "\u001b[1m242/242\u001b[0m \u001b[32m━━━━━━━━━━━━━━━━━━━━\u001b[0m\u001b[37m\u001b[0m \u001b[1m1s\u001b[0m 4ms/step - accuracy: 0.7816 - loss: 0.4657 - val_accuracy: 0.7839 - val_loss: 0.4558\n",
      "Epoch 24/30\n",
      "\u001b[1m242/242\u001b[0m \u001b[32m━━━━━━━━━━━━━━━━━━━━\u001b[0m\u001b[37m\u001b[0m \u001b[1m1s\u001b[0m 4ms/step - accuracy: 0.7931 - loss: 0.4544 - val_accuracy: 0.7870 - val_loss: 0.4640\n",
      "Epoch 25/30\n",
      "\u001b[1m242/242\u001b[0m \u001b[32m━━━━━━━━━━━━━━━━━━━━\u001b[0m\u001b[37m\u001b[0m \u001b[1m1s\u001b[0m 5ms/step - accuracy: 0.7917 - loss: 0.4538 - val_accuracy: 0.7902 - val_loss: 0.4456\n",
      "Epoch 26/30\n",
      "\u001b[1m242/242\u001b[0m \u001b[32m━━━━━━━━━━━━━━━━━━━━\u001b[0m\u001b[37m\u001b[0m \u001b[1m1s\u001b[0m 4ms/step - accuracy: 0.7884 - loss: 0.4555 - val_accuracy: 0.7642 - val_loss: 0.4727\n",
      "Epoch 27/30\n",
      "\u001b[1m242/242\u001b[0m \u001b[32m━━━━━━━━━━━━━━━━━━━━\u001b[0m\u001b[37m\u001b[0m \u001b[1m1s\u001b[0m 4ms/step - accuracy: 0.7926 - loss: 0.4399 - val_accuracy: 0.7990 - val_loss: 0.4456\n",
      "Epoch 28/30\n",
      "\u001b[1m242/242\u001b[0m \u001b[32m━━━━━━━━━━━━━━━━━━━━\u001b[0m\u001b[37m\u001b[0m \u001b[1m1s\u001b[0m 4ms/step - accuracy: 0.7914 - loss: 0.4518 - val_accuracy: 0.7922 - val_loss: 0.4541\n",
      "Epoch 29/30\n",
      "\u001b[1m242/242\u001b[0m \u001b[32m━━━━━━━━━━━━━━━━━━━━\u001b[0m\u001b[37m\u001b[0m \u001b[1m1s\u001b[0m 5ms/step - accuracy: 0.7868 - loss: 0.4555 - val_accuracy: 0.7839 - val_loss: 0.4557\n",
      "Epoch 30/30\n",
      "\u001b[1m242/242\u001b[0m \u001b[32m━━━━━━━━━━━━━━━━━━━━\u001b[0m\u001b[37m\u001b[0m \u001b[1m1s\u001b[0m 5ms/step - accuracy: 0.7914 - loss: 0.4476 - val_accuracy: 0.8021 - val_loss: 0.4290\n"
     ]
    }
   ],
   "source": [
    "history = model.fit(\n",
    "    SMSSpamCollection_tf_data_train,\n",
    "    validation_data=SMSSpamCollection_tf_data_valid,\n",
    "    epochs=30,\n",
    ")"
   ]
  },
  {
   "cell_type": "code",
   "execution_count": 27,
   "metadata": {},
   "outputs": [
    {
     "name": "stdout",
     "output_type": "stream",
     "text": [
      "\u001b[1m61/61\u001b[0m \u001b[32m━━━━━━━━━━━━━━━━━━━━\u001b[0m\u001b[37m\u001b[0m \u001b[1m0s\u001b[0m 5ms/step - accuracy: 0.7625 - loss: 0.4646\n",
      "Evaluation on validation data (loaded model): [0.4575423300266266, 0.772020697593689]\n"
     ]
    }
   ],
   "source": [
    "# Evaluasi model yang dimuat\n",
    "loaded_evaluation = model.evaluate(SMSSpamCollection_tf_data_valid)\n",
    "print(f'Evaluation on validation data (loaded model): {loaded_evaluation}')"
   ]
  },
  {
   "cell_type": "code",
   "execution_count": 28,
   "metadata": {},
   "outputs": [
    {
     "data": {
      "image/png": "[encoded data removed]",
      "text/plain": [
       "<Figure size 1200x1000 with 2 Axes>"
      ]
     },
     "metadata": {},
     "output_type": "display_data"
    },
    {
     "name": "stdout",
     "output_type": "stream",
     "text": [
      "Classification Report:\n",
      "              precision    recall  f1-score   support\n",
      "\n",
      "         0.0       0.78      0.79      0.79       972\n",
      "         1.0       0.79      0.77      0.78       958\n",
      "\n",
      "    accuracy                           0.78      1930\n",
      "   macro avg       0.78      0.78      0.78      1930\n",
      "weighted avg       0.78      0.78      0.78      1930\n",
      "\n"
     ]
    }
   ],
   "source": [
    "evaluate_model(model, SMSSpamCollection_tf_data_valid, lb.classes_)"
   ]
  },
  {
   "cell_type": "markdown",
   "metadata": {},
   "source": [
    "---\n",
    "#### Hal ini menunjukkan bahwa 772 dari 971 pesan reguler (ham) diklasifikasikan dengan benar, sementara 739 dari 956 pesan spam diklasifikasikan dengan benar.\n",
    "---"
   ]
  }
 ],
 "metadata": {
  "kernelspec": {
   "display_name": "Python 3",
   "language": "python",
   "name": "python3"
  },
  "language_info": {
   "codemirror_mode": {
    "name": "ipython",
    "version": 3
   },
   "file_extension": ".py",
   "mimetype": "text/x-python",
   "name": "python",
   "nbconvert_exporter": "python",
   "pygments_lexer": "ipython3",
   "version": "3.9.2"
  }
 },
 "nbformat": 4,
 "nbformat_minor": 2
}
