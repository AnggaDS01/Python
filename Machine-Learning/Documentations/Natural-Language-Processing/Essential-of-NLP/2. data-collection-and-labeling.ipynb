{
 "cells": [
  {
   "cell_type": "markdown",
   "metadata": {},
   "source": [
    "## Mengumpulkan dan Melabeli Data dalam NLP\n",
    "\n",
    "Ketika kita ingin memproses data teks dari web, biasanya data tersebut tidak memiliki label. Artinya, data tersebut tidak bisa langsung digunakan dalam model yang diawasi (supervised). Namun, data ini tetap berguna. Dengan menggunakan **transfer learning**, kita bisa melatih model bahasa menggunakan metode yang tidak diawasi (unsupervised) atau semi-diawasi (semi-supervised). Model ini kemudian bisa digunakan dengan dataset pelatihan kecil yang spesifik untuk tugas tertentu.\n",
    "\n",
    "**Apa itu Transfer Learning?** Transfer learning adalah teknik di mana model yang sudah dilatih pada satu tugas digunakan kembali untuk tugas lain. Misalnya, kita bisa melatih model bahasa besar dengan data yang tidak berlabel, lalu menggunakan model ini untuk tugas spesifik seperti klasifikasi spam dengan dataset kecil yang berlabel.\n",
    "\n",
    "**Langkah Melabeli Data**: Setelah mengumpulkan data teks, langkah berikutnya adalah melabeli data tersebut dengan kelas yang tepat. Contohnya:\n",
    "- **Klasifikasi Spam**: Jika tugasnya adalah membuat pengklasifikasi spam untuk email, kita perlu mengumpulkan banyak email. Langkah melabeli adalah memberi label \"spam\" atau \"bukan spam\" pada setiap email.\n",
    "- **Deteksi Sentimen**: Jika tugasnya adalah mendeteksi sentimen pada tweet, kita perlu mengumpulkan banyak tweet. Langkah melabeli adalah memberi label sentimen seperti \"positif\", \"negatif\", atau \"netral\" pada setiap tweet.\n",
    "- **Ringkasan Artikel Berita**: Jika tugasnya adalah merangkum artikel berita, kita perlu mengumpulkan banyak artikel berita. Langkah melabeli adalah membuat ringkasan untuk setiap artikel.\n",
    "\n",
    "**Tantangan dalam Melabeli Data**: Melabeli data bisa sangat memakan waktu dan sumber daya. Oleh karena itu, ada banyak fokus pada pendekatan semi-diawasi untuk melabeli data. Misalnya, kita bisa menggunakan perpustakaan seperti Snorkel untuk melabeli data dalam skala besar dengan metode semi-diawasi.\n",
    "\n",
    "**Dataset yang Tersedia Secara Publik**: Ada banyak dataset yang tersedia di web untuk melatih model. Dengan menggunakan transfer learning, dataset umum ini bisa digunakan untuk memulai model pembelajaran mesin, lalu kita bisa menggunakan sedikit data spesifik domain untuk menyempurnakan model. Keuntungan menggunakan dataset publik adalah:\n",
    "1. Pengumpulan data sudah dilakukan.\n",
    "2. Pelabelan sudah dilakukan.\n",
    "3. Kita bisa membandingkan hasil dengan standar terkini karena banyak makalah penelitian menggunakan dataset spesifik dan mempublikasikan benchmark.\n",
    "\n",
    "Contoh dataset yang sering digunakan adalah **Stanford Question Answering Dataset (SQuAD)**, yang sering digunakan sebagai benchmark untuk model tanya jawab."
   ]
  },
  {
   "cell_type": "code",
   "execution_count": 1,
   "metadata": {},
   "outputs": [],
   "source": [
    "import sys\n",
    "from pathlib import Path\n",
    "\n",
    "config_path = Path('../../Natural-Language-Processing')\n",
    "sys.path.append(str(config_path))"
   ]
  },
  {
   "cell_type": "code",
   "execution_count": 2,
   "metadata": {},
   "outputs": [
    {
     "name": "stdout",
     "output_type": "stream",
     "text": [
      "tensorflow version: 2.17.0\n",
      "sklearn version: 1.5.1\n",
      "imblearn version: 0.12.3\n",
      "spacy version: 3.7.5\n",
      "numpy version: 1.26.2\n",
      "pandas version: 2.1.3\n",
      "matplotlib version: 3.9.0\n",
      "seaborn version: 0.13.2\n"
     ]
    }
   ],
   "source": [
    "from config import \\\n",
    "    DATASET_PATH, \\\n",
    "    MODEL_PATH, \\\n",
    "    BATCH_SIZE, \\\n",
    "    TRAIN_PROPORTION, \\\n",
    "    INPUT_SHAPE, \\\n",
    "    NUM_LABEL, \\\n",
    "    OPTIMIZER, \\\n",
    "    LOSS, \\\n",
    "    METRICS\n",
    "\n",
    "from Src import DatasetSplitter, SpamLDetectionModel\n",
    "from Src import evaluate_model, minmax_scaling_tf\n",
    "\n",
    "from sklearn.preprocessing import LabelBinarizer\n",
    "from imblearn.over_sampling import SMOTE\n",
    "\n",
    "import sklearn\n",
    "import imblearn\n",
    "import matplotlib\n",
    "import unicodedata\n",
    "import spacy\n",
    "\n",
    "import tensorflow as tf \n",
    "import pandas as pd\n",
    "import numpy as np\n",
    "import seaborn as sns\n",
    "\n",
    "print(f'tensorflow version: {tf.__version__}')\n",
    "print(f'sklearn version: {sklearn.__version__}')\n",
    "print(f'imblearn version: {imblearn.__version__}')\n",
    "print(f'spacy version: {spacy.__version__}')\n",
    "print(f'numpy version: {np.__version__}')\n",
    "print(f'pandas version: {pd.__version__}')\n",
    "print(f'matplotlib version: {matplotlib.__version__}')\n",
    "print(f'seaborn version: {sns.__version__}')"
   ]
  },
  {
   "cell_type": "code",
   "execution_count": 3,
   "metadata": {},
   "outputs": [
    {
     "data": {
      "text/plain": [
       "'ham\\tGo until jurong point, crazy.. Available only in bugis n great world la e buffet... Cine there got amore wat...'"
      ]
     },
     "metadata": {},
     "output_type": "display_data"
    },
    {
     "data": {
      "text/plain": [
       "'ham\\tOk lar... Joking wif u oni...'"
      ]
     },
     "metadata": {},
     "output_type": "display_data"
    },
    {
     "data": {
      "text/plain": [
       "\"spam\\tFree entry in 2 a wkly comp to win FA Cup final tkts 21st May 2005. Text FA to 87121 to receive entry question(std txt rate)T&C's apply 08452810075over18's\""
      ]
     },
     "metadata": {},
     "output_type": "display_data"
    },
    {
     "data": {
      "text/plain": [
       "'ham\\tU dun say so early hor... U c already then say...'"
      ]
     },
     "metadata": {},
     "output_type": "display_data"
    },
    {
     "data": {
      "text/plain": [
       "\"ham\\tNah I don't think he goes to usf, he lives around here though\""
      ]
     },
     "metadata": {},
     "output_type": "display_data"
    }
   ],
   "source": [
    "with open(DATASET_PATH, 'r') as file:\n",
    "    for idx, line in enumerate(file, 1):\n",
    "        line = line.strip()\n",
    "        display(line)\n",
    "        if idx == 5:\n",
    "            break"
   ]
  },
  {
   "cell_type": "code",
   "execution_count": 4,
   "metadata": {},
   "outputs": [],
   "source": [
    "df = pd.read_csv(DATASET_PATH, sep='\\t', names=['label', 'message'])"
   ]
  },
  {
   "cell_type": "code",
   "execution_count": 5,
   "metadata": {},
   "outputs": [
    {
     "data": {
      "text/html": [
       "<div>\n",
       "<style scoped>\n",
       "    .dataframe tbody tr th:only-of-type {\n",
       "        vertical-align: middle;\n",
       "    }\n",
       "\n",
       "    .dataframe tbody tr th {\n",
       "        vertical-align: top;\n",
       "    }\n",
       "\n",
       "    .dataframe thead th {\n",
       "        text-align: right;\n",
       "    }\n",
       "</style>\n",
       "<table border=\"1\" class=\"dataframe\">\n",
       "  <thead>\n",
       "    <tr style=\"text-align: right;\">\n",
       "      <th></th>\n",
       "      <th>label</th>\n",
       "      <th>message</th>\n",
       "    </tr>\n",
       "  </thead>\n",
       "  <tbody>\n",
       "    <tr>\n",
       "      <th>0</th>\n",
       "      <td>ham</td>\n",
       "      <td>Go until jurong point, crazy.. Available only ...</td>\n",
       "    </tr>\n",
       "    <tr>\n",
       "      <th>1</th>\n",
       "      <td>ham</td>\n",
       "      <td>Ok lar... Joking wif u oni...</td>\n",
       "    </tr>\n",
       "    <tr>\n",
       "      <th>2</th>\n",
       "      <td>spam</td>\n",
       "      <td>Free entry in 2 a wkly comp to win FA Cup fina...</td>\n",
       "    </tr>\n",
       "    <tr>\n",
       "      <th>3</th>\n",
       "      <td>ham</td>\n",
       "      <td>U dun say so early hor... U c already then say...</td>\n",
       "    </tr>\n",
       "    <tr>\n",
       "      <th>4</th>\n",
       "      <td>ham</td>\n",
       "      <td>Nah I don't think he goes to usf, he lives aro...</td>\n",
       "    </tr>\n",
       "  </tbody>\n",
       "</table>\n",
       "</div>"
      ],
      "text/plain": [
       "  label                                            message\n",
       "0   ham  Go until jurong point, crazy.. Available only ...\n",
       "1   ham                      Ok lar... Joking wif u oni...\n",
       "2  spam  Free entry in 2 a wkly comp to win FA Cup fina...\n",
       "3   ham  U dun say so early hor... U c already then say...\n",
       "4   ham  Nah I don't think he goes to usf, he lives aro..."
      ]
     },
     "execution_count": 5,
     "metadata": {},
     "output_type": "execute_result"
    }
   ],
   "source": [
    "df[:5]"
   ]
  },
  {
   "cell_type": "markdown",
   "metadata": {},
   "source": [
    "## Normalisasi Teks dalam NLP\n",
    "\n",
    "**Normalisasi teks** adalah langkah awal dalam pemrosesan teks yang bertujuan untuk meningkatkan kualitas teks dan membuatnya lebih mudah diproses oleh mesin. Ada empat langkah utama dalam normalisasi teks:\n",
    "\n",
    "1. **Normalisasi Huruf Besar-Kecil (Case Normalization)**\n",
    "2. **Tokenisasi dan Penghapusan Kata Umum (Stop Word Removal)**\n",
    "3. **Penandaan Bagian dari Ucapan (Parts-of-Speech Tagging)**\n",
    "4. **Stemming**\n",
    "\n",
    "#### 1. Normalisasi Huruf Besar-Kecil\n",
    "Normalisasi huruf besar-kecil berlaku untuk bahasa yang menggunakan huruf besar dan kecil, seperti alfabet Latin atau Sirilik (misalnya, bahasa Rusia dan Mongolia). Dalam langkah ini, semua huruf diubah menjadi huruf kecil atau besar. Ini membantu dalam kasus penggunaan semantik, tetapi bisa mengurangi kinerja dalam beberapa kasus lain. Misalnya, pesan spam mungkin memiliki lebih banyak kata dengan huruf besar dibandingkan pesan biasa.\n",
    "\n",
    "#### 2. Tokenisasi dan Penghapusan Kata Umum\n",
    "Tokenisasi adalah proses memecah teks menjadi unit-unit kecil seperti kata atau frasa. Setelah itu, kata-kata umum yang tidak memberikan banyak informasi (seperti \"dan\", \"atau\", \"tetapi\") dihapus. Ini membantu fokus pada kata-kata yang lebih penting.\n",
    "\n",
    "#### 3. Penandaan Bagian dari Ucapan (POS Tagging)\n",
    "Penandaan bagian dari ucapan adalah proses memberi label pada setiap kata dalam teks dengan kategori gramatikalnya, seperti kata benda, kata kerja, atau kata sifat. Ini membantu memahami struktur kalimat dan hubungan antar kata.\n",
    "\n",
    "#### 4. Stemming\n",
    "Stemming adalah proses mengubah kata ke bentuk dasarnya. Misalnya, kata \"running\" diubah menjadi \"run\". Ini membantu mengurangi variasi kata sehingga mesin bisa lebih mudah memprosesnya.\n",
    "\n",
    "#### Contoh Normalisasi Teks\n",
    "Misalkan kita ingin membangun model dasar dengan tiga fitur sederhana:\n",
    "- Jumlah karakter dalam pesan\n",
    "- Jumlah huruf besar dalam pesan\n",
    "- Jumlah simbol tanda baca dalam pesan\n",
    "\n",
    "Langkah-langkah normalisasi ini membantu kita mempersiapkan teks agar lebih mudah dianalisis dan diproses oleh model pembelajaran mesin."
   ]
  },
  {
   "cell_type": "code",
   "execution_count": 6,
   "metadata": {},
   "outputs": [],
   "source": [
    "# Normalization functions\n",
    "\n",
    "def message_length(x):\n",
    "    # returns total number of characters\n",
    "    return len(x)\n",
    "\n",
    "def num_capitals(x):\n",
    "    count = sum(1 for char in x if char.isupper())\n",
    "    return count\n",
    "\n",
    "def num_punctuation(x):\n",
    "    count = sum(1 for char in x if unicodedata.category(char).startswith('P'))\n",
    "    return count"
   ]
  },
  {
   "cell_type": "code",
   "execution_count": 7,
   "metadata": {},
   "outputs": [],
   "source": [
    "df_copy = df.copy(deep=True)\n",
    "\n",
    "lb = LabelBinarizer()\n",
    "df_copy['label'] = lb.fit_transform(df_copy['label'])\n",
    "df_copy['Capitals'] = df_copy['message'].apply(num_capitals)\n",
    "df_copy['Punctuation'] = df_copy['message'].apply(num_punctuation)\n",
    "df_copy['Length'] = df_copy['message'].apply(message_length)"
   ]
  },
  {
   "cell_type": "code",
   "execution_count": 8,
   "metadata": {},
   "outputs": [
    {
     "data": {
      "text/html": [
       "<div>\n",
       "<style scoped>\n",
       "    .dataframe tbody tr th:only-of-type {\n",
       "        vertical-align: middle;\n",
       "    }\n",
       "\n",
       "    .dataframe tbody tr th {\n",
       "        vertical-align: top;\n",
       "    }\n",
       "\n",
       "    .dataframe thead th {\n",
       "        text-align: right;\n",
       "    }\n",
       "</style>\n",
       "<table border=\"1\" class=\"dataframe\">\n",
       "  <thead>\n",
       "    <tr style=\"text-align: right;\">\n",
       "      <th></th>\n",
       "      <th>label</th>\n",
       "      <th>message</th>\n",
       "      <th>Capitals</th>\n",
       "      <th>Punctuation</th>\n",
       "      <th>Length</th>\n",
       "    </tr>\n",
       "  </thead>\n",
       "  <tbody>\n",
       "    <tr>\n",
       "      <th>0</th>\n",
       "      <td>0</td>\n",
       "      <td>Go until jurong point, crazy.. Available only ...</td>\n",
       "      <td>3</td>\n",
       "      <td>9</td>\n",
       "      <td>111</td>\n",
       "    </tr>\n",
       "    <tr>\n",
       "      <th>1</th>\n",
       "      <td>0</td>\n",
       "      <td>Ok lar... Joking wif u oni...</td>\n",
       "      <td>2</td>\n",
       "      <td>6</td>\n",
       "      <td>29</td>\n",
       "    </tr>\n",
       "    <tr>\n",
       "      <th>2</th>\n",
       "      <td>1</td>\n",
       "      <td>Free entry in 2 a wkly comp to win FA Cup fina...</td>\n",
       "      <td>10</td>\n",
       "      <td>6</td>\n",
       "      <td>155</td>\n",
       "    </tr>\n",
       "    <tr>\n",
       "      <th>3</th>\n",
       "      <td>0</td>\n",
       "      <td>U dun say so early hor... U c already then say...</td>\n",
       "      <td>2</td>\n",
       "      <td>6</td>\n",
       "      <td>49</td>\n",
       "    </tr>\n",
       "    <tr>\n",
       "      <th>4</th>\n",
       "      <td>0</td>\n",
       "      <td>Nah I don't think he goes to usf, he lives aro...</td>\n",
       "      <td>2</td>\n",
       "      <td>2</td>\n",
       "      <td>61</td>\n",
       "    </tr>\n",
       "  </tbody>\n",
       "</table>\n",
       "</div>"
      ],
      "text/plain": [
       "   label                                            message  Capitals  \\\n",
       "0      0  Go until jurong point, crazy.. Available only ...         3   \n",
       "1      0                      Ok lar... Joking wif u oni...         2   \n",
       "2      1  Free entry in 2 a wkly comp to win FA Cup fina...        10   \n",
       "3      0  U dun say so early hor... U c already then say...         2   \n",
       "4      0  Nah I don't think he goes to usf, he lives aro...         2   \n",
       "\n",
       "   Punctuation  Length  \n",
       "0            9     111  \n",
       "1            6      29  \n",
       "2            6     155  \n",
       "3            6      49  \n",
       "4            2      61  "
      ]
     },
     "execution_count": 8,
     "metadata": {},
     "output_type": "execute_result"
    }
   ],
   "source": [
    "df_copy[:5]"
   ]
  },
  {
   "cell_type": "code",
   "execution_count": 9,
   "metadata": {},
   "outputs": [
    {
     "data": {
      "text/plain": [
       "label\n",
       "0    4825\n",
       "1     747\n",
       "Name: count, dtype: int64"
      ]
     },
     "execution_count": 9,
     "metadata": {},
     "output_type": "execute_result"
    }
   ],
   "source": [
    "df_copy['label'].value_counts()"
   ]
  },
  {
   "cell_type": "code",
   "execution_count": 10,
   "metadata": {},
   "outputs": [
    {
     "name": "stdout",
     "output_type": "stream",
     "text": [
      "message: Go until jurong point, crazy.. Available only in bugis n great world la e buffet... Cine there got amore wat...\n",
      "label: 0\n",
      "Capitals         3\n",
      "Punctuation      9\n",
      "Length         111\n",
      "Name: 0, dtype: object\n"
     ]
    }
   ],
   "source": [
    "idx=0\n",
    "print(f\"message: {df_copy.loc[idx, 'message']}\")\n",
    "print(f\"label: {df_copy.loc[idx, 'label']}\")\n",
    "print(df_copy.loc[idx, 'Capitals':'Length'])"
   ]
  },
  {
   "cell_type": "code",
   "execution_count": 11,
   "metadata": {},
   "outputs": [
    {
     "data": {
      "text/html": [
       "<div>\n",
       "<style scoped>\n",
       "    .dataframe tbody tr th:only-of-type {\n",
       "        vertical-align: middle;\n",
       "    }\n",
       "\n",
       "    .dataframe tbody tr th {\n",
       "        vertical-align: top;\n",
       "    }\n",
       "\n",
       "    .dataframe thead th {\n",
       "        text-align: right;\n",
       "    }\n",
       "</style>\n",
       "<table border=\"1\" class=\"dataframe\">\n",
       "  <thead>\n",
       "    <tr style=\"text-align: right;\">\n",
       "      <th></th>\n",
       "      <th>label</th>\n",
       "      <th>Capitals</th>\n",
       "      <th>Punctuation</th>\n",
       "      <th>Length</th>\n",
       "    </tr>\n",
       "  </thead>\n",
       "  <tbody>\n",
       "    <tr>\n",
       "      <th>count</th>\n",
       "      <td>5572.000000</td>\n",
       "      <td>5572.000000</td>\n",
       "      <td>5572.000000</td>\n",
       "      <td>5572.000000</td>\n",
       "    </tr>\n",
       "    <tr>\n",
       "      <th>mean</th>\n",
       "      <td>0.134063</td>\n",
       "      <td>5.633345</td>\n",
       "      <td>4.139268</td>\n",
       "      <td>80.489950</td>\n",
       "    </tr>\n",
       "    <tr>\n",
       "      <th>std</th>\n",
       "      <td>0.340751</td>\n",
       "      <td>11.711637</td>\n",
       "      <td>4.568942</td>\n",
       "      <td>59.942907</td>\n",
       "    </tr>\n",
       "    <tr>\n",
       "      <th>min</th>\n",
       "      <td>0.000000</td>\n",
       "      <td>0.000000</td>\n",
       "      <td>0.000000</td>\n",
       "      <td>2.000000</td>\n",
       "    </tr>\n",
       "    <tr>\n",
       "      <th>25%</th>\n",
       "      <td>0.000000</td>\n",
       "      <td>1.000000</td>\n",
       "      <td>2.000000</td>\n",
       "      <td>36.000000</td>\n",
       "    </tr>\n",
       "    <tr>\n",
       "      <th>50%</th>\n",
       "      <td>0.000000</td>\n",
       "      <td>2.000000</td>\n",
       "      <td>3.000000</td>\n",
       "      <td>62.000000</td>\n",
       "    </tr>\n",
       "    <tr>\n",
       "      <th>75%</th>\n",
       "      <td>0.000000</td>\n",
       "      <td>4.000000</td>\n",
       "      <td>6.000000</td>\n",
       "      <td>122.000000</td>\n",
       "    </tr>\n",
       "    <tr>\n",
       "      <th>max</th>\n",
       "      <td>1.000000</td>\n",
       "      <td>138.000000</td>\n",
       "      <td>133.000000</td>\n",
       "      <td>910.000000</td>\n",
       "    </tr>\n",
       "  </tbody>\n",
       "</table>\n",
       "</div>"
      ],
      "text/plain": [
       "             label     Capitals  Punctuation       Length\n",
       "count  5572.000000  5572.000000  5572.000000  5572.000000\n",
       "mean      0.134063     5.633345     4.139268    80.489950\n",
       "std       0.340751    11.711637     4.568942    59.942907\n",
       "min       0.000000     0.000000     0.000000     2.000000\n",
       "25%       0.000000     1.000000     2.000000    36.000000\n",
       "50%       0.000000     2.000000     3.000000    62.000000\n",
       "75%       0.000000     4.000000     6.000000   122.000000\n",
       "max       1.000000   138.000000   133.000000   910.000000"
      ]
     },
     "execution_count": 11,
     "metadata": {},
     "output_type": "execute_result"
    }
   ],
   "source": [
    "df_copy.describe()"
   ]
  },
  {
   "cell_type": "code",
   "execution_count": 12,
   "metadata": {},
   "outputs": [],
   "source": [
    "X = df_copy.drop(columns=['label', 'message'])\n",
    "y = df_copy['label']\n",
    "\n",
    "smote = SMOTE(random_state=42)\n",
    "X_resampled, y_resampled = smote.fit_resample(X, y)"
   ]
  },
  {
   "cell_type": "code",
   "execution_count": 13,
   "metadata": {},
   "outputs": [
    {
     "data": {
      "text/plain": [
       "label\n",
       "0    4825\n",
       "1    4825\n",
       "Name: count, dtype: int64"
      ]
     },
     "execution_count": 13,
     "metadata": {},
     "output_type": "execute_result"
    }
   ],
   "source": [
    "y_resampled.value_counts()"
   ]
  },
  {
   "cell_type": "code",
   "execution_count": 14,
   "metadata": {},
   "outputs": [],
   "source": [
    "SMSSpamCollection_tf_data = tf.data.Dataset.from_tensor_slices((X_resampled, y_resampled))"
   ]
  },
  {
   "cell_type": "code",
   "execution_count": 15,
   "metadata": {},
   "outputs": [
    {
     "name": "stdout",
     "output_type": "stream",
     "text": [
      "info train data: <_TensorSliceDataset element_spec=(TensorSpec(shape=(3,), dtype=tf.int64, name=None), TensorSpec(shape=(), dtype=tf.int32, name=None))>\n",
      "number of train data: 9650\n"
     ]
    }
   ],
   "source": [
    "print(f'info train data: {SMSSpamCollection_tf_data}')\n",
    "print(f'number of train data: {len(SMSSpamCollection_tf_data)}')"
   ]
  },
  {
   "cell_type": "code",
   "execution_count": 16,
   "metadata": {},
   "outputs": [
    {
     "name": "stdout",
     "output_type": "stream",
     "text": [
      "data: [  3   9 111]\n",
      "label: 0 --> ham\n",
      "\n",
      "data: [ 2  6 29]\n",
      "label: 0 --> ham\n",
      "\n",
      "data: [ 10   6 155]\n",
      "label: 1 --> spam\n",
      "\n"
     ]
    }
   ],
   "source": [
    "for data, label in SMSSpamCollection_tf_data.skip(0).take(3):\n",
    "    label_str = lb.inverse_transform(np.array(label))\n",
    "    print(f'data: {data}')\n",
    "    print(f'label: {label} --> {label_str[0]}')\n",
    "    print()"
   ]
  },
  {
   "cell_type": "code",
   "execution_count": 17,
   "metadata": {},
   "outputs": [],
   "source": [
    "SMSSpamCollection_tf_data_scaled = SMSSpamCollection_tf_data.map( \n",
    "    map_func=lambda features, label: minmax_scaling_tf(features, label, feature_range=(0, 1)),\n",
    "    num_parallel_calls=tf.data.AUTOTUNE\n",
    ")\n",
    "SMSSpamCollection_tf_data_cached = SMSSpamCollection_tf_data_scaled.cache()"
   ]
  },
  {
   "cell_type": "code",
   "execution_count": 18,
   "metadata": {},
   "outputs": [
    {
     "name": "stdout",
     "output_type": "stream",
     "text": [
      "info train data: <CacheDataset element_spec=(TensorSpec(shape=(3,), dtype=tf.float32, name=None), TensorSpec(shape=(), dtype=tf.uint8, name=None))>\n",
      "number of train data: 9650\n"
     ]
    }
   ],
   "source": [
    "print(f'info train data: {SMSSpamCollection_tf_data_cached}')\n",
    "print(f'number of train data: {len(SMSSpamCollection_tf_data_cached)}')"
   ]
  },
  {
   "cell_type": "code",
   "execution_count": 19,
   "metadata": {},
   "outputs": [
    {
     "name": "stdout",
     "output_type": "stream",
     "text": [
      "data: [0.         0.05555556 1.        ]\n",
      "label: 0 --> ham\n",
      "\n",
      "data: [0.         0.14814815 1.        ]\n",
      "label: 0 --> ham\n",
      "\n",
      "data: [0.02684564 0.         1.        ]\n",
      "label: 1 --> spam\n",
      "\n"
     ]
    }
   ],
   "source": [
    "for data, label in SMSSpamCollection_tf_data_cached.skip(0).take(3):\n",
    "    label_str = lb.inverse_transform(np.array(label))\n",
    "    print(f'data: {data}')\n",
    "    print(f'label: {label} --> {label_str[0]}')\n",
    "    print()"
   ]
  },
  {
   "cell_type": "code",
   "execution_count": 20,
   "metadata": {},
   "outputs": [],
   "source": [
    "splitter = DatasetSplitter(batch_size=BATCH_SIZE, train_split=TRAIN_PROPORTION)"
   ]
  },
  {
   "cell_type": "code",
   "execution_count": 21,
   "metadata": {},
   "outputs": [
    {
     "name": "stdout",
     "output_type": "stream",
     "text": [
      "=================================== Training Dataset ===================================\n",
      "Info data: <_TakeDataset element_spec=(TensorSpec(shape=(3,), dtype=tf.float32, name=None), TensorSpec(shape=(), dtype=tf.uint8, name=None))>\n",
      "Training Split: 0.8\n",
      "Number of data: 7720\n",
      "AFTER BATCH: 32\n",
      "Number of data: 242\n",
      "=================================== Validation Dataset ===================================\n",
      "Info data: <_SkipDataset element_spec=(TensorSpec(shape=(3,), dtype=tf.float32, name=None), TensorSpec(shape=(), dtype=tf.uint8, name=None))>\n",
      "Validation Split: 0.2\n",
      "Number of data: 1930\n",
      "AFTER BATCH: 32\n",
      "Number of data: 61\n"
     ]
    }
   ],
   "source": [
    "SMSSpamCollection_tf_data_train, SMSSpamCollection_tf_data_valid = splitter.split_and_prepare(SMSSpamCollection_tf_data_cached)"
   ]
  },
  {
   "cell_type": "markdown",
   "metadata": {},
   "source": [
    "## Model Building"
   ]
  },
  {
   "cell_type": "code",
   "execution_count": 22,
   "metadata": {},
   "outputs": [
    {
     "data": {
      "text/html": [
       "<pre style=\"white-space:pre;overflow-x:auto;line-height:normal;font-family:Menlo,'DejaVu Sans Mono',consolas,'Courier New',monospace\"><span style=\"font-weight: bold\">Model: \"functional\"</span>\n",
       "</pre>\n"
      ],
      "text/plain": [
       "\u001b[1mModel: \"functional\"\u001b[0m\n"
      ]
     },
     "metadata": {},
     "output_type": "display_data"
    },
    {
     "data": {
      "text/html": [
       "<pre style=\"white-space:pre;overflow-x:auto;line-height:normal;font-family:Menlo,'DejaVu Sans Mono',consolas,'Courier New',monospace\">┏━━━━━━━━━━━━━━━━━━━━━━━━━━━━━━━━━┳━━━━━━━━━━━━━━━━━━━━━━━━┳━━━━━━━━━━━━━━━┓\n",
       "┃<span style=\"font-weight: bold\"> Layer (type)                    </span>┃<span style=\"font-weight: bold\"> Output Shape           </span>┃<span style=\"font-weight: bold\">       Param # </span>┃\n",
       "┡━━━━━━━━━━━━━━━━━━━━━━━━━━━━━━━━━╇━━━━━━━━━━━━━━━━━━━━━━━━╇━━━━━━━━━━━━━━━┩\n",
       "│ input_layer (<span style=\"color: #0087ff; text-decoration-color: #0087ff\">InputLayer</span>)        │ (<span style=\"color: #00d7ff; text-decoration-color: #00d7ff\">None</span>, <span style=\"color: #00af00; text-decoration-color: #00af00\">3</span>)              │             <span style=\"color: #00af00; text-decoration-color: #00af00\">0</span> │\n",
       "├─────────────────────────────────┼────────────────────────┼───────────────┤\n",
       "│ dense (<span style=\"color: #0087ff; text-decoration-color: #0087ff\">Dense</span>)                   │ (<span style=\"color: #00d7ff; text-decoration-color: #00d7ff\">None</span>, <span style=\"color: #00af00; text-decoration-color: #00af00\">12</span>)             │            <span style=\"color: #00af00; text-decoration-color: #00af00\">48</span> │\n",
       "├─────────────────────────────────┼────────────────────────┼───────────────┤\n",
       "│ dense_1 (<span style=\"color: #0087ff; text-decoration-color: #0087ff\">Dense</span>)                 │ (<span style=\"color: #00d7ff; text-decoration-color: #00d7ff\">None</span>, <span style=\"color: #00af00; text-decoration-color: #00af00\">1</span>)              │            <span style=\"color: #00af00; text-decoration-color: #00af00\">13</span> │\n",
       "└─────────────────────────────────┴────────────────────────┴───────────────┘\n",
       "</pre>\n"
      ],
      "text/plain": [
       "┏━━━━━━━━━━━━━━━━━━━━━━━━━━━━━━━━━┳━━━━━━━━━━━━━━━━━━━━━━━━┳━━━━━━━━━━━━━━━┓\n",
       "┃\u001b[1m \u001b[0m\u001b[1mLayer (type)                   \u001b[0m\u001b[1m \u001b[0m┃\u001b[1m \u001b[0m\u001b[1mOutput Shape          \u001b[0m\u001b[1m \u001b[0m┃\u001b[1m \u001b[0m\u001b[1m      Param #\u001b[0m\u001b[1m \u001b[0m┃\n",
       "┡━━━━━━━━━━━━━━━━━━━━━━━━━━━━━━━━━╇━━━━━━━━━━━━━━━━━━━━━━━━╇━━━━━━━━━━━━━━━┩\n",
       "│ input_layer (\u001b[38;5;33mInputLayer\u001b[0m)        │ (\u001b[38;5;45mNone\u001b[0m, \u001b[38;5;34m3\u001b[0m)              │             \u001b[38;5;34m0\u001b[0m │\n",
       "├─────────────────────────────────┼────────────────────────┼───────────────┤\n",
       "│ dense (\u001b[38;5;33mDense\u001b[0m)                   │ (\u001b[38;5;45mNone\u001b[0m, \u001b[38;5;34m12\u001b[0m)             │            \u001b[38;5;34m48\u001b[0m │\n",
       "├─────────────────────────────────┼────────────────────────┼───────────────┤\n",
       "│ dense_1 (\u001b[38;5;33mDense\u001b[0m)                 │ (\u001b[38;5;45mNone\u001b[0m, \u001b[38;5;34m1\u001b[0m)              │            \u001b[38;5;34m13\u001b[0m │\n",
       "└─────────────────────────────────┴────────────────────────┴───────────────┘\n"
      ]
     },
     "metadata": {},
     "output_type": "display_data"
    },
    {
     "data": {
      "text/html": [
       "<pre style=\"white-space:pre;overflow-x:auto;line-height:normal;font-family:Menlo,'DejaVu Sans Mono',consolas,'Courier New',monospace\"><span style=\"font-weight: bold\"> Total params: </span><span style=\"color: #00af00; text-decoration-color: #00af00\">61</span> (244.00 B)\n",
       "</pre>\n"
      ],
      "text/plain": [
       "\u001b[1m Total params: \u001b[0m\u001b[38;5;34m61\u001b[0m (244.00 B)\n"
      ]
     },
     "metadata": {},
     "output_type": "display_data"
    },
    {
     "data": {
      "text/html": [
       "<pre style=\"white-space:pre;overflow-x:auto;line-height:normal;font-family:Menlo,'DejaVu Sans Mono',consolas,'Courier New',monospace\"><span style=\"font-weight: bold\"> Trainable params: </span><span style=\"color: #00af00; text-decoration-color: #00af00\">61</span> (244.00 B)\n",
       "</pre>\n"
      ],
      "text/plain": [
       "\u001b[1m Trainable params: \u001b[0m\u001b[38;5;34m61\u001b[0m (244.00 B)\n"
      ]
     },
     "metadata": {},
     "output_type": "display_data"
    },
    {
     "data": {
      "text/html": [
       "<pre style=\"white-space:pre;overflow-x:auto;line-height:normal;font-family:Menlo,'DejaVu Sans Mono',consolas,'Courier New',monospace\"><span style=\"font-weight: bold\"> Non-trainable params: </span><span style=\"color: #00af00; text-decoration-color: #00af00\">0</span> (0.00 B)\n",
       "</pre>\n"
      ],
      "text/plain": [
       "\u001b[1m Non-trainable params: \u001b[0m\u001b[38;5;34m0\u001b[0m (0.00 B)\n"
      ]
     },
     "metadata": {},
     "output_type": "display_data"
    }
   ],
   "source": [
    "my_model=SpamLDetectionModel(\n",
    "    input_shape=INPUT_SHAPE, \n",
    "    num_classes=NUM_LABEL, \n",
    "    optimizer=OPTIMIZER,\n",
    "    loss=LOSS,\n",
    "    metrics=METRICS\n",
    ")\n",
    "my_model.model.summary()"
   ]
  },
  {
   "cell_type": "code",
   "execution_count": 23,
   "metadata": {},
   "outputs": [
    {
     "name": "stdout",
     "output_type": "stream",
     "text": [
      "Epoch 1/30\n"
     ]
    },
    {
     "name": "stdout",
     "output_type": "stream",
     "text": [
      "\u001b[1m224/242\u001b[0m \u001b[32m━━━━━━━━━━━━━━━━━━\u001b[0m\u001b[37m━━\u001b[0m \u001b[1m0s\u001b[0m 1ms/step - accuracy: 0.5167 - loss: 0.6926\n",
      "Epoch 1: val_loss improved from inf to 0.68177, saving model to c:\\Workspace\\Python\\Machine-Learning\\Documentations\\Natural-Language-Processing\\Essential-of-NLP\\Assets\\Model\\spamdetection_model_v1.keras\n",
      "\u001b[1m242/242\u001b[0m \u001b[32m━━━━━━━━━━━━━━━━━━━━\u001b[0m\u001b[37m\u001b[0m \u001b[1m1s\u001b[0m 2ms/step - accuracy: 0.5229 - loss: 0.6923 - val_accuracy: 0.7902 - val_loss: 0.6818\n",
      "Epoch 2/30\n",
      "\u001b[1m221/242\u001b[0m \u001b[32m━━━━━━━━━━━━━━━━━━\u001b[0m\u001b[37m━━\u001b[0m \u001b[1m0s\u001b[0m 1ms/step - accuracy: 0.7734 - loss: 0.6768\n",
      "Epoch 2: val_loss improved from 0.68177 to 0.66424, saving model to c:\\Workspace\\Python\\Machine-Learning\\Documentations\\Natural-Language-Processing\\Essential-of-NLP\\Assets\\Model\\spamdetection_model_v1.keras\n",
      "\u001b[1m242/242\u001b[0m \u001b[32m━━━━━━━━━━━━━━━━━━━━\u001b[0m\u001b[37m\u001b[0m \u001b[1m0s\u001b[0m 2ms/step - accuracy: 0.7715 - loss: 0.6766 - val_accuracy: 0.7834 - val_loss: 0.6642\n",
      "Epoch 3/30\n",
      "\u001b[1m214/242\u001b[0m \u001b[32m━━━━━━━━━━━━━━━━━\u001b[0m\u001b[37m━━━\u001b[0m \u001b[1m0s\u001b[0m 1ms/step - accuracy: 0.7748 - loss: 0.6617\n",
      "Epoch 3: val_loss improved from 0.66424 to 0.64751, saving model to c:\\Workspace\\Python\\Machine-Learning\\Documentations\\Natural-Language-Processing\\Essential-of-NLP\\Assets\\Model\\spamdetection_model_v1.keras\n",
      "\u001b[1m242/242\u001b[0m \u001b[32m━━━━━━━━━━━━━━━━━━━━\u001b[0m\u001b[37m\u001b[0m \u001b[1m0s\u001b[0m 2ms/step - accuracy: 0.7744 - loss: 0.6612 - val_accuracy: 0.7518 - val_loss: 0.6475\n",
      "Epoch 4/30\n",
      "\u001b[1m223/242\u001b[0m \u001b[32m━━━━━━━━━━━━━━━━━━\u001b[0m\u001b[37m━━\u001b[0m \u001b[1m0s\u001b[0m 1ms/step - accuracy: 0.7819 - loss: 0.6398\n",
      "Epoch 4: val_loss improved from 0.64751 to 0.62621, saving model to c:\\Workspace\\Python\\Machine-Learning\\Documentations\\Natural-Language-Processing\\Essential-of-NLP\\Assets\\Model\\spamdetection_model_v1.keras\n",
      "\u001b[1m242/242\u001b[0m \u001b[32m━━━━━━━━━━━━━━━━━━━━\u001b[0m\u001b[37m\u001b[0m \u001b[1m0s\u001b[0m 2ms/step - accuracy: 0.7815 - loss: 0.6393 - val_accuracy: 0.7751 - val_loss: 0.6262\n",
      "Epoch 5/30\n",
      "\u001b[1m216/242\u001b[0m \u001b[32m━━━━━━━━━━━━━━━━━\u001b[0m\u001b[37m━━━\u001b[0m \u001b[1m0s\u001b[0m 1ms/step - accuracy: 0.7909 - loss: 0.6117\n",
      "Epoch 5: val_loss improved from 0.62621 to 0.59629, saving model to c:\\Workspace\\Python\\Machine-Learning\\Documentations\\Natural-Language-Processing\\Essential-of-NLP\\Assets\\Model\\spamdetection_model_v1.keras\n",
      "\u001b[1m242/242\u001b[0m \u001b[32m━━━━━━━━━━━━━━━━━━━━\u001b[0m\u001b[37m\u001b[0m \u001b[1m0s\u001b[0m 2ms/step - accuracy: 0.7901 - loss: 0.6114 - val_accuracy: 0.7829 - val_loss: 0.5963\n",
      "Epoch 6/30\n",
      "\u001b[1m225/242\u001b[0m \u001b[32m━━━━━━━━━━━━━━━━━━\u001b[0m\u001b[37m━━\u001b[0m \u001b[1m0s\u001b[0m 1ms/step - accuracy: 0.7787 - loss: 0.5914\n",
      "Epoch 6: val_loss improved from 0.59629 to 0.57763, saving model to c:\\Workspace\\Python\\Machine-Learning\\Documentations\\Natural-Language-Processing\\Essential-of-NLP\\Assets\\Model\\spamdetection_model_v1.keras\n",
      "\u001b[1m242/242\u001b[0m \u001b[32m━━━━━━━━━━━━━━━━━━━━\u001b[0m\u001b[37m\u001b[0m \u001b[1m0s\u001b[0m 2ms/step - accuracy: 0.7789 - loss: 0.5910 - val_accuracy: 0.7834 - val_loss: 0.5776\n",
      "Epoch 7/30\n",
      "\u001b[1m195/242\u001b[0m \u001b[32m━━━━━━━━━━━━━━━━\u001b[0m\u001b[37m━━━━\u001b[0m \u001b[1m0s\u001b[0m 1ms/step - accuracy: 0.7792 - loss: 0.5730\n",
      "Epoch 7: val_loss improved from 0.57763 to 0.56403, saving model to c:\\Workspace\\Python\\Machine-Learning\\Documentations\\Natural-Language-Processing\\Essential-of-NLP\\Assets\\Model\\spamdetection_model_v1.keras\n",
      "\u001b[1m242/242\u001b[0m \u001b[32m━━━━━━━━━━━━━━━━━━━━\u001b[0m\u001b[37m\u001b[0m \u001b[1m0s\u001b[0m 2ms/step - accuracy: 0.7797 - loss: 0.5712 - val_accuracy: 0.7751 - val_loss: 0.5640\n",
      "Epoch 8/30\n",
      "\u001b[1m225/242\u001b[0m \u001b[32m━━━━━━━━━━━━━━━━━━\u001b[0m\u001b[37m━━\u001b[0m \u001b[1m0s\u001b[0m 1ms/step - accuracy: 0.7822 - loss: 0.5539\n",
      "Epoch 8: val_loss improved from 0.56403 to 0.53292, saving model to c:\\Workspace\\Python\\Machine-Learning\\Documentations\\Natural-Language-Processing\\Essential-of-NLP\\Assets\\Model\\spamdetection_model_v1.keras\n",
      "\u001b[1m242/242\u001b[0m \u001b[32m━━━━━━━━━━━━━━━━━━━━\u001b[0m\u001b[37m\u001b[0m \u001b[1m0s\u001b[0m 2ms/step - accuracy: 0.7823 - loss: 0.5536 - val_accuracy: 0.7979 - val_loss: 0.5329\n",
      "Epoch 9/30\n",
      "\u001b[1m206/242\u001b[0m \u001b[32m━━━━━━━━━━━━━━━━━\u001b[0m\u001b[37m━━━\u001b[0m \u001b[1m0s\u001b[0m 2ms/step - accuracy: 0.7780 - loss: 0.5409\n",
      "Epoch 9: val_loss improved from 0.53292 to 0.52193, saving model to c:\\Workspace\\Python\\Machine-Learning\\Documentations\\Natural-Language-Processing\\Essential-of-NLP\\Assets\\Model\\spamdetection_model_v1.keras\n",
      "\u001b[1m242/242\u001b[0m \u001b[32m━━━━━━━━━━━━━━━━━━━━\u001b[0m\u001b[37m\u001b[0m \u001b[1m0s\u001b[0m 2ms/step - accuracy: 0.7791 - loss: 0.5396 - val_accuracy: 0.7829 - val_loss: 0.5219\n",
      "Epoch 10/30\n",
      "\u001b[1m226/242\u001b[0m \u001b[32m━━━━━━━━━━━━━━━━━━\u001b[0m\u001b[37m━━\u001b[0m \u001b[1m0s\u001b[0m 1ms/step - accuracy: 0.7853 - loss: 0.5176\n",
      "Epoch 10: val_loss improved from 0.52193 to 0.49667, saving model to c:\\Workspace\\Python\\Machine-Learning\\Documentations\\Natural-Language-Processing\\Essential-of-NLP\\Assets\\Model\\spamdetection_model_v1.keras\n",
      "\u001b[1m242/242\u001b[0m \u001b[32m━━━━━━━━━━━━━━━━━━━━\u001b[0m\u001b[37m\u001b[0m \u001b[1m0s\u001b[0m 2ms/step - accuracy: 0.7853 - loss: 0.5176 - val_accuracy: 0.7943 - val_loss: 0.4967\n",
      "Epoch 11/30\n",
      "\u001b[1m225/242\u001b[0m \u001b[32m━━━━━━━━━━━━━━━━━━\u001b[0m\u001b[37m━━\u001b[0m \u001b[1m0s\u001b[0m 1ms/step - accuracy: 0.7779 - loss: 0.5113\n",
      "Epoch 11: val_loss did not improve from 0.49667\n",
      "\u001b[1m242/242\u001b[0m \u001b[32m━━━━━━━━━━━━━━━━━━━━\u001b[0m\u001b[37m\u001b[0m \u001b[1m0s\u001b[0m 1ms/step - accuracy: 0.7784 - loss: 0.5111 - val_accuracy: 0.7751 - val_loss: 0.5065\n",
      "Epoch 12/30\n",
      "\u001b[1m218/242\u001b[0m \u001b[32m━━━━━━━━━━━━━━━━━━\u001b[0m\u001b[37m━━\u001b[0m \u001b[1m0s\u001b[0m 1ms/step - accuracy: 0.7845 - loss: 0.5027\n",
      "Epoch 12: val_loss improved from 0.49667 to 0.49362, saving model to c:\\Workspace\\Python\\Machine-Learning\\Documentations\\Natural-Language-Processing\\Essential-of-NLP\\Assets\\Model\\spamdetection_model_v1.keras\n",
      "\u001b[1m242/242\u001b[0m \u001b[32m━━━━━━━━━━━━━━━━━━━━\u001b[0m\u001b[37m\u001b[0m \u001b[1m0s\u001b[0m 2ms/step - accuracy: 0.7850 - loss: 0.5023 - val_accuracy: 0.7881 - val_loss: 0.4936\n",
      "Epoch 13/30\n",
      "\u001b[1m226/242\u001b[0m \u001b[32m━━━━━━━━━━━━━━━━━━\u001b[0m\u001b[37m━━\u001b[0m \u001b[1m0s\u001b[0m 1ms/step - accuracy: 0.7872 - loss: 0.4938\n",
      "Epoch 13: val_loss improved from 0.49362 to 0.48743, saving model to c:\\Workspace\\Python\\Machine-Learning\\Documentations\\Natural-Language-Processing\\Essential-of-NLP\\Assets\\Model\\spamdetection_model_v1.keras\n",
      "\u001b[1m242/242\u001b[0m \u001b[32m━━━━━━━━━━━━━━━━━━━━\u001b[0m\u001b[37m\u001b[0m \u001b[1m0s\u001b[0m 2ms/step - accuracy: 0.7874 - loss: 0.4935 - val_accuracy: 0.7798 - val_loss: 0.4874\n",
      "Epoch 14/30\n",
      "\u001b[1m226/242\u001b[0m \u001b[32m━━━━━━━━━━━━━━━━━━\u001b[0m\u001b[37m━━\u001b[0m \u001b[1m0s\u001b[0m 1ms/step - accuracy: 0.7921 - loss: 0.4895\n",
      "Epoch 14: val_loss improved from 0.48743 to 0.48189, saving model to c:\\Workspace\\Python\\Machine-Learning\\Documentations\\Natural-Language-Processing\\Essential-of-NLP\\Assets\\Model\\spamdetection_model_v1.keras\n",
      "\u001b[1m242/242\u001b[0m \u001b[32m━━━━━━━━━━━━━━━━━━━━\u001b[0m\u001b[37m\u001b[0m \u001b[1m0s\u001b[0m 2ms/step - accuracy: 0.7918 - loss: 0.4893 - val_accuracy: 0.7777 - val_loss: 0.4819\n",
      "Epoch 15/30\n",
      "\u001b[1m223/242\u001b[0m \u001b[32m━━━━━━━━━━━━━━━━━━\u001b[0m\u001b[37m━━\u001b[0m \u001b[1m0s\u001b[0m 1ms/step - accuracy: 0.7866 - loss: 0.4777\n",
      "Epoch 15: val_loss improved from 0.48189 to 0.47131, saving model to c:\\Workspace\\Python\\Machine-Learning\\Documentations\\Natural-Language-Processing\\Essential-of-NLP\\Assets\\Model\\spamdetection_model_v1.keras\n",
      "\u001b[1m242/242\u001b[0m \u001b[32m━━━━━━━━━━━━━━━━━━━━\u001b[0m\u001b[37m\u001b[0m \u001b[1m0s\u001b[0m 2ms/step - accuracy: 0.7868 - loss: 0.4778 - val_accuracy: 0.7917 - val_loss: 0.4713\n",
      "Epoch 16/30\n",
      "\u001b[1m230/242\u001b[0m \u001b[32m━━━━━━━━━━━━━━━━━━━\u001b[0m\u001b[37m━\u001b[0m \u001b[1m0s\u001b[0m 1ms/step - accuracy: 0.7972 - loss: 0.4648\n",
      "Epoch 16: val_loss did not improve from 0.47131\n",
      "\u001b[1m242/242\u001b[0m \u001b[32m━━━━━━━━━━━━━━━━━━━━\u001b[0m\u001b[37m\u001b[0m \u001b[1m0s\u001b[0m 1ms/step - accuracy: 0.7966 - loss: 0.4654 - val_accuracy: 0.7746 - val_loss: 0.4752\n",
      "Epoch 17/30\n",
      "\u001b[1m239/242\u001b[0m \u001b[32m━━━━━━━━━━━━━━━━━━━\u001b[0m\u001b[37m━\u001b[0m \u001b[1m0s\u001b[0m 1ms/step - accuracy: 0.7860 - loss: 0.4754\n",
      "Epoch 17: val_loss did not improve from 0.47131\n",
      "\u001b[1m242/242\u001b[0m \u001b[32m━━━━━━━━━━━━━━━━━━━━\u001b[0m\u001b[37m\u001b[0m \u001b[1m0s\u001b[0m 1ms/step - accuracy: 0.7860 - loss: 0.4754 - val_accuracy: 0.7834 - val_loss: 0.4716\n",
      "Epoch 18/30\n",
      "\u001b[1m202/242\u001b[0m \u001b[32m━━━━━━━━━━━━━━━━\u001b[0m\u001b[37m━━━━\u001b[0m \u001b[1m0s\u001b[0m 1ms/step - accuracy: 0.8011 - loss: 0.4608\n",
      "Epoch 18: val_loss did not improve from 0.47131\n",
      "\u001b[1m242/242\u001b[0m \u001b[32m━━━━━━━━━━━━━━━━━━━━\u001b[0m\u001b[37m\u001b[0m \u001b[1m0s\u001b[0m 2ms/step - accuracy: 0.7989 - loss: 0.4625 - val_accuracy: 0.7948 - val_loss: 0.4735\n",
      "Epoch 19/30\n",
      "\u001b[1m204/242\u001b[0m \u001b[32m━━━━━━━━━━━━━━━━\u001b[0m\u001b[37m━━━━\u001b[0m \u001b[1m0s\u001b[0m 2ms/step - accuracy: 0.7931 - loss: 0.4569\n",
      "Epoch 19: val_loss did not improve from 0.47131\n",
      "\u001b[1m242/242\u001b[0m \u001b[32m━━━━━━━━━━━━━━━━━━━━\u001b[0m\u001b[37m\u001b[0m \u001b[1m0s\u001b[0m 2ms/step - accuracy: 0.7925 - loss: 0.4578 - val_accuracy: 0.7793 - val_loss: 0.4773\n",
      "Epoch 20/30\n",
      "\u001b[1m241/242\u001b[0m \u001b[32m━━━━━━━━━━━━━━━━━━━\u001b[0m\u001b[37m━\u001b[0m \u001b[1m0s\u001b[0m 1ms/step - accuracy: 0.7822 - loss: 0.4772\n",
      "Epoch 20: val_loss improved from 0.47131 to 0.45437, saving model to c:\\Workspace\\Python\\Machine-Learning\\Documentations\\Natural-Language-Processing\\Essential-of-NLP\\Assets\\Model\\spamdetection_model_v1.keras\n",
      "\u001b[1m242/242\u001b[0m \u001b[32m━━━━━━━━━━━━━━━━━━━━\u001b[0m\u001b[37m\u001b[0m \u001b[1m0s\u001b[0m 1ms/step - accuracy: 0.7823 - loss: 0.4771 - val_accuracy: 0.7912 - val_loss: 0.4544\n",
      "Epoch 21/30\n",
      "\u001b[1m206/242\u001b[0m \u001b[32m━━━━━━━━━━━━━━━━━\u001b[0m\u001b[37m━━━\u001b[0m \u001b[1m0s\u001b[0m 1ms/step - accuracy: 0.7901 - loss: 0.4621\n",
      "Epoch 21: val_loss improved from 0.45437 to 0.45001, saving model to c:\\Workspace\\Python\\Machine-Learning\\Documentations\\Natural-Language-Processing\\Essential-of-NLP\\Assets\\Model\\spamdetection_model_v1.keras\n",
      "\u001b[1m242/242\u001b[0m \u001b[32m━━━━━━━━━━━━━━━━━━━━\u001b[0m\u001b[37m\u001b[0m \u001b[1m0s\u001b[0m 2ms/step - accuracy: 0.7904 - loss: 0.4613 - val_accuracy: 0.7959 - val_loss: 0.4500\n",
      "Epoch 22/30\n",
      "\u001b[1m221/242\u001b[0m \u001b[32m━━━━━━━━━━━━━━━━━━\u001b[0m\u001b[37m━━\u001b[0m \u001b[1m0s\u001b[0m 1ms/step - accuracy: 0.7863 - loss: 0.4610\n",
      "Epoch 22: val_loss did not improve from 0.45001\n",
      "\u001b[1m242/242\u001b[0m \u001b[32m━━━━━━━━━━━━━━━━━━━━\u001b[0m\u001b[37m\u001b[0m \u001b[1m0s\u001b[0m 1ms/step - accuracy: 0.7862 - loss: 0.4611 - val_accuracy: 0.7829 - val_loss: 0.4678\n",
      "Epoch 23/30\n",
      "\u001b[1m213/242\u001b[0m \u001b[32m━━━━━━━━━━━━━━━━━\u001b[0m\u001b[37m━━━\u001b[0m \u001b[1m0s\u001b[0m 1ms/step - accuracy: 0.7897 - loss: 0.4493\n",
      "Epoch 23: val_loss did not improve from 0.45001\n",
      "\u001b[1m242/242\u001b[0m \u001b[32m━━━━━━━━━━━━━━━━━━━━\u001b[0m\u001b[37m\u001b[0m \u001b[1m0s\u001b[0m 1ms/step - accuracy: 0.7896 - loss: 0.4499 - val_accuracy: 0.7829 - val_loss: 0.4623\n",
      "Epoch 24/30\n",
      "\u001b[1m229/242\u001b[0m \u001b[32m━━━━━━━━━━━━━━━━━━\u001b[0m\u001b[37m━━\u001b[0m \u001b[1m0s\u001b[0m 1ms/step - accuracy: 0.7897 - loss: 0.4524\n",
      "Epoch 24: val_loss did not improve from 0.45001\n",
      "\u001b[1m242/242\u001b[0m \u001b[32m━━━━━━━━━━━━━━━━━━━━\u001b[0m\u001b[37m\u001b[0m \u001b[1m0s\u001b[0m 1ms/step - accuracy: 0.7897 - loss: 0.4524 - val_accuracy: 0.7938 - val_loss: 0.4559\n",
      "Epoch 25/30\n",
      "\u001b[1m195/242\u001b[0m \u001b[32m━━━━━━━━━━━━━━━━\u001b[0m\u001b[37m━━━━\u001b[0m \u001b[1m0s\u001b[0m 1ms/step - accuracy: 0.7778 - loss: 0.4637\n",
      "Epoch 25: val_loss improved from 0.45001 to 0.44916, saving model to c:\\Workspace\\Python\\Machine-Learning\\Documentations\\Natural-Language-Processing\\Essential-of-NLP\\Assets\\Model\\spamdetection_model_v1.keras\n",
      "\u001b[1m242/242\u001b[0m \u001b[32m━━━━━━━━━━━━━━━━━━━━\u001b[0m\u001b[37m\u001b[0m \u001b[1m0s\u001b[0m 1ms/step - accuracy: 0.7785 - loss: 0.4630 - val_accuracy: 0.7850 - val_loss: 0.4492\n",
      "Epoch 26/30\n",
      "\u001b[1m193/242\u001b[0m \u001b[32m━━━━━━━━━━━━━━━\u001b[0m\u001b[37m━━━━━\u001b[0m \u001b[1m0s\u001b[0m 1ms/step - accuracy: 0.7836 - loss: 0.4550\n",
      "Epoch 26: val_loss improved from 0.44916 to 0.43978, saving model to c:\\Workspace\\Python\\Machine-Learning\\Documentations\\Natural-Language-Processing\\Essential-of-NLP\\Assets\\Model\\spamdetection_model_v1.keras\n",
      "\u001b[1m242/242\u001b[0m \u001b[32m━━━━━━━━━━━━━━━━━━━━\u001b[0m\u001b[37m\u001b[0m \u001b[1m0s\u001b[0m 1ms/step - accuracy: 0.7841 - loss: 0.4552 - val_accuracy: 0.7964 - val_loss: 0.4398\n",
      "Epoch 27/30\n",
      "\u001b[1m196/242\u001b[0m \u001b[32m━━━━━━━━━━━━━━━━\u001b[0m\u001b[37m━━━━\u001b[0m \u001b[1m0s\u001b[0m 1ms/step - accuracy: 0.7742 - loss: 0.4717\n",
      "Epoch 27: val_loss did not improve from 0.43978\n",
      "\u001b[1m242/242\u001b[0m \u001b[32m━━━━━━━━━━━━━━━━━━━━\u001b[0m\u001b[37m\u001b[0m \u001b[1m0s\u001b[0m 1ms/step - accuracy: 0.7763 - loss: 0.4686 - val_accuracy: 0.7865 - val_loss: 0.4522\n",
      "Epoch 28/30\n",
      "\u001b[1m197/242\u001b[0m \u001b[32m━━━━━━━━━━━━━━━━\u001b[0m\u001b[37m━━━━\u001b[0m \u001b[1m0s\u001b[0m 1ms/step - accuracy: 0.7739 - loss: 0.4615\n",
      "Epoch 28: val_loss did not improve from 0.43978\n",
      "\u001b[1m242/242\u001b[0m \u001b[32m━━━━━━━━━━━━━━━━━━━━\u001b[0m\u001b[37m\u001b[0m \u001b[1m0s\u001b[0m 1ms/step - accuracy: 0.7769 - loss: 0.4592 - val_accuracy: 0.7839 - val_loss: 0.4464\n",
      "Epoch 29/30\n",
      "\u001b[1m199/242\u001b[0m \u001b[32m━━━━━━━━━━━━━━━━\u001b[0m\u001b[37m━━━━\u001b[0m \u001b[1m0s\u001b[0m 1ms/step - accuracy: 0.7976 - loss: 0.4404\n",
      "Epoch 29: val_loss improved from 0.43978 to 0.43965, saving model to c:\\Workspace\\Python\\Machine-Learning\\Documentations\\Natural-Language-Processing\\Essential-of-NLP\\Assets\\Model\\spamdetection_model_v1.keras\n",
      "\u001b[1m242/242\u001b[0m \u001b[32m━━━━━━━━━━━━━━━━━━━━\u001b[0m\u001b[37m\u001b[0m \u001b[1m0s\u001b[0m 1ms/step - accuracy: 0.7958 - loss: 0.4421 - val_accuracy: 0.7995 - val_loss: 0.4397\n",
      "Epoch 30/30\n",
      "\u001b[1m233/242\u001b[0m \u001b[32m━━━━━━━━━━━━━━━━━━━\u001b[0m\u001b[37m━\u001b[0m \u001b[1m0s\u001b[0m 1ms/step - accuracy: 0.7961 - loss: 0.4443\n",
      "Epoch 30: val_loss did not improve from 0.43965\n",
      "\u001b[1m242/242\u001b[0m \u001b[32m━━━━━━━━━━━━━━━━━━━━\u001b[0m\u001b[37m\u001b[0m \u001b[1m0s\u001b[0m 1ms/step - accuracy: 0.7959 - loss: 0.4443 - val_accuracy: 0.7881 - val_loss: 0.4430\n"
     ]
    }
   ],
   "source": [
    "checkpoint_callback = tf.keras.callbacks.ModelCheckpoint(\n",
    "    filepath=MODEL_PATH,  # Path untuk menyimpan model\n",
    "    monitor='val_loss',  # Metrik yang dipantau\n",
    "    save_best_only=True,  # Hanya menyimpan model terbaik\n",
    "    save_weights_only=False,  # Menyimpan seluruh model (bukan hanya bobotnya)\n",
    "    mode='min',  # Mode untuk memantau metrik (min untuk loss)\n",
    "    verbose=1,\n",
    ")\n",
    "\n",
    "history = my_model.train(\n",
    "    SMSSpamCollection_tf_data_train,\n",
    "    validation_data=SMSSpamCollection_tf_data_valid,\n",
    "    epochs=30,\n",
    "    callbacks=[checkpoint_callback]\n",
    ")"
   ]
  },
  {
   "cell_type": "code",
   "execution_count": 24,
   "metadata": {},
   "outputs": [
    {
     "name": "stdout",
     "output_type": "stream",
     "text": [
      "\u001b[1m61/61\u001b[0m \u001b[32m━━━━━━━━━━━━━━━━━━━━\u001b[0m\u001b[37m\u001b[0m \u001b[1m0s\u001b[0m 2ms/step - accuracy: 0.8082 - loss: 0.4240\n",
      "Evaluation on validation data (loaded model): [0.4298926591873169, 0.8015543818473816]\n"
     ]
    }
   ],
   "source": [
    "# Evaluasi model yang dimuat\n",
    "loaded_evaluation = my_model.model.evaluate(SMSSpamCollection_tf_data_valid)\n",
    "print(f'Evaluation on validation data (loaded model): {loaded_evaluation}')"
   ]
  },
  {
   "cell_type": "code",
   "execution_count": 25,
   "metadata": {},
   "outputs": [
    {
     "data": {
      "image/png": "[encoded data removed]",
      "text/plain": [
       "<Figure size 1200x1000 with 2 Axes>"
      ]
     },
     "metadata": {},
     "output_type": "display_data"
    },
    {
     "name": "stdout",
     "output_type": "stream",
     "text": [
      "Classification Report:\n",
      "              precision    recall  f1-score   support\n",
      "\n",
      "         0.0       0.79      0.83      0.81       981\n",
      "         1.0       0.82      0.77      0.80       949\n",
      "\n",
      "    accuracy                           0.80      1930\n",
      "   macro avg       0.81      0.80      0.80      1930\n",
      "weighted avg       0.80      0.80      0.80      1930\n",
      "\n"
     ]
    }
   ],
   "source": [
    "evaluate_model(my_model.model, SMSSpamCollection_tf_data_valid, lb.classes_)"
   ]
  },
  {
   "cell_type": "markdown",
   "metadata": {},
   "source": [
    "---\n",
    "#### Hal ini menunjukkan bahwa 772 dari 971 pesan reguler (ham) diklasifikasikan dengan benar, sementara 739 dari 956 pesan spam diklasifikasikan dengan benar.\n",
    "---"
   ]
  }
 ],
 "metadata": {
  "kernelspec": {
   "display_name": "Python 3",
   "language": "python",
   "name": "python3"
  },
  "language_info": {
   "codemirror_mode": {
    "name": "ipython",
    "version": 3
   },
   "file_extension": ".py",
   "mimetype": "text/x-python",
   "name": "python",
   "nbconvert_exporter": "python",
   "pygments_lexer": "ipython3",
   "version": "3.9.2"
  }
 },
 "nbformat": 4,
 "nbformat_minor": 2
}
