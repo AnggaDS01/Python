{
 "cells": [
  {
   "cell_type": "code",
   "execution_count": 6,
   "metadata": {},
   "outputs": [],
   "source": [
    "import torch\n",
    "import torch.nn as nn\n",
    "import torch.optim as optim\n",
    "import torchvision\n",
    "import torchvision.transforms as transforms\n",
    "import time"
   ]
  },
  {
   "cell_type": "code",
   "execution_count": 7,
   "metadata": {},
   "outputs": [
    {
     "name": "stdout",
     "output_type": "stream",
     "text": [
      "Number of GPU: 1\n",
      "GPU Name: NVIDIA GeForce MX150\n"
     ]
    }
   ],
   "source": [
    "print(f\"Number of GPU: {torch.cuda.device_count()}\")\n",
    "print (f\"GPU Name: {torch.cuda.get_device_name(0)}\")"
   ]
  },
  {
   "cell_type": "code",
   "execution_count": 8,
   "metadata": {},
   "outputs": [],
   "source": [
    "# Tentukan perangkat yang digunakan (GPU jika tersedia, jika tidak maka CPU)\n",
    "device_cpu = torch.device(\"cpu\")\n",
    "device_gpu = torch.device(\"cuda\" if torch.cuda.is_available() else \"cpu\")"
   ]
  },
  {
   "cell_type": "code",
   "execution_count": 9,
   "metadata": {},
   "outputs": [
    {
     "data": {
      "text/plain": [
       "device(type='cpu')"
      ]
     },
     "execution_count": 9,
     "metadata": {},
     "output_type": "execute_result"
    }
   ],
   "source": [
    "device_cpu"
   ]
  },
  {
   "cell_type": "code",
   "execution_count": 10,
   "metadata": {},
   "outputs": [
    {
     "data": {
      "text/plain": [
       "device(type='cuda')"
      ]
     },
     "execution_count": 10,
     "metadata": {},
     "output_type": "execute_result"
    }
   ],
   "source": [
    "device_gpu"
   ]
  },
  {
   "cell_type": "code",
   "execution_count": 11,
   "metadata": {},
   "outputs": [
    {
     "name": "stdout",
     "output_type": "stream",
     "text": [
      "--- GPU 0 ---\n",
      "Nama GPU: NVIDIA GeForce MX150\n",
      "Memori Total: 2.00 GB\n",
      "Memori Alokasi: 0.00 GB\n",
      "Memori Tersedia: 0.00 GB\n",
      "MultiProcessor Count: 3\n"
     ]
    }
   ],
   "source": [
    "# Pastikan CUDA tersedia\n",
    "if torch.cuda.is_available():\n",
    "    # Mendapatkan jumlah GPU yang tersedia\n",
    "    num_gpus = torch.cuda.device_count()\n",
    "    \n",
    "    # Menampilkan informasi setiap GPU\n",
    "    for i in range(num_gpus):\n",
    "        print(f\"--- GPU {i} ---\")\n",
    "        print(f\"Nama GPU: {torch.cuda.get_device_name(i)}\")\n",
    "        print(f\"Memori Total: {torch.cuda.get_device_properties(i).total_memory / 1024**3:.2f} GB\")\n",
    "        print(f\"Memori Alokasi: {torch.cuda.memory_allocated(i) / 1024**3:.2f} GB\")\n",
    "        print(f\"Memori Tersedia: {torch.cuda.memory_reserved(i) / 1024**3:.2f} GB\")\n",
    "        print(f\"MultiProcessor Count: {torch.cuda.get_device_properties(i).multi_processor_count}\")\n",
    "else:\n",
    "    print(\"CUDA tidak tersedia, pastikan perangkat memiliki GPU yang mendukung CUDA.\")\n"
   ]
  },
  {
   "cell_type": "code",
   "execution_count": 12,
   "metadata": {},
   "outputs": [],
   "source": [
    "# Definisikan transformasi untuk data\n",
    "transform = transforms.Compose([\n",
    "    transforms.ToTensor(),\n",
    "    transforms.Normalize((0.5,), (0.5,))\n",
    "])"
   ]
  },
  {
   "cell_type": "code",
   "execution_count": 13,
   "metadata": {},
   "outputs": [],
   "source": [
    "# Load dataset MNIST\n",
    "trainset = torchvision.datasets.MNIST(root='./data', train=True, download=True, transform=transform)"
   ]
  },
  {
   "cell_type": "code",
   "execution_count": 19,
   "metadata": {},
   "outputs": [
    {
     "data": {
      "text/plain": [
       "2"
      ]
     },
     "execution_count": 19,
     "metadata": {},
     "output_type": "execute_result"
    }
   ],
   "source": [
    "image, label = trainset[5]\n",
    "label"
   ]
  },
  {
   "cell_type": "code",
   "execution_count": 10,
   "metadata": {},
   "outputs": [],
   "source": [
    "trainloader = torch.utils.data.DataLoader(trainset, batch_size=64, shuffle=True)"
   ]
  },
  {
   "cell_type": "code",
   "execution_count": 11,
   "metadata": {},
   "outputs": [],
   "source": [
    "# Definisikan model sederhana\n",
    "class SimpleNet(nn.Module):\n",
    "    def __init__(self):\n",
    "        super(SimpleNet, self).__init__()\n",
    "        self.fc1 = nn.Linear(28 * 28, 128)\n",
    "        self.fc2 = nn.Linear(128, 64)\n",
    "        self.fc3 = nn.Linear(64, 10)\n",
    "    \n",
    "    def forward(self, x):\n",
    "        x = x.view(-1, 28 * 28)  # Flatten the image\n",
    "        x = torch.relu(self.fc1(x))\n",
    "        x = torch.relu(self.fc2(x))\n",
    "        x = self.fc3(x)\n",
    "        return x"
   ]
  },
  {
   "cell_type": "code",
   "execution_count": 17,
   "metadata": {},
   "outputs": [],
   "source": [
    "# Fungsi untuk training\n",
    "def train_model(device, trainloader):\n",
    "    model = SimpleNet().to(device)\n",
    "    criterion = nn.CrossEntropyLoss()\n",
    "    optimizer = optim.SGD(model.parameters(), lr=0.01, momentum=0.9)\n",
    "\n",
    "    start_time = time.time()\n",
    "    for epoch in range(1):  # Menggunakan 1 epoch untuk komparasi cepat\n",
    "        running_loss = 0.0\n",
    "        for i, data in enumerate(trainloader, 0):\n",
    "            inputs, labels = data[0].to(device), data[1].to(device)\n",
    "\n",
    "            optimizer.zero_grad()\n",
    "            outputs = model(inputs)\n",
    "            loss = criterion(outputs, labels)\n",
    "            loss.backward()\n",
    "            optimizer.step()\n",
    "\n",
    "            running_loss += loss.item()\n",
    "            if i % 100 == 99:\n",
    "                print(f'[Epoch {epoch + 1}, Batch {i + 1}] loss: {running_loss / 100:.3f}')\n",
    "                running_loss = 0.0\n",
    "\n",
    "    end_time = time.time()\n",
    "    print(f'Training completed in: {end_time - start_time:.2f} seconds on {device}')\n"
   ]
  },
  {
   "cell_type": "code",
   "execution_count": 18,
   "metadata": {},
   "outputs": [
    {
     "name": "stdout",
     "output_type": "stream",
     "text": [
      "Training on CPU:\n",
      "[Epoch 1, Batch 100] loss: 1.286\n",
      "[Epoch 1, Batch 200] loss: 0.464\n",
      "[Epoch 1, Batch 300] loss: 0.378\n",
      "[Epoch 1, Batch 400] loss: 0.326\n",
      "[Epoch 1, Batch 500] loss: 0.295\n",
      "[Epoch 1, Batch 600] loss: 0.256\n",
      "[Epoch 1, Batch 700] loss: 0.256\n",
      "[Epoch 1, Batch 800] loss: 0.254\n",
      "[Epoch 1, Batch 900] loss: 0.221\n",
      "Training completed in: 67.57 seconds on cpu\n"
     ]
    }
   ],
   "source": [
    "# Latih model di CPU\n",
    "print(\"Training on CPU:\")\n",
    "train_model(device_cpu, trainloader)"
   ]
  },
  {
   "cell_type": "code",
   "execution_count": 19,
   "metadata": {},
   "outputs": [
    {
     "name": "stdout",
     "output_type": "stream",
     "text": [
      "\n",
      "Training on GPU:\n",
      "[Epoch 1, Batch 100] loss: 1.429\n",
      "[Epoch 1, Batch 200] loss: 0.482\n",
      "[Epoch 1, Batch 300] loss: 0.407\n",
      "[Epoch 1, Batch 400] loss: 0.354\n",
      "[Epoch 1, Batch 500] loss: 0.318\n",
      "[Epoch 1, Batch 600] loss: 0.287\n",
      "[Epoch 1, Batch 700] loss: 0.256\n",
      "[Epoch 1, Batch 800] loss: 0.244\n",
      "[Epoch 1, Batch 900] loss: 0.232\n",
      "Training completed in: 70.01 seconds on cuda\n"
     ]
    }
   ],
   "source": [
    "# Latih model di GPU (jika tersedia)\n",
    "if torch.cuda.is_available():\n",
    "    print(\"\\nTraining on GPU:\")\n",
    "    train_model(device_gpu, trainloader)\n",
    "else:\n",
    "    print(\"\\nGPU is not available, skipping GPU training.\")"
   ]
  }
 ],
 "metadata": {
  "kernelspec": {
   "display_name": "Python 3",
   "language": "python",
   "name": "python3"
  },
  "language_info": {
   "codemirror_mode": {
    "name": "ipython",
    "version": 3
   },
   "file_extension": ".py",
   "mimetype": "text/x-python",
   "name": "python",
   "nbconvert_exporter": "python",
   "pygments_lexer": "ipython3",
   "version": "3.9.2"
  }
 },
 "nbformat": 4,
 "nbformat_minor": 2
}
