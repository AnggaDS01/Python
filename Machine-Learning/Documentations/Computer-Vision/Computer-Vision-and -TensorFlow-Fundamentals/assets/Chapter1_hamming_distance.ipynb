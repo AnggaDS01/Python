{
 "cells": [
  {
   "cell_type": "code",
   "execution_count": 10,
   "metadata": {},
   "outputs": [],
   "source": [
    "from PIL import Image\n",
    "import numpy as np\n",
    "import cv2"
   ]
  },
  {
   "cell_type": "code",
   "execution_count": 11,
   "metadata": {},
   "outputs": [],
   "source": [
    "#pip install ImageHash (you need to do that in your Terminal)\n",
    "import imagehash\n",
    "#import scipy.spatial\n",
    "from scipy.spatial import distance"
   ]
  },
  {
   "cell_type": "code",
   "execution_count": 12,
   "metadata": {},
   "outputs": [
    {
     "name": "stdout",
     "output_type": "stream",
     "text": [
      "9a86372888939fbd ffe090a9c116dd32 e4eaabec9c919093\n"
     ]
    }
   ],
   "source": [
    "hash1 = imagehash.phash(Image.open('car1.png'))\n",
    "hash2 = imagehash.phash(Image.open('car2.png'))\n",
    "hash3 = imagehash.phash(Image.open('car3.png'))\n",
    "print (hash1, hash2, hash3)"
   ]
  },
  {
   "cell_type": "code",
   "execution_count": 13,
   "metadata": {},
   "outputs": [
    {
     "name": "stdout",
     "output_type": "stream",
     "text": [
      "9a86372888939fbd ffe090a9c116dd32 e4eaabec9c919093\n"
     ]
    }
   ],
   "source": [
    "hs1 = str(hash1)\n",
    "hs2 = str(hash2)\n",
    "hs3 = str(hash3)\n",
    "print (hs1, hs2, hs3)"
   ]
  },
  {
   "cell_type": "code",
   "execution_count": 14,
   "metadata": {},
   "outputs": [],
   "source": [
    "# we are doing a string compare to find difference\n",
    "def hamming_distance(h1, h2):\n",
    "    counter = 0\n",
    "    for i in range(len(h1)):\n",
    "        if h1[i] != h2[i]:\n",
    "            counter += 1\n",
    "    return counter"
   ]
  },
  {
   "cell_type": "code",
   "execution_count": 15,
   "metadata": {},
   "outputs": [
    {
     "name": "stdout",
     "output_type": "stream",
     "text": [
      "hs1-hs2 16\n",
      "hs1-hs3 14\n",
      "hs2-hs3 15\n",
      "hs2-hs2 0\n"
     ]
    }
   ],
   "source": [
    "#print (hamming_distance(hash1,hash2)) - this needs to be commented out to avoid error: object of type 'ImageHash' has no len()\n",
    "# so hash value is converted to string first\n",
    "\n",
    "print (\"hs1-hs2\",hamming_distance(hs1,hs2))\n",
    "print (\"hs1-hs3\",hamming_distance(hs1,hs3))\n",
    "print (\"hs2-hs3\",hamming_distance(hs2,hs3))\n",
    "print (\"hs2-hs2\",hamming_distance(hs2,hs2))"
   ]
  },
  {
   "cell_type": "code",
   "execution_count": 16,
   "metadata": {},
   "outputs": [
    {
     "name": "stdout",
     "output_type": "stream",
     "text": [
      "1.0\n"
     ]
    }
   ],
   "source": [
    "#note the distance.hamming function from scipy.spatial always return 1\n",
    "print(distance.hamming(hash1, hash2))"
   ]
  },
  {
   "cell_type": "code",
   "execution_count": 17,
   "metadata": {},
   "outputs": [
    {
     "name": "stdout",
     "output_type": "stream",
     "text": [
      "1.0\n"
     ]
    }
   ],
   "source": [
    "print(distance.hamming(hs1, hs2))"
   ]
  },
  {
   "cell_type": "code",
   "execution_count": null,
   "metadata": {},
   "outputs": [],
   "source": []
  }
 ],
 "metadata": {
  "kernelspec": {
   "display_name": "Python 3",
   "language": "python",
   "name": "python3"
  },
  "language_info": {
   "codemirror_mode": {
    "name": "ipython",
    "version": 3
   },
   "file_extension": ".py",
   "mimetype": "text/x-python",
   "name": "python",
   "nbconvert_exporter": "python",
   "pygments_lexer": "ipython3",
   "version": "3.7.3"
  }
 },
 "nbformat": 4,
 "nbformat_minor": 2
}
