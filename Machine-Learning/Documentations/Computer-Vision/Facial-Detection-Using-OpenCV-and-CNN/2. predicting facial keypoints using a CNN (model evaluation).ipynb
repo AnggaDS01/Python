{
 "cells": [
  {
   "cell_type": "code",
   "execution_count": 3,
   "metadata": {},
   "outputs": [],
   "source": [
    "import tensorflow as tf"
   ]
  },
  {
   "cell_type": "code",
   "execution_count": null,
   "metadata": {},
   "outputs": [],
   "source": [
    "# Fungsi masked loss\n",
    "def masked_mse_loss(y_true, y_pred):\n",
    "    mask = tf.not_equal(y_true, 0)  # Masker untuk nilai yang tidak nol (keypoint yang tersedia)\n",
    "    mask = tf.cast(mask, tf.float32)  # Konversi ke float\n",
    "    loss = tf.square(y_true - y_pred) * mask  # Hitung MSE hanya pada keypoint yang tersedia\n",
    "    loss = tf.reduce_sum(loss) / tf.reduce_sum(mask)  # Rata-rata loss berdasarkan jumlah keypoint yang tersedia\n",
    "    return loss\n",
    "\n",
    "model_path = '/content/drive/MyDrive/Colab Notebooks/model/facial keypoints detection model/facial_keypoints_detection_model.keras'\n",
    "best_model = tf.keras.models.load_model(\n",
    "    model_path,\n",
    "    custom_objects={'masked_mse': masked_mse_loss}\n",
    ")"
   ]
  },
  {
   "cell_type": "code",
   "execution_count": null,
   "metadata": {},
   "outputs": [],
   "source": [
    "best_model.summary()"
   ]
  },
  {
   "cell_type": "code",
   "execution_count": 1,
   "metadata": {},
   "outputs": [],
   "source": [
    "# Fungsi untuk membuat blok residual dengan konvolusi strided\n",
    "def residual_block(x, filters):\n",
    "    residual = x\n",
    "    x = tf.keras.layers.Conv2D(filters, (3, 3), activation='relu', padding='same')(x)\n",
    "    x = tf.keras.layers.Conv2D(filters, (3, 3), activation='relu', padding='same', strides=2)(x)\n",
    "    residual = tf.keras.layers.Conv2D(filters, (1, 1), padding='same', strides=2)(residual)\n",
    "    x = tf.keras.layers.add([x, residual])\n",
    "    return x\n",
    "\n",
    "# Arsitektur ML-ResNet\n",
    "def create_ml_resnet(input_shape):\n",
    "    inputs = tf.keras.layers.Input(shape=input_shape)\n",
    "\n",
    "    # Lapisan pertama\n",
    "    x = tf.keras.layers.Conv2D(32, (11, 11), activation='relu', padding='same')(inputs)\n",
    "    x = tf.keras.layers.MaxPooling2D((2, 2))(x)\n",
    "\n",
    "    # Blok residual pertama\n",
    "    x = residual_block(x, 64)\n",
    "\n",
    "    # Blok residual kedua\n",
    "    x = residual_block(x, 128)\n",
    "\n",
    "    # Lapisan akhir\n",
    "    x = tf.keras.layers.Flatten()(x)\n",
    "    x = tf.keras.layers.Dense(1000, activation='relu')(x)\n",
    "    x = tf.keras.layers.Dense(30)(x)  # 15 keypoints dengan masing-masing x dan y koordinat\n",
    "\n",
    "    model = tf.keras.models.Model(inputs, x)\n",
    "    return model\n",
    "\n",
    "load_model=create_ml_resnet((96,96,1))\n",
    "load_model.load_weights('/content/drive/MyDrive/Colab Notebooks/model/facial keypoints detection model/facial_keypoints_detection_model.keras')"
   ]
  },
  {
   "cell_type": "code",
   "execution_count": null,
   "metadata": {},
   "outputs": [],
   "source": [
    "face_images_test_tf_dataset_loaded = tf.data.Dataset.load(\"/content/drive/MyDrive/Colab Notebooks/dataset/facial_keypoints_test_dataset.tfrecord\", compression=\"GZIP\")"
   ]
  },
  {
   "cell_type": "code",
   "execution_count": null,
   "metadata": {},
   "outputs": [],
   "source": [
    "print(f'info data: {face_images_test_tf_dataset_loaded}')\n",
    "print(f'number of data: {len(face_images_test_tf_dataset_loaded)}')"
   ]
  },
  {
   "cell_type": "code",
   "execution_count": null,
   "metadata": {},
   "outputs": [],
   "source": [
    "for img in face_images_test_tf_dataset_loaded.skip(1).take(1):\n",
    "  print(f'''\n",
    "    max-intensity: {tf.reduce_max(img)}\n",
    "    min-intensity: {tf.reduce_min(img)}\n",
    "    image-shape: {img.shape}\n",
    "    image-type: {img.dtype}\n",
    "  ''')"
   ]
  },
  {
   "cell_type": "code",
   "execution_count": null,
   "metadata": {},
   "outputs": [],
   "source": [
    "def processed_test_image(image):\n",
    "  image = tf.cast(image, tf.float32)\n",
    "  image = image / 255.0\n",
    "  return image"
   ]
  },
  {
   "cell_type": "code",
   "execution_count": null,
   "metadata": {},
   "outputs": [],
   "source": [
    "face_images_test_tf_dataset_fixed_processed = face_images_test_tf_dataset_loaded.map(processed_test_image, num_parallel_calls=tf.data.AUTOTUNE)\n",
    "facial_keypoints_concatenated_test_dataset_batched = face_images_test_tf_dataset_fixed_processed.batch(64)\n",
    "facial_keypoints_concatenated_test_dataset_cached = facial_keypoints_concatenated_test_dataset_batched.cache()\n",
    "facial_keypoints_concatenated_test_dataset_prefetched = facial_keypoints_concatenated_test_dataset_cached.prefetch(tf.data.AUTOTUNE)"
   ]
  },
  {
   "cell_type": "code",
   "execution_count": null,
   "metadata": {},
   "outputs": [],
   "source": [
    "for img in face_images_test_tf_dataset_fixed_processed.skip(1).take(1):\n",
    "  print(f'''\n",
    "    max-intensity: {tf.reduce_max(img)}\n",
    "    min-intensity: {tf.reduce_min(img)}\n",
    "    image-shape: {img.shape}\n",
    "    image-type: {img.dtype}\n",
    "  ''')"
   ]
  },
  {
   "cell_type": "code",
   "execution_count": null,
   "metadata": {},
   "outputs": [],
   "source": [
    "idx = np.random.randint(0, len(facial_keypoints_concatenated_test_dataset_prefetched))\n",
    "plt.figure(figsize=(10,5))\n",
    "for image in facial_keypoints_concatenated_test_dataset_prefetched.skip(idx).take(1):\n",
    "  image = tf.expand_dims(image[0], axis=0)\n",
    "  pred_keypoints = best_model.predict(image)\n",
    "  pred_keypoints = tf.squeeze(pred_keypoints)\n",
    "\n",
    "  plt.imshow(image[0], cmap='gray')\n",
    "  for i in range(0, len(pred_keypoints), 2):\n",
    "    x = pred_keypoints[i].numpy()\n",
    "    y = pred_keypoints[i+1].numpy()\n",
    "    plt.scatter(x, y, s=200, marker='.', c='blue')\n",
    "  plt.title('prediction')\n",
    "\n",
    "plt.show()"
   ]
  }
 ],
 "metadata": {
  "kernelspec": {
   "display_name": "Python 3",
   "language": "python",
   "name": "python3"
  },
  "language_info": {
   "codemirror_mode": {
    "name": "ipython",
    "version": 3
   },
   "file_extension": ".py",
   "mimetype": "text/x-python",
   "name": "python",
   "nbconvert_exporter": "python",
   "pygments_lexer": "ipython3",
   "version": "3.9.2"
  }
 },
 "nbformat": 4,
 "nbformat_minor": 2
}
