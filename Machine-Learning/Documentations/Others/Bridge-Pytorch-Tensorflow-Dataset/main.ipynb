{
 "cells": [
  {
   "cell_type": "code",
   "execution_count": 1,
   "metadata": {},
   "outputs": [],
   "source": [
    "from torch.utils.data import Dataset, DataLoader\n",
    "from torchmetrics import Accuracy\n",
    "\n",
    "import matplotlib.pyplot as plt\n",
    "import numpy as np\n",
    "import tensorflow as tf\n",
    "import torch\n",
    "import os\n",
    "import math"
   ]
  },
  {
   "cell_type": "code",
   "execution_count": 73,
   "metadata": {},
   "outputs": [],
   "source": [
    "\n",
    "class TFToTorchDataset(Dataset):\n",
    "    def __init__(self, tf_dataset):\n",
    "        self.tf_dataset = tf_dataset\n",
    "        \n",
    "    def __len__(self):\n",
    "        return len(self.tf_dataset)\n",
    "\n",
    "    def __getitem__(self, idx):\n",
    "        # Convert the index to a TensorFlow slice to efficiently get a single element\n",
    "        for feature, label in self.tf_dataset.skip(idx).take(1):\n",
    "            feature = torch.tensor(feature.numpy())\n",
    "            label = torch.tensor(label.numpy())\n",
    "            return feature, label\n",
    "        raise IndexError\n",
    "    \n",
    "class TorchToTFDataset:\n",
    "    def __init__(self, dataloader):\n",
    "        self.dataloader = dataloader\n",
    "\n",
    "    def __getitem__(self, idx):\n",
    "        feature, label = self.dataloader[idx]\n",
    "        return feature.numpy(), label.numpy()\n",
    "\n",
    "    def __len__(self):\n",
    "        return len(self.dataloader)\n",
    "            \n",
    "    def __call__(self):\n",
    "        for i in range(self.__len__()):\n",
    "            yield self.__getitem__(i)"
   ]
  },
  {
   "cell_type": "code",
   "execution_count": 59,
   "metadata": {},
   "outputs": [],
   "source": [
    "# Assuming you have a large dataset\n",
    "features = tf.random.uniform((5, 16), minval=0, maxval=1)\n",
    "labels = tf.random.uniform((5,), minval=0, maxval=2, dtype=tf.int32)"
   ]
  },
  {
   "cell_type": "code",
   "execution_count": 60,
   "metadata": {},
   "outputs": [],
   "source": [
    "# Create TensorFlow dataset\n",
    "tf_data = tf.data.Dataset.from_tensor_slices((features, labels))"
   ]
  },
  {
   "cell_type": "code",
   "execution_count": 61,
   "metadata": {},
   "outputs": [
    {
     "name": "stdout",
     "output_type": "stream",
     "text": [
      "info data: <_TensorSliceDataset element_spec=(TensorSpec(shape=(16,), dtype=tf.float32, name=None), TensorSpec(shape=(), dtype=tf.int32, name=None))>\n",
      "number of data: 5\n"
     ]
    }
   ],
   "source": [
    "# Print information about the cached dataset and the number of data points\n",
    "print(f'info data: {tf_data}')\n",
    "print(f'number of data: {len(tf_data)}')"
   ]
  },
  {
   "cell_type": "code",
   "execution_count": 69,
   "metadata": {},
   "outputs": [
    {
     "name": "stdout",
     "output_type": "stream",
     "text": [
      "tf.Tensor(\n",
      "[0.3716613  0.23343992 0.6551763  0.956612   0.88345003 0.81285775\n",
      " 0.16413713 0.69958603 0.78153515 0.27435637 0.27543426 0.70119333\n",
      " 0.83819747 0.9796101  0.05149639 0.810192  ], shape=(16,), dtype=float32)\n",
      "tf.Tensor(1, shape=(), dtype=int32)\n",
      "==================================================\n",
      "tf.Tensor(\n",
      "[0.92505026 0.12529635 0.22969902 0.7548735  0.58376205 0.83587503\n",
      " 0.09775198 0.5516207  0.48446012 0.8927151  0.15286112 0.46068025\n",
      " 0.15758538 0.22550094 0.6657419  0.37408233], shape=(16,), dtype=float32)\n",
      "tf.Tensor(1, shape=(), dtype=int32)\n",
      "==================================================\n",
      "tf.Tensor(\n",
      "[0.13539279 0.7585821  0.91278887 0.42594552 0.02400279 0.6480125\n",
      " 0.00300384 0.7571558  0.74235225 0.6349418  0.12970054 0.42855644\n",
      " 0.05962956 0.38240898 0.79575336 0.9580705 ], shape=(16,), dtype=float32)\n",
      "tf.Tensor(1, shape=(), dtype=int32)\n",
      "==================================================\n",
      "tf.Tensor(\n",
      "[0.3055581  0.99314487 0.2145257  0.632756   0.88665485 0.92397606\n",
      " 0.57269967 0.15921569 0.1833911  0.28252864 0.9608743  0.7970643\n",
      " 0.40016353 0.622074   0.93912005 0.11110795], shape=(16,), dtype=float32)\n",
      "tf.Tensor(1, shape=(), dtype=int32)\n",
      "==================================================\n",
      "tf.Tensor(\n",
      "[0.67880285 0.37823284 0.22450113 0.75876796 0.62375057 0.03460956\n",
      " 0.50160885 0.9449278  0.79054356 0.644501   0.06675422 0.52783\n",
      " 0.34451342 0.2238208  0.11979604 0.43168604], shape=(16,), dtype=float32)\n",
      "tf.Tensor(0, shape=(), dtype=int32)\n",
      "==================================================\n"
     ]
    }
   ],
   "source": [
    "for feature, label in tf_data:\n",
    "    print(feature)\n",
    "    print(label)\n",
    "    print('='.center(50, '='))"
   ]
  },
  {
   "cell_type": "code",
   "execution_count": 63,
   "metadata": {},
   "outputs": [],
   "source": [
    "# Convert to PyTorch Dataset\n",
    "torch_data = TFToTorchDataset(tf_data)"
   ]
  },
  {
   "cell_type": "code",
   "execution_count": 64,
   "metadata": {},
   "outputs": [
    {
     "name": "stdout",
     "output_type": "stream",
     "text": [
      "info data: <__main__.TFToTorchDataset object at 0x000002124EE52520>\n",
      "number of data: 5\n"
     ]
    }
   ],
   "source": [
    "# Print information about the cached dataset and the number of data points\n",
    "print(f'info data: {torch_data}')\n",
    "print(f'number of data: {len(torch_data)}')"
   ]
  },
  {
   "cell_type": "code",
   "execution_count": 67,
   "metadata": {},
   "outputs": [
    {
     "name": "stdout",
     "output_type": "stream",
     "text": [
      "tensor([0.3717, 0.2334, 0.6552, 0.9566, 0.8835, 0.8129, 0.1641, 0.6996, 0.7815,\n",
      "        0.2744, 0.2754, 0.7012, 0.8382, 0.9796, 0.0515, 0.8102])\n",
      "tensor(1, dtype=torch.int32)\n",
      "==================================================\n",
      "tensor([0.9251, 0.1253, 0.2297, 0.7549, 0.5838, 0.8359, 0.0978, 0.5516, 0.4845,\n",
      "        0.8927, 0.1529, 0.4607, 0.1576, 0.2255, 0.6657, 0.3741])\n",
      "tensor(1, dtype=torch.int32)\n",
      "==================================================\n",
      "tensor([0.1354, 0.7586, 0.9128, 0.4259, 0.0240, 0.6480, 0.0030, 0.7572, 0.7424,\n",
      "        0.6349, 0.1297, 0.4286, 0.0596, 0.3824, 0.7958, 0.9581])\n",
      "tensor(1, dtype=torch.int32)\n",
      "==================================================\n",
      "tensor([0.3056, 0.9931, 0.2145, 0.6328, 0.8867, 0.9240, 0.5727, 0.1592, 0.1834,\n",
      "        0.2825, 0.9609, 0.7971, 0.4002, 0.6221, 0.9391, 0.1111])\n",
      "tensor(1, dtype=torch.int32)\n",
      "==================================================\n",
      "tensor([0.6788, 0.3782, 0.2245, 0.7588, 0.6238, 0.0346, 0.5016, 0.9449, 0.7905,\n",
      "        0.6445, 0.0668, 0.5278, 0.3445, 0.2238, 0.1198, 0.4317])\n",
      "tensor(0, dtype=torch.int32)\n",
      "==================================================\n"
     ]
    }
   ],
   "source": [
    "for feature, label in torch_data:\n",
    "    print(feature)\n",
    "    print(label)\n",
    "    print('='.center(50, '='))"
   ]
  },
  {
   "cell_type": "code",
   "execution_count": 77,
   "metadata": {},
   "outputs": [],
   "source": [
    "# Wrap the PyTorch DataLoader in the wrapper class\n",
    "tf_data_generator = TorchToTFDataset(torch_data)"
   ]
  },
  {
   "cell_type": "code",
   "execution_count": 88,
   "metadata": {},
   "outputs": [
    {
     "data": {
      "text/plain": [
       "(torch.Size([16]), torch.Size([]), torch.float32, torch.int32)"
      ]
     },
     "execution_count": 88,
     "metadata": {},
     "output_type": "execute_result"
    }
   ],
   "source": [
    "# Define output signature dynamically using a sample batch\n",
    "feature, label = torch_data[0]\n",
    "feature_shape, feature_dtype = feature.shape, feature.dtype\n",
    "label_shape, label_dtype = label.shape, label.dtype\n",
    "\n",
    "feature_shape, label_shape, feature_dtype, label_dtype"
   ]
  },
  {
   "cell_type": "code",
   "execution_count": 89,
   "metadata": {},
   "outputs": [],
   "source": [
    "# Create a TensorFlow dataset from the generator\n",
    "output_signature = (\n",
    "    tf.TensorSpec(shape=(feature_shape), dtype=tf.float32),\n",
    "    tf.TensorSpec(shape=(label_shape), dtype=tf.int32)\n",
    ")\n",
    "\n",
    "tf_data_restore = tf.data.Dataset.from_generator(\n",
    "    tf_data_generator,\n",
    "    output_signature=output_signature\n",
    ")"
   ]
  },
  {
   "cell_type": "code",
   "execution_count": 95,
   "metadata": {},
   "outputs": [
    {
     "name": "stdout",
     "output_type": "stream",
     "text": [
      "info data: <_FlatMapDataset element_spec=(TensorSpec(shape=(16,), dtype=tf.float32, name=None), TensorSpec(shape=(), dtype=tf.int32, name=None))>\n"
     ]
    }
   ],
   "source": [
    "# Print information about the cached dataset and the number of data points\n",
    "print(f'info data: {tf_data_restore}')\n",
    "# print(f'number of data: {len(tf_data_restore)}')"
   ]
  },
  {
   "cell_type": "code",
   "execution_count": 91,
   "metadata": {},
   "outputs": [
    {
     "name": "stdout",
     "output_type": "stream",
     "text": [
      "tf.Tensor(\n",
      "[0.3716613  0.23343992 0.6551763  0.956612   0.88345003 0.81285775\n",
      " 0.16413713 0.69958603 0.78153515 0.27435637 0.27543426 0.70119333\n",
      " 0.83819747 0.9796101  0.05149639 0.810192  ], shape=(16,), dtype=float32)\n",
      "tf.Tensor(1, shape=(), dtype=int32)\n",
      "==================================================\n",
      "tf.Tensor(\n",
      "[0.92505026 0.12529635 0.22969902 0.7548735  0.58376205 0.83587503\n",
      " 0.09775198 0.5516207  0.48446012 0.8927151  0.15286112 0.46068025\n",
      " 0.15758538 0.22550094 0.6657419  0.37408233], shape=(16,), dtype=float32)\n",
      "tf.Tensor(1, shape=(), dtype=int32)\n",
      "==================================================\n",
      "tf.Tensor(\n",
      "[0.13539279 0.7585821  0.91278887 0.42594552 0.02400279 0.6480125\n",
      " 0.00300384 0.7571558  0.74235225 0.6349418  0.12970054 0.42855644\n",
      " 0.05962956 0.38240898 0.79575336 0.9580705 ], shape=(16,), dtype=float32)\n",
      "tf.Tensor(1, shape=(), dtype=int32)\n",
      "==================================================\n",
      "tf.Tensor(\n",
      "[0.3055581  0.99314487 0.2145257  0.632756   0.88665485 0.92397606\n",
      " 0.57269967 0.15921569 0.1833911  0.28252864 0.9608743  0.7970643\n",
      " 0.40016353 0.622074   0.93912005 0.11110795], shape=(16,), dtype=float32)\n",
      "tf.Tensor(1, shape=(), dtype=int32)\n",
      "==================================================\n",
      "tf.Tensor(\n",
      "[0.67880285 0.37823284 0.22450113 0.75876796 0.62375057 0.03460956\n",
      " 0.50160885 0.9449278  0.79054356 0.644501   0.06675422 0.52783\n",
      " 0.34451342 0.2238208  0.11979604 0.43168604], shape=(16,), dtype=float32)\n",
      "tf.Tensor(0, shape=(), dtype=int32)\n",
      "==================================================\n"
     ]
    }
   ],
   "source": [
    "for feature, label in tf_data_restore:\n",
    "    print(feature)\n",
    "    print(label)\n",
    "    print('='.center(50, '='))"
   ]
  },
  {
   "cell_type": "code",
   "execution_count": 97,
   "metadata": {},
   "outputs": [],
   "source": [
    "tf_data_batced = tf_data_restore.batch(2)"
   ]
  },
  {
   "cell_type": "code",
   "execution_count": 98,
   "metadata": {},
   "outputs": [
    {
     "name": "stdout",
     "output_type": "stream",
     "text": [
      "tf.Tensor(\n",
      "[[0.3716613  0.23343992 0.6551763  0.956612   0.88345003 0.81285775\n",
      "  0.16413713 0.69958603 0.78153515 0.27435637 0.27543426 0.70119333\n",
      "  0.83819747 0.9796101  0.05149639 0.810192  ]\n",
      " [0.92505026 0.12529635 0.22969902 0.7548735  0.58376205 0.83587503\n",
      "  0.09775198 0.5516207  0.48446012 0.8927151  0.15286112 0.46068025\n",
      "  0.15758538 0.22550094 0.6657419  0.37408233]], shape=(2, 16), dtype=float32)\n",
      "tf.Tensor([1 1], shape=(2,), dtype=int32)\n",
      "==================================================\n",
      "tf.Tensor(\n",
      "[[0.13539279 0.7585821  0.91278887 0.42594552 0.02400279 0.6480125\n",
      "  0.00300384 0.7571558  0.74235225 0.6349418  0.12970054 0.42855644\n",
      "  0.05962956 0.38240898 0.79575336 0.9580705 ]\n",
      " [0.3055581  0.99314487 0.2145257  0.632756   0.88665485 0.92397606\n",
      "  0.57269967 0.15921569 0.1833911  0.28252864 0.9608743  0.7970643\n",
      "  0.40016353 0.622074   0.93912005 0.11110795]], shape=(2, 16), dtype=float32)\n",
      "tf.Tensor([1 1], shape=(2,), dtype=int32)\n",
      "==================================================\n",
      "tf.Tensor(\n",
      "[[0.67880285 0.37823284 0.22450113 0.75876796 0.62375057 0.03460956\n",
      "  0.50160885 0.9449278  0.79054356 0.644501   0.06675422 0.52783\n",
      "  0.34451342 0.2238208  0.11979604 0.43168604]], shape=(1, 16), dtype=float32)\n",
      "tf.Tensor([0], shape=(1,), dtype=int32)\n",
      "==================================================\n"
     ]
    }
   ],
   "source": [
    "for feature, label in tf_data_batced:\n",
    "    print(feature)\n",
    "    print(label)\n",
    "    print('='.center(50, '='))"
   ]
  }
 ],
 "metadata": {
  "kernelspec": {
   "display_name": "Python 3",
   "language": "python",
   "name": "python3"
  },
  "language_info": {
   "codemirror_mode": {
    "name": "ipython",
    "version": 3
   },
   "file_extension": ".py",
   "mimetype": "text/x-python",
   "name": "python",
   "nbconvert_exporter": "python",
   "pygments_lexer": "ipython3",
   "version": "3.9.2"
  }
 },
 "nbformat": 4,
 "nbformat_minor": 2
}
