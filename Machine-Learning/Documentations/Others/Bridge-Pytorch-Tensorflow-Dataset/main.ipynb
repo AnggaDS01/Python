{
 "cells": [
  {
   "cell_type": "code",
   "execution_count": 1,
   "metadata": {},
   "outputs": [],
   "source": [
    "from torch.utils.data import Dataset, DataLoader\n",
    "from torchmetrics import Accuracy\n",
    "\n",
    "import matplotlib.pyplot as plt\n",
    "import numpy as np\n",
    "import tensorflow as tf\n",
    "import torch\n",
    "import os\n",
    "import math"
   ]
  },
  {
   "cell_type": "code",
   "execution_count": 24,
   "metadata": {},
   "outputs": [],
   "source": [
    "class TFToTorchDataset(Dataset):\n",
    "    def __init__(self, tf_dataset):\n",
    "        self.tf_dataset = tf_dataset\n",
    "        \n",
    "    def __len__(self):\n",
    "        return len(self.tf_dataset)\n",
    "\n",
    "    def __getitem__(self, idx):\n",
    "        # Convert the index to a TensorFlow slice to efficiently get a single element\n",
    "        for feature, label in self.tf_dataset.skip(idx).take(1):\n",
    "            feature = torch.tensor(feature.numpy())\n",
    "            label = torch.tensor(label.numpy())\n",
    "            return feature, label\n",
    "        raise IndexError\n",
    "    \n",
    "class TorchToTFDataset:\n",
    "    def __init__(self, dataloader):\n",
    "        self.dataloader = dataloader\n",
    "\n",
    "    def __getitem__(self, idx):\n",
    "        feature, label = self.dataloader[idx]\n",
    "        return feature.numpy(), label.numpy()\n",
    "\n",
    "    def __len__(self):\n",
    "        return len(self.dataloader)\n",
    "            \n",
    "    def __call__(self):\n",
    "        for i in range(self.__len__()):\n",
    "            yield self.__getitem__(i)"
   ]
  },
  {
   "cell_type": "code",
   "execution_count": 25,
   "metadata": {},
   "outputs": [],
   "source": [
    "# Assuming you have a large dataset\n",
    "features = tf.random.uniform((5, 16), minval=0, maxval=1)\n",
    "labels = tf.random.uniform((5,), minval=0, maxval=2, dtype=tf.int32)"
   ]
  },
  {
   "cell_type": "code",
   "execution_count": 26,
   "metadata": {},
   "outputs": [],
   "source": [
    "# Create TensorFlow dataset\n",
    "tf_data = tf.data.Dataset.from_tensor_slices((features, labels))"
   ]
  },
  {
   "cell_type": "code",
   "execution_count": 27,
   "metadata": {},
   "outputs": [
    {
     "name": "stdout",
     "output_type": "stream",
     "text": [
      "info data: <_TensorSliceDataset element_spec=(TensorSpec(shape=(16,), dtype=tf.float32, name=None), TensorSpec(shape=(), dtype=tf.int32, name=None))>\n",
      "number of data: 5\n"
     ]
    }
   ],
   "source": [
    "# Print information about the cached dataset and the number of data points\n",
    "print(f'info data: {tf_data}')\n",
    "print(f'number of data: {len(tf_data)}')"
   ]
  },
  {
   "cell_type": "code",
   "execution_count": 28,
   "metadata": {},
   "outputs": [
    {
     "name": "stdout",
     "output_type": "stream",
     "text": [
      "tf.Tensor(\n",
      "[0.7101072  0.5463505  0.760671   0.13194537 0.89819336 0.6222327\n",
      " 0.00361001 0.34648955 0.9688585  0.7658889  0.22182727 0.5738659\n",
      " 0.11347568 0.3120637  0.5544977  0.29776478], shape=(16,), dtype=float32)\n",
      "tf.Tensor(1, shape=(), dtype=int32)\n",
      "==================================================\n"
     ]
    }
   ],
   "source": [
    "for feature, label in tf_data.take(1):\n",
    "    print(feature)\n",
    "    print(label)\n",
    "    print('='.center(50, '='))"
   ]
  },
  {
   "cell_type": "code",
   "execution_count": 29,
   "metadata": {},
   "outputs": [],
   "source": [
    "# Convert to PyTorch Dataset\n",
    "torch_data = TFToTorchDataset(tf_data)"
   ]
  },
  {
   "cell_type": "code",
   "execution_count": 30,
   "metadata": {},
   "outputs": [
    {
     "name": "stdout",
     "output_type": "stream",
     "text": [
      "info data: <__main__.TFToTorchDataset object at 0x00000274569664F0>\n",
      "number of data: 5\n"
     ]
    }
   ],
   "source": [
    "# Print information about the cached dataset and the number of data points\n",
    "print(f'info data: {torch_data}')\n",
    "print(f'number of data: {len(torch_data)}')"
   ]
  },
  {
   "cell_type": "code",
   "execution_count": 31,
   "metadata": {},
   "outputs": [
    {
     "name": "stdout",
     "output_type": "stream",
     "text": [
      "tensor([0.7101, 0.5464, 0.7607, 0.1319, 0.8982, 0.6222, 0.0036, 0.3465, 0.9689,\n",
      "        0.7659, 0.2218, 0.5739, 0.1135, 0.3121, 0.5545, 0.2978])\n",
      "tensor(1, dtype=torch.int32)\n",
      "==================================================\n"
     ]
    }
   ],
   "source": [
    "feature, label = torch_data[0]\n",
    "print(feature)\n",
    "print(label)\n",
    "print('='.center(50, '='))\n",
    "\n",
    "# for feature, label in torch_data:\n",
    "#     print(feature)\n",
    "#     print(label)\n",
    "#     print('='.center(50, '='))"
   ]
  },
  {
   "cell_type": "code",
   "execution_count": 32,
   "metadata": {},
   "outputs": [],
   "source": [
    "# Wrap the PyTorch DataLoader in the wrapper class\n",
    "tf_data_generator = TorchToTFDataset(torch_data)"
   ]
  },
  {
   "cell_type": "code",
   "execution_count": 33,
   "metadata": {},
   "outputs": [
    {
     "data": {
      "text/plain": [
       "(torch.Size([16]), torch.Size([]), torch.float32, torch.int32)"
      ]
     },
     "execution_count": 33,
     "metadata": {},
     "output_type": "execute_result"
    }
   ],
   "source": [
    "# Define output signature dynamically using a sample batch\n",
    "feature, label = torch_data[0]\n",
    "feature_shape, feature_dtype = feature.shape, feature.dtype\n",
    "label_shape, label_dtype = label.shape, label.dtype\n",
    "\n",
    "feature_shape, label_shape, feature_dtype, label_dtype"
   ]
  },
  {
   "cell_type": "code",
   "execution_count": 34,
   "metadata": {},
   "outputs": [],
   "source": [
    "# Create a TensorFlow dataset from the generator\n",
    "output_signature = (\n",
    "    tf.TensorSpec(shape=(feature_shape), dtype=tf.float32),\n",
    "    tf.TensorSpec(shape=(label_shape), dtype=tf.int32)\n",
    ")\n",
    "\n",
    "tf_data_restore = tf.data.Dataset.from_generator(\n",
    "    tf_data_generator,\n",
    "    output_signature=output_signature\n",
    ")"
   ]
  },
  {
   "cell_type": "code",
   "execution_count": 44,
   "metadata": {},
   "outputs": [],
   "source": [
    "tf_data_restore.__class__ = type(tf_data_restore.__class__.__name__, (tf_data_restore.__class__,), {'__len__': lambda self: len(torch_data)})"
   ]
  },
  {
   "cell_type": "code",
   "execution_count": 42,
   "metadata": {},
   "outputs": [
    {
     "name": "stdout",
     "output_type": "stream",
     "text": [
      "info data: <_FlatMapDataset element_spec=(TensorSpec(shape=(16,), dtype=tf.float32, name=None), TensorSpec(shape=(), dtype=tf.int32, name=None))>\n",
      "number of data: 5\n"
     ]
    }
   ],
   "source": [
    "# Print information about the cached dataset and the number of data points\n",
    "print(f'info data: {tf_data_restore}')\n",
    "print(f'number of data: {len(tf_data_restore)}')"
   ]
  },
  {
   "cell_type": "code",
   "execution_count": 37,
   "metadata": {},
   "outputs": [
    {
     "name": "stdout",
     "output_type": "stream",
     "text": [
      "tf.Tensor(\n",
      "[0.7101072  0.5463505  0.760671   0.13194537 0.89819336 0.6222327\n",
      " 0.00361001 0.34648955 0.9688585  0.7658889  0.22182727 0.5738659\n",
      " 0.11347568 0.3120637  0.5544977  0.29776478], shape=(16,), dtype=float32)\n",
      "tf.Tensor(1, shape=(), dtype=int32)\n",
      "==================================================\n",
      "tf.Tensor(\n",
      "[0.37180305 0.6986232  0.62538207 0.740319   0.43544388 0.91177964\n",
      " 0.797052   0.6493373  0.01715887 0.7396107  0.63975847 0.59314907\n",
      " 0.8558531  0.04375792 0.2940253  0.10130537], shape=(16,), dtype=float32)\n",
      "tf.Tensor(1, shape=(), dtype=int32)\n",
      "==================================================\n",
      "tf.Tensor(\n",
      "[0.20648324 0.5060085  0.23901904 0.16011941 0.65756    0.04323947\n",
      " 0.24448466 0.01703465 0.8452778  0.09872723 0.28330922 0.5499612\n",
      " 0.33233202 0.5842719  0.44610524 0.12213457], shape=(16,), dtype=float32)\n",
      "tf.Tensor(1, shape=(), dtype=int32)\n",
      "==================================================\n",
      "tf.Tensor(\n",
      "[0.5216601  0.0522666  0.11583102 0.6274766  0.61375666 0.05369842\n",
      " 0.8095026  0.11971641 0.40681577 0.48861003 0.6336185  0.12428892\n",
      " 0.7975936  0.84827363 0.20046985 0.84192336], shape=(16,), dtype=float32)\n",
      "tf.Tensor(0, shape=(), dtype=int32)\n",
      "==================================================\n",
      "tf.Tensor(\n",
      "[0.01708877 0.01407421 0.7729361  0.34017742 0.97231257 0.66388774\n",
      " 0.8256575  0.27134562 0.62108433 0.4839573  0.06720328 0.14291918\n",
      " 0.88908863 0.5075797  0.47441196 0.90907466], shape=(16,), dtype=float32)\n",
      "tf.Tensor(1, shape=(), dtype=int32)\n",
      "==================================================\n"
     ]
    }
   ],
   "source": [
    "for feature, label in tf_data_restore:\n",
    "    print(feature)\n",
    "    print(label)\n",
    "    print('='.center(50, '='))"
   ]
  },
  {
   "cell_type": "code",
   "execution_count": 38,
   "metadata": {},
   "outputs": [],
   "source": [
    "tf_data_batced = tf_data_restore.batch(2)"
   ]
  },
  {
   "cell_type": "code",
   "execution_count": 39,
   "metadata": {},
   "outputs": [
    {
     "name": "stdout",
     "output_type": "stream",
     "text": [
      "tf.Tensor(\n",
      "[[0.7101072  0.5463505  0.760671   0.13194537 0.89819336 0.6222327\n",
      "  0.00361001 0.34648955 0.9688585  0.7658889  0.22182727 0.5738659\n",
      "  0.11347568 0.3120637  0.5544977  0.29776478]\n",
      " [0.37180305 0.6986232  0.62538207 0.740319   0.43544388 0.91177964\n",
      "  0.797052   0.6493373  0.01715887 0.7396107  0.63975847 0.59314907\n",
      "  0.8558531  0.04375792 0.2940253  0.10130537]], shape=(2, 16), dtype=float32)\n",
      "tf.Tensor([1 1], shape=(2,), dtype=int32)\n",
      "==================================================\n",
      "tf.Tensor(\n",
      "[[0.20648324 0.5060085  0.23901904 0.16011941 0.65756    0.04323947\n",
      "  0.24448466 0.01703465 0.8452778  0.09872723 0.28330922 0.5499612\n",
      "  0.33233202 0.5842719  0.44610524 0.12213457]\n",
      " [0.5216601  0.0522666  0.11583102 0.6274766  0.61375666 0.05369842\n",
      "  0.8095026  0.11971641 0.40681577 0.48861003 0.6336185  0.12428892\n",
      "  0.7975936  0.84827363 0.20046985 0.84192336]], shape=(2, 16), dtype=float32)\n",
      "tf.Tensor([1 0], shape=(2,), dtype=int32)\n",
      "==================================================\n",
      "tf.Tensor(\n",
      "[[0.01708877 0.01407421 0.7729361  0.34017742 0.97231257 0.66388774\n",
      "  0.8256575  0.27134562 0.62108433 0.4839573  0.06720328 0.14291918\n",
      "  0.88908863 0.5075797  0.47441196 0.90907466]], shape=(1, 16), dtype=float32)\n",
      "tf.Tensor([1], shape=(1,), dtype=int32)\n",
      "==================================================\n"
     ]
    }
   ],
   "source": [
    "for feature, label in tf_data_batced:\n",
    "    print(feature)\n",
    "    print(label)\n",
    "    print('='.center(50, '='))"
   ]
  }
 ],
 "metadata": {
  "kernelspec": {
   "display_name": "Python 3",
   "language": "python",
   "name": "python3"
  },
  "language_info": {
   "codemirror_mode": {
    "name": "ipython",
    "version": 3
   },
   "file_extension": ".py",
   "mimetype": "text/x-python",
   "name": "python",
   "nbconvert_exporter": "python",
   "pygments_lexer": "ipython3",
   "version": "3.9.2"
  }
 },
 "nbformat": 4,
 "nbformat_minor": 2
}
