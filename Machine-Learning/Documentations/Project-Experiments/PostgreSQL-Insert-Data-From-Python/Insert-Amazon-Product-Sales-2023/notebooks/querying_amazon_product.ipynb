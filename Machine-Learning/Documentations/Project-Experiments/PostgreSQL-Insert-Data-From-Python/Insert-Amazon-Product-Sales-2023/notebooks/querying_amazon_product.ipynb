{
 "cells": [
  {
   "cell_type": "code",
   "execution_count": 1,
   "metadata": {},
   "outputs": [
    {
     "name": "stdout",
     "output_type": "stream",
     "text": [
      "c:\\Workspace\\Python\\Machine-Learning\\Documentations\\Project-Experiments\\PostgreSQL-Insert-Data-From-Python\\Insert-Amazon-Product-Sales-2023\n"
     ]
    }
   ],
   "source": [
    "from pathlib import Path\n",
    "import os\n",
    "import sys\n",
    "import glob\n",
    "\n",
    "current_file_path = os.path.abspath('')\n",
    "parent_folder_path = Path(current_file_path).parent\n",
    "print(parent_folder_path)\n",
    "\n",
    "sys.path.append(str(parent_folder_path))"
   ]
  },
  {
   "cell_type": "code",
   "execution_count": 107,
   "metadata": {},
   "outputs": [],
   "source": [
    "from utils.postgre_database_connection import connect_to_local_database\n",
    "from tqdm import tqdm\n",
    "\n",
    "import numpy as np\n",
    "import pandas as pd\n",
    "import psycopg2\n",
    "import re"
   ]
  },
  {
   "cell_type": "code",
   "execution_count": 9,
   "metadata": {},
   "outputs": [
    {
     "name": "stdout",
     "output_type": "stream",
     "text": [
      "Berhasil Terhubung ke Database.\n"
     ]
    }
   ],
   "source": [
    "try: \n",
    "    connection = connect_to_local_database()\n",
    "    cursor = connection.cursor()\n",
    "    print(\"Berhasil Terhubung ke Database.\")\n",
    "    \n",
    "    # cek konfigurasi apakah sudah sesuai atau belum, kalo ragu bisa di uncomment\n",
    "    # cursor.close()\n",
    "    # connection.close() \n",
    "except (Exception, psycopg2.DatabaseError) as error:\n",
    "    print(f'Error: {error}')"
   ]
  },
  {
   "cell_type": "code",
   "execution_count": 4,
   "metadata": {},
   "outputs": [
    {
     "name": "stdout",
     "output_type": "stream",
     "text": [
      "Nama Tabel Berhasil Diquery Dari Database\n"
     ]
    }
   ],
   "source": [
    "# Query untuk mendapatkan daftar tabel\n",
    "GET_ALL_TABLES_NAME_QUERY = \"\"\"\n",
    "--sql\n",
    "    select table_name\n",
    "    from information_schema.tables\n",
    "    where table_schema = 'amazon_products'\n",
    ";\n",
    "\"\"\"\n",
    "\n",
    "cursor.execute(GET_ALL_TABLES_NAME_QUERY)\n",
    "tables = cursor.fetchall()\n",
    "print('Nama Tabel Berhasil Diquery Dari Database')\n",
    "cursor.close()\n",
    "connection.close() "
   ]
  },
  {
   "cell_type": "code",
   "execution_count": 5,
   "metadata": {},
   "outputs": [
    {
     "data": {
      "text/plain": [
       "[('all_grocery_and_gourmet_foods',),\n",
       " ('all_exercise_and_fitness',),\n",
       " ('all_home_and_kitchen',)]"
      ]
     },
     "execution_count": 5,
     "metadata": {},
     "output_type": "execute_result"
    }
   ],
   "source": [
    "tables[:3]"
   ]
  },
  {
   "cell_type": "code",
   "execution_count": 6,
   "metadata": {},
   "outputs": [],
   "source": [
    "tables_name = [''.join(table) for table in tables]"
   ]
  },
  {
   "cell_type": "code",
   "execution_count": 7,
   "metadata": {},
   "outputs": [
    {
     "data": {
      "text/plain": [
       "['all_grocery_and_gourmet_foods',\n",
       " 'all_exercise_and_fitness',\n",
       " 'all_home_and_kitchen',\n",
       " 'all_pet_supplies',\n",
       " 'air_conditioners']"
      ]
     },
     "execution_count": 7,
     "metadata": {},
     "output_type": "execute_result"
    }
   ],
   "source": [
    "tables_name[:5]"
   ]
  },
  {
   "cell_type": "code",
   "execution_count": 93,
   "metadata": {},
   "outputs": [],
   "source": [
    "connection = connect_to_local_database()\n",
    "cursor = connection.cursor()\n",
    "path_save_file = os.path.join(current_file_path,'watches.csv')\n",
    "\n",
    "COPY_TO_CSV_FORMAT = \"\"\"\n",
    "--sql\n",
    "copy amazon_products.watches to '{}' delimiter ',' csv header;\n",
    ";\n",
    "\"\"\"\n",
    "\n",
    "cursor.execute(COPY_TO_CSV_FORMAT.format(path_save_file))\n",
    "# Menutup cursor dan koneksi\n",
    "cursor.close()\n",
    "connection.close()"
   ]
  },
  {
   "cell_type": "code",
   "execution_count": 116,
   "metadata": {},
   "outputs": [],
   "source": [
    "watches_df_from_csv = pd.read_csv('watches.csv')"
   ]
  },
  {
   "cell_type": "code",
   "execution_count": 117,
   "metadata": {},
   "outputs": [
    {
     "name": "stdout",
     "output_type": "stream",
     "text": [
      "<class 'pandas.core.frame.DataFrame'>\n",
      "RangeIndex: 19133 entries, 0 to 19132\n",
      "Data columns (total 9 columns):\n",
      " #   Column          Non-Null Count  Dtype \n",
      "---  ------          --------------  ----- \n",
      " 0   name            19133 non-null  object\n",
      " 1   main_category   19133 non-null  object\n",
      " 2   sub_category    19133 non-null  object\n",
      " 3   image           19133 non-null  object\n",
      " 4   link            19133 non-null  object\n",
      " 5   ratings         9660 non-null   object\n",
      " 6   no_of_ratings   9660 non-null   object\n",
      " 7   discount_price  16469 non-null  object\n",
      " 8   actual_price    18680 non-null  object\n",
      "dtypes: object(9)\n",
      "memory usage: 1.3+ MB\n"
     ]
    }
   ],
   "source": [
    "watches_df_from_csv.info()"
   ]
  },
  {
   "cell_type": "code",
   "execution_count": 118,
   "metadata": {},
   "outputs": [
    {
     "data": {
      "text/plain": [
       "name                 0\n",
       "main_category        0\n",
       "sub_category         0\n",
       "image                0\n",
       "link                 0\n",
       "ratings           9473\n",
       "no_of_ratings     9473\n",
       "discount_price    2664\n",
       "actual_price       453\n",
       "dtype: int64"
      ]
     },
     "execution_count": 118,
     "metadata": {},
     "output_type": "execute_result"
    }
   ],
   "source": [
    "watches_df_from_csv.isna().sum()"
   ]
  },
  {
   "cell_type": "code",
   "execution_count": 15,
   "metadata": {},
   "outputs": [
    {
     "name": "stdout",
     "output_type": "stream",
     "text": [
      "Values dari Tabel Watches Berhasil Diquery Dari Database\n"
     ]
    }
   ],
   "source": [
    "connection = connect_to_local_database()\n",
    "cursor = connection.cursor()\n",
    "\n",
    "# Query untuk mendapatkan daftar tabel\n",
    "GET_ALL_TABLES_NAME_QUERY = \"\"\"\n",
    "--sql\n",
    "    select * from amazon_products.watches\n",
    ";\n",
    "\"\"\"\n",
    "\n",
    "cursor.execute(GET_ALL_TABLES_NAME_QUERY)\n",
    "watches_table = cursor.fetchall()\n",
    "columns_watches = [desc[0] for desc in cursor.description]\n",
    "print('Values dari Tabel Watches Berhasil Diquery Dari Database')\n",
    "cursor.close()\n",
    "connection.close() "
   ]
  },
  {
   "cell_type": "code",
   "execution_count": 80,
   "metadata": {},
   "outputs": [],
   "source": [
    "watches_df = pd.DataFrame(watches_table, columns=columns_watches)"
   ]
  },
  {
   "cell_type": "code",
   "execution_count": 81,
   "metadata": {},
   "outputs": [
    {
     "name": "stdout",
     "output_type": "stream",
     "text": [
      "<class 'pandas.core.frame.DataFrame'>\n",
      "RangeIndex: 19133 entries, 0 to 19132\n",
      "Data columns (total 9 columns):\n",
      " #   Column          Non-Null Count  Dtype \n",
      "---  ------          --------------  ----- \n",
      " 0   name            19133 non-null  object\n",
      " 1   main_category   19133 non-null  object\n",
      " 2   sub_category    19133 non-null  object\n",
      " 3   image           19133 non-null  object\n",
      " 4   link            19133 non-null  object\n",
      " 5   ratings         19133 non-null  object\n",
      " 6   no_of_ratings   19133 non-null  object\n",
      " 7   discount_price  19133 non-null  object\n",
      " 8   actual_price    19133 non-null  object\n",
      "dtypes: object(9)\n",
      "memory usage: 16.3 MB\n"
     ]
    }
   ],
   "source": [
    "watches_df.info(memory_usage='deep')"
   ]
  },
  {
   "cell_type": "code",
   "execution_count": 105,
   "metadata": {},
   "outputs": [
    {
     "data": {
      "text/html": [
       "<div>\n",
       "<style scoped>\n",
       "    .dataframe tbody tr th:only-of-type {\n",
       "        vertical-align: middle;\n",
       "    }\n",
       "\n",
       "    .dataframe tbody tr th {\n",
       "        vertical-align: top;\n",
       "    }\n",
       "\n",
       "    .dataframe thead th {\n",
       "        text-align: right;\n",
       "    }\n",
       "</style>\n",
       "<table border=\"1\" class=\"dataframe\">\n",
       "  <thead>\n",
       "    <tr style=\"text-align: right;\">\n",
       "      <th></th>\n",
       "      <th>name</th>\n",
       "      <th>main_category</th>\n",
       "      <th>sub_category</th>\n",
       "      <th>image</th>\n",
       "      <th>link</th>\n",
       "      <th>ratings</th>\n",
       "      <th>no_of_ratings</th>\n",
       "      <th>discount_price</th>\n",
       "      <th>actual_price</th>\n",
       "    </tr>\n",
       "  </thead>\n",
       "  <tbody>\n",
       "    <tr>\n",
       "      <th>0</th>\n",
       "      <td>Fastrack Reflex Play|1.3” AMOLED Display Smart...</td>\n",
       "      <td>accessories</td>\n",
       "      <td>Watches</td>\n",
       "      <td>https://m.media-amazon.com/images/W/IMAGERENDE...</td>\n",
       "      <td>https://www.amazon.in/Fastrack-Reflex-AMOLED-D...</td>\n",
       "      <td>3.6</td>\n",
       "      <td>3,013</td>\n",
       "      <td>₹3,495</td>\n",
       "      <td>₹7,995</td>\n",
       "    </tr>\n",
       "    <tr>\n",
       "      <th>1</th>\n",
       "      <td>Fossil Gen 5E Smartwatch with AMOLED Screen, W...</td>\n",
       "      <td>accessories</td>\n",
       "      <td>Watches</td>\n",
       "      <td>https://m.media-amazon.com/images/W/IMAGERENDE...</td>\n",
       "      <td>https://www.amazon.in/Fossil-Smartwatch-stainl...</td>\n",
       "      <td>3.9</td>\n",
       "      <td>12,329</td>\n",
       "      <td>₹14,795</td>\n",
       "      <td>₹18,495</td>\n",
       "    </tr>\n",
       "    <tr>\n",
       "      <th>2</th>\n",
       "      <td>Fossil Analog Rose Gold Dial Women's Watch-BQ3181</td>\n",
       "      <td>accessories</td>\n",
       "      <td>Watches</td>\n",
       "      <td>https://m.media-amazon.com/images/W/IMAGERENDE...</td>\n",
       "      <td>https://www.amazon.in/Fossil-Analog-Rose-Women...</td>\n",
       "      <td>4.5</td>\n",
       "      <td>2,796</td>\n",
       "      <td>₹6,170</td>\n",
       "      <td>₹9,495</td>\n",
       "    </tr>\n",
       "    <tr>\n",
       "      <th>3</th>\n",
       "      <td>LOUIS DEVIN LD-L144-BLU-CH Mesh Steel Chain An...</td>\n",
       "      <td>accessories</td>\n",
       "      <td>Watches</td>\n",
       "      <td>https://m.media-amazon.com/images/W/IMAGERENDE...</td>\n",
       "      <td>https://www.amazon.in/LOUIS-DEVIN-Analogue-Col...</td>\n",
       "      <td>4.0</td>\n",
       "      <td>5,276</td>\n",
       "      <td>₹289</td>\n",
       "      <td>₹1,999</td>\n",
       "    </tr>\n",
       "    <tr>\n",
       "      <th>4</th>\n",
       "      <td>IMPERIOUS - THE ROYAL WAY Analogue Women's Wat...</td>\n",
       "      <td>accessories</td>\n",
       "      <td>Watches</td>\n",
       "      <td>https://m.media-amazon.com/images/W/IMAGERENDE...</td>\n",
       "      <td>https://www.amazon.in/Imperious-Analog-Black-W...</td>\n",
       "      <td>3.9</td>\n",
       "      <td>6,137</td>\n",
       "      <td>₹759</td>\n",
       "      <td>₹1,999</td>\n",
       "    </tr>\n",
       "  </tbody>\n",
       "</table>\n",
       "</div>"
      ],
      "text/plain": [
       "                                                name main_category  \\\n",
       "0  Fastrack Reflex Play|1.3” AMOLED Display Smart...   accessories   \n",
       "1  Fossil Gen 5E Smartwatch with AMOLED Screen, W...   accessories   \n",
       "2  Fossil Analog Rose Gold Dial Women's Watch-BQ3181   accessories   \n",
       "3  LOUIS DEVIN LD-L144-BLU-CH Mesh Steel Chain An...   accessories   \n",
       "4  IMPERIOUS - THE ROYAL WAY Analogue Women's Wat...   accessories   \n",
       "\n",
       "  sub_category                                              image  \\\n",
       "0      Watches  https://m.media-amazon.com/images/W/IMAGERENDE...   \n",
       "1      Watches  https://m.media-amazon.com/images/W/IMAGERENDE...   \n",
       "2      Watches  https://m.media-amazon.com/images/W/IMAGERENDE...   \n",
       "3      Watches  https://m.media-amazon.com/images/W/IMAGERENDE...   \n",
       "4      Watches  https://m.media-amazon.com/images/W/IMAGERENDE...   \n",
       "\n",
       "                                                link ratings no_of_ratings  \\\n",
       "0  https://www.amazon.in/Fastrack-Reflex-AMOLED-D...     3.6         3,013   \n",
       "1  https://www.amazon.in/Fossil-Smartwatch-stainl...     3.9        12,329   \n",
       "2  https://www.amazon.in/Fossil-Analog-Rose-Women...     4.5         2,796   \n",
       "3  https://www.amazon.in/LOUIS-DEVIN-Analogue-Col...     4.0         5,276   \n",
       "4  https://www.amazon.in/Imperious-Analog-Black-W...     3.9         6,137   \n",
       "\n",
       "  discount_price actual_price  \n",
       "0         ₹3,495       ₹7,995  \n",
       "1        ₹14,795      ₹18,495  \n",
       "2         ₹6,170       ₹9,495  \n",
       "3           ₹289       ₹1,999  \n",
       "4           ₹759       ₹1,999  "
      ]
     },
     "execution_count": 105,
     "metadata": {},
     "output_type": "execute_result"
    }
   ],
   "source": [
    "watches_df[:5]"
   ]
  },
  {
   "cell_type": "code",
   "execution_count": 83,
   "metadata": {},
   "outputs": [
    {
     "data": {
      "text/plain": [
       "name              17917\n",
       "main_category         1\n",
       "sub_category          1\n",
       "image             18583\n",
       "link              19133\n",
       "ratings              43\n",
       "no_of_ratings       816\n",
       "discount_price     3069\n",
       "actual_price       1682\n",
       "dtype: int64"
      ]
     },
     "execution_count": 83,
     "metadata": {},
     "output_type": "execute_result"
    }
   ],
   "source": [
    "watches_df.nunique()"
   ]
  },
  {
   "cell_type": "code",
   "execution_count": 106,
   "metadata": {},
   "outputs": [
    {
     "data": {
      "text/html": [
       "<div>\n",
       "<style scoped>\n",
       "    .dataframe tbody tr th:only-of-type {\n",
       "        vertical-align: middle;\n",
       "    }\n",
       "\n",
       "    .dataframe tbody tr th {\n",
       "        vertical-align: top;\n",
       "    }\n",
       "\n",
       "    .dataframe thead th {\n",
       "        text-align: right;\n",
       "    }\n",
       "</style>\n",
       "<table border=\"1\" class=\"dataframe\">\n",
       "  <thead>\n",
       "    <tr style=\"text-align: right;\">\n",
       "      <th></th>\n",
       "      <th>name</th>\n",
       "      <th>main_category</th>\n",
       "      <th>sub_category</th>\n",
       "      <th>image</th>\n",
       "      <th>link</th>\n",
       "      <th>ratings</th>\n",
       "      <th>no_of_ratings</th>\n",
       "      <th>discount_price</th>\n",
       "      <th>actual_price</th>\n",
       "    </tr>\n",
       "  </thead>\n",
       "  <tbody>\n",
       "    <tr>\n",
       "      <th>42</th>\n",
       "      <td>Gemini 3132QM01</td>\n",
       "      <td>accessories</td>\n",
       "      <td>Watches</td>\n",
       "      <td>https://m.media-amazon.com/images/I/81psX7pHin...</td>\n",
       "      <td>https://www.amazon.in/Gemini-3132QM01/dp/B0BB7...</td>\n",
       "      <td>NaN</td>\n",
       "      <td>NaN</td>\n",
       "      <td>₹2,595</td>\n",
       "      <td>₹2,995</td>\n",
       "    </tr>\n",
       "    <tr>\n",
       "      <th>335</th>\n",
       "      <td>Tommy Hilfiger Analog Blue Dial Women's Watch-...</td>\n",
       "      <td>accessories</td>\n",
       "      <td>Watches</td>\n",
       "      <td>https://m.media-amazon.com/images/I/81grfT9iD-...</td>\n",
       "      <td>https://www.amazon.in/Tommy-Hilfiger-Analog-Wo...</td>\n",
       "      <td>NaN</td>\n",
       "      <td>NaN</td>\n",
       "      <td>₹7,743.98</td>\n",
       "      <td>₹11,995</td>\n",
       "    </tr>\n",
       "    <tr>\n",
       "      <th>419</th>\n",
       "      <td>GUESS Analog Multicolor Dial Women's Watch-GW0...</td>\n",
       "      <td>accessories</td>\n",
       "      <td>Watches</td>\n",
       "      <td>https://m.media-amazon.com/images/I/81efd72uTW...</td>\n",
       "      <td>https://www.amazon.in/GUESS-Analog-Multicolor-...</td>\n",
       "      <td>NaN</td>\n",
       "      <td>NaN</td>\n",
       "      <td>₹12,500</td>\n",
       "      <td>₹13,995</td>\n",
       "    </tr>\n",
       "    <tr>\n",
       "      <th>485</th>\n",
       "      <td>Shocknshop Digital Sports Square Dial LED Unis...</td>\n",
       "      <td>accessories</td>\n",
       "      <td>Watches</td>\n",
       "      <td>https://m.media-amazon.com/images/W/IMAGERENDE...</td>\n",
       "      <td>https://www.amazon.in/Shocknshop-Digital-Sport...</td>\n",
       "      <td>NaN</td>\n",
       "      <td>NaN</td>\n",
       "      <td>₹299</td>\n",
       "      <td>₹1,299</td>\n",
       "    </tr>\n",
       "    <tr>\n",
       "      <th>543</th>\n",
       "      <td>Emartos Girls Kids Princess/Frozen Digital Mus...</td>\n",
       "      <td>accessories</td>\n",
       "      <td>Watches</td>\n",
       "      <td>https://m.media-amazon.com/images/I/41aDpounqT...</td>\n",
       "      <td>https://www.amazon.in/Emartos-Princess-Frozen-...</td>\n",
       "      <td>NaN</td>\n",
       "      <td>NaN</td>\n",
       "      <td>₹399</td>\n",
       "      <td>₹1,499</td>\n",
       "    </tr>\n",
       "    <tr>\n",
       "      <th>...</th>\n",
       "      <td>...</td>\n",
       "      <td>...</td>\n",
       "      <td>...</td>\n",
       "      <td>...</td>\n",
       "      <td>...</td>\n",
       "      <td>...</td>\n",
       "      <td>...</td>\n",
       "      <td>...</td>\n",
       "      <td>...</td>\n",
       "    </tr>\n",
       "    <tr>\n",
       "      <th>19125</th>\n",
       "      <td>NEUTRON Unique Analog White and Black Color Di...</td>\n",
       "      <td>accessories</td>\n",
       "      <td>Watches</td>\n",
       "      <td>https://m.media-amazon.com/images/W/IMAGERENDE...</td>\n",
       "      <td>https://www.amazon.in/NEUTRON-Unique-Analog-Wh...</td>\n",
       "      <td>NaN</td>\n",
       "      <td>NaN</td>\n",
       "      <td>₹326</td>\n",
       "      <td>₹778</td>\n",
       "    </tr>\n",
       "    <tr>\n",
       "      <th>19126</th>\n",
       "      <td>NEUTRON Italian Designer Analog Silver and Bla...</td>\n",
       "      <td>accessories</td>\n",
       "      <td>Watches</td>\n",
       "      <td>https://m.media-amazon.com/images/W/IMAGERENDE...</td>\n",
       "      <td>https://www.amazon.in/NEUTRON-Italian-Designer...</td>\n",
       "      <td>NaN</td>\n",
       "      <td>NaN</td>\n",
       "      <td>₹412</td>\n",
       "      <td>₹942</td>\n",
       "    </tr>\n",
       "    <tr>\n",
       "      <th>19127</th>\n",
       "      <td>NEUTRON Exclusive Analog White and Blue Color ...</td>\n",
       "      <td>accessories</td>\n",
       "      <td>Watches</td>\n",
       "      <td>https://m.media-amazon.com/images/W/IMAGERENDE...</td>\n",
       "      <td>https://www.amazon.in/NEUTRON-Exclusive-Analog...</td>\n",
       "      <td>NaN</td>\n",
       "      <td>NaN</td>\n",
       "      <td>₹409</td>\n",
       "      <td>₹948</td>\n",
       "    </tr>\n",
       "    <tr>\n",
       "      <th>19128</th>\n",
       "      <td>NEUTRON Party Wedding Analog White and Black C...</td>\n",
       "      <td>accessories</td>\n",
       "      <td>Watches</td>\n",
       "      <td>https://m.media-amazon.com/images/W/IMAGERENDE...</td>\n",
       "      <td>https://www.amazon.in/NEUTRON-Party-Wedding-An...</td>\n",
       "      <td>NaN</td>\n",
       "      <td>NaN</td>\n",
       "      <td>₹393</td>\n",
       "      <td>₹914</td>\n",
       "    </tr>\n",
       "    <tr>\n",
       "      <th>19132</th>\n",
       "      <td>NEUTRON Fashionable Analog Black and Silver Co...</td>\n",
       "      <td>accessories</td>\n",
       "      <td>Watches</td>\n",
       "      <td>https://m.media-amazon.com/images/W/IMAGERENDE...</td>\n",
       "      <td>https://www.amazon.in/NEUTRON-Fashionable-Anal...</td>\n",
       "      <td>NaN</td>\n",
       "      <td>NaN</td>\n",
       "      <td>₹388</td>\n",
       "      <td>₹900</td>\n",
       "    </tr>\n",
       "  </tbody>\n",
       "</table>\n",
       "<p>9473 rows × 9 columns</p>\n",
       "</div>"
      ],
      "text/plain": [
       "                                                    name main_category  \\\n",
       "42                                       Gemini 3132QM01   accessories   \n",
       "335    Tommy Hilfiger Analog Blue Dial Women's Watch-...   accessories   \n",
       "419    GUESS Analog Multicolor Dial Women's Watch-GW0...   accessories   \n",
       "485    Shocknshop Digital Sports Square Dial LED Unis...   accessories   \n",
       "543    Emartos Girls Kids Princess/Frozen Digital Mus...   accessories   \n",
       "...                                                  ...           ...   \n",
       "19125  NEUTRON Unique Analog White and Black Color Di...   accessories   \n",
       "19126  NEUTRON Italian Designer Analog Silver and Bla...   accessories   \n",
       "19127  NEUTRON Exclusive Analog White and Blue Color ...   accessories   \n",
       "19128  NEUTRON Party Wedding Analog White and Black C...   accessories   \n",
       "19132  NEUTRON Fashionable Analog Black and Silver Co...   accessories   \n",
       "\n",
       "      sub_category                                              image  \\\n",
       "42         Watches  https://m.media-amazon.com/images/I/81psX7pHin...   \n",
       "335        Watches  https://m.media-amazon.com/images/I/81grfT9iD-...   \n",
       "419        Watches  https://m.media-amazon.com/images/I/81efd72uTW...   \n",
       "485        Watches  https://m.media-amazon.com/images/W/IMAGERENDE...   \n",
       "543        Watches  https://m.media-amazon.com/images/I/41aDpounqT...   \n",
       "...            ...                                                ...   \n",
       "19125      Watches  https://m.media-amazon.com/images/W/IMAGERENDE...   \n",
       "19126      Watches  https://m.media-amazon.com/images/W/IMAGERENDE...   \n",
       "19127      Watches  https://m.media-amazon.com/images/W/IMAGERENDE...   \n",
       "19128      Watches  https://m.media-amazon.com/images/W/IMAGERENDE...   \n",
       "19132      Watches  https://m.media-amazon.com/images/W/IMAGERENDE...   \n",
       "\n",
       "                                                    link ratings  \\\n",
       "42     https://www.amazon.in/Gemini-3132QM01/dp/B0BB7...     NaN   \n",
       "335    https://www.amazon.in/Tommy-Hilfiger-Analog-Wo...     NaN   \n",
       "419    https://www.amazon.in/GUESS-Analog-Multicolor-...     NaN   \n",
       "485    https://www.amazon.in/Shocknshop-Digital-Sport...     NaN   \n",
       "543    https://www.amazon.in/Emartos-Princess-Frozen-...     NaN   \n",
       "...                                                  ...     ...   \n",
       "19125  https://www.amazon.in/NEUTRON-Unique-Analog-Wh...     NaN   \n",
       "19126  https://www.amazon.in/NEUTRON-Italian-Designer...     NaN   \n",
       "19127  https://www.amazon.in/NEUTRON-Exclusive-Analog...     NaN   \n",
       "19128  https://www.amazon.in/NEUTRON-Party-Wedding-An...     NaN   \n",
       "19132  https://www.amazon.in/NEUTRON-Fashionable-Anal...     NaN   \n",
       "\n",
       "      no_of_ratings discount_price actual_price  \n",
       "42              NaN         ₹2,595       ₹2,995  \n",
       "335             NaN      ₹7,743.98      ₹11,995  \n",
       "419             NaN        ₹12,500      ₹13,995  \n",
       "485             NaN           ₹299       ₹1,299  \n",
       "543             NaN           ₹399       ₹1,499  \n",
       "...             ...            ...          ...  \n",
       "19125           NaN           ₹326         ₹778  \n",
       "19126           NaN           ₹412         ₹942  \n",
       "19127           NaN           ₹409         ₹948  \n",
       "19128           NaN           ₹393         ₹914  \n",
       "19132           NaN           ₹388         ₹900  \n",
       "\n",
       "[9473 rows x 9 columns]"
      ]
     },
     "execution_count": 106,
     "metadata": {},
     "output_type": "execute_result"
    }
   ],
   "source": [
    "watches_df[watches_df['ratings'].str.lower() == 'nan']"
   ]
  },
  {
   "cell_type": "code",
   "execution_count": 113,
   "metadata": {},
   "outputs": [],
   "source": [
    "watches_df.replace(r'(?i)^nan$', np.nan, regex=True, inplace=True)"
   ]
  },
  {
   "cell_type": "code",
   "execution_count": 119,
   "metadata": {},
   "outputs": [
    {
     "data": {
      "text/plain": [
       "name              True\n",
       "main_category     True\n",
       "sub_category      True\n",
       "image             True\n",
       "link              True\n",
       "ratings           True\n",
       "no_of_ratings     True\n",
       "discount_price    True\n",
       "actual_price      True\n",
       "dtype: bool"
      ]
     },
     "execution_count": 119,
     "metadata": {},
     "output_type": "execute_result"
    }
   ],
   "source": [
    "watches_df.isna().sum() == watches_df_from_csv.isna().sum()"
   ]
  },
  {
   "cell_type": "code",
   "execution_count": 104,
   "metadata": {},
   "outputs": [
    {
     "name": "stdout",
     "output_type": "stream",
     "text": [
      "kolom name: False\n",
      "kolom main_category: False\n",
      "kolom sub_category: False\n",
      "kolom image: False\n",
      "kolom link: False\n",
      "kolom ratings: False\n",
      "kolom no_of_ratings: False\n",
      "kolom discount_price: False\n",
      "kolom actual_price: False\n"
     ]
    }
   ],
   "source": [
    "for column in watches_df.columns:\n",
    "    data = watches_df[watches_df[column].str.match(r\"^$|^\\s+$|[\\s+]?'+\", na=False)]\n",
    "    is_column_table_empty_string = data.shape[0] > 0\n",
    "    print(f'kolom {column}: {is_column_table_empty_string}')"
   ]
  }
 ],
 "metadata": {
  "kernelspec": {
   "display_name": "Python 3",
   "language": "python",
   "name": "python3"
  },
  "language_info": {
   "codemirror_mode": {
    "name": "ipython",
    "version": 3
   },
   "file_extension": ".py",
   "mimetype": "text/x-python",
   "name": "python",
   "nbconvert_exporter": "python",
   "pygments_lexer": "ipython3",
   "version": "3.9.2"
  }
 },
 "nbformat": 4,
 "nbformat_minor": 2
}
