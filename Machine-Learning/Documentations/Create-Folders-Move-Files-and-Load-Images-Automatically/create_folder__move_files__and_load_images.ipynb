{
 "cells": [
  {
   "cell_type": "code",
   "execution_count": 3,
   "metadata": {},
   "outputs": [],
   "source": [
    "import tensorflow as tf\n",
    "from tqdm import tqdm\n",
    "import os\n",
    "import re\n",
    "import glob"
   ]
  },
  {
   "cell_type": "code",
   "execution_count": 37,
   "metadata": {},
   "outputs": [
    {
     "name": "stdout",
     "output_type": "stream",
     "text": [
      "Folder 'blur' sudah ada.\n",
      "Folder 'orig' sudah ada.\n",
      "Folder 'psf' sudah ada.\n",
      "File telah dipindahkan sesuai dengan folder yang benar.\n"
     ]
    }
   ],
   "source": [
    "class FolderOrganizer:\n",
    "    def __init__(self, main_folder, keywords):\n",
    "        self.main_folder = main_folder\n",
    "        self.keywords = keywords\n",
    "    \n",
    "    def create_folders(self):\n",
    "        for keyword in self.keywords:\n",
    "            path = os.path.join(self.main_folder, keyword)\n",
    "            if not os.path.exists(path):\n",
    "                os.makedirs(path)\n",
    "                print(f\"Folder '{keyword}' telah dibuat.\")\n",
    "            else:\n",
    "                print(f\"Folder '{keyword}' sudah ada.\")\n",
    "    \n",
    "    def move_files(self):\n",
    "        files = [f for f in os.listdir(self.main_folder) if os.path.isfile(os.path.join(self.main_folder, f))]\n",
    "        if len(files) != 0:\n",
    "            file_count = sum([len(files) for _, _, files in os.walk(self.main_folder)])\n",
    "            progress_bar = tqdm(total=file_count, desc='Moving files', unit='file')\n",
    "            for filename in os.listdir(self.main_folder):\n",
    "                file_path = os.path.join(self.main_folder, filename)\n",
    "                if os.path.isfile(file_path):\n",
    "                    for keyword in self.keywords:\n",
    "                        if re.search(keyword, filename, re.IGNORECASE):\n",
    "                            self._move_file(filename, keyword)\n",
    "                            progress_bar.update(1)\n",
    "                            break\n",
    "        \n",
    "    def _move_file(self, filename, folder):\n",
    "        src_path = os.path.join(self.main_folder, filename)\n",
    "        dest_path = os.path.join(self.main_folder, folder, filename)\n",
    "        os.rename(src_path, dest_path)\n",
    "\n",
    "if __name__ == \"__main__\":\n",
    "    keywords = ['blur', 'orig', 'psf']\n",
    "    organizer = FolderOrganizer('data', keywords)\n",
    "    organizer.create_folders()\n",
    "    organizer.move_files()\n",
    "    print(\"File telah dipindahkan sesuai dengan folder yang benar.\")"
   ]
  },
  {
   "cell_type": "code",
   "execution_count": 50,
   "metadata": {},
   "outputs": [
    {
     "name": "stderr",
     "output_type": "stream",
     "text": [
      "Loading .JPG files: 0 file [00:00, ? file/s]\n",
      "Loading .JPEG files: 0 file [00:00, ? file/s]\n",
      "Loading .PNG files: 100%|██████████| 528/528 [00:02<00:00, 226.66 file/s]\n",
      "Loading .GIF files: 0 file [00:00, ? file/s]\n",
      "Loading .BMP files: 0 file [00:00, ? file/s]\n",
      "Loading .TIFF files: 0 file [00:00, ? file/s]\n",
      "Loading .TIF files: 0 file [00:00, ? file/s]\n",
      "Loading .WEBP files: 0 file [00:00, ? file/s]\n",
      "Loading .SVG files: 0 file [00:00, ? file/s]\n",
      "Loading .EXIF files: 0 file [00:00, ? file/s]\n"
     ]
    }
   ],
   "source": [
    "class ImageLoader:\n",
    "    def __init__(self, base_path, extensions, target_size):\n",
    "        self.base_path = base_path\n",
    "        self.extensions = extensions\n",
    "        self.target_size = target_size\n",
    "        self.images = []\n",
    "\n",
    "    def load_images_through_walk_folders(self):\n",
    "        for extension in self.extensions:\n",
    "            desc = f\"Loading {extension.upper()} files\"\n",
    "            for filepath in tqdm(sorted(glob.glob(f\"{self.base_path}**/*{extension.lower()}\", recursive=True)), desc=desc, unit=' file'):\n",
    "                image = tf.keras.preprocessing.image.load_img(filepath)\n",
    "                image = tf.image.resize(\n",
    "                    image,\n",
    "                    size=self.target_size,\n",
    "                    antialias=True,\n",
    "                    method=tf.image.ResizeMethod.BILINEAR\n",
    "                )\n",
    "                image = tf.cast(image, tf.uint8)\n",
    "                self.images.append(image)\n",
    "        \n",
    "        self.images = tf.convert_to_tensor(self.images)\n",
    "        return self.images\n",
    "\n",
    "if __name__ == \"__main__\":\n",
    "    PARENT_PATH = \"./blur_psf_sharp_images/\"\n",
    "    target_size = (200, 200)\n",
    "    image_extensions = ['.jpg', '.jpeg', '.png', '.gif', '.bmp', '.tiff', '.tif', '.webp', '.svg', '.exif']\n",
    "    \n",
    "    image_loader = ImageLoader(PARENT_PATH, image_extensions, target_size)\n",
    "    my_images = image_loader.load_images_through_walk_folders()"
   ]
  }
 ],
 "metadata": {
  "kernelspec": {
   "display_name": "Python 3",
   "language": "python",
   "name": "python3"
  },
  "language_info": {
   "codemirror_mode": {
    "name": "ipython",
    "version": 3
   },
   "file_extension": ".py",
   "mimetype": "text/x-python",
   "name": "python",
   "nbconvert_exporter": "python",
   "pygments_lexer": "ipython3",
   "version": "3.9.2"
  }
 },
 "nbformat": 4,
 "nbformat_minor": 2
}
