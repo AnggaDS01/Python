{
 "cells": [
  {
   "cell_type": "code",
   "execution_count": 1,
   "id": "fe9aaaa9",
   "metadata": {},
   "outputs": [],
   "source": [
    "import pandas as pd "
   ]
  },
  {
   "cell_type": "code",
   "execution_count": 3,
   "id": "2533cff2",
   "metadata": {},
   "outputs": [
    {
     "data": {
      "text/html": [
       "<div>\n",
       "<style scoped>\n",
       "    .dataframe tbody tr th:only-of-type {\n",
       "        vertical-align: middle;\n",
       "    }\n",
       "\n",
       "    .dataframe tbody tr th {\n",
       "        vertical-align: top;\n",
       "    }\n",
       "\n",
       "    .dataframe thead th {\n",
       "        text-align: right;\n",
       "    }\n",
       "</style>\n",
       "<table border=\"1\" class=\"dataframe\">\n",
       "  <thead>\n",
       "    <tr style=\"text-align: right;\">\n",
       "      <th></th>\n",
       "      <th>Open</th>\n",
       "      <th>High</th>\n",
       "      <th>Low</th>\n",
       "      <th>Close</th>\n",
       "      <th>Volume</th>\n",
       "    </tr>\n",
       "  </thead>\n",
       "  <tbody>\n",
       "    <tr>\n",
       "      <th>0</th>\n",
       "      <td>144.88</td>\n",
       "      <td>145.30</td>\n",
       "      <td>143.10</td>\n",
       "      <td>143.50</td>\n",
       "      <td>14277848</td>\n",
       "    </tr>\n",
       "    <tr>\n",
       "      <th>1</th>\n",
       "      <td>143.69</td>\n",
       "      <td>144.79</td>\n",
       "      <td>142.72</td>\n",
       "      <td>144.09</td>\n",
       "      <td>21569557</td>\n",
       "    </tr>\n",
       "    <tr>\n",
       "      <th>2</th>\n",
       "      <td>143.02</td>\n",
       "      <td>143.50</td>\n",
       "      <td>142.41</td>\n",
       "      <td>142.73</td>\n",
       "      <td>24128782</td>\n",
       "    </tr>\n",
       "    <tr>\n",
       "      <th>3</th>\n",
       "      <td>142.90</td>\n",
       "      <td>144.75</td>\n",
       "      <td>142.90</td>\n",
       "      <td>144.18</td>\n",
       "      <td>19201712</td>\n",
       "    </tr>\n",
       "    <tr>\n",
       "      <th>4</th>\n",
       "      <td>144.11</td>\n",
       "      <td>145.95</td>\n",
       "      <td>143.37</td>\n",
       "      <td>145.06</td>\n",
       "      <td>21090636</td>\n",
       "    </tr>\n",
       "  </tbody>\n",
       "</table>\n",
       "</div>"
      ],
      "text/plain": [
       "     Open    High     Low   Close    Volume\n",
       "0  144.88  145.30  143.10  143.50  14277848\n",
       "1  143.69  144.79  142.72  144.09  21569557\n",
       "2  143.02  143.50  142.41  142.73  24128782\n",
       "3  142.90  144.75  142.90  144.18  19201712\n",
       "4  144.11  145.95  143.37  145.06  21090636"
      ]
     },
     "execution_count": 3,
     "metadata": {},
     "output_type": "execute_result"
    }
   ],
   "source": [
    "df = pd.read_csv('./dataset/aapl_no_dates.csv')\n",
    "df.head()"
   ]
  },
  {
   "cell_type": "code",
   "execution_count": 4,
   "id": "23cddc26",
   "metadata": {},
   "outputs": [
    {
     "data": {
      "text/plain": [
       "DatetimeIndex(['2017-07-03', '2017-07-04', '2017-07-05', '2017-07-06',\n",
       "               '2017-07-07', '2017-07-10', '2017-07-11', '2017-07-12',\n",
       "               '2017-07-13', '2017-07-14', '2017-07-17', '2017-07-18',\n",
       "               '2017-07-19', '2017-07-20', '2017-07-21'],\n",
       "              dtype='datetime64[ns]', freq='B')"
      ]
     },
     "execution_count": 4,
     "metadata": {},
     "output_type": "execute_result"
    }
   ],
   "source": [
    "pd.date_range(start='7/1/2017', end='7/21/2017', freq='B')"
   ]
  },
  {
   "cell_type": "code",
   "execution_count": 6,
   "id": "14f143e8",
   "metadata": {},
   "outputs": [],
   "source": [
    "from pandas.tseries.holiday import USFederalHolidayCalendar\n",
    "from pandas.tseries.offsets import CustomBusinessDay\n",
    "\n",
    "usb = CustomBusinessDay(calendar=USFederalHolidayCalendar())"
   ]
  },
  {
   "cell_type": "code",
   "execution_count": 11,
   "id": "abb52be1",
   "metadata": {},
   "outputs": [],
   "source": [
    "rng = pd.date_range(start='7/1/2017', end='7/21/2017', freq=usb)"
   ]
  },
  {
   "cell_type": "code",
   "execution_count": 12,
   "id": "8795613f",
   "metadata": {},
   "outputs": [],
   "source": [
    "df.set_index(rng, inplace=True)"
   ]
  },
  {
   "cell_type": "code",
   "execution_count": 15,
   "id": "73e31dd7",
   "metadata": {},
   "outputs": [],
   "source": [
    "from pandas.tseries.holiday import AbstractHolidayCalendar, nearest_workday, Holiday\n",
    "\n",
    "class libur17agustus(AbstractHolidayCalendar):\n",
    "    \"\"\"\n",
    "    US Federal Government Holiday Calendar based on rules specified by:\n",
    "    https://www.opm.gov/policy-data-oversight/\n",
    "       snow-dismissal-procedures/federal-holidays/\n",
    "    \"\"\"\n",
    "\n",
    "    rules = [\n",
    "        Holiday(\"Hari Kemerdekaan Indonesia\", month=8, day=17, observance=nearest_workday)\n",
    "    ]\n",
    "\n",
    "myc = CustomBusinessDay(calendar=libur17agustus())"
   ]
  },
  {
   "cell_type": "code",
   "execution_count": 17,
   "id": "739ce14b",
   "metadata": {},
   "outputs": [
    {
     "data": {
      "text/plain": [
       "DatetimeIndex(['2022-08-01', '2022-08-02', '2022-08-03', '2022-08-04',\n",
       "               '2022-08-05', '2022-08-08', '2022-08-09', '2022-08-10',\n",
       "               '2022-08-11', '2022-08-12', '2022-08-15', '2022-08-16',\n",
       "               '2022-08-18', '2022-08-19', '2022-08-22', '2022-08-23',\n",
       "               '2022-08-24', '2022-08-25', '2022-08-26', '2022-08-29',\n",
       "               '2022-08-30'],\n",
       "              dtype='datetime64[ns]', freq='C')"
      ]
     },
     "execution_count": 17,
     "metadata": {},
     "output_type": "execute_result"
    }
   ],
   "source": [
    "pd.date_range(start='8/1/2022', end='8/30/2022', freq=myc)"
   ]
  },
  {
   "cell_type": "code",
   "execution_count": 20,
   "id": "110dc513",
   "metadata": {},
   "outputs": [
    {
     "data": {
      "text/plain": [
       "DatetimeIndex(['2022-08-01', '2022-08-02', '2022-08-03', '2022-08-04',\n",
       "               '2022-08-07', '2022-08-08', '2022-08-09', '2022-08-10',\n",
       "               '2022-08-11', '2022-08-14', '2022-08-15', '2022-08-16',\n",
       "               '2022-08-18', '2022-08-21', '2022-08-22', '2022-08-23',\n",
       "               '2022-08-24', '2022-08-28', '2022-08-29', '2022-08-30'],\n",
       "              dtype='datetime64[ns]', freq='C')"
      ]
     },
     "execution_count": 20,
     "metadata": {},
     "output_type": "execute_result"
    }
   ],
   "source": [
    "b = CustomBusinessDay(weekmask='Sun Mon Tue Wed Thu', holidays=['2022-08-17', '2022-08-25'])\n",
    "pd.date_range(start='8/1/2022', end='8/30/2022', freq=b)"
   ]
  }
 ],
 "metadata": {
  "kernelspec": {
   "display_name": "Python 3",
   "language": "python",
   "name": "python3"
  },
  "language_info": {
   "codemirror_mode": {
    "name": "ipython",
    "version": 3
   },
   "file_extension": ".py",
   "mimetype": "text/x-python",
   "name": "python",
   "nbconvert_exporter": "python",
   "pygments_lexer": "ipython3",
   "version": "3.8.8"
  }
 },
 "nbformat": 4,
 "nbformat_minor": 5
}
