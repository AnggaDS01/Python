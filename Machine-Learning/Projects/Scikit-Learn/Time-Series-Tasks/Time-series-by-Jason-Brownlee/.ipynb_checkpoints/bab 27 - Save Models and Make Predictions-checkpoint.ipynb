{
 "cells": [
  {
   "cell_type": "code",
   "execution_count": 1,
   "id": "d292f7a6",
   "metadata": {},
   "outputs": [],
   "source": [
    "import pandas as pd\n",
    "import matplotlib.pyplot as plt\n",
    "import numpy as np"
   ]
  },
  {
   "cell_type": "markdown",
   "id": "71eab5e3",
   "metadata": {},
   "source": [
    "## Process for Making a Prediction\n",
    "\n",
    "A lot is written about how to tune specific time series forecasting models, but little help is given\n",
    "to how to use a model to make predictions. Once you can build and tune forecast models for\n",
    "your data, the process of making a prediction involves the following steps:\n",
    "1. Model Selection. This is where you choose a model and gather evidence and support to defend the decision.\n",
    "2. Model Finalization. The chosen model is trained on all available data and saved to file for later use.\n",
    "3. Forecasting. The saved model is loaded and used to make a forecast.\n",
    "4. Model Update. Elements of the model are updated in the presence of new observations.\n",
    "\n",
    "We will take a look at each of these elements in this tutorial, with a focus on saving and\n",
    "loading the model to and from file and using a loaded model to make predictions. Before we\n",
    "dive in, let's first look at a standard univariate dataset that we can use as the context for this\n",
    "tutorial."
   ]
  },
  {
   "cell_type": "code",
   "execution_count": 2,
   "id": "c65178d4",
   "metadata": {},
   "outputs": [
    {
     "data": {
      "text/html": [
       "<div>\n",
       "<style scoped>\n",
       "    .dataframe tbody tr th:only-of-type {\n",
       "        vertical-align: middle;\n",
       "    }\n",
       "\n",
       "    .dataframe tbody tr th {\n",
       "        vertical-align: top;\n",
       "    }\n",
       "\n",
       "    .dataframe thead th {\n",
       "        text-align: right;\n",
       "    }\n",
       "</style>\n",
       "<table border=\"1\" class=\"dataframe\">\n",
       "  <thead>\n",
       "    <tr style=\"text-align: right;\">\n",
       "      <th></th>\n",
       "      <th>Births</th>\n",
       "    </tr>\n",
       "    <tr>\n",
       "      <th>Date</th>\n",
       "      <th></th>\n",
       "    </tr>\n",
       "  </thead>\n",
       "  <tbody>\n",
       "    <tr>\n",
       "      <th>1959-01-01</th>\n",
       "      <td>35</td>\n",
       "    </tr>\n",
       "    <tr>\n",
       "      <th>1959-01-02</th>\n",
       "      <td>32</td>\n",
       "    </tr>\n",
       "    <tr>\n",
       "      <th>1959-01-03</th>\n",
       "      <td>30</td>\n",
       "    </tr>\n",
       "    <tr>\n",
       "      <th>1959-01-04</th>\n",
       "      <td>31</td>\n",
       "    </tr>\n",
       "    <tr>\n",
       "      <th>1959-01-05</th>\n",
       "      <td>44</td>\n",
       "    </tr>\n",
       "  </tbody>\n",
       "</table>\n",
       "</div>"
      ],
      "text/plain": [
       "            Births\n",
       "Date              \n",
       "1959-01-01      35\n",
       "1959-01-02      32\n",
       "1959-01-03      30\n",
       "1959-01-04      31\n",
       "1959-01-05      44"
      ]
     },
     "execution_count": 2,
     "metadata": {},
     "output_type": "execute_result"
    }
   ],
   "source": [
    "df = pd.read_csv('./dataset/daily-total-female-births.csv', parse_dates=['Date'], index_col='Date')\n",
    "df.head()"
   ]
  },
  {
   "cell_type": "markdown",
   "id": "a6c4ee34",
   "metadata": {},
   "source": [
    "### Select Time Series Forecast Model\n",
    "\n",
    "You must select a model. This is where the bulk of the effort will be in preparing the data,\n",
    "performing analysis, and ultimately selecting a model and model hyperparameters that best\n",
    "capture the relationships in the data. In this case, we can arbitrarily select an autoregression\n",
    "model (AR) with a lag of 6 on the differenced dataset. We can demonstrate this model below.\n",
    "First, the data is transformed by differencing, with each observation transformed as:\n",
    "\n",
    "$$value(t) = obs(t) - obs(t-1)$$"
   ]
  },
  {
   "cell_type": "code",
   "execution_count": 3,
   "id": "05dfa0c6",
   "metadata": {},
   "outputs": [
    {
     "name": "stdout",
     "output_type": "stream",
     "text": [
      "train: 76, test: 72\n",
      "train: 148, test: 72\n",
      "train: 220, test: 72\n",
      "train: 292, test: 72\n",
      "Test RMSE: 6.763\n"
     ]
    },
    {
     "name": "stderr",
     "output_type": "stream",
     "text": [
      "C:\\Users\\Angga\\anaconda3\\lib\\site-packages\\statsmodels\\tsa\\ar_model.py:791: FutureWarning: \n",
      "statsmodels.tsa.AR has been deprecated in favor of statsmodels.tsa.AutoReg and\n",
      "statsmodels.tsa.SARIMAX.\n",
      "\n",
      "AutoReg adds the ability to specify exogenous variables, include time trends,\n",
      "and add seasonal dummies. The AutoReg API differs from AR since the model is\n",
      "treated as immutable, and so the entire specification including the lag\n",
      "length must be specified when creating the model. This change is too\n",
      "substantial to incorporate into the existing AR api. The function\n",
      "ar_select_order performs lag length selection for AutoReg models.\n",
      "\n",
      "AutoReg only estimates parameters using conditional MLE (OLS). Use SARIMAX to\n",
      "estimate ARX and related models using full MLE via the Kalman Filter.\n",
      "\n",
      "To silence this warning and continue using AR until it is removed, use:\n",
      "\n",
      "import warnings\n",
      "warnings.filterwarnings('ignore', 'statsmodels.tsa.ar_model.AR', FutureWarning)\n",
      "\n",
      "  warnings.warn(AR_DEPRECATION_WARN, FutureWarning)\n"
     ]
    },
    {
     "data": {
      "image/png": "[encoded data removed]",
      "text/plain": [
       "<Figure size 432x288 with 1 Axes>"
      ]
     },
     "metadata": {
      "needs_background": "light"
     },
     "output_type": "display_data"
    }
   ],
   "source": [
    "from sklearn.model_selection import TimeSeriesSplit\n",
    "from statsmodels.tsa.ar_model import AR\n",
    "from sklearn.metrics import mean_squared_error\n",
    "\n",
    "# create a difference transform of the dataset\n",
    "df['Diff'] = df.iloc[:, 0].diff()\n",
    "\n",
    "# Make a prediction give regression coefficients and lag obs\n",
    "def predict(coef, history):\n",
    "    y_pred = coef[0]\n",
    "    for i in range(1, len(coef)):\n",
    "        y_pred += coef[i] * history[-i]\n",
    "    return y_pred\n",
    "\n",
    "# split dataset\n",
    "X = df['Diff'].values[1:]\n",
    "splits = TimeSeriesSplit(n_splits=4)\n",
    "for train_index, test_index in splits.split(X):\n",
    "    train = X[train_index]\n",
    "    test = X[test_index]\n",
    "    print(f'train: {len(train)}, test: {len(test)}')\n",
    "    \n",
    "# train autoregression\n",
    "window_size = 6\n",
    "model = AR(train[1:])\n",
    "model_fit = model.fit(maxlag=window_size, disp=False)\n",
    "window = model_fit.k_ar\n",
    "coef = model_fit.params\n",
    "\n",
    "# walk forward over time steps in test\n",
    "history = [i for i in train]\n",
    "predictions = []\n",
    "history\n",
    "for t in range(len(test)):\n",
    "    y_pred = predict(coef, history)\n",
    "    obs = test[t]\n",
    "    predictions.append(y_pred)\n",
    "    history.append(obs)\n",
    "rmse = np.sqrt(mean_squared_error(test, predictions))\n",
    "print('Test RMSE: %.3f' % rmse)\n",
    "\n",
    "\n",
    "plt.plot(test, label='y test')\n",
    "plt.plot(predictions, label='y predictions')\n",
    "plt.legend()\n",
    "plt.show()\n",
    "\n",
    "# display(train.head())\n",
    "# display(test.head())"
   ]
  },
  {
   "cell_type": "markdown",
   "id": "3cf6e2db",
   "metadata": {},
   "source": [
    "## Finalize and Save Time Series Forecast Model\n",
    "\n",
    "Once the model is selected, we must finalize it. This means save the salient information learned\n",
    "by the model so that we do not have to re-create it every time a prediction is needed. This\n",
    "involves first training the model on all available data and then saving the model to file.\n",
    "The Statsmodels implementations of time series models do provide built-in capability to\n",
    "save and load models by calling save() and load() on the fit ARResults object1. For example,\n",
    "the code below will train an AR(6) model on the entire Female Births dataset and save it using\n",
    "the built-in save() function, which will essentially pickle the ARResults object."
   ]
  },
  {
   "cell_type": "code",
   "execution_count": 4,
   "id": "c981d4be",
   "metadata": {},
   "outputs": [
    {
     "name": "stderr",
     "output_type": "stream",
     "text": [
      "C:\\Users\\Angga\\anaconda3\\lib\\site-packages\\statsmodels\\tsa\\ar_model.py:791: FutureWarning: \n",
      "statsmodels.tsa.AR has been deprecated in favor of statsmodels.tsa.AutoReg and\n",
      "statsmodels.tsa.SARIMAX.\n",
      "\n",
      "AutoReg adds the ability to specify exogenous variables, include time trends,\n",
      "and add seasonal dummies. The AutoReg API differs from AR since the model is\n",
      "treated as immutable, and so the entire specification including the lag\n",
      "length must be specified when creating the model. This change is too\n",
      "substantial to incorporate into the existing AR api. The function\n",
      "ar_select_order performs lag length selection for AutoReg models.\n",
      "\n",
      "AutoReg only estimates parameters using conditional MLE (OLS). Use SARIMAX to\n",
      "estimate ARX and related models using full MLE via the Kalman Filter.\n",
      "\n",
      "To silence this warning and continue using AR until it is removed, use:\n",
      "\n",
      "import warnings\n",
      "warnings.filterwarnings('ignore', 'statsmodels.tsa.ar_model.AR', FutureWarning)\n",
      "\n",
      "  warnings.warn(AR_DEPRECATION_WARN, FutureWarning)\n"
     ]
    }
   ],
   "source": [
    "model = AR(X)\n",
    "model_fit = model.fit(maxlag=6, disp=False)\n",
    "\n",
    "# save model to file\n",
    "model_fit.save('./model/ar_model.pkl')\n",
    "\n",
    "# save the differenced dataset\n",
    "np.save('./model/ar_data.npy', X)\n",
    "\n",
    "# save the last ob\n",
    "np.save('./model/ar_obs.npy', [df['Births'].values[-1]])"
   ]
  },
  {
   "cell_type": "code",
   "execution_count": 5,
   "id": "7d64e0c3",
   "metadata": {},
   "outputs": [
    {
     "name": "stdout",
     "output_type": "stream",
     "text": [
      "[ 0.12129822 -0.75275857 -0.612367   -0.51097172 -0.4176669  -0.32116469\n",
      " -0.23412997]\n",
      "[ -3.  -2.   1.  13. -15.  16.  -2.  -5. -11.  11.  -5.  22.  -8.  -2.\n",
      "  -8.  13.  -7.  -2.  11. -18.  19. -14.  -7.   5.   6.  -4.  -4.   9.\n",
      "  -6. -14.  -1.   8.  13.  -6.  12. -12.  13. -20.   0.  20. -15.   9.\n",
      "   6. -17.  18.  -5.  -2.   1.  -7.   9. -11.  -2.  17. -10.   3.  -6.\n",
      "  -2.  -7.   5.  -7.  17. -11.   2.  14.  -6.  -5.  -7.   7.   6.  -2.\n",
      "  -4.  -8.  -4.   3.  12.   4.  -5.  -5.   9.   1.  -3.  -5.  -4.   1.\n",
      "  21. -20.  -4.  18.  -9.  -2.   2.   6. -13.   2.  -3.   2.   3.   0.\n",
      "  -4.  19. -19.   0.   4.  -3.  -3.  10.  -8.  12. -16.  16.  -1.   9.\n",
      " -20.   3.  -2.   5.   2.  16.  -7. -19.   3.   3.  -5.   6.   8.  -9.\n",
      "  14. -22.   4.   6.  -5.   7.  -1.   1.  -4. -14.  10.   9.  -7.  19.\n",
      " -14.   4.  -4.  -4.   6.  -4.  -6.  10.  -3.  -2.   7.   1. -12.   1.\n",
      "  13.   3. -15.  -3.  13.  -4.   6. -14.   7.  -6.   5.  -6.  -4.   6.\n",
      "   4.  -1.   6.  -7.   9. -14.  -3.  12.   1.  -2.   0.  18. -16.   2.\n",
      "  -7.  -1.   8.  -3.  15. -11.   5. -10.   6. -21.   9.   9.  -3.   1.\n",
      "  -6.   9.   0.   0.   2.  -9.   4.  -7.   1.   3.   6.  -2.   4. -11.\n",
      "   5.   9. -11.   2.   5.  18. -19. -11.   4.   6.   4.  -2.  -2.  -7.\n",
      "   2.   5.   1. -12.  11.  -6.   8.   0.  -6.  -1.   5.   4.   2.  -9.\n",
      "   1.   9. -10.   3.  -6.  30. -28.   2.   9.  -7.   1.  -9.  21. -13.\n",
      "  -2.  11. -11.  -8.   6.  16. -12.   9.   2. -16.  20.  -4.  18. -18.\n",
      " -11.  -1.  -3.   7.   4.   5.  -7.   5.   2.  -9.  -3.  -1.  -1.   3.\n",
      "   5.  -2.  -5.  -3.  19. -18.   1.   9.  -2.  -4.  -2.  -1.  -4.   9.\n",
      "  -9.  -2.   6.  -7.  -7.  16.  -8.   9.   1.   2.   1.  -6.  -1.  17.\n",
      " -14.   7.  -6.  -4.  -2.   0.   5. -10.   0.   5.  -1.  -6.   9.   5.\n",
      "   4.  -7.  -4.  17.  -8.  -4.   4.   2.  -5.  -2.   8.  -7. -13.  14.\n",
      "  -5.  -7.  -1.   3.  13.  -6.   0.  -9.   5.  -4.  17.  -5.   5. -13.\n",
      "   1.   2.   0.  11. -14.   1.  -2.   6. -10.   3.  15.  -4.   7.  -5.]\n",
      "[50]\n"
     ]
    }
   ],
   "source": [
    "from statsmodels.tsa.ar_model import ARResults\n",
    "\n",
    "loaded = ARResults.load('./model/ar_model.pkl')\n",
    "print(loaded.params)\n",
    "data = np.load('./model/ar_data.npy')\n",
    "print(data)\n",
    "last_ob = np.load('./model/ar_obs.npy')\n",
    "print(last_ob)"
   ]
  },
  {
   "cell_type": "code",
   "execution_count": 6,
   "id": "d5b78801",
   "metadata": {},
   "outputs": [],
   "source": [
    "# save coefficients\n",
    "np.save('./model/man_model.npy', coef)\n",
    "\n",
    "# save lag\n",
    "lag = X[-window_size:]\n",
    "np.save('./model/man_data.npy', lag)\n",
    "\n",
    "# save the last obs \n",
    "np.save('./model/man_obs.npy', [df['Births'].values[-1]])"
   ]
  },
  {
   "cell_type": "code",
   "execution_count": 7,
   "id": "014e8135",
   "metadata": {},
   "outputs": [
    {
     "name": "stdout",
     "output_type": "stream",
     "text": [
      "[ 0.09443461 -0.78700366 -0.65606609 -0.56755848 -0.47451243 -0.3620022\n",
      " -0.25763837]\n",
      "[-10.   3.  15.  -4.   7.  -5.]\n",
      "[50]\n"
     ]
    }
   ],
   "source": [
    "# load the manually saved model from file\n",
    "coef = np.load('./model/man_model.npy')\n",
    "print(coef)\n",
    "lag = np.load('./model/man_data.npy')\n",
    "print(lag)\n",
    "last_ob = np.load('./model/man_obs.npy')\n",
    "print(last_ob)"
   ]
  },
  {
   "cell_type": "markdown",
   "id": "4da388e6",
   "metadata": {},
   "source": [
    "## Make a Time Series Forecast\n",
    "\n",
    "Making a forecast involves loading the saved model and estimating the observation at the next\n",
    "time step. If the ARResults object was serialized, we can use the predict() function to predict\n",
    "the next time period. The example below shows how the next time period can be predicted.\n",
    "The model, training data, and last observation are loaded from file.\n",
    "\n",
    "The period is specified to the predict() function as the next time index after the end of\n",
    "the training data set. This index may be stored directly in a file instead of storing the entire\n",
    "training data, which may be an eficiency. The prediction is made, which is in the context of\n",
    "the differenced dataset. To turn the prediction back into the original units, it must be added to\n",
    "the last known observation."
   ]
  },
  {
   "cell_type": "code",
   "execution_count": 8,
   "id": "c2da637b",
   "metadata": {},
   "outputs": [
    {
     "name": "stdout",
     "output_type": "stream",
     "text": [
      "Prediction: 46.755211\n"
     ]
    }
   ],
   "source": [
    "# load AR model from file and make a one-step prediction\n",
    "from statsmodels.tsa.ar_model import ARResults\n",
    "\n",
    "# load model\n",
    "model = ARResults.load('./model/ar_model.pkl')\n",
    "data = np.load('./model/ar_data.npy')\n",
    "last_ob = np.load('./model/ar_obs.npy')\n",
    "\n",
    "# make prediction\n",
    "predictions = model.predict(start=len(data), end=len(data))\n",
    "\n",
    "# transform prediction\n",
    "yhat = predictions[0] + last_ob[0]\n",
    "print('Prediction: %f' % yhat)"
   ]
  },
  {
   "cell_type": "code",
   "execution_count": 9,
   "id": "e498974f",
   "metadata": {},
   "outputs": [
    {
     "name": "stdout",
     "output_type": "stream",
     "text": [
      "Prediction: 46.079915\n"
     ]
    }
   ],
   "source": [
    "# load a coefficients and from file and make a manual prediction\n",
    "import numpy\n",
    "def predict(coef, history):\n",
    "    yhat = coef[0]\n",
    "    for i in range(1, len(coef)):\n",
    "        yhat += coef[i] * history[-i]\n",
    "    return yhat\n",
    "# load model\n",
    "coef = np.load('./model/man_model.npy')\n",
    "lag = np.load('./model/man_data.npy')\n",
    "last_ob = np.load('./model/man_obs.npy')\n",
    "# make prediction\n",
    "prediction = predict(coef, lag)\n",
    "# transform prediction\n",
    "yhat = prediction + last_ob[0]\n",
    "print('Prediction: %f' % yhat)"
   ]
  },
  {
   "cell_type": "markdown",
   "id": "19ea55a0",
   "metadata": {},
   "source": [
    "## Update Forecast Model\n",
    "\n",
    "Our work is not done. Once the next real observation is made available, we must update the\n",
    "data associated with the model. Specifically, we must update:\n",
    "1. The differenced training dataset used as inputs to make the subsequent prediction.\n",
    "2. The last observation, providing a context for the predicted differenced value.\n",
    "\n",
    "Let's assume the next actual observation in the series was 48. The new observation must\n",
    "first be differenced with the last observation. It can then be stored in the list of di\u000b",
    "erenced\n",
    "observations. Finally, the value can be stored as the last observation.\n",
    "In the case of the stored AR model, we can update the ar data.npy and ar obs.npy files.\n",
    "The complete example is listed below:"
   ]
  },
  {
   "cell_type": "code",
   "execution_count": 20,
   "id": "f7ca16f6",
   "metadata": {},
   "outputs": [],
   "source": [
    "# get real observations\n",
    "observations = 48\n",
    "\n",
    "# load the saved data\n",
    "data = np.load('./model/ar_data.npy')\n",
    "last_obs = np.load('./model/ar_obs.npy')\n",
    "\n",
    "# update and save differenced observation\n",
    "diffed = observations - last_obs[0]\n",
    "data = np.append(data, diffed)\n",
    "\n",
    "np.save('./model/ar_data_updated.npy', data)\n",
    "last_obs[0] = observations\n",
    "np.save('./model/ar_obs_updated.npy', last_obs)"
   ]
  },
  {
   "cell_type": "code",
   "execution_count": 24,
   "id": "d649b94a",
   "metadata": {},
   "outputs": [
    {
     "name": "stdout",
     "output_type": "stream",
     "text": [
      "[ -3.  -2.   1.  13. -15.  16.  -2.  -5. -11.  11.  -5.  22.  -8.  -2.\n",
      "  -8.  13.  -7.  -2.  11. -18.  19. -14.  -7.   5.   6.  -4.  -4.   9.\n",
      "  -6. -14.  -1.   8.  13.  -6.  12. -12.  13. -20.   0.  20. -15.   9.\n",
      "   6. -17.  18.  -5.  -2.   1.  -7.   9. -11.  -2.  17. -10.   3.  -6.\n",
      "  -2.  -7.   5.  -7.  17. -11.   2.  14.  -6.  -5.  -7.   7.   6.  -2.\n",
      "  -4.  -8.  -4.   3.  12.   4.  -5.  -5.   9.   1.  -3.  -5.  -4.   1.\n",
      "  21. -20.  -4.  18.  -9.  -2.   2.   6. -13.   2.  -3.   2.   3.   0.\n",
      "  -4.  19. -19.   0.   4.  -3.  -3.  10.  -8.  12. -16.  16.  -1.   9.\n",
      " -20.   3.  -2.   5.   2.  16.  -7. -19.   3.   3.  -5.   6.   8.  -9.\n",
      "  14. -22.   4.   6.  -5.   7.  -1.   1.  -4. -14.  10.   9.  -7.  19.\n",
      " -14.   4.  -4.  -4.   6.  -4.  -6.  10.  -3.  -2.   7.   1. -12.   1.\n",
      "  13.   3. -15.  -3.  13.  -4.   6. -14.   7.  -6.   5.  -6.  -4.   6.\n",
      "   4.  -1.   6.  -7.   9. -14.  -3.  12.   1.  -2.   0.  18. -16.   2.\n",
      "  -7.  -1.   8.  -3.  15. -11.   5. -10.   6. -21.   9.   9.  -3.   1.\n",
      "  -6.   9.   0.   0.   2.  -9.   4.  -7.   1.   3.   6.  -2.   4. -11.\n",
      "   5.   9. -11.   2.   5.  18. -19. -11.   4.   6.   4.  -2.  -2.  -7.\n",
      "   2.   5.   1. -12.  11.  -6.   8.   0.  -6.  -1.   5.   4.   2.  -9.\n",
      "   1.   9. -10.   3.  -6.  30. -28.   2.   9.  -7.   1.  -9.  21. -13.\n",
      "  -2.  11. -11.  -8.   6.  16. -12.   9.   2. -16.  20.  -4.  18. -18.\n",
      " -11.  -1.  -3.   7.   4.   5.  -7.   5.   2.  -9.  -3.  -1.  -1.   3.\n",
      "   5.  -2.  -5.  -3.  19. -18.   1.   9.  -2.  -4.  -2.  -1.  -4.   9.\n",
      "  -9.  -2.   6.  -7.  -7.  16.  -8.   9.   1.   2.   1.  -6.  -1.  17.\n",
      " -14.   7.  -6.  -4.  -2.   0.   5. -10.   0.   5.  -1.  -6.   9.   5.\n",
      "   4.  -7.  -4.  17.  -8.  -4.   4.   2.  -5.  -2.   8.  -7. -13.  14.\n",
      "  -5.  -7.  -1.   3.  13.  -6.   0.  -9.   5.  -4.  17.  -5.   5. -13.\n",
      "   1.   2.   0.  11. -14.   1.  -2.   6. -10.   3.  15.  -4.   7.  -5.\n",
      "  -2.]\n",
      "[48]\n"
     ]
    }
   ],
   "source": [
    "new_data = np.load('./model/ar_data_updated.npy')\n",
    "print(new_data)\n",
    "new_obs = np.load('./model/ar_obs_updated.npy')\n",
    "print(new_obs)"
   ]
  },
  {
   "cell_type": "code",
   "execution_count": 30,
   "id": "a1b2246c",
   "metadata": {},
   "outputs": [],
   "source": [
    "# update the data for the manual model with a new obs\n",
    "import numpy\n",
    "# get real observation\n",
    "observation = 48\n",
    "# update and save differenced observation\n",
    "lag = numpy.load('./model/man_data.npy')\n",
    "last_obs = numpy.load('./model/man_obs.npy')\n",
    "\n",
    "diffed = observation - last_obs[0]\n",
    "lag = np.append(lag[1:], [diffed], axis=0)\n",
    "np.save('./model/man_data_updated.npy', lag)\n",
    "\n",
    "# update and save real observation\n",
    "last_obs[0] = observation\n",
    "np.save('./model/man_obs_updated.npy', last_obs)"
   ]
  },
  {
   "cell_type": "code",
   "execution_count": 34,
   "id": "59b49b39",
   "metadata": {},
   "outputs": [
    {
     "name": "stdout",
     "output_type": "stream",
     "text": [
      "[ 3. 15. -4.  7. -5. -2.]\n",
      "[48]\n"
     ]
    }
   ],
   "source": [
    "new_data = np.load('./model/man_data_updated.npy')\n",
    "print(new_data)\n",
    "new_obs = np.load('./model/man_obs_updated.npy')\n",
    "print(new_obs)"
   ]
  }
 ],
 "metadata": {
  "kernelspec": {
   "display_name": "Python 3",
   "language": "python",
   "name": "python3"
  },
  "language_info": {
   "codemirror_mode": {
    "name": "ipython",
    "version": 3
   },
   "file_extension": ".py",
   "mimetype": "text/x-python",
   "name": "python",
   "nbconvert_exporter": "python",
   "pygments_lexer": "ipython3",
   "version": "3.8.8"
  }
 },
 "nbformat": 4,
 "nbformat_minor": 5
}
