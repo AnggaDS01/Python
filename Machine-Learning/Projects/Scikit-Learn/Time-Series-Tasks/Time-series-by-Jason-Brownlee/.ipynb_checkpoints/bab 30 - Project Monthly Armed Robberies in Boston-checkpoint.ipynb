{
 "cells": [
  {
   "cell_type": "code",
   "execution_count": 1,
   "id": "cef176a6",
   "metadata": {},
   "outputs": [],
   "source": [
    "import pandas as pd\n",
    "import matplotlib.pyplot as plt\n",
    "import numpy as np\n",
    "import warnings\n",
    "warnings.filterwarnings('ignore')"
   ]
  },
  {
   "cell_type": "code",
   "execution_count": 2,
   "id": "cb68d58c",
   "metadata": {},
   "outputs": [
    {
     "data": {
      "text/html": [
       "<div>\n",
       "<style scoped>\n",
       "    .dataframe tbody tr th:only-of-type {\n",
       "        vertical-align: middle;\n",
       "    }\n",
       "\n",
       "    .dataframe tbody tr th {\n",
       "        vertical-align: top;\n",
       "    }\n",
       "\n",
       "    .dataframe thead th {\n",
       "        text-align: right;\n",
       "    }\n",
       "</style>\n",
       "<table border=\"1\" class=\"dataframe\">\n",
       "  <thead>\n",
       "    <tr style=\"text-align: right;\">\n",
       "      <th></th>\n",
       "      <th>Robberies</th>\n",
       "    </tr>\n",
       "    <tr>\n",
       "      <th>Months</th>\n",
       "      <th></th>\n",
       "    </tr>\n",
       "  </thead>\n",
       "  <tbody>\n",
       "    <tr>\n",
       "      <th>1966-01-01</th>\n",
       "      <td>41</td>\n",
       "    </tr>\n",
       "    <tr>\n",
       "      <th>1966-02-01</th>\n",
       "      <td>39</td>\n",
       "    </tr>\n",
       "    <tr>\n",
       "      <th>1966-03-01</th>\n",
       "      <td>50</td>\n",
       "    </tr>\n",
       "    <tr>\n",
       "      <th>1966-04-01</th>\n",
       "      <td>40</td>\n",
       "    </tr>\n",
       "    <tr>\n",
       "      <th>1966-05-01</th>\n",
       "      <td>43</td>\n",
       "    </tr>\n",
       "  </tbody>\n",
       "</table>\n",
       "</div>"
      ],
      "text/plain": [
       "            Robberies\n",
       "Months               \n",
       "1966-01-01         41\n",
       "1966-02-01         39\n",
       "1966-03-01         50\n",
       "1966-04-01         40\n",
       "1966-05-01         43"
      ]
     },
     "execution_count": 2,
     "metadata": {},
     "output_type": "execute_result"
    }
   ],
   "source": [
    "df = pd.read_csv('./dataset/Robberies.csv', parse_dates=['Months'], index_col='Months')\n",
    "df.head()"
   ]
  },
  {
   "cell_type": "markdown",
   "id": "0dc50848",
   "metadata": {},
   "source": [
    "## Overview\n",
    "In this tutorial, we will work through a time series forecasting project from end-to-end, from\n",
    "downloading the dataset and defining the problem to training a final model and making\n",
    "predictions. This project is not exhaustive, but shows how you can get good results quickly by\n",
    "working through a time series forecasting problem systematically. The steps of this project that\n",
    "we will work through are as follows:\n",
    "1. Problem Description.\n",
    "2. Test Harness.\n",
    "3. Persistence.\n",
    "4. Data Analysis.\n",
    "5. ARIMA Models.\n",
    "6. Model Validation"
   ]
  },
  {
   "cell_type": "markdown",
   "id": "01a567ca",
   "metadata": {},
   "source": [
    "### Problem Description\n",
    "\n",
    "The problem is to predict the number of monthly armed robberies in Boston, USA. The dataset\n",
    "provides the number of monthly armed robberies in Boston from January 1966 to October 1975,\n",
    "or just under 10 years of data. The values are a count and there are 118 observations. The\n",
    "dataset is credited to McCleary and Hay (1980)."
   ]
  },
  {
   "cell_type": "markdown",
   "id": "5219247b",
   "metadata": {},
   "source": [
    "### Test Harness\n",
    "\n",
    "We must develop a test harness to investigate the data and evaluate candidate models. This\n",
    "involves two steps:\n",
    "1. Defining a Validation Dataset.\n",
    "2. Developing a Method for Model Evaluation."
   ]
  },
  {
   "cell_type": "markdown",
   "id": "808c76ff",
   "metadata": {},
   "source": [
    "### Validation Dataset\n",
    "\n",
    "The dataset is not current. This means that we cannot easily collect updated data to validate\n",
    "the model. Therefore we will pretend that it is October 1974 and withhold the last one year of\n",
    "data from analysis and model selection. This final year of data will be used to validate the final\n",
    "model. The code below will load the dataset as a Pandas Series and split into two, one for\n",
    "model development (dataset.csv) and the other for validation (validation.csv)."
   ]
  },
  {
   "cell_type": "code",
   "execution_count": 3,
   "id": "1d8775a2",
   "metadata": {},
   "outputs": [],
   "source": [
    "from sklearn.model_selection import TimeSeriesSplit\n",
    "\n",
    "splits = TimeSeriesSplit(n_splits=4)\n",
    "for train_index, test_index in splits.split(df):\n",
    "    train = df.iloc[train_index, :]\n",
    "    test = df.iloc[test_index, :]\n",
    "\n",
    "train.to_csv('./project/dataset - project monthly armed robberies/dataset.csv')\n",
    "test.to_csv('./project/dataset - project monthly armed robberies/validation.csv')"
   ]
  },
  {
   "cell_type": "markdown",
   "id": "a4facc64",
   "metadata": {},
   "source": [
    "### Model Evaluation\n",
    "Model evaluation will only be performed on the data in dataset.csv prepared in the previous\n",
    "section. Model evaluation involves two elements:\n",
    "1. Performance Measure.\n",
    "2. Test Strategy.\n",
    "\n",
    "#### Performance Measure\n",
    "The observations are a count of robberies. We will evaluate the performance of predictions using\n",
    "the root mean squared error (RMSE). This will give more weight to predictions that are grossly\n",
    "wrong and will have the same units as the original data. Any transforms to the data must be\n",
    "reversed before the RMSE is calculated and reported to make the performance between di\u000b",
    "erent\n",
    "methods directly comparable.\n",
    "\n",
    "#### Test Strategy\n",
    "Candidate models will be evaluated using walk-forward validation. This is because a rolling-\n",
    "forecast type model is required from the problem de\f",
    "nition. This is where one-step forecasts\n",
    "are needed given all available data. The walk-forward validation will work as follows:\n",
    "1. The first 50% of the dataset will be held back to train the model.\n",
    "2. The remaining 50% of the dataset will be iterated and test the model.\n",
    "3. For each step in the test dataset:\n",
    "    \n",
    "    (a) A model will be trained.\n",
    "    \n",
    "    (b) A one-step prediction made and the prediction stored for later evaluation.\n",
    "    \n",
    "    (c) The actual observation from the test dataset will be added to the training datasetfor the next iteration.\n",
    "    \n",
    "\n",
    "4. The predictions made during the iteration of the test dataset will be evaluated and an RMSE score reported."
   ]
  },
  {
   "cell_type": "code",
   "execution_count": 4,
   "id": "a4477006",
   "metadata": {},
   "outputs": [],
   "source": [
    "X = df.values\n",
    "train_size = int(len(X) * .5)\n",
    "train, test = X[:train_size], X[train_size:]"
   ]
  },
  {
   "cell_type": "markdown",
   "id": "7cf0434d",
   "metadata": {},
   "source": [
    "Next, we can iterate over the time steps in the test dataset. The train dataset is stored in a\n",
    "Python list as we need to easily append a new observation each iteration and NumPy array\n",
    "concatenation feels like overkill. The prediction made by the model is called yhat for convention,\n",
    "as the outcome or observation is referred to as y and yhat (a y with a mark above) is the\n",
    "mathematical notation for the prediction of the y variable. The prediction and observation are\n",
    "printed each observation for a sanity check prediction in case there are issues with the model."
   ]
  },
  {
   "cell_type": "code",
   "execution_count": 5,
   "id": "0cdb1fb2",
   "metadata": {},
   "outputs": [
    {
     "ename": "SyntaxError",
     "evalue": "invalid syntax (<ipython-input-5-3fbfd5e1a3e7>, line 7)",
     "output_type": "error",
     "traceback": [
      "\u001b[1;36m  File \u001b[1;32m\"<ipython-input-5-3fbfd5e1a3e7>\"\u001b[1;36m, line \u001b[1;32m7\u001b[0m\n\u001b[1;33m    y_pred =\u001b[0m\n\u001b[1;37m             ^\u001b[0m\n\u001b[1;31mSyntaxError\u001b[0m\u001b[1;31m:\u001b[0m invalid syntax\n"
     ]
    }
   ],
   "source": [
    "# walk validation\n",
    "history = [i for i in train]\n",
    "predictions = []\n",
    "\n",
    "for i in range(len(test)):\n",
    "    # predict\n",
    "    y_pred = \n",
    "    predictions.append(y_pred)\n",
    "    # observation\n",
    "    obs = test[i]\n",
    "    history.append(obs)\n",
    "    print('>Predicted=%.3f, Expected=%.3f' % (y_pred, obs))"
   ]
  },
  {
   "cell_type": "markdown",
   "id": "1aa80623",
   "metadata": {},
   "source": [
    "## Persistence\n",
    "The first step before getting bogged down in data analysis and modeling is to establish a baseline\n",
    "of performance. This will provide both a template for evaluating models using the proposed\n",
    "test harness and a performance measure by which all more elaborate predictive models can be\n",
    "compared. The baseline prediction for time series forecasting is called the naive forecast, or\n",
    "persistence. This is where the observation from the previous time step is used as the prediction\n",
    "for the observation at the next time step. We can plug this directly into the test harness defined\n",
    "in the previous section. The complete code listing is provided below."
   ]
  },
  {
   "cell_type": "code",
   "execution_count": 6,
   "id": "c609ac49",
   "metadata": {},
   "outputs": [
    {
     "name": "stdout",
     "output_type": "stream",
     "text": [
      ">Predicted=174.000, Expected=178.000\n",
      ">Predicted=178.000, Expected=136.000\n",
      ">Predicted=136.000, Expected=161.000\n",
      ">Predicted=161.000, Expected=171.000\n",
      ">Predicted=171.000, Expected=149.000\n",
      ">Predicted=149.000, Expected=184.000\n",
      ">Predicted=184.000, Expected=155.000\n",
      ">Predicted=155.000, Expected=276.000\n",
      ">Predicted=276.000, Expected=224.000\n",
      ">Predicted=224.000, Expected=213.000\n",
      ">Predicted=213.000, Expected=279.000\n",
      ">Predicted=279.000, Expected=268.000\n",
      ">Predicted=268.000, Expected=287.000\n",
      ">Predicted=287.000, Expected=238.000\n",
      ">Predicted=238.000, Expected=213.000\n",
      ">Predicted=213.000, Expected=257.000\n",
      ">Predicted=257.000, Expected=293.000\n",
      ">Predicted=293.000, Expected=212.000\n",
      ">Predicted=212.000, Expected=246.000\n",
      ">Predicted=246.000, Expected=353.000\n",
      ">Predicted=353.000, Expected=339.000\n",
      ">Predicted=339.000, Expected=308.000\n",
      ">Predicted=308.000, Expected=247.000\n",
      ">Predicted=247.000, Expected=257.000\n",
      ">Predicted=257.000, Expected=322.000\n",
      ">Predicted=322.000, Expected=298.000\n",
      ">Predicted=298.000, Expected=273.000\n",
      ">Predicted=273.000, Expected=312.000\n",
      ">Predicted=312.000, Expected=249.000\n",
      ">Predicted=249.000, Expected=286.000\n",
      ">Predicted=286.000, Expected=279.000\n",
      ">Predicted=279.000, Expected=309.000\n",
      ">Predicted=309.000, Expected=401.000\n",
      ">Predicted=401.000, Expected=309.000\n",
      ">Predicted=309.000, Expected=328.000\n",
      ">Predicted=328.000, Expected=353.000\n",
      ">Predicted=353.000, Expected=354.000\n",
      ">Predicted=354.000, Expected=327.000\n",
      ">Predicted=327.000, Expected=324.000\n",
      ">Predicted=324.000, Expected=285.000\n",
      ">Predicted=285.000, Expected=243.000\n",
      ">Predicted=243.000, Expected=241.000\n",
      ">Predicted=241.000, Expected=287.000\n",
      ">Predicted=287.000, Expected=355.000\n",
      ">Predicted=355.000, Expected=460.000\n",
      ">Predicted=460.000, Expected=364.000\n",
      ">Predicted=364.000, Expected=487.000\n",
      ">Predicted=487.000, Expected=452.000\n",
      ">Predicted=452.000, Expected=391.000\n",
      ">Predicted=391.000, Expected=500.000\n",
      ">Predicted=500.000, Expected=451.000\n",
      ">Predicted=451.000, Expected=375.000\n",
      ">Predicted=375.000, Expected=372.000\n",
      ">Predicted=372.000, Expected=302.000\n",
      ">Predicted=302.000, Expected=316.000\n",
      ">Predicted=316.000, Expected=398.000\n",
      ">Predicted=398.000, Expected=394.000\n",
      ">Predicted=394.000, Expected=431.000\n",
      ">Predicted=431.000, Expected=431.000\n",
      "RMSE: 54.191\n"
     ]
    }
   ],
   "source": [
    "from sklearn.metrics import mean_squared_error\n",
    "\n",
    "# walk validation\n",
    "history = [i for i in train]\n",
    "predictions = []\n",
    "\n",
    "for i in range(len(test)):\n",
    "    # predict\n",
    "    y_pred = history[-1]\n",
    "    predictions.append(y_pred)\n",
    "    # observation\n",
    "    obs = test[i]\n",
    "    history.append(obs)\n",
    "    print('>Predicted=%.3f, Expected=%.3f' % (y_pred, obs))\n",
    "# report performance\n",
    "rmse = np.sqrt(mean_squared_error(test, predictions))\n",
    "print('RMSE: %.3f' % rmse)"
   ]
  },
  {
   "cell_type": "markdown",
   "id": "9bfb1f1e",
   "metadata": {},
   "source": [
    "Running the test harness prints the prediction and observation for each iteration of the test\n",
    "dataset. The example ends by printing the RMSE for the model. In this case, we can see that\n",
    "the persistence model achieved an RMSE of 51.844. This means that on average, the model was\n",
    "wrong by about 51 robberies for each prediction made.\n",
    "\n",
    "We now have a baseline prediction method and performance; now we can start digging into\n",
    "our data."
   ]
  },
  {
   "cell_type": "markdown",
   "id": "f7eb66b7",
   "metadata": {},
   "source": [
    "## Data Analysis\n",
    "\n",
    "We can use summary statistics and plots of the data to quickly learn more about the structure\n",
    "of the prediction problem. In this section, we will look at the data from four perspectives:\n",
    "1. Summary Statistics.\n",
    "2. Line Plot.\n",
    "3. Density Plots.\n",
    "4. Box and Whisker Plot."
   ]
  },
  {
   "cell_type": "markdown",
   "id": "1d039085",
   "metadata": {},
   "source": [
    "### Summary Statistics\n",
    "Open the data dataset.csv file and/or the original robberies.csv file in a text editor and\n",
    "look at the data. A quick check suggests that there are no obviously missing observations.\n",
    "We may have noticed this earlier if we tried to force the series to \n",
    "oating point values and\n",
    "values like NaN or ? were in the data. Summary statistics provide a quick look at the limits of\n",
    "observed values. It can help to get a quick idea of what we are working with. The example\n",
    "below calculates and prints summary statistics for the time series."
   ]
  },
  {
   "cell_type": "code",
   "execution_count": 7,
   "id": "33bb7633",
   "metadata": {},
   "outputs": [
    {
     "data": {
      "text/html": [
       "<div>\n",
       "<style scoped>\n",
       "    .dataframe tbody tr th:only-of-type {\n",
       "        vertical-align: middle;\n",
       "    }\n",
       "\n",
       "    .dataframe tbody tr th {\n",
       "        vertical-align: top;\n",
       "    }\n",
       "\n",
       "    .dataframe thead th {\n",
       "        text-align: right;\n",
       "    }\n",
       "</style>\n",
       "<table border=\"1\" class=\"dataframe\">\n",
       "  <thead>\n",
       "    <tr style=\"text-align: right;\">\n",
       "      <th></th>\n",
       "      <th>Robberies</th>\n",
       "    </tr>\n",
       "    <tr>\n",
       "      <th>Months</th>\n",
       "      <th></th>\n",
       "    </tr>\n",
       "  </thead>\n",
       "  <tbody>\n",
       "    <tr>\n",
       "      <th>1966-01-01</th>\n",
       "      <td>41</td>\n",
       "    </tr>\n",
       "    <tr>\n",
       "      <th>1966-02-01</th>\n",
       "      <td>39</td>\n",
       "    </tr>\n",
       "    <tr>\n",
       "      <th>1966-03-01</th>\n",
       "      <td>50</td>\n",
       "    </tr>\n",
       "    <tr>\n",
       "      <th>1966-04-01</th>\n",
       "      <td>40</td>\n",
       "    </tr>\n",
       "    <tr>\n",
       "      <th>1966-05-01</th>\n",
       "      <td>43</td>\n",
       "    </tr>\n",
       "  </tbody>\n",
       "</table>\n",
       "</div>"
      ],
      "text/plain": [
       "            Robberies\n",
       "Months               \n",
       "1966-01-01         41\n",
       "1966-02-01         39\n",
       "1966-03-01         50\n",
       "1966-04-01         40\n",
       "1966-05-01         43"
      ]
     },
     "execution_count": 7,
     "metadata": {},
     "output_type": "execute_result"
    }
   ],
   "source": [
    "df = pd.read_csv('./project/dataset - project monthly armed robberies/dataset.csv', index_col='Months', parse_dates=['Months'])\n",
    "df.head()"
   ]
  },
  {
   "cell_type": "markdown",
   "id": "4c24b7f8",
   "metadata": {},
   "source": [
    "Running the example provides a number of summary statistics to review. Some observations\n",
    "from these statistics include:\n",
    "* The number of observations (count) matches our expectation, meaning we are handling the data correctly.\n",
    "* The mean is about 173, which we might consider our level in this series.\n",
    "* The standard deviation (average spread from the mean) is relatively large at 112 robberies.\n",
    "* The percentiles along with the standard deviation do suggest a large spread to the data."
   ]
  },
  {
   "cell_type": "markdown",
   "id": "7042d272",
   "metadata": {},
   "source": [
    "### Line Plot\n",
    "A line plot of a time series can provide a lot of insight into the problem. The example below\n",
    "creates and shows a line plot of the dataset."
   ]
  },
  {
   "cell_type": "code",
   "execution_count": 8,
   "id": "4ce29eed",
   "metadata": {},
   "outputs": [
    {
     "data": {
      "image/png": "[encoded data removed]",
      "text/plain": [
       "<Figure size 432x288 with 1 Axes>"
      ]
     },
     "metadata": {
      "needs_background": "light"
     },
     "output_type": "display_data"
    }
   ],
   "source": [
    "df.plot()\n",
    "plt.show()"
   ]
  },
  {
   "cell_type": "markdown",
   "id": "4a850731",
   "metadata": {},
   "source": [
    "Run the example and review the plot. Note any obvious temporal structures in the series.\n",
    "Some observations from the plot include:\n",
    "* There is an increasing trend of robberies over time.\n",
    "* There do not appear to be any obvious outliers.\n",
    "* There are relatively large  uctuations from year to year, up and down.\n",
    "* The  uctuations at later years appear larger than  uctuations at earlier years.\n",
    "* The trend means the dataset is almost certainly non-stationary and the apparent change in uctuation may also contribute."
   ]
  },
  {
   "cell_type": "code",
   "execution_count": 9,
   "id": "77174d86",
   "metadata": {},
   "outputs": [
    {
     "data": {
      "image/png": "[encoded data removed]",
      "text/plain": [
       "<Figure size 432x288 with 4 Axes>"
      ]
     },
     "metadata": {
      "needs_background": "light"
     },
     "output_type": "display_data"
    }
   ],
   "source": [
    "from statsmodels.tsa.seasonal import seasonal_decompose\n",
    "\n",
    "result = seasonal_decompose(df, model='multiplicative')\n",
    "_ = result.plot()"
   ]
  },
  {
   "cell_type": "markdown",
   "id": "4518f2f3",
   "metadata": {},
   "source": [
    "These simple observations suggest we may see benefit in modeling the trend and removing it from the time series. Alternately, we could use differencing to make the series stationary for modeling. We may even need two levels of differencing if there is a growth trend in the uctuations in later years."
   ]
  },
  {
   "cell_type": "markdown",
   "id": "145f1d90",
   "metadata": {},
   "source": [
    "### Density Plot\n",
    "Reviewing plots of the density of observations can provide further insight into the structure of\n",
    "the data. The example below creates a histogram and density plot of the observations without\n",
    "any temporal structure."
   ]
  },
  {
   "cell_type": "code",
   "execution_count": 10,
   "id": "9b17d5aa",
   "metadata": {},
   "outputs": [
    {
     "data": {
      "image/png": "[encoded data removed]",
      "text/plain": [
       "<Figure size 432x288 with 1 Axes>"
      ]
     },
     "metadata": {
      "needs_background": "light"
     },
     "output_type": "display_data"
    },
    {
     "data": {
      "image/png": "[encoded data removed]",
      "text/plain": [
       "<Figure size 432x288 with 1 Axes>"
      ]
     },
     "metadata": {
      "needs_background": "light"
     },
     "output_type": "display_data"
    }
   ],
   "source": [
    "df.hist(edgecolor='k', bins=30)\n",
    "plt.show()\n",
    "df.plot(kind='kde')\n",
    "plt.show()"
   ]
  },
  {
   "cell_type": "markdown",
   "id": "9642833e",
   "metadata": {},
   "source": [
    "Run the example and review the plots. Some observations from the plots include:\n",
    "* The distribution is not Gaussian.\n",
    "* The distribution is left shifted and may be exponential or a double Gaussian."
   ]
  },
  {
   "cell_type": "markdown",
   "id": "5e689a73",
   "metadata": {},
   "source": [
    "### Box and Whisker Plots\n",
    "\n",
    "We can group the monthly data by year and get an idea of the spread of observations for each\n",
    "year and how this may be changing. We do expect to see some trend (increasing mean or\n",
    "median), but it may be interesting to see how the rest of the distribution may be changing. The\n",
    "example below groups the observations by year and creates one box and whisker plot for each\n",
    "year of observations. The last year (1974) only contains 10 months and may not be a useful\n",
    "comparison with the other 12 months of observations in the other years. Therefore only data\n",
    "between 1966 and 1973 was plotted."
   ]
  },
  {
   "cell_type": "code",
   "execution_count": 11,
   "id": "ec0e6f80",
   "metadata": {},
   "outputs": [
    {
     "data": {
      "text/plain": [
       "Int64Index([1966, 1966, 1966, 1966, 1966, 1966, 1966, 1966, 1966, 1966, 1966,\n",
       "            1966, 1967, 1967, 1967, 1967, 1967, 1967, 1967, 1967, 1967, 1967,\n",
       "            1967, 1967, 1968, 1968, 1968, 1968, 1968, 1968, 1968, 1968, 1968,\n",
       "            1968, 1968, 1968, 1969, 1969, 1969, 1969, 1969, 1969, 1969, 1969,\n",
       "            1969, 1969, 1969, 1969, 1970, 1970, 1970, 1970, 1970, 1970, 1970,\n",
       "            1970, 1970, 1970, 1970, 1970, 1971, 1971, 1971, 1971, 1971, 1971,\n",
       "            1971, 1971, 1971, 1971, 1971, 1971, 1972, 1972, 1972, 1972, 1972,\n",
       "            1972, 1972, 1972, 1972, 1972, 1972, 1972, 1973, 1973, 1973, 1973,\n",
       "            1973, 1973, 1973, 1973, 1973, 1973, 1973],\n",
       "           dtype='int64', name='Months')"
      ]
     },
     "execution_count": 11,
     "metadata": {},
     "output_type": "execute_result"
    }
   ],
   "source": [
    "df.index.year"
   ]
  },
  {
   "cell_type": "code",
   "execution_count": 12,
   "id": "bc9027c3",
   "metadata": {},
   "outputs": [
    {
     "data": {
      "text/plain": [
       "{1966: 12,\n",
       " 1967: 12,\n",
       " 1968: 12,\n",
       " 1969: 12,\n",
       " 1970: 12,\n",
       " 1971: 12,\n",
       " 1972: 12,\n",
       " 1973: 11}"
      ]
     },
     "execution_count": 12,
     "metadata": {},
     "output_type": "execute_result"
    }
   ],
   "source": [
    "test = df.index.year\n",
    "my_dict = {}\n",
    "counter = 0\n",
    "for i in range(1, len(test)):\n",
    "    if test[i] == test[i-1]:\n",
    "        counter += 1\n",
    "        my_dict[test[i-1]] = counter + 1\n",
    "    else:\n",
    "        counter = 0\n",
    "my_dict"
   ]
  },
  {
   "cell_type": "code",
   "execution_count": 13,
   "id": "3b0169da",
   "metadata": {},
   "outputs": [
    {
     "name": "stdout",
     "output_type": "stream",
     "text": [
      "{1966: 12, 1967: 12, 1968: 12, 1969: 12, 1970: 12, 1971: 12, 1972: 12, 1973: 11}\n"
     ]
    }
   ],
   "source": [
    "your_list = list(df.index.year)\n",
    "dict_of_counts = {item:your_list.count(item) for item in your_list}\n",
    "print(dict_of_counts)"
   ]
  },
  {
   "cell_type": "code",
   "execution_count": 14,
   "id": "bfb9d096",
   "metadata": {},
   "outputs": [
    {
     "data": {
      "image/png": "[encoded data removed]",
      "text/plain": [
       "<Figure size 864x432 with 1 Axes>"
      ]
     },
     "metadata": {
      "needs_background": "light"
     },
     "output_type": "display_data"
    }
   ],
   "source": [
    "new_data = df.loc['1966':'1972'].resample('A')\n",
    "\n",
    "dataframe = pd.DataFrame(index=[i for i in range(1, 13)])\n",
    "for name, group in new_data:\n",
    "    dataframe[name.year] = group.values.flatten()\n",
    "    \n",
    "dataframe.boxplot(figsize=(12,6))\n",
    "plt.show()"
   ]
  },
  {
   "cell_type": "markdown",
   "id": "2e97ff08",
   "metadata": {},
   "source": [
    "Running the example creates 8 box and whisker plots side-by-side, one for each of the 8\n",
    "years of selected data. Some observations from reviewing the plot include:\n",
    "* The median values for each year (red line) show a trend that may not be linear.\n",
    "* The spread, or middle 50% of the data (blue boxes), differ, but perhaps not consistently over time.\n",
    "* The earlier years, perhaps first 2, are quite different from the rest of the dataset."
   ]
  },
  {
   "cell_type": "markdown",
   "id": "2b0a8b4d",
   "metadata": {},
   "source": [
    "The observations suggest that the year-to-year \n",
    "uctuations may not be systematic and hard\n",
    "to model. They also suggest that there may be some benefit in clipping the first two years of\n",
    "data from modeling if it is indeed quite different. This yearly view of the data is an interesting\n",
    "avenue and could be pursued further by looking at summary statistics from year-to-year and\n",
    "changes in summary stats from year-to-year. Next, we can start looking at predictive models of\n",
    "the series."
   ]
  },
  {
   "cell_type": "markdown",
   "id": "26831422",
   "metadata": {},
   "source": [
    "## ARIMA Models\n",
    "In this section, we will develop Autoregressive Integrated Moving Average, or ARIMA, models\n",
    "for the problem. We will approach this in four steps:\n",
    "1. Developing a manually configured ARIMA model.\n",
    "2. Using a grid search of ARIMA to find an optimized model.\n",
    "3. Analysis of forecast residual errors to evaluate any bias in the model.\n",
    "4. Explore improvements to the model using power transforms.\n",
    "Nonseasonal ARIMA(p,d,q) requires three parameters and is traditionally configured manually.\n",
    "Analysis of the time series data assumes that we are working with a stationary time series. The\n",
    "time series is almost certainly non-stationary. We can make it stationary by first differencing\n",
    "the series and using a statistical test to confirm that the result is stationary. The example below\n",
    "creates a stationary version of the series and saves it to file stationary.csv."
   ]
  },
  {
   "cell_type": "markdown",
   "id": "3216787f",
   "metadata": {},
   "source": [
    "### Manually Configured ARIMA\n",
    "\n",
    "Nonseasonal ARIMA(p,d,q) requires three parameters and is traditionally configured manually.\n",
    "Analysis of the time series data assumes that we are working with a stationary time series. The\n",
    "time series is almost certainly non-stationary. We can make it stationary by first differencing\n",
    "the series and using a statistical test to confirm that the result is stationary. The example below\n",
    "creates a stationary version of the series and saves it to file stationary.csv."
   ]
  },
  {
   "cell_type": "code",
   "execution_count": 15,
   "id": "1f913d2e",
   "metadata": {},
   "outputs": [
    {
     "name": "stdout",
     "output_type": "stream",
     "text": [
      "ADF Statistic: -4.682435\n",
      "p-value: 0.000091\n",
      "Critical Values:\n",
      "\t1%: -3.511\n",
      "\t5%: -2.897\n",
      "\t10%: -2.585\n"
     ]
    }
   ],
   "source": [
    "from statsmodels.tsa.stattools import adfuller\n",
    "\n",
    "new_df = df.copy(deep=True)\n",
    "new_df['Diff'] = df.diff()\n",
    "\n",
    "stationary = new_df['Diff'][1:]\n",
    "\n",
    "# check if stationary\n",
    "result = adfuller(stationary)\n",
    "print('ADF Statistic: %f' % result[0])\n",
    "print('p-value: %f' % result[1])\n",
    "print('Critical Values:')\n",
    "for key, value in result[4].items():\n",
    "    print('\\t%s: %.3f' % (key, value))"
   ]
  },
  {
   "cell_type": "markdown",
   "id": "d85b7838",
   "metadata": {},
   "source": [
    "This suggests that at least one level of differencing is required. The d parameter in our\n",
    "ARIMA model should at least be a value of 1. The next step is to select the lag values for\n",
    "the Autoregression (AR) and Moving Average (MA) parameters, p and q respectively. We can\n",
    "do this by reviewing Autocorrelation Function (ACF) and Partial Autocorrelation Function\n",
    "(PACF) plots. The example below creates ACF and PACF plots for the se"
   ]
  },
  {
   "cell_type": "code",
   "execution_count": 16,
   "id": "22192f56",
   "metadata": {},
   "outputs": [
    {
     "data": {
      "image/png": "[encoded data removed]",
      "text/plain": [
       "<Figure size 432x288 with 1 Axes>"
      ]
     },
     "metadata": {
      "needs_background": "light"
     },
     "output_type": "display_data"
    },
    {
     "data": {
      "image/png": "[encoded data removed]",
      "text/plain": [
       "<Figure size 432x288 with 1 Axes>"
      ]
     },
     "metadata": {
      "needs_background": "light"
     },
     "output_type": "display_data"
    }
   ],
   "source": [
    "from statsmodels.graphics.tsaplots import plot_acf\n",
    "from statsmodels.graphics.tsaplots import plot_pacf\n",
    "\n",
    "plot_acf(df, lags=45)\n",
    "plt.show()\n",
    "plot_pacf(df, lags=45)\n",
    "plt.show()"
   ]
  },
  {
   "cell_type": "markdown",
   "id": "551a76c7",
   "metadata": {},
   "source": [
    "Run the example and review the plots for insights into how to set the p and q variables for\n",
    "the ARIMA model. Below are some observations from the plots.\n",
    "* The ACF shows a significant lag for 10-11 months.\n",
    "* The PACF shows a significant lag for perhaps 2 months.\n",
    "* Both the ACF and PACF show a drop-off at the same point, perhaps suggesting a mix of AR and MA. A good starting point for the p and q values are 11 and 2.\n",
    "\n",
    "A good starting point for the p and q values are 9 and 2."
   ]
  },
  {
   "cell_type": "markdown",
   "id": "ead46b48",
   "metadata": {},
   "source": [
    "This quick analysis suggests an ARIMA(11,1,2) on the raw data may be a good starting\n",
    "point. Experimentation shows that this configuration of ARIMA does not converge and results\n",
    "in errors by the underlying library, as do similarly large AR values. Some experimentation shows\n",
    "that the model does not appear to be stable, with non-zero AR and MA orders defined at the\n",
    "same time. The model can be simplified to ARIMA(0,1,2). The example below demonstrates\n",
    "the performance of this ARIMA model on the test harness."
   ]
  },
  {
   "cell_type": "code",
   "execution_count": 17,
   "id": "a9eff703",
   "metadata": {},
   "outputs": [
    {
     "name": "stdout",
     "output_type": "stream",
     "text": [
      ">Predicted=106.359, Expected=78.000\n",
      ">Predicted=88.516, Expected=99.000\n",
      ">Predicted=102.626, Expected=107.000\n",
      ">Predicted=105.025, Expected=112.000\n",
      ">Predicted=110.301, Expected=90.000\n",
      ">Predicted=96.372, Expected=98.000\n",
      ">Predicted=102.710, Expected=125.000\n",
      ">Predicted=118.868, Expected=155.000\n",
      ">Predicted=141.099, Expected=190.000\n",
      ">Predicted=176.593, Expected=236.000\n",
      ">Predicted=233.418, Expected=189.000\n",
      ">Predicted=186.905, Expected=174.000\n",
      ">Predicted=184.846, Expected=178.000\n",
      ">Predicted=183.763, Expected=136.000\n",
      ">Predicted=146.180, Expected=161.000\n",
      ">Predicted=171.279, Expected=171.000\n",
      ">Predicted=170.196, Expected=149.000\n",
      ">Predicted=154.425, Expected=184.000\n",
      ">Predicted=185.707, Expected=155.000\n",
      ">Predicted=157.284, Expected=276.000\n",
      ">Predicted=245.280, Expected=224.000\n",
      ">Predicted=222.242, Expected=213.000\n",
      ">Predicted=219.698, Expected=279.000\n",
      ">Predicted=261.506, Expected=268.000\n",
      ">Predicted=264.287, Expected=287.000\n",
      ">Predicted=282.759, Expected=238.000\n",
      ">Predicted=255.843, Expected=213.000\n",
      ">Predicted=235.189, Expected=257.000\n",
      ">Predicted=257.622, Expected=293.000\n",
      ">Predicted=280.345, Expected=212.000\n",
      ">Predicted=235.564, Expected=246.000\n",
      ">Predicted=255.342, Expected=353.000\n",
      ">Predicted=318.613, Expected=339.000\n",
      ">Predicted=310.335, Expected=308.000\n",
      ">Predicted=306.789, Expected=247.000\n",
      ">Predicted=270.213, Expected=257.000\n",
      ">Predicted=283.318, Expected=322.000\n",
      ">Predicted=316.063, Expected=298.000\n",
      ">Predicted=294.466, Expected=273.000\n",
      ">Predicted=289.635, Expected=312.000\n",
      ">Predicted=314.759, Expected=249.000\n",
      ">Predicted=268.674, Expected=286.000\n",
      ">Predicted=303.095, Expected=279.000\n",
      ">Predicted=286.441, Expected=309.000\n",
      ">Predicted=309.455, Expected=401.000\n",
      ">Predicted=363.141, Expected=309.000\n",
      ">Predicted=304.979, Expected=328.000\n",
      ">Predicted=336.240, Expected=353.000\n",
      "RMSE: 40.685\n"
     ]
    }
   ],
   "source": [
    "from sklearn.metrics import mean_squared_error\n",
    "from statsmodels.tsa.arima_model import ARIMA\n",
    "\n",
    "X = df.values\n",
    "train_size = int(len(df) * .5)\n",
    "train, test = X[:train_size], X[train_size:]\n",
    "\n",
    "# walk forward validation\n",
    "history = [i for i in train]\n",
    "predictions = []\n",
    "\n",
    "for i in range(len(test)):\n",
    "    #predict\n",
    "    model = ARIMA(history, order=(0,1,2))\n",
    "    model_fit = model.fit(disp=False)\n",
    "    y_pred = model_fit.forecast()[0]\n",
    "    predictions.append(y_pred)\n",
    "    \n",
    "    #observation\n",
    "    obs = test[i]\n",
    "    history.append(obs)\n",
    "    print('>Predicted=%.3f, Expected=%.3f' % (y_pred, obs))\n",
    "# report performance\n",
    "rmse = np.sqrt(mean_squared_error(test, predictions))\n",
    "print('RMSE: %.3f' % rmse)\n",
    "    "
   ]
  },
  {
   "cell_type": "markdown",
   "id": "f6c4897c",
   "metadata": {},
   "source": [
    "## Grid Search ARIMA Hyperparameters\n",
    "\n",
    "Many ARIMA configurations are unstable on this dataset, but there may be other hyperparam-\n",
    "eters that result in a well-performing model. In this section, we will search values of p, d, and q\n",
    "for combinations that do not result in error, and find the combination that results in the best\n",
    "performance. We will use a grid search to explore all combinations in a subset of integer values.\n",
    "Specifically, we will search all combinations of the following parameters:\n",
    "\n",
    "* p: 0 to 9.\n",
    "* d: 0 to 3.\n",
    "* q: 0 to 2."
   ]
  },
  {
   "cell_type": "code",
   "execution_count": 18,
   "id": "ea89a0f8",
   "metadata": {},
   "outputs": [
    {
     "name": "stdout",
     "output_type": "stream",
     "text": [
      "ARIMA(0, 0, 0) RMSE=134.808\n",
      "ARIMA(0, 0, 1) RMSE=83.625\n",
      "ARIMA(0, 0, 2) RMSE=78.192\n",
      "ARIMA(0, 1, 0) RMSE=45.211\n",
      "ARIMA(0, 1, 1) RMSE=41.691\n",
      "ARIMA(0, 1, 2) RMSE=40.685\n",
      "ARIMA(0, 2, 0) RMSE=72.450\n",
      "ARIMA(0, 2, 1) RMSE=45.925\n",
      "ARIMA(0, 2, 2) RMSE=42.585\n",
      "ARIMA(1, 0, 0) RMSE=46.274\n",
      "ARIMA(1, 1, 0) RMSE=43.935\n",
      "ARIMA(1, 1, 1) RMSE=41.972\n",
      "ARIMA(1, 2, 0) RMSE=63.076\n",
      "ARIMA(2, 0, 0) RMSE=45.082\n",
      "ARIMA(2, 1, 0) RMSE=42.246\n",
      "ARIMA(2, 1, 1) RMSE=42.868\n",
      "ARIMA(2, 2, 0) RMSE=54.845\n",
      "ARIMA(2, 2, 1) RMSE=43.055\n",
      "ARIMA(3, 0, 0) RMSE=43.621\n",
      "ARIMA(3, 1, 0) RMSE=43.207\n",
      "ARIMA(3, 1, 1) RMSE=42.458\n",
      "ARIMA(3, 1, 2) RMSE=42.698\n",
      "ARIMA(3, 2, 0) RMSE=54.359\n",
      "ARIMA(3, 2, 1) RMSE=44.388\n",
      "Best ARIMA(0, 1, 2) RMSE=40.685\n"
     ]
    }
   ],
   "source": [
    "import warnings\n",
    "from pandas import read_csv\n",
    "from statsmodels.tsa.arima_model import ARIMA\n",
    "from sklearn.metrics import mean_squared_error\n",
    "from math import sqrt\n",
    "\n",
    "# evaluate an ARIMA model for a given order (p,d,q) and return RMSE\n",
    "def evaluate_arima_model(X, arima_order):\n",
    "    # prepare training dataset\n",
    "    X = X.astype('float32')\n",
    "    train_size = int(len(X) * 0.50)\n",
    "    train, test = X[0:train_size], X[train_size:]\n",
    "    history = [x for x in train]\n",
    "    # make predictions\n",
    "    predictions = list()\n",
    "    for t in range(len(test)):\n",
    "        model = ARIMA(history, order=arima_order)\n",
    "        model_fit = model.fit(disp=0)\n",
    "        yhat = model_fit.forecast()[0]\n",
    "        predictions.append(yhat)\n",
    "        history.append(test[t])\n",
    "        # calculate out of sample error\n",
    "    rmse = sqrt(mean_squared_error(test, predictions))\n",
    "    return rmse\n",
    "\n",
    "# evaluate combinations of p, d and q values for an ARIMA model\n",
    "def evaluate_models(dataset, p_values, d_values, q_values):\n",
    "    dataset = dataset.astype('float32')\n",
    "    best_score, best_cfg = float(\"inf\"), None\n",
    "    for p in p_values:\n",
    "        for d in d_values:\n",
    "            for q in q_values:\n",
    "                order = (p,d,q)\n",
    "                try:\n",
    "                    rmse = evaluate_arima_model(dataset, order)\n",
    "                    if rmse < best_score:\n",
    "                        best_score, best_cfg = rmse, order\n",
    "                    print('ARIMA%s RMSE=%.3f' % (order,rmse))\n",
    "                except:\n",
    "                    continue\n",
    "    print('Best ARIMA%s RMSE=%.3f' % (best_cfg, best_score))\n",
    "\n",
    "# evaluate parameters\n",
    "p_values = range(0,4)\n",
    "d_values = range(0,4)\n",
    "q_values = range(0,3)\n",
    "warnings.filterwarnings('ignore')\n",
    "evaluate_models(df.values, p_values, d_values, q_values)"
   ]
  },
  {
   "cell_type": "markdown",
   "id": "54233614",
   "metadata": {},
   "source": [
    "## Review Residual Errors\n",
    "\n",
    "A good final check of a model is to review residual forecast errors. Ideally, the distribution\n",
    "of residual errors should be a Gaussian with a zero mean. We can check this by plotting the\n",
    "residuals with a histogram and density plots. The example below calculates the residual errors\n",
    "for predictions on the test set and creates these density plots."
   ]
  },
  {
   "cell_type": "code",
   "execution_count": 19,
   "id": "2b87028e",
   "metadata": {},
   "outputs": [],
   "source": [
    "X = df.values\n",
    "train_size = int(len(X) * .5)\n",
    "train, test = X[:train_size], X[train_size:]\n",
    "\n",
    "# walk validation\n",
    "history = [i for i in train]\n",
    "predictions = []\n",
    "\n",
    "for i in range(len(test)):\n",
    "    # predict\n",
    "    model = ARIMA(history, order=(0, 1, 2))\n",
    "    model_fit = model.fit(disp=False)\n",
    "    y_pred = model_fit.forecast()[0]\n",
    "    predictions.append(y_pred)\n",
    "    \n",
    "    # observation\n",
    "    obs = test[i]\n",
    "    history.append(obs)\n",
    "\n",
    "# error\n",
    "residuals = [test[i] - predictions[i] for i in range(len(predictions))]"
   ]
  },
  {
   "cell_type": "code",
   "execution_count": 20,
   "id": "8d9e4477",
   "metadata": {},
   "outputs": [
    {
     "data": {
      "image/png": "[encoded data removed]",
      "text/plain": [
       "<Figure size 432x288 with 1 Axes>"
      ]
     },
     "metadata": {
      "needs_background": "light"
     },
     "output_type": "display_data"
    },
    {
     "data": {
      "image/png": "[encoded data removed]",
      "text/plain": [
       "<Figure size 432x288 with 1 Axes>"
      ]
     },
     "metadata": {
      "needs_background": "light"
     },
     "output_type": "display_data"
    }
   ],
   "source": [
    "result = pd.DataFrame(residuals)\n",
    "result.hist()\n",
    "plt.show()\n",
    "result.plot(kind='kde')\n",
    "plt.show()"
   ]
  },
  {
   "cell_type": "markdown",
   "id": "e38abef3",
   "metadata": {},
   "source": [
    "Running the example creates the two plots. The graphs suggest a Gaussian-like distribution\n",
    "with a longer right tail. This is perhaps a sign that the predictions are biased, and in this case\n",
    "that perhaps a power-based transform of the raw data before modeling might be useful.\n",
    "\n",
    "It is also a good idea to check the time series of the residual errors for any type of autocorre-\n",
    "lation. If present, it would suggest that the model has more opportunity to model the temporal\n",
    "structure in the data. The example below re-calculates the residual errors and creates ACF and\n",
    "PACF plots to check for any significant autocorrelation."
   ]
  },
  {
   "cell_type": "code",
   "execution_count": 21,
   "id": "92e4f15a",
   "metadata": {},
   "outputs": [
    {
     "data": {
      "image/png": "[encoded data removed]",
      "text/plain": [
       "<Figure size 432x288 with 1 Axes>"
      ]
     },
     "metadata": {
      "needs_background": "light"
     },
     "output_type": "display_data"
    },
    {
     "data": {
      "image/png": "[encoded data removed]",
      "text/plain": [
       "<Figure size 432x288 with 1 Axes>"
      ]
     },
     "metadata": {
      "needs_background": "light"
     },
     "output_type": "display_data"
    }
   ],
   "source": [
    "from statsmodels.graphics.tsaplots import plot_acf\n",
    "from statsmodels.graphics.tsaplots import plot_pacf\n",
    "\n",
    "_ = plot_acf(result, lags=25)\n",
    "plt.show()\n",
    "_ = plot_pacf(result, lags=20)\n",
    "plt.show()"
   ]
  },
  {
   "cell_type": "markdown",
   "id": "9cad873b",
   "metadata": {},
   "source": [
    "The results suggest that what little autocorrelation is present in the time series has been\n",
    "captured by the model."
   ]
  },
  {
   "cell_type": "markdown",
   "id": "b75c0d74",
   "metadata": {},
   "source": [
    "## Box-Cox Transformed Dataset\n",
    "The Box-Cox transform is a method that is able to evaluate a suite of power transforms,\n",
    "including, but not limited to, log, square root, and reciprocal transforms of the data. The\n",
    "example below performs a log transform of the data and generates some plots to review the\n",
    "effect on the time series."
   ]
  },
  {
   "cell_type": "code",
   "execution_count": 22,
   "id": "0b2a8c9f",
   "metadata": {},
   "outputs": [
    {
     "name": "stdout",
     "output_type": "stream",
     "text": [
      "Lambda : 0.19102501339116326\n"
     ]
    },
    {
     "data": {
      "image/png": "[encoded data removed]",
      "text/plain": [
       "<Figure size 864x576 with 4 Axes>"
      ]
     },
     "metadata": {
      "needs_background": "light"
     },
     "output_type": "display_data"
    },
    {
     "data": {
      "image/png": "[encoded data removed]",
      "text/plain": [
       "<Figure size 432x288 with 1 Axes>"
      ]
     },
     "metadata": {
      "needs_background": "light"
     },
     "output_type": "display_data"
    },
    {
     "data": {
      "image/png": "[encoded data removed]",
      "text/plain": [
       "<Figure size 432x288 with 1 Axes>"
      ]
     },
     "metadata": {
      "needs_background": "light"
     },
     "output_type": "display_data"
    }
   ],
   "source": [
    "from scipy.stats import boxcox\n",
    "from statsmodels.graphics.gofplots import qqplot\n",
    "\n",
    "X = df.values.flatten()\n",
    "transformed, lmbd = boxcox(X)\n",
    "\n",
    "print(f'Lambda : {lmbd}')\n",
    "\n",
    "fig, ax = plt.subplots(ncols=2, nrows=2, figsize=(12, 8))\n",
    "\n",
    "counter_1 = 0\n",
    "counter_2 = 0\n",
    "for i in range(1, 2*2+1):\n",
    "    if i%2:\n",
    "        plt.subplot(2,2,i)\n",
    "        plt.plot([X, transformed][counter_1], label=['X', 'Transformed'][counter_1])\n",
    "        plt.gca().set_title(['X values', 'transformed values'][counter_1])\n",
    "        counter_1 += 1\n",
    "    else:\n",
    "        plt.subplot(2,2,i)\n",
    "        plt.hist([X, transformed][counter_2], label=['X', 'Transformed'][counter_2], edgecolor='k')\n",
    "        plt.gca().set_title(['X values', 'transformed values'][counter_2])\n",
    "        counter_2 += 1\n",
    "        \n",
    "    plt.legend()\n",
    "\n",
    "for i in range(2):\n",
    "    _ = qqplot([X, transformed][i], line='r', label=['X', 'Transformed'][i])\n",
    "    plt.legend()\n",
    "    \n",
    "fig.tight_layout(h_pad=2)\n",
    "plt.show()"
   ]
  },
  {
   "cell_type": "markdown",
   "id": "c6c1559d",
   "metadata": {},
   "source": [
    "Running the example creates three graphs: a line chart of the transformed time series, a\n",
    "histogram showing the distribution of transformed values, and a Q-Q plot showing how the\n",
    "distribution of values compared to an idealized Gaussian distribution. Some observations from\n",
    "these plots are follows:\n",
    "* The large uctuations have been removed from the line plot of the time series.\n",
    "* The histogram shows a atter or more uniform (well behaved) distribution of values.\n",
    "* The Q-Q plot is reasonable, but still not a perfect fit for a Gaussian distribution.\n",
    "\n",
    "Undoubtedly, the Box-Cox transform has done something to the time series and may be\n",
    "useful. Before proceeding to test the ARIMA model with the transformed data, we must have\n",
    "a way to reverse the transform in order to convert predictions made with a model trained on\n",
    "the transformed data back into the original scale. The boxcox() function used in the example\n",
    "finds an ideal lambda value by optimizing a cost function. The lambda is used in the following"
   ]
  },
  {
   "cell_type": "markdown",
   "id": "7669f845",
   "metadata": {},
   "source": [
    "### invert Box-Cox transform"
   ]
  },
  {
   "cell_type": "code",
   "execution_count": 23,
   "id": "7cad0e83",
   "metadata": {},
   "outputs": [
    {
     "name": "stdout",
     "output_type": "stream",
     "text": [
      ">Predicted=110.780, Expected=78.000\n",
      ">Predicted=91.436, Expected=99.000\n",
      ">Predicted=105.343, Expected=107.000\n",
      ">Predicted=106.628, Expected=112.000\n",
      ">Predicted=111.663, Expected=90.000\n",
      ">Predicted=97.974, Expected=98.000\n",
      ">Predicted=104.062, Expected=125.000\n",
      ">Predicted=119.209, Expected=155.000\n",
      ">Predicted=138.903, Expected=190.000\n",
      ">Predicted=166.146, Expected=236.000\n",
      ">Predicted=205.946, Expected=189.000\n",
      ">Predicted=183.612, Expected=174.000\n",
      ">Predicted=184.411, Expected=178.000\n",
      ">Predicted=186.637, Expected=136.000\n",
      ">Predicted=154.274, Expected=161.000\n",
      ">Predicted=175.673, Expected=171.000\n",
      ">Predicted=174.166, Expected=149.000\n",
      ">Predicted=159.919, Expected=184.000\n",
      ">Predicted=187.302, Expected=155.000\n",
      ">Predicted=161.653, Expected=276.000\n",
      ">Predicted=244.354, Expected=224.000\n",
      ">Predicted=212.415, Expected=213.000\n",
      ">Predicted=221.180, Expected=279.000\n",
      ">Predicted=262.629, Expected=268.000\n",
      ">Predicted=260.125, Expected=287.000\n",
      ">Predicted=283.321, Expected=238.000\n",
      ">Predicted=255.086, Expected=213.000\n",
      ">Predicted=241.694, Expected=257.000\n",
      ">Predicted=267.296, Expected=293.000\n",
      ">Predicted=286.368, Expected=212.000\n",
      ">Predicted=237.871, Expected=246.000\n",
      ">Predicted=265.183, Expected=353.000\n",
      ">Predicted=323.318, Expected=339.000\n",
      ">Predicted=318.584, Expected=308.000\n",
      ">Predicted=315.816, Expected=247.000\n",
      ">Predicted=279.561, Expected=257.000\n",
      ">Predicted=289.125, Expected=322.000\n",
      ">Predicted=323.738, Expected=298.000\n",
      ">Predicted=305.205, Expected=273.000\n",
      ">Predicted=297.093, Expected=312.000\n",
      ">Predicted=322.521, Expected=249.000\n",
      ">Predicted=275.872, Expected=286.000\n",
      ">Predicted=307.548, Expected=279.000\n",
      ">Predicted=291.949, Expected=309.000\n",
      ">Predicted=315.578, Expected=401.000\n",
      ">Predicted=369.477, Expected=309.000\n",
      ">Predicted=316.868, Expected=328.000\n",
      ">Predicted=345.388, Expected=353.000\n",
      "RMSE: 40.342\n"
     ]
    }
   ],
   "source": [
    "# evaluate ARIMA models with box-cox transformed time series\n",
    "from pandas import read_csv\n",
    "from sklearn.metrics import mean_squared_error\n",
    "from statsmodels.tsa.arima_model import ARIMA\n",
    "from math import sqrt\n",
    "from math import log\n",
    "from math import exp\n",
    "from scipy.stats import boxcox\n",
    "\n",
    "# invert box-cox transform\n",
    "def boxcox_inverse(value, lam):\n",
    "    if lam == 0:\n",
    "        return exp(value)\n",
    "    return exp(log(lam * value + 1) / lam)\n",
    "\n",
    "# prepare data\n",
    "X = df.values.flatten()\n",
    "X = X.astype('float32')\n",
    "train_size = int(len(X) * 0.50)\n",
    "train, test = X[0:train_size], X[train_size:]\n",
    "\n",
    "# walk-forward validation\n",
    "history = [x for x in train]\n",
    "predictions = list()\n",
    "for i in range(len(test)):\n",
    "    # transform\n",
    "    transformed, lam = boxcox(history)\n",
    "    if lam < -5:\n",
    "        transformed, lam = history, 1\n",
    "    # predict\n",
    "    model = ARIMA(transformed, order=(0,1,2))\n",
    "    model_fit = model.fit(disp=0)\n",
    "    yhat = model_fit.forecast()[0]\n",
    "    # invert transformed prediction\n",
    "    yhat = boxcox_inverse(yhat, lam)\n",
    "    predictions.append(yhat)\n",
    "    # observation\n",
    "    obs = test[i]\n",
    "    history.append(obs)\n",
    "    print('>Predicted=%.3f, Expected=%.3f' % (yhat, obs))\n",
    "# report performance\n",
    "rmse = sqrt(mean_squared_error(test, predictions))\n",
    "print('RMSE: %.3f' % rmse)"
   ]
  },
  {
   "cell_type": "markdown",
   "id": "f1d47bba",
   "metadata": {},
   "source": [
    "## Model Validation\n",
    "\n",
    "After models have been developed and a final model selected, it must be validated and finalized.\n",
    "Validation is an optional part of the process, but one that provides a last check to ensure we\n",
    "have not fooled or lied to ourselves. This section includes the following steps:\n",
    "* Finalize Model: Train and save the final model.\n",
    "* Make Prediction: Load the finalized model and make a prediction.\n",
    "* Validate Model: Load and validate the final model."
   ]
  },
  {
   "cell_type": "markdown",
   "id": "77e72881",
   "metadata": {},
   "source": [
    "### Finalize Model\n",
    "Finalizing the model involves fitting an ARIMA model on the entire dataset, in this case, on a\n",
    "transformed version of the entire dataset. Once fit, the model can be saved to file for later use.\n",
    "Because a Box-Cox transform is also performed on the data, we need to know the chosen lambda\n",
    "so that any predictions from the model can be converted back to the original, untransformed\n",
    "scale. The example below fits an ARIMA(0,1,2) model on the Box-Cox transform dataset and\n",
    "saves the whole fit object and the lambda value to file."
   ]
  },
  {
   "cell_type": "code",
   "execution_count": 24,
   "id": "ff7fc19d",
   "metadata": {},
   "outputs": [],
   "source": [
    "from statsmodels.tsa.arima_model import ARIMA\n",
    "from scipy.stats import boxcox\n",
    "\n",
    "# monkey patch around bug in ARIMA class\n",
    "def __getnewargs__(self):\n",
    "    return ((self.endog),(self.k_lags, self.k_diff, self.k_ma))\n",
    "ARIMA.__getnewargs__ = __getnewargs__\n",
    "\n",
    "X = df.values.flatten()\n",
    "\n",
    "# transform data\n",
    "transformed, lmbd = boxcox(X)\n",
    "\n",
    "# fit model\n",
    "model = ARIMA(transformed, order=(0, 1, 2))\n",
    "model_fit = model.fit(disp=False)\n",
    "\n",
    "# save model \n",
    "model_fit.save('./project/model/model.pkl')\n",
    "np.save('./project/model/model_lambda.npy', [lmbd])"
   ]
  },
  {
   "cell_type": "markdown",
   "id": "cd1c8f2c",
   "metadata": {},
   "source": [
    "Running the example creates two local files:\n",
    "* model.pkl This is the ARIMAResult object from the call to ARIMA.fit(). This includes the coefficients and all other internal data returned when fitting the model.\n",
    "* model lambda.npy  This  is  the  lambda  value  stored  as  a  one-row,  one-column  NumPy array.\n",
    "\n",
    "This is probably overkill and all that is really needed for operational use are the AR and MA \n",
    "coefficients from the model, the d parameter for the number of differences, perhaps the lag\n",
    "observations and model residuals, and the lambda value for the transform.\n"
   ]
  },
  {
   "cell_type": "markdown",
   "id": "217e0ca7",
   "metadata": {},
   "source": [
    "### Make Prediction\n",
    "A natural case may be to load the model and make a single forecast. This is relatively straight-\n",
    "forward and involves restoring the saved model and the lambda and calling the forecast()\n",
    "function. The example below loads the model, makes a prediction for the next time step, inverses\n",
    "the Box-Cox transform, and prints the prediction."
   ]
  },
  {
   "cell_type": "code",
   "execution_count": 25,
   "id": "37a88d60",
   "metadata": {},
   "outputs": [
    {
     "name": "stdout",
     "output_type": "stream",
     "text": [
      "Predicted: 353.499\n"
     ]
    }
   ],
   "source": [
    "from statsmodels.tsa.arima_model import ARIMAResults\n",
    "\n",
    "def boxcox_inverse(value, lmbd):\n",
    "    if lmbd == 0:\n",
    "        return np.exp(value)\n",
    "    return np.exp(np.log(lmbd * value + 1) / lmbd)\n",
    "model_fit = ARIMAResults.load('./project/model/model.pkl')\n",
    "lmbd = np.load('./project/model/model_lambda.npy')\n",
    "\n",
    "y_pred = model_fit.forecast()[0]\n",
    "y_pred = boxcox_inverse(y_pred, lmbd)\n",
    "print('Predicted: %.3f' % y_pred)"
   ]
  },
  {
   "cell_type": "markdown",
   "id": "1309a52a",
   "metadata": {},
   "source": [
    "### Validate Model\n",
    "We can load the model and use it in a pretend operational manner. In the test harness section,\n",
    "we saved the final 12 months of the original dataset in a separate file to validate the final model.\n",
    "We can load this validation.csv file now and use it see how well our model really is on unseen\n",
    "data. There are two ways we might proceed:\n",
    "\n",
    "* Load the model and use it to forecast the next 12 months. The forecast beyond the first one or two months will quickly start to degrade in skill.\n",
    "* Load the model and use it in a rolling-forecast manner, updating the transform and model for each time step. This is the preferred method as it is how one would use this model in practice, as it would achieve the best performance.\n",
    "\n",
    "As with model evaluation in previous sections, we will make predictions in a rolling-forecast\n",
    "manner. This means that we will step over lead times in the validation dataset and take the\n",
    "observations as an update to the history."
   ]
  },
  {
   "cell_type": "code",
   "execution_count": 46,
   "id": "053b77f2",
   "metadata": {},
   "outputs": [
    {
     "name": "stdout",
     "output_type": "stream",
     "text": [
      ">Predicted=353.504, Expected=354.000\n",
      ">Predicted=358.413, Expected=327.000\n",
      ">Predicted=345.135, Expected=324.000\n",
      ">Predicted=346.405, Expected=285.000\n",
      ">Predicted=318.015, Expected=243.000\n",
      ">Predicted=286.562, Expected=241.000\n",
      ">Predicted=276.252, Expected=287.000\n",
      ">Predicted=299.811, Expected=355.000\n",
      ">Predicted=338.997, Expected=460.000\n",
      ">Predicted=404.507, Expected=364.000\n",
      ">Predicted=349.341, Expected=487.000\n",
      ">Predicted=452.039, Expected=452.000\n",
      ">Predicted=423.097, Expected=391.000\n",
      ">Predicted=408.375, Expected=500.000\n",
      ">Predicted=482.456, Expected=451.000\n",
      ">Predicted=445.943, Expected=375.000\n",
      ">Predicted=413.894, Expected=372.000\n",
      ">Predicted=413.210, Expected=302.000\n",
      ">Predicted=355.157, Expected=316.000\n",
      ">Predicted=363.514, Expected=398.000\n",
      ">Predicted=406.362, Expected=394.000\n",
      ">Predicted=394.185, Expected=431.000\n",
      ">Predicted=428.175, Expected=431.000\n",
      "RMSE: 60.831\n"
     ]
    },
    {
     "data": {
      "image/png": "[encoded data removed]",
      "text/plain": [
       "<Figure size 432x288 with 1 Axes>"
      ]
     },
     "metadata": {
      "needs_background": "light"
     },
     "output_type": "display_data"
    }
   ],
   "source": [
    "from statsmodels.tsa.arima_model import ARIMA\n",
    "from statsmodels.tsa.arima_model import ARIMAResults\n",
    "from scipy.stats import boxcox\n",
    "from sklearn.metrics import mean_squared_error\n",
    "\n",
    "def boxcox_inverse(value, lmbd):\n",
    "    if lmbd == 0:\n",
    "        return np.exp(value)\n",
    "    return np.exp(np.log(lmbd * value + 1) / lmbd)\n",
    "\n",
    "# load and prepare datasets\n",
    "dataset = pd.read_csv('./project/dataset - project monthly armed robberies/dataset.csv', index_col='Months', parse_dates=['Months'])\n",
    "X = dataset.values.astype('float32').flatten()\n",
    "\n",
    "validation = pd.read_csv('./project/dataset - project monthly armed robberies/validation.csv', index_col='Months', parse_dates=['Months'])\n",
    "y = validation.values.astype('float32').flatten()\n",
    "\n",
    "# load model\n",
    "model_fit = ARIMAResults.load('./project/model/model.pkl')\n",
    "lmbd = np.load('./project/model/model_lambda.npy')\n",
    "\n",
    "# walk forward validation\n",
    "history = [x for x in X]\n",
    "predictions = list()\n",
    "\n",
    "for i in range(len(y)):\n",
    "    # transform\n",
    "    transformed, lmbd = boxcox(history)\n",
    "    if lmbd < -5:\n",
    "        transformed, lmbd = history, 1\n",
    "    # predict\n",
    "    model = ARIMA(transformed, order=(0, 1, 2))\n",
    "    model_fit = model.fit(disp=False)\n",
    "    y_pred = model_fit.forecast()[0]\n",
    "    \n",
    "    # invert transformed prediction\n",
    "    y_pred = boxcox_inverse(y_pred, lmbd)\n",
    "    predictions.append(y_pred)\n",
    "    \n",
    "    # observation\n",
    "    obs = y[i]\n",
    "    history.append(obs)\n",
    "    print('>Predicted=%.3f, Expected=%.3f' % (y_pred, obs))\n",
    "# report performance\n",
    "rmse = sqrt(mean_squared_error(y, predictions))\n",
    "print('RMSE: %.3f' % rmse)\n",
    "\n",
    "plt.plot(y)\n",
    "plt.plot(predictions)\n",
    "plt.show()"
   ]
  },
  {
   "cell_type": "markdown",
   "id": "6e4e9657",
   "metadata": {},
   "source": [
    "A plot of the predictions compared to the validation dataset is also provided. The forecast\n",
    "does have the characteristic of a persistence forecast. This does suggest that although this time\n",
    "series does have an obvious trend, it is still a reasonably dificult problem."
   ]
  },
  {
   "cell_type": "markdown",
   "id": "24aa4ffd",
   "metadata": {},
   "source": [
    "### Extensions\n",
    "This tutorial was not exhaustive; there may be more that you can do to improve the result.\n",
    "This section lists some ideas.\n",
    "* Statistical Significance Tests. Use a statistical test to check if the difference in results between difierent models is statistically significant. The Student's t-test would be a good place to start.\n",
    "* Grid Search with Data Transforms. Repeat the grid search in the ARIMA hyperparameters with the Box-Cox transform and see if a different and better set of parameters can be achieved.\n",
    "* Inspect Residuals. Investigate the residual forecast errors on the final model with Box-Cox transforms to see if there is a further bias and/or autocorrelation that can be addressed.\n",
    "* Lean Model Saving. Simplify model saving to only store the required coeficients rather than the entire ARIMAResults object.\n",
    "* Manually Handle Trend. Model the trend directly with a linear or nonlinear model and explicitly remove it from the series. This may result in better performance if the trend is nonlinear and can be modeled better than the linear case.\n",
    "* Confidence Interval. Display the confidence intervals for the predictions on the valida- tion dataset.\n",
    "* Data Selection. Consider modeling the problem without the first two years of data and see if this has an impact on forecast skill."
   ]
  }
 ],
 "metadata": {
  "kernelspec": {
   "display_name": "Python 3",
   "language": "python",
   "name": "python3"
  }
 },
 "nbformat": 4,
 "nbformat_minor": 5
}
