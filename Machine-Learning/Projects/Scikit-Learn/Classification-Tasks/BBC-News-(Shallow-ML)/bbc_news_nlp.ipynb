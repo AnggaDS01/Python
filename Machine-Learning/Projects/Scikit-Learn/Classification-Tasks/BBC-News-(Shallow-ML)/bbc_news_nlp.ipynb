{
 "cells": [
  {
   "cell_type": "code",
   "execution_count": 1,
   "id": "8363965e",
   "metadata": {},
   "outputs": [],
   "source": [
    "import pandas as pd"
   ]
  },
  {
   "cell_type": "code",
   "execution_count": 2,
   "id": "5568595c",
   "metadata": {},
   "outputs": [],
   "source": [
    "def get_data(path):\n",
    "    return pd.read_csv('./dataset/'+path+'.csv')\n",
    "\n",
    "test_df = get_data('BBC News Test')\n",
    "train_df = get_data('BBC News Train')"
   ]
  },
  {
   "cell_type": "code",
   "execution_count": 3,
   "id": "681ec5a1",
   "metadata": {},
   "outputs": [],
   "source": [
    "def diagnose_data(df):\n",
    "    print(f'shape:\\n{df.shape}\\n')\n",
    "    print(f'columns:\\n{sorted(df.columns)}\\n')\n",
    "    print(f'n dtypes:\\n{df.dtypes.value_counts()}\\n')\n",
    "    print(f'n uniques:')\n",
    "    for col in df.columns:\n",
    "        print(f'{col}: {df[col].nunique()}')\n",
    "    print(f'\\nnull values:')\n",
    "    for col in df.columns:\n",
    "        print(f'{col}: {df[col].isnull().sum()}')\n",
    "    print('\\ninfo:')\n",
    "    df.info()\n",
    "    return df.head()"
   ]
  },
  {
   "cell_type": "code",
   "execution_count": 4,
   "id": "9d37350d",
   "metadata": {},
   "outputs": [
    {
     "name": "stdout",
     "output_type": "stream",
     "text": [
      "shape:\n",
      "(1490, 3)\n",
      "\n",
      "columns:\n",
      "['ArticleId', 'Category', 'Text']\n",
      "\n",
      "n dtypes:\n",
      "object    2\n",
      "int64     1\n",
      "dtype: int64\n",
      "\n",
      "n uniques:\n",
      "ArticleId: 1490\n",
      "Text: 1440\n",
      "Category: 5\n",
      "\n",
      "null values:\n",
      "ArticleId: 0\n",
      "Text: 0\n",
      "Category: 0\n",
      "\n",
      "info:\n",
      "<class 'pandas.core.frame.DataFrame'>\n",
      "RangeIndex: 1490 entries, 0 to 1489\n",
      "Data columns (total 3 columns):\n",
      " #   Column     Non-Null Count  Dtype \n",
      "---  ------     --------------  ----- \n",
      " 0   ArticleId  1490 non-null   int64 \n",
      " 1   Text       1490 non-null   object\n",
      " 2   Category   1490 non-null   object\n",
      "dtypes: int64(1), object(2)\n",
      "memory usage: 35.0+ KB\n"
     ]
    },
    {
     "data": {
      "text/html": [
       "<div>\n",
       "<style scoped>\n",
       "    .dataframe tbody tr th:only-of-type {\n",
       "        vertical-align: middle;\n",
       "    }\n",
       "\n",
       "    .dataframe tbody tr th {\n",
       "        vertical-align: top;\n",
       "    }\n",
       "\n",
       "    .dataframe thead th {\n",
       "        text-align: right;\n",
       "    }\n",
       "</style>\n",
       "<table border=\"1\" class=\"dataframe\">\n",
       "  <thead>\n",
       "    <tr style=\"text-align: right;\">\n",
       "      <th></th>\n",
       "      <th>ArticleId</th>\n",
       "      <th>Text</th>\n",
       "      <th>Category</th>\n",
       "    </tr>\n",
       "  </thead>\n",
       "  <tbody>\n",
       "    <tr>\n",
       "      <th>0</th>\n",
       "      <td>1833</td>\n",
       "      <td>worldcom ex-boss launches defence lawyers defe...</td>\n",
       "      <td>business</td>\n",
       "    </tr>\n",
       "    <tr>\n",
       "      <th>1</th>\n",
       "      <td>154</td>\n",
       "      <td>german business confidence slides german busin...</td>\n",
       "      <td>business</td>\n",
       "    </tr>\n",
       "    <tr>\n",
       "      <th>2</th>\n",
       "      <td>1101</td>\n",
       "      <td>bbc poll indicates economic gloom citizens in ...</td>\n",
       "      <td>business</td>\n",
       "    </tr>\n",
       "    <tr>\n",
       "      <th>3</th>\n",
       "      <td>1976</td>\n",
       "      <td>lifestyle  governs mobile choice  faster  bett...</td>\n",
       "      <td>tech</td>\n",
       "    </tr>\n",
       "    <tr>\n",
       "      <th>4</th>\n",
       "      <td>917</td>\n",
       "      <td>enron bosses in $168m payout eighteen former e...</td>\n",
       "      <td>business</td>\n",
       "    </tr>\n",
       "  </tbody>\n",
       "</table>\n",
       "</div>"
      ],
      "text/plain": [
       "   ArticleId                                               Text  Category\n",
       "0       1833  worldcom ex-boss launches defence lawyers defe...  business\n",
       "1        154  german business confidence slides german busin...  business\n",
       "2       1101  bbc poll indicates economic gloom citizens in ...  business\n",
       "3       1976  lifestyle  governs mobile choice  faster  bett...      tech\n",
       "4        917  enron bosses in $168m payout eighteen former e...  business"
      ]
     },
     "execution_count": 4,
     "metadata": {},
     "output_type": "execute_result"
    }
   ],
   "source": [
    "diagnose_data(train_df)"
   ]
  },
  {
   "cell_type": "code",
   "execution_count": 5,
   "id": "1ab7639b",
   "metadata": {},
   "outputs": [
    {
     "name": "stdout",
     "output_type": "stream",
     "text": [
      "shape:\n",
      "(735, 2)\n",
      "\n",
      "columns:\n",
      "['ArticleId', 'Text']\n",
      "\n",
      "n dtypes:\n",
      "int64     1\n",
      "object    1\n",
      "dtype: int64\n",
      "\n",
      "n uniques:\n",
      "ArticleId: 735\n",
      "Text: 722\n",
      "\n",
      "null values:\n",
      "ArticleId: 0\n",
      "Text: 0\n",
      "\n",
      "info:\n",
      "<class 'pandas.core.frame.DataFrame'>\n",
      "RangeIndex: 735 entries, 0 to 734\n",
      "Data columns (total 2 columns):\n",
      " #   Column     Non-Null Count  Dtype \n",
      "---  ------     --------------  ----- \n",
      " 0   ArticleId  735 non-null    int64 \n",
      " 1   Text       735 non-null    object\n",
      "dtypes: int64(1), object(1)\n",
      "memory usage: 11.6+ KB\n"
     ]
    },
    {
     "data": {
      "text/html": [
       "<div>\n",
       "<style scoped>\n",
       "    .dataframe tbody tr th:only-of-type {\n",
       "        vertical-align: middle;\n",
       "    }\n",
       "\n",
       "    .dataframe tbody tr th {\n",
       "        vertical-align: top;\n",
       "    }\n",
       "\n",
       "    .dataframe thead th {\n",
       "        text-align: right;\n",
       "    }\n",
       "</style>\n",
       "<table border=\"1\" class=\"dataframe\">\n",
       "  <thead>\n",
       "    <tr style=\"text-align: right;\">\n",
       "      <th></th>\n",
       "      <th>ArticleId</th>\n",
       "      <th>Text</th>\n",
       "    </tr>\n",
       "  </thead>\n",
       "  <tbody>\n",
       "    <tr>\n",
       "      <th>0</th>\n",
       "      <td>1018</td>\n",
       "      <td>qpr keeper day heads for preston queens park r...</td>\n",
       "    </tr>\n",
       "    <tr>\n",
       "      <th>1</th>\n",
       "      <td>1319</td>\n",
       "      <td>software watching while you work software that...</td>\n",
       "    </tr>\n",
       "    <tr>\n",
       "      <th>2</th>\n",
       "      <td>1138</td>\n",
       "      <td>d arcy injury adds to ireland woe gordon d arc...</td>\n",
       "    </tr>\n",
       "    <tr>\n",
       "      <th>3</th>\n",
       "      <td>459</td>\n",
       "      <td>india s reliance family feud heats up the ongo...</td>\n",
       "    </tr>\n",
       "    <tr>\n",
       "      <th>4</th>\n",
       "      <td>1020</td>\n",
       "      <td>boro suffer morrison injury blow middlesbrough...</td>\n",
       "    </tr>\n",
       "  </tbody>\n",
       "</table>\n",
       "</div>"
      ],
      "text/plain": [
       "   ArticleId                                               Text\n",
       "0       1018  qpr keeper day heads for preston queens park r...\n",
       "1       1319  software watching while you work software that...\n",
       "2       1138  d arcy injury adds to ireland woe gordon d arc...\n",
       "3        459  india s reliance family feud heats up the ongo...\n",
       "4       1020  boro suffer morrison injury blow middlesbrough..."
      ]
     },
     "execution_count": 5,
     "metadata": {},
     "output_type": "execute_result"
    }
   ],
   "source": [
    "diagnose_data(test_df)"
   ]
  },
  {
   "cell_type": "code",
   "execution_count": 6,
   "id": "99d9bc1a",
   "metadata": {},
   "outputs": [],
   "source": [
    "import re\n",
    "import nltk\n",
    "from nltk.corpus import stopwords\n",
    "from nltk.stem import PorterStemmer\n",
    "from sklearn.feature_extraction.text import TfidfVectorizer\n",
    "from sklearn.metrics import classification_report\n",
    "from sklearn.linear_model import LogisticRegression"
   ]
  },
  {
   "cell_type": "code",
   "execution_count": 7,
   "id": "cc0d3b7f",
   "metadata": {},
   "outputs": [
    {
     "name": "stdout",
     "output_type": "stream",
     "text": [
      "['i', 'me', 'my', 'myself', 'we', 'our', 'ours', 'ourselves', 'you', \"you're\", \"you've\", \"you'll\", \"you'd\", 'your', 'yours', 'yourself', 'yourselves', 'he', 'him', 'his', 'himself', 'she', \"she's\", 'her', 'hers', 'herself', 'it', \"it's\", 'its', 'itself', 'they', 'them', 'their', 'theirs', 'themselves', 'what', 'which', 'who', 'whom', 'this', 'that', \"that'll\", 'these', 'those', 'am', 'is', 'are', 'was', 'were', 'be', 'been', 'being', 'have', 'has', 'had', 'having', 'do', 'does', 'did', 'doing', 'a', 'an', 'the', 'and', 'but', 'if', 'or', 'because', 'as', 'until', 'while', 'of', 'at', 'by', 'for', 'with', 'about', 'against', 'between', 'into', 'through', 'during', 'before', 'after', 'above', 'below', 'to', 'from', 'up', 'down', 'in', 'out', 'on', 'off', 'over', 'under', 'again', 'further', 'then', 'once', 'here', 'there', 'when', 'where', 'why', 'how', 'all', 'any', 'both', 'each', 'few', 'more', 'most', 'other', 'some', 'such', 'no', 'nor', 'not', 'only', 'own', 'same', 'so', 'than', 'too', 'very', 's', 't', 'can', 'will', 'just', 'don', \"don't\", 'should', \"should've\", 'now', 'd', 'll', 'm', 'o', 're', 've', 'y', 'ain', 'aren', \"aren't\", 'couldn', \"couldn't\", 'didn', \"didn't\", 'doesn', \"doesn't\", 'hadn', \"hadn't\", 'hasn', \"hasn't\", 'haven', \"haven't\", 'isn', \"isn't\", 'ma', 'mightn', \"mightn't\", 'mustn', \"mustn't\", 'needn', \"needn't\", 'shan', \"shan't\", 'shouldn', \"shouldn't\", 'wasn', \"wasn't\", 'weren', \"weren't\", 'won', \"won't\", 'wouldn', \"wouldn't\"]\n"
     ]
    }
   ],
   "source": [
    "print(stopwords.words('english'))"
   ]
  },
  {
   "cell_type": "code",
   "execution_count": 8,
   "id": "9165c105",
   "metadata": {},
   "outputs": [],
   "source": [
    "port_stem = PorterStemmer()\n",
    "def stemming(content):\n",
    "    review = re.sub(r'[^a-z]', ' ', content, flags=re.I).split()\n",
    "    return ' '.join(port_stem.stem(word) for word in review if word not in stopwords.words('english'))"
   ]
  },
  {
   "cell_type": "code",
   "execution_count": 9,
   "id": "ccdbc71d",
   "metadata": {},
   "outputs": [],
   "source": [
    "train_df['Text'] = train_df['Text'].apply(stemming)"
   ]
  },
  {
   "cell_type": "code",
   "execution_count": 10,
   "id": "41d5e5f7",
   "metadata": {},
   "outputs": [
    {
     "data": {
      "text/plain": [
       "0       worldcom ex boss launch defenc lawyer defend f...\n",
       "1       german busi confid slide german busi confid fe...\n",
       "2       bbc poll indic econom gloom citizen major nati...\n",
       "3       lifestyl govern mobil choic faster better funk...\n",
       "4       enron boss payout eighteen former enron direct...\n",
       "                              ...                        \n",
       "1485    doubl evict big brother model capric holbi cit...\n",
       "1486    dj doubl act revamp chart show dj duo jk joel ...\n",
       "1487    weak dollar hit reuter revenu media group reut...\n",
       "1488    appl ipod famili expand market appl expand ipo...\n",
       "1489    santi worm make unwelcom visit thousand websit...\n",
       "Name: Text, Length: 1490, dtype: object"
      ]
     },
     "execution_count": 10,
     "metadata": {},
     "output_type": "execute_result"
    }
   ],
   "source": [
    "train_df['Text']"
   ]
  },
  {
   "cell_type": "code",
   "execution_count": 11,
   "id": "0f1c2eb7",
   "metadata": {},
   "outputs": [],
   "source": [
    "X_train = train_df['Text']\n",
    "y_train = train_df['Category'] "
   ]
  },
  {
   "cell_type": "code",
   "execution_count": 12,
   "id": "f08db3ee",
   "metadata": {},
   "outputs": [],
   "source": [
    "from sklearn.preprocessing import LabelEncoder\n",
    "\n",
    "le = LabelEncoder()\n",
    "y_train = le.fit_transform(y_train)"
   ]
  },
  {
   "cell_type": "code",
   "execution_count": 13,
   "id": "8220ccbc",
   "metadata": {},
   "outputs": [
    {
     "data": {
      "text/plain": [
       "array([0, 0, 0, ..., 0, 4, 4])"
      ]
     },
     "execution_count": 13,
     "metadata": {},
     "output_type": "execute_result"
    }
   ],
   "source": [
    "y_train"
   ]
  },
  {
   "cell_type": "code",
   "execution_count": 14,
   "id": "ae4af348",
   "metadata": {},
   "outputs": [],
   "source": [
    "from sklearn.feature_extraction.text import TfidfVectorizer\n",
    "\n",
    "vectorizer = TfidfVectorizer()\n",
    "X_train = vectorizer.fit_transform(X_train)"
   ]
  },
  {
   "cell_type": "code",
   "execution_count": 15,
   "id": "87789632",
   "metadata": {},
   "outputs": [
    {
     "name": "stdout",
     "output_type": "stream",
     "text": [
      "  (0, 15107)\t0.03697623741705603\n",
      "  (0, 3525)\t0.030432635628283116\n",
      "  (0, 2854)\t0.03641750094875029\n",
      "  (0, 15180)\t0.06455322016132493\n",
      "  (0, 2038)\t0.06611751284175665\n",
      "  (0, 259)\t0.03452213347614023\n",
      "  (0, 15489)\t0.02370469329763093\n",
      "  (0, 7996)\t0.019317667186145658\n",
      "  (0, 8883)\t0.11993311690263511\n",
      "  (0, 7818)\t0.034983477267053205\n",
      "  (0, 11149)\t0.03641750094875029\n",
      "  (0, 1101)\t0.04686588897877218\n",
      "  (0, 4487)\t0.03921675168989014\n",
      "  (0, 3060)\t0.04978523361437186\n",
      "  (0, 15888)\t0.014385655149312605\n",
      "  (0, 12580)\t0.048818043480629916\n",
      "  (0, 7355)\t0.04613199223774085\n",
      "  (0, 4878)\t0.05629628238448262\n",
      "  (0, 3147)\t0.01953846519092076\n",
      "  (0, 2846)\t0.040901138264781686\n",
      "  (0, 888)\t0.056164238403013315\n",
      "  (0, 14775)\t0.06796767838820315\n",
      "  (0, 622)\t0.04062309852585978\n",
      "  (0, 8995)\t0.05085441270352502\n",
      "  (0, 6695)\t0.027191896034190928\n",
      "  :\t:\n",
      "  (1489, 13561)\t0.03641921708266678\n",
      "  (1489, 12799)\t0.024844224156539065\n",
      "  (1489, 6416)\t0.02605069054730865\n",
      "  (1489, 1394)\t0.03122416035395891\n",
      "  (1489, 118)\t0.035102432083059854\n",
      "  (1489, 15601)\t0.03533681460787479\n",
      "  (1489, 12528)\t0.03922935649330855\n",
      "  (1489, 14308)\t0.018850066220922362\n",
      "  (1489, 11108)\t0.20562758299423792\n",
      "  (1489, 2926)\t0.04852791906652396\n",
      "  (1489, 10541)\t0.02091868032633356\n",
      "  (1489, 5531)\t0.03228305407311912\n",
      "  (1489, 11438)\t0.034873277859726354\n",
      "  (1489, 8578)\t0.020187908266810353\n",
      "  (1489, 6945)\t0.03494909607638277\n",
      "  (1489, 6532)\t0.11513807980609433\n",
      "  (1489, 11083)\t0.029081090038806153\n",
      "  (1489, 15060)\t0.11370679659855101\n",
      "  (1489, 11087)\t0.05564884305734578\n",
      "  (1489, 12225)\t0.023907760209808313\n",
      "  (1489, 9695)\t0.03701309859352765\n",
      "  (1489, 12151)\t0.0554293071267466\n",
      "  (1489, 4689)\t0.039581619176913205\n",
      "  (1489, 5159)\t0.05268568521227912\n",
      "  (1489, 5162)\t0.041225124863178524\n"
     ]
    }
   ],
   "source": [
    "print(X_train)"
   ]
  },
  {
   "cell_type": "code",
   "execution_count": 16,
   "id": "e3405fb3",
   "metadata": {},
   "outputs": [
    {
     "data": {
      "text/plain": [
       "LogisticRegression()"
      ]
     },
     "execution_count": 16,
     "metadata": {},
     "output_type": "execute_result"
    }
   ],
   "source": [
    "from sklearn.linear_model import LogisticRegression\n",
    "\n",
    "model = LogisticRegression()\n",
    "model.fit(X_train, y_train)"
   ]
  },
  {
   "cell_type": "code",
   "execution_count": 17,
   "id": "b5afc54c",
   "metadata": {},
   "outputs": [],
   "source": [
    "test_df['Text'] = test_df['Text'].apply(stemming)"
   ]
  },
  {
   "cell_type": "code",
   "execution_count": 18,
   "id": "65b3a708",
   "metadata": {},
   "outputs": [
    {
     "data": {
      "text/plain": [
       "0      qpr keeper day head preston queen park ranger ...\n",
       "1      softwar watch work softwar monitor everi keyst...\n",
       "2      arci injuri add ireland woe gordon arci rule i...\n",
       "3      india relianc famili feud heat ongo public spa...\n",
       "4      boro suffer morrison injuri blow middlesbrough...\n",
       "                             ...                        \n",
       "730    eu probe alitalia state aid european commiss o...\n",
       "731    u play grammi award show irish rock band u pla...\n",
       "732    sport bet rule spotlight group mp peer call ti...\n",
       "733    alfa romeo get gm engin fiat stop make six cyl...\n",
       "734    citizenship event tout citizenship ceremoni co...\n",
       "Name: Text, Length: 735, dtype: object"
      ]
     },
     "execution_count": 18,
     "metadata": {},
     "output_type": "execute_result"
    }
   ],
   "source": [
    "test_df['Text'] "
   ]
  },
  {
   "cell_type": "code",
   "execution_count": 19,
   "id": "3af135d7",
   "metadata": {},
   "outputs": [],
   "source": [
    "X_test = test_df['Text']\n",
    "X_test = vectorizer.transform(X_test)"
   ]
  },
  {
   "cell_type": "code",
   "execution_count": 20,
   "id": "9bc8288c",
   "metadata": {},
   "outputs": [
    {
     "name": "stdout",
     "output_type": "stream",
     "text": [
      "  (0, 15883)\t0.10549159739907664\n",
      "  (0, 14367)\t0.09966621261885593\n",
      "  (0, 13747)\t0.0744754267042108\n",
      "  (0, 13271)\t0.10141936890990971\n",
      "  (0, 12885)\t0.17800337504577274\n",
      "  (0, 12857)\t0.12554744523618794\n",
      "  (0, 12616)\t0.04486999031421658\n",
      "  (0, 12510)\t0.049415784978612314\n",
      "  (0, 12344)\t0.03920435856588304\n",
      "  (0, 12319)\t0.07077381406772251\n",
      "  (0, 12225)\t0.022423941780162417\n",
      "  (0, 12113)\t0.27783968178129415\n",
      "  (0, 11972)\t0.08118779491681792\n",
      "  (0, 11951)\t0.07425002728808766\n",
      "  (0, 11521)\t0.0525622962053647\n",
      "  (0, 11516)\t0.1931523607990937\n",
      "  (0, 11412)\t0.22132285628521478\n",
      "  (0, 11283)\t0.0988460279722021\n",
      "  (0, 11258)\t0.27783968178129415\n",
      "  (0, 11026)\t0.24518239831091965\n",
      "  (0, 10569)\t0.10549159739907664\n",
      "  (0, 10369)\t0.08548809033272044\n",
      "  (0, 10130)\t0.071151697359118\n",
      "  (0, 9629)\t0.046927561920405855\n",
      "  (0, 9326)\t0.13287973833758918\n",
      "  :\t:\n",
      "  (734, 2089)\t0.025202575892139104\n",
      "  (734, 1843)\t0.05983147425195198\n",
      "  (734, 1841)\t0.09387057671867739\n",
      "  (734, 1682)\t0.03644275058148937\n",
      "  (734, 1488)\t0.1661538742823068\n",
      "  (734, 1466)\t0.057281585596074706\n",
      "  (734, 1311)\t0.11170817915859631\n",
      "  (734, 1302)\t0.10406713525357658\n",
      "  (734, 1163)\t0.028707929676246437\n",
      "  (734, 1091)\t0.07595366385740271\n",
      "  (734, 999)\t0.05349600397677934\n",
      "  (734, 958)\t0.03129019223955913\n",
      "  (734, 941)\t0.03993311494890082\n",
      "  (734, 906)\t0.042363356055417266\n",
      "  (734, 801)\t0.08690533734251053\n",
      "  (734, 665)\t0.0818488011662391\n",
      "  (734, 409)\t0.0317099286563481\n",
      "  (734, 407)\t0.02763069388383768\n",
      "  (734, 403)\t0.04489493220358469\n",
      "  (734, 279)\t0.03364449997612324\n",
      "  (734, 235)\t0.03692945466539138\n",
      "  (734, 211)\t0.03928089218040378\n",
      "  (734, 130)\t0.044758212480352756\n",
      "  (734, 95)\t0.03702971133777107\n",
      "  (734, 72)\t0.036161733267852575\n"
     ]
    }
   ],
   "source": [
    "print(X_test)"
   ]
  },
  {
   "cell_type": "code",
   "execution_count": 21,
   "id": "f0452f5e",
   "metadata": {},
   "outputs": [],
   "source": [
    "y_pred = model.predict(X_test)"
   ]
  },
  {
   "cell_type": "code",
   "execution_count": 22,
   "id": "3e236ec4",
   "metadata": {},
   "outputs": [],
   "source": [
    "sub_df = get_data('BBC News Sample Solution')\n",
    "y_test = sub_df['Category']"
   ]
  },
  {
   "cell_type": "code",
   "execution_count": 23,
   "id": "b215dbf3",
   "metadata": {},
   "outputs": [],
   "source": [
    "y_test = le.transform(y_test)"
   ]
  },
  {
   "cell_type": "code",
   "execution_count": 24,
   "id": "14f35412",
   "metadata": {},
   "outputs": [
    {
     "data": {
      "text/plain": [
       "array([3, 4, 0, 1, 2, 3, 4, 0, 1, 2, 3, 4, 0, 1, 2, 3, 4, 0, 1, 2, 3, 4,\n",
       "       0, 1, 2, 3, 4, 0, 1, 2, 3, 4, 0, 1, 2, 3, 4, 0, 1, 2, 3, 4, 0, 1,\n",
       "       2, 3, 4, 0, 1, 2, 3, 4, 0, 1, 2, 3, 4, 0, 1, 2, 3, 4, 0, 1, 2, 3,\n",
       "       4, 0, 1, 2, 3, 4, 0, 1, 2, 3, 4, 0, 1, 2, 3, 4, 0, 1, 2, 3, 4, 0,\n",
       "       1, 2, 3, 4, 0, 1, 2, 3, 4, 0, 1, 2, 3, 4, 0, 1, 2, 3, 4, 0, 1, 2,\n",
       "       3, 4, 0, 1, 2, 3, 4, 0, 1, 2, 3, 4, 0, 1, 2, 3, 4, 0, 1, 2, 3, 4,\n",
       "       0, 1, 2, 3, 4, 0, 1, 2, 3, 4, 0, 1, 2, 3, 4, 0, 1, 2, 3, 4, 0, 1,\n",
       "       2, 3, 4, 0, 1, 2, 3, 4, 0, 1, 2, 3, 4, 0, 1, 2, 3, 4, 0, 1, 2, 3,\n",
       "       4, 0, 1, 2, 3, 4, 0, 1, 2, 3, 4, 0, 1, 2, 3, 4, 0, 1, 2, 3, 4, 0,\n",
       "       1, 2, 3, 4, 0, 1, 2, 3, 4, 0, 1, 2, 3, 4, 0, 1, 2, 3, 4, 0, 1, 2,\n",
       "       3, 4, 0, 1, 2, 3, 4, 0, 1, 2, 3, 4, 0, 1, 2, 3, 4, 0, 1, 2, 3, 4,\n",
       "       0, 1, 2, 3, 4, 0, 1, 2, 3, 4, 0, 1, 2, 3, 4, 0, 1, 2, 3, 4, 0, 1,\n",
       "       2, 3, 4, 0, 1, 2, 3, 4, 0, 1, 2, 3, 4, 0, 1, 2, 3, 4, 0, 1, 2, 3,\n",
       "       4, 0, 1, 2, 3, 4, 0, 1, 2, 3, 4, 0, 1, 2, 3, 4, 0, 1, 2, 3, 4, 0,\n",
       "       1, 2, 3, 4, 0, 1, 2, 3, 4, 0, 1, 2, 3, 4, 0, 1, 2, 3, 4, 0, 1, 2,\n",
       "       3, 4, 0, 1, 2, 3, 4, 0, 1, 2, 3, 4, 0, 1, 2, 3, 4, 0, 1, 2, 3, 4,\n",
       "       0, 1, 2, 3, 4, 0, 1, 2, 3, 4, 0, 1, 2, 3, 4, 0, 1, 2, 3, 4, 0, 1,\n",
       "       2, 3, 4, 0, 1, 2, 3, 4, 0, 1, 2, 3, 4, 0, 1, 2, 3, 4, 0, 1, 2, 3,\n",
       "       4, 0, 1, 2, 3, 4, 0, 1, 2, 3, 4, 0, 1, 2, 3, 4, 0, 1, 2, 3, 4, 0,\n",
       "       1, 2, 3, 4, 0, 1, 2, 3, 4, 0, 1, 2, 3, 4, 0, 1, 2, 3, 4, 0, 1, 2,\n",
       "       3, 4, 0, 1, 2, 3, 4, 0, 1, 2, 3, 4, 0, 1, 2, 3, 4, 0, 1, 2, 3, 4,\n",
       "       0, 1, 2, 3, 4, 0, 1, 2, 3, 4, 0, 1, 2, 3, 4, 0, 1, 2, 3, 4, 0, 1,\n",
       "       2, 3, 4, 0, 1, 2, 3, 4, 0, 1, 2, 3, 4, 0, 1, 2, 3, 4, 0, 1, 2, 3,\n",
       "       4, 0, 1, 2, 3, 4, 0, 1, 2, 3, 4, 0, 1, 2, 3, 4, 0, 1, 2, 3, 4, 0,\n",
       "       1, 2, 3, 4, 0, 1, 2, 3, 4, 0, 1, 2, 3, 4, 0, 1, 2, 3, 4, 0, 1, 2,\n",
       "       3, 4, 0, 1, 2, 3, 4, 0, 1, 2, 3, 4, 0, 1, 2, 3, 4, 0, 1, 2, 3, 4,\n",
       "       0, 1, 2, 3, 4, 0, 1, 2, 3, 4, 0, 1, 2, 3, 4, 0, 1, 2, 3, 4, 0, 1,\n",
       "       2, 3, 4, 0, 1, 2, 3, 4, 0, 1, 2, 3, 4, 0, 1, 2, 3, 4, 0, 1, 2, 3,\n",
       "       4, 0, 1, 2, 3, 4, 0, 1, 2, 3, 4, 0, 1, 2, 3, 4, 0, 1, 2, 3, 4, 0,\n",
       "       1, 2, 3, 4, 0, 1, 2, 3, 4, 0, 1, 2, 3, 4, 0, 1, 2, 3, 4, 0, 1, 2,\n",
       "       3, 4, 0, 1, 2, 3, 4, 0, 1, 2, 3, 4, 0, 1, 2, 3, 4, 0, 1, 2, 3, 4,\n",
       "       0, 1, 2, 3, 4, 0, 1, 2, 3, 4, 0, 1, 2, 3, 4, 0, 1, 2, 3, 4, 0, 1,\n",
       "       2, 3, 4, 0, 1, 2, 3, 4, 0, 1, 2, 3, 4, 0, 1, 2, 3, 4, 0, 1, 2, 3,\n",
       "       4, 0, 1, 2, 3, 4, 0, 1, 2])"
      ]
     },
     "execution_count": 24,
     "metadata": {},
     "output_type": "execute_result"
    }
   ],
   "source": [
    "y_test"
   ]
  },
  {
   "cell_type": "code",
   "execution_count": 25,
   "id": "713a0336",
   "metadata": {},
   "outputs": [
    {
     "data": {
      "text/plain": [
       "array([3, 4, 3, 0, 3, 3, 2, 2, 1, 0, 0, 4, 2, 4, 1, 3, 2, 4, 1, 1, 0, 2,\n",
       "       3, 0, 2, 3, 0, 3, 3, 0, 2, 4, 0, 0, 3, 3, 3, 0, 1, 1, 4, 2, 1, 4,\n",
       "       3, 4, 1, 0, 2, 0, 2, 0, 0, 0, 4, 2, 4, 1, 3, 4, 3, 1, 4, 2, 1, 1,\n",
       "       3, 4, 3, 3, 4, 3, 0, 2, 4, 3, 4, 4, 4, 1, 2, 3, 1, 1, 0, 1, 0, 1,\n",
       "       0, 4, 0, 2, 3, 4, 3, 3, 3, 3, 3, 3, 2, 3, 0, 1, 0, 3, 2, 3, 2, 1,\n",
       "       3, 0, 1, 3, 2, 3, 2, 3, 2, 0, 1, 0, 1, 1, 4, 3, 0, 1, 0, 1, 0, 2,\n",
       "       2, 4, 0, 0, 2, 4, 1, 3, 0, 4, 3, 1, 2, 3, 3, 1, 1, 4, 0, 4, 2, 1,\n",
       "       3, 3, 3, 3, 1, 4, 0, 4, 0, 4, 0, 4, 1, 4, 4, 2, 0, 2, 0, 0, 1, 2,\n",
       "       4, 0, 0, 4, 3, 2, 3, 2, 4, 4, 2, 0, 2, 1, 2, 0, 1, 3, 4, 4, 0, 4,\n",
       "       2, 0, 3, 2, 0, 1, 0, 0, 3, 4, 0, 3, 1, 1, 3, 1, 3, 4, 2, 1, 3, 1,\n",
       "       3, 1, 2, 0, 4, 1, 0, 2, 0, 4, 0, 3, 2, 2, 0, 2, 3, 0, 1, 2, 3, 2,\n",
       "       0, 3, 4, 0, 2, 0, 2, 0, 0, 3, 4, 2, 1, 4, 1, 4, 3, 3, 4, 3, 3, 3,\n",
       "       1, 3, 2, 4, 0, 3, 0, 3, 0, 3, 1, 0, 0, 1, 2, 0, 3, 3, 4, 3, 3, 1,\n",
       "       0, 3, 4, 2, 1, 0, 0, 2, 3, 1, 2, 0, 3, 3, 4, 1, 3, 0, 4, 0, 3, 2,\n",
       "       2, 1, 2, 1, 2, 0, 2, 4, 0, 3, 4, 1, 2, 3, 2, 2, 4, 2, 3, 4, 2, 4,\n",
       "       4, 1, 1, 4, 2, 0, 2, 3, 4, 1, 1, 0, 3, 4, 4, 1, 4, 0, 3, 1, 4, 0,\n",
       "       2, 4, 4, 2, 2, 3, 0, 4, 3, 2, 2, 0, 4, 3, 2, 0, 2, 2, 4, 1, 0, 0,\n",
       "       3, 3, 3, 4, 3, 2, 4, 4, 2, 0, 3, 3, 1, 1, 3, 4, 4, 3, 4, 1, 2, 4,\n",
       "       3, 0, 2, 1, 0, 4, 3, 2, 0, 0, 2, 4, 3, 1, 0, 4, 0, 4, 3, 3, 2, 0,\n",
       "       4, 3, 2, 0, 4, 4, 2, 4, 0, 2, 0, 1, 0, 1, 2, 1, 3, 0, 2, 0, 3, 1,\n",
       "       0, 1, 1, 3, 4, 1, 1, 0, 2, 1, 2, 2, 3, 0, 3, 2, 1, 1, 0, 0, 3, 2,\n",
       "       4, 0, 2, 0, 3, 3, 2, 3, 4, 0, 2, 3, 2, 4, 0, 2, 4, 2, 2, 1, 4, 3,\n",
       "       3, 2, 0, 4, 2, 3, 3, 1, 0, 1, 1, 0, 2, 3, 0, 4, 4, 0, 2, 3, 0, 3,\n",
       "       0, 2, 0, 3, 2, 4, 3, 2, 0, 4, 2, 3, 2, 1, 3, 2, 0, 0, 0, 4, 2, 2,\n",
       "       3, 0, 4, 4, 4, 3, 4, 2, 0, 0, 3, 1, 2, 0, 4, 4, 3, 4, 0, 3, 0, 0,\n",
       "       0, 2, 2, 1, 1, 1, 2, 4, 4, 2, 1, 0, 3, 3, 2, 1, 2, 3, 0, 0, 0, 1,\n",
       "       4, 3, 0, 2, 2, 4, 2, 3, 2, 0, 4, 0, 3, 3, 4, 3, 1, 4, 1, 4, 3, 2,\n",
       "       0, 4, 4, 1, 1, 2, 0, 0, 4, 0, 0, 0, 3, 1, 0, 3, 0, 3, 4, 0, 2, 3,\n",
       "       0, 3, 3, 1, 2, 4, 3, 0, 3, 0, 3, 3, 2, 4, 0, 4, 0, 3, 4, 0, 1, 0,\n",
       "       1, 3, 4, 0, 0, 0, 2, 3, 1, 4, 0, 3, 1, 0, 1, 0, 2, 3, 3, 0, 4, 3,\n",
       "       0, 0, 0, 1, 0, 1, 4, 3, 2, 4, 2, 4, 3, 4, 1, 0, 0, 1, 2, 3, 3, 3,\n",
       "       1, 4, 2, 1, 3, 3, 2, 4, 2, 1, 3, 1, 3, 1, 4, 3, 3, 0, 4, 1, 0, 4,\n",
       "       0, 0, 3, 1, 2, 1, 0, 2, 0, 2, 3, 4, 4, 2, 1, 0, 4, 1, 1, 2, 0, 0,\n",
       "       2, 2, 4, 3, 0, 1, 0, 0, 2])"
      ]
     },
     "execution_count": 25,
     "metadata": {},
     "output_type": "execute_result"
    }
   ],
   "source": [
    "y_pred"
   ]
  },
  {
   "cell_type": "code",
   "execution_count": 26,
   "id": "56553bc2",
   "metadata": {},
   "outputs": [
    {
     "name": "stdout",
     "output_type": "stream",
     "text": [
      "              precision    recall  f1-score   support\n",
      "\n",
      "           0       0.21      0.24      0.23       147\n",
      "           1       0.20      0.16      0.18       147\n",
      "           2       0.16      0.16      0.16       147\n",
      "           3       0.20      0.23      0.22       147\n",
      "           4       0.18      0.16      0.17       147\n",
      "\n",
      "    accuracy                           0.19       735\n",
      "   macro avg       0.19      0.19      0.19       735\n",
      "weighted avg       0.19      0.19      0.19       735\n",
      "\n"
     ]
    }
   ],
   "source": [
    "from sklearn.metrics import classification_report\n",
    "print(classification_report(y_test, y_pred))"
   ]
  },
  {
   "cell_type": "code",
   "execution_count": 33,
   "id": "22d81290",
   "metadata": {},
   "outputs": [
    {
     "data": {
      "text/plain": [
       "PassiveAggressiveClassifier(max_iter=100)"
      ]
     },
     "execution_count": 33,
     "metadata": {},
     "output_type": "execute_result"
    }
   ],
   "source": [
    "from sklearn.linear_model import PassiveAggressiveClassifier\n",
    "\n",
    "PAC = PassiveAggressiveClassifier(max_iter=100)\n",
    "PAC.fit(X_train, y_train)"
   ]
  },
  {
   "cell_type": "code",
   "execution_count": 34,
   "id": "125887c4",
   "metadata": {},
   "outputs": [
    {
     "name": "stdout",
     "output_type": "stream",
     "text": [
      "              precision    recall  f1-score   support\n",
      "\n",
      "           0       0.21      0.24      0.22       147\n",
      "           1       0.21      0.16      0.18       147\n",
      "           2       0.17      0.16      0.17       147\n",
      "           3       0.20      0.23      0.22       147\n",
      "           4       0.17      0.16      0.16       147\n",
      "\n",
      "    accuracy                           0.19       735\n",
      "   macro avg       0.19      0.19      0.19       735\n",
      "weighted avg       0.19      0.19      0.19       735\n",
      "\n"
     ]
    }
   ],
   "source": [
    "y_pred_pac = PAC.predict(X_test)\n",
    "\n",
    "print(classification_report(y_test, y_pred_pac))"
   ]
  },
  {
   "cell_type": "code",
   "execution_count": 42,
   "id": "25b7c2c1",
   "metadata": {},
   "outputs": [],
   "source": [
    "get_id = test_df['ArticleId']\n",
    "final_df = pd.concat([get_id, pd.Series(le.inverse_transform(y_pred_pac), name='Category')], axis='columns').set_index('ArticleId')\n",
    "final_df.to_csv('./dataset/my_submission.csv')"
   ]
  }
 ],
 "metadata": {
  "kernelspec": {
   "display_name": "Python 3",
   "language": "python",
   "name": "python3"
  },
  "language_info": {
   "codemirror_mode": {
    "name": "ipython",
    "version": 3
   },
   "file_extension": ".py",
   "mimetype": "text/x-python",
   "name": "python",
   "nbconvert_exporter": "python",
   "pygments_lexer": "ipython3",
   "version": "3.8.8"
  }
 },
 "nbformat": 4,
 "nbformat_minor": 5
}
