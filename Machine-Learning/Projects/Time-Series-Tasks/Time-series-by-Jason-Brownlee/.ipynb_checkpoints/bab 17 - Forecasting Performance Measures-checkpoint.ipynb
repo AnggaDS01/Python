{
 "cells": [
  {
   "cell_type": "code",
   "execution_count": 1,
   "id": "a95e0eb7",
   "metadata": {},
   "outputs": [],
   "source": [
    "import pandas as pd\n",
    "import numpy as np\n",
    "import matplotlib.pyplot as plt"
   ]
  },
  {
   "cell_type": "markdown",
   "id": "a71e7551",
   "metadata": {},
   "source": [
    "## Forecast Error (or Residual Forecast Error)\n",
    "\n",
    "The forecast error is calculated as the expected value minus the predicted value. This is called\n",
    "the residual error of the prediction.\n",
    "\n",
    "$forcast\\>error = expected\\>value - predicted\\>value$"
   ]
  },
  {
   "cell_type": "code",
   "execution_count": 2,
   "id": "bc85ed45",
   "metadata": {},
   "outputs": [
    {
     "name": "stdout",
     "output_type": "stream",
     "text": [
      "Forecast Errors: [-0.2, 0.09999999999999998, -0.1, -0.09999999999999998, -0.2]\n"
     ]
    }
   ],
   "source": [
    "# calculate forecast error\n",
    "expected = [0.0, 0.5, 0.0, 0.5, 0.0]\n",
    "predictions = [0.2, 0.4, 0.1, 0.6, 0.2]\n",
    "forecast_errors = [expected[i]-predictions[i] for i in range(len(expected))]\n",
    "print('Forecast Errors: %s' % forecast_errors)"
   ]
  },
  {
   "cell_type": "markdown",
   "id": "cc852587",
   "metadata": {},
   "source": [
    "## Mean Forecast Error (or Forecast Bias)\n",
    "Mean forecast error is calculated as the average of the forecast error values.\n",
    "\n",
    "$mean\\>forecast\\>error = mean(forecast\\>error)$"
   ]
  },
  {
   "cell_type": "code",
   "execution_count": 3,
   "id": "09f004ca",
   "metadata": {},
   "outputs": [
    {
     "name": "stdout",
     "output_type": "stream",
     "text": [
      "Mean Forecast Errors: -0.1\n"
     ]
    }
   ],
   "source": [
    "expected = [0.0, 0.5, 0.0, 0.5, 0.0]\n",
    "predictions = [0.2, 0.4, 0.1, 0.6, 0.2]\n",
    "forecast_errors = [expected[i]-predictions[i] for i in range(len(expected))]\n",
    "mean_forecast_error = np.mean(forecast_errors)\n",
    "print('Mean Forecast Errors: %s' % mean_forecast_error)"
   ]
  },
  {
   "cell_type": "markdown",
   "id": "7b8a0fe4",
   "metadata": {},
   "source": [
    "## Mean Absolute Error\n",
    "\n",
    "The mean absolute error, or MAE, is calculated as the average of the forecast error values, where\n",
    "all of the forecast values are forced to be positive. Forcing values to be positive is called making\n",
    "them absolute.\n",
    "\n",
    "$mean\\>absolute\\>error = mean(abs(forecast\\>error))$ "
   ]
  },
  {
   "cell_type": "code",
   "execution_count": 9,
   "id": "733d807a",
   "metadata": {},
   "outputs": [
    {
     "name": "stdout",
     "output_type": "stream",
     "text": [
      "MAE: 0.140000\n"
     ]
    }
   ],
   "source": [
    "from sklearn.metrics import mean_absolute_error\n",
    "\n",
    "expected = [0.0, 0.5, 0.0, 0.5, 0.0]\n",
    "predictions = [0.2, 0.4, 0.1, 0.6, 0.2]\n",
    "forcast_error = [expected[i] - predictions[i] for i in range(len(expected))]\n",
    "# MAE = mean_absolute_error(expected, predictions)\n",
    "MAE = np.mean(np.abs(forcast_error))\n",
    "print('MAE: %f' % MAE)"
   ]
  },
  {
   "cell_type": "markdown",
   "id": "5e5d8006",
   "metadata": {},
   "source": [
    "## Mean Squared Error\n",
    "\n",
    "The mean squared error, or MSE, is calculated as the average of the squared forecast error\n",
    "values. Squaring the forecast error values forces them to be positive; it also has the effect of\n",
    "putting more weight on large errors.\n",
    "\n",
    "$mean\\>squared\\>error = mean(forecast\\>error^2)$"
   ]
  },
  {
   "cell_type": "code",
   "execution_count": 25,
   "id": "5e6317da",
   "metadata": {},
   "outputs": [
    {
     "name": "stdout",
     "output_type": "stream",
     "text": [
      "MSE: 0.022000\n"
     ]
    }
   ],
   "source": [
    "from sklearn.metrics import mean_squared_error\n",
    "\n",
    "expected = [0.0, 0.5, 0.0, 0.5, 0.0]\n",
    "predictions = [0.2, 0.4, 0.1, 0.6, 0.2]\n",
    "forecast_error = [(expected[i] - predictions[i])**2 for i in range(len(expected))]\n",
    "MSE = np.mean(forecast_error)\n",
    "# MSE = mean_squared_error(expected, predictions)\n",
    "\n",
    "print('MSE: %f' % MSE)"
   ]
  },
  {
   "cell_type": "markdown",
   "id": "20a82bbc",
   "metadata": {},
   "source": [
    "## Root Mean Squared Error\n",
    "\n",
    "The mean squared error described above is in the squared units of the predictions. It can be\n",
    "transformed back into the original units of the predictions by taking the square root of the\n",
    "mean squared error score. This is called the root mean squared error, or RMSE.\n",
    "\n",
    "$rmse = \\sqrt{mean\\>squared\\>error}$"
   ]
  },
  {
   "cell_type": "code",
   "execution_count": 28,
   "id": "262b6c77",
   "metadata": {},
   "outputs": [
    {
     "name": "stdout",
     "output_type": "stream",
     "text": [
      "RMSE: 0.148324\n"
     ]
    }
   ],
   "source": [
    "expected = [0.0, 0.5, 0.0, 0.5, 0.0]\n",
    "predictions = [0.2, 0.4, 0.1, 0.6, 0.2]\n",
    "forecast_error = [(expected[i] - predictions[i])**2 for i in range(len(expected))]\n",
    "MSE = np.mean(forecast_error)\n",
    "RMSE = np.sqrt(MSE)\n",
    "# MSE = mean_squared_error(expected, predictions)\n",
    "\n",
    "print('RMSE: %f' % RMSE)"
   ]
  }
 ],
 "metadata": {
  "kernelspec": {
   "display_name": "Python 3",
   "language": "python",
   "name": "python3"
  },
  "language_info": {
   "codemirror_mode": {
    "name": "ipython",
    "version": 3
   },
   "file_extension": ".py",
   "mimetype": "text/x-python",
   "name": "python",
   "nbconvert_exporter": "python",
   "pygments_lexer": "ipython3",
   "version": "3.8.8"
  }
 },
 "nbformat": 4,
 "nbformat_minor": 5
}
