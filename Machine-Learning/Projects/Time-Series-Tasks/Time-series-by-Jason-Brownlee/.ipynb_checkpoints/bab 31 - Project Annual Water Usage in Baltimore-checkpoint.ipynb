{
 "cells": [
  {
   "cell_type": "code",
   "execution_count": 1,
   "id": "8575a74c",
   "metadata": {},
   "outputs": [],
   "source": [
    "import pandas as pd\n",
    "import matplotlib.pyplot as plt\n",
    "import numpy as np\n",
    "import warnings\n",
    "warnings.filterwarnings('ignore')"
   ]
  },
  {
   "cell_type": "markdown",
   "id": "70d73a60",
   "metadata": {},
   "source": [
    "## Overview\n",
    "In this tutorial, we will work through a time series forecasting project from end-to-end, from\n",
    "downloading the dataset and defining the problem to training a final model and making\n",
    "predictions. This project is not exhaustive, but shows how you can get good results quickly by\n",
    "working through a time series forecasting problem systematically. The steps of this project that\n",
    "we will work through are as follows.\n",
    "1. Problem Description.\n",
    "2. Test Harness.\n",
    "3. Persistence.\n",
    "4. Data Analysis.\n",
    "5. ARIMA Models.\n",
    "6. Model Validation"
   ]
  },
  {
   "cell_type": "code",
   "execution_count": 2,
   "id": "677cb298",
   "metadata": {},
   "outputs": [
    {
     "data": {
      "text/html": [
       "<div>\n",
       "<style scoped>\n",
       "    .dataframe tbody tr th:only-of-type {\n",
       "        vertical-align: middle;\n",
       "    }\n",
       "\n",
       "    .dataframe tbody tr th {\n",
       "        vertical-align: top;\n",
       "    }\n",
       "\n",
       "    .dataframe thead th {\n",
       "        text-align: right;\n",
       "    }\n",
       "</style>\n",
       "<table border=\"1\" class=\"dataframe\">\n",
       "  <thead>\n",
       "    <tr style=\"text-align: right;\">\n",
       "      <th></th>\n",
       "      <th>Water</th>\n",
       "    </tr>\n",
       "    <tr>\n",
       "      <th>Year</th>\n",
       "      <th></th>\n",
       "    </tr>\n",
       "  </thead>\n",
       "  <tbody>\n",
       "    <tr>\n",
       "      <th>1885-01-01</th>\n",
       "      <td>356</td>\n",
       "    </tr>\n",
       "    <tr>\n",
       "      <th>1886-01-01</th>\n",
       "      <td>386</td>\n",
       "    </tr>\n",
       "    <tr>\n",
       "      <th>1887-01-01</th>\n",
       "      <td>397</td>\n",
       "    </tr>\n",
       "    <tr>\n",
       "      <th>1888-01-01</th>\n",
       "      <td>397</td>\n",
       "    </tr>\n",
       "    <tr>\n",
       "      <th>1889-01-01</th>\n",
       "      <td>413</td>\n",
       "    </tr>\n",
       "  </tbody>\n",
       "</table>\n",
       "</div>"
      ],
      "text/plain": [
       "            Water\n",
       "Year             \n",
       "1885-01-01    356\n",
       "1886-01-01    386\n",
       "1887-01-01    397\n",
       "1888-01-01    397\n",
       "1889-01-01    413"
      ]
     },
     "execution_count": 2,
     "metadata": {},
     "output_type": "execute_result"
    }
   ],
   "source": [
    "df = pd.read_csv('./project/Project Annual Water Usage in Baltimore/dataset/yearly-water-usage.csv', index_col='Year', parse_dates=['Year'])\n",
    "df.head()"
   ]
  },
  {
   "cell_type": "code",
   "execution_count": 3,
   "id": "330dca8c",
   "metadata": {},
   "outputs": [
    {
     "data": {
      "text/plain": [
       "(79, 1)"
      ]
     },
     "execution_count": 3,
     "metadata": {},
     "output_type": "execute_result"
    }
   ],
   "source": [
    "df.shape"
   ]
  },
  {
   "cell_type": "code",
   "execution_count": 4,
   "id": "7db867d9",
   "metadata": {},
   "outputs": [
    {
     "name": "stdout",
     "output_type": "stream",
     "text": [
      "<class 'pandas.core.frame.DataFrame'>\n",
      "DatetimeIndex: 79 entries, 1885-01-01 to 1963-01-01\n",
      "Data columns (total 1 columns):\n",
      " #   Column  Non-Null Count  Dtype\n",
      "---  ------  --------------  -----\n",
      " 0   Water   79 non-null     int64\n",
      "dtypes: int64(1)\n",
      "memory usage: 1.2 KB\n"
     ]
    }
   ],
   "source": [
    "df.info()"
   ]
  },
  {
   "cell_type": "code",
   "execution_count": 5,
   "id": "4d8efff7",
   "metadata": {},
   "outputs": [
    {
     "data": {
      "text/html": [
       "<div>\n",
       "<style scoped>\n",
       "    .dataframe tbody tr th:only-of-type {\n",
       "        vertical-align: middle;\n",
       "    }\n",
       "\n",
       "    .dataframe tbody tr th {\n",
       "        vertical-align: top;\n",
       "    }\n",
       "\n",
       "    .dataframe thead th {\n",
       "        text-align: right;\n",
       "    }\n",
       "</style>\n",
       "<table border=\"1\" class=\"dataframe\">\n",
       "  <thead>\n",
       "    <tr style=\"text-align: right;\">\n",
       "      <th></th>\n",
       "      <th>Water</th>\n",
       "    </tr>\n",
       "  </thead>\n",
       "  <tbody>\n",
       "    <tr>\n",
       "      <th>count</th>\n",
       "      <td>79.000000</td>\n",
       "    </tr>\n",
       "    <tr>\n",
       "      <th>mean</th>\n",
       "      <td>512.025316</td>\n",
       "    </tr>\n",
       "    <tr>\n",
       "      <th>std</th>\n",
       "      <td>75.685072</td>\n",
       "    </tr>\n",
       "    <tr>\n",
       "      <th>min</th>\n",
       "      <td>344.000000</td>\n",
       "    </tr>\n",
       "    <tr>\n",
       "      <th>25%</th>\n",
       "      <td>462.000000</td>\n",
       "    </tr>\n",
       "    <tr>\n",
       "      <th>50%</th>\n",
       "      <td>503.000000</td>\n",
       "    </tr>\n",
       "    <tr>\n",
       "      <th>75%</th>\n",
       "      <td>581.000000</td>\n",
       "    </tr>\n",
       "    <tr>\n",
       "      <th>max</th>\n",
       "      <td>662.000000</td>\n",
       "    </tr>\n",
       "  </tbody>\n",
       "</table>\n",
       "</div>"
      ],
      "text/plain": [
       "            Water\n",
       "count   79.000000\n",
       "mean   512.025316\n",
       "std     75.685072\n",
       "min    344.000000\n",
       "25%    462.000000\n",
       "50%    503.000000\n",
       "75%    581.000000\n",
       "max    662.000000"
      ]
     },
     "execution_count": 5,
     "metadata": {},
     "output_type": "execute_result"
    }
   ],
   "source": [
    "df.describe()"
   ]
  },
  {
   "cell_type": "markdown",
   "id": "a5f53b93",
   "metadata": {},
   "source": [
    "## Test Harness\n",
    "We must develop a test harness to investigate the data and evaluate candidate models. This\n",
    "involves two steps:\n",
    "1. Defining a Validation Dataset.\n",
    "2. Developing a Method for Model Evaluation.\n",
    "\n",
    "### Validation Dataset\n",
    "The dataset is not current. This means that we cannot easily collect updated data to validate\n",
    "the model. Therefore, we will pretend that it is 1953 and withhold the last 10 years of data\n",
    "from analysis and model selection. This final decade of data will be used to validate the final\n",
    "model. The code below will load the dataset as a Pandas Series and split into two, one for\n",
    "model development (dataset.csv) and the other for validation (validation.csv)."
   ]
  },
  {
   "cell_type": "code",
   "execution_count": 6,
   "id": "81930b4b",
   "metadata": {},
   "outputs": [
    {
     "name": "stdout",
     "output_type": "stream",
     "text": [
      "Dataset 69, Validation 10\n"
     ]
    }
   ],
   "source": [
    "split_point = len(df) - 10\n",
    "dataset, validation = df[:split_point], df[split_point:]\n",
    "print('Dataset %d, Validation %d' % (len(dataset), len(validation)))\n",
    "\n",
    "dataset.to_csv('./project/Project Annual Water Usage in Baltimore/dataset/dataset.csv')\n",
    "validation.to_csv('./project/Project Annual Water Usage in Baltimore/dataset/validation.csv')"
   ]
  },
  {
   "cell_type": "markdown",
   "id": "4fc56b17",
   "metadata": {},
   "source": [
    "## Persistence\n",
    "\n",
    "The first step before getting bogged down in data analysis and modeling is to establish a baseline\n",
    "of performance. This will provide both a template for evaluating models using the proposed\n",
    "test harness and a performance measure by which all more elaborate predictive models can be\n",
    "compared. The baseline prediction for time series forecasting is called the naive forecast, or\n",
    "persistence."
   ]
  },
  {
   "cell_type": "code",
   "execution_count": 7,
   "id": "33d314c6",
   "metadata": {},
   "outputs": [
    {
     "name": "stdout",
     "output_type": "stream",
     "text": [
      "Predicted=503.0, Expected=503.0\n",
      "Predicted=503.0, Expected=503.0\n",
      "Predicted=503.0, Expected=515.0\n",
      "Predicted=515.0, Expected=522.0\n",
      "Predicted=522.0, Expected=492.0\n",
      "Predicted=492.0, Expected=503.0\n",
      "Predicted=503.0, Expected=503.0\n",
      "Predicted=503.0, Expected=450.0\n",
      "Predicted=450.0, Expected=432.0\n",
      "Predicted=432.0, Expected=432.0\n",
      "Predicted=432.0, Expected=458.0\n",
      "Predicted=458.0, Expected=462.0\n",
      "Predicted=462.0, Expected=503.0\n",
      "Predicted=503.0, Expected=488.0\n",
      "Predicted=488.0, Expected=466.0\n",
      "Predicted=466.0, Expected=492.0\n",
      "Predicted=492.0, Expected=503.0\n",
      "Predicted=503.0, Expected=515.0\n",
      "Predicted=515.0, Expected=500.0\n",
      "Predicted=500.0, Expected=522.0\n",
      "Predicted=522.0, Expected=575.0\n",
      "Predicted=575.0, Expected=583.0\n",
      "Predicted=583.0, Expected=587.0\n",
      "Predicted=587.0, Expected=628.0\n",
      "Predicted=628.0, Expected=640.0\n",
      "Predicted=640.0, Expected=609.0\n",
      "Predicted=609.0, Expected=606.0\n",
      "Predicted=606.0, Expected=632.0\n",
      "Predicted=632.0, Expected=617.0\n",
      "Predicted=617.0, Expected=613.0\n",
      "Predicted=613.0, Expected=598.0\n",
      "Predicted=598.0, Expected=575.0\n",
      "Predicted=575.0, Expected=564.0\n",
      "Predicted=564.0, Expected=549.0\n",
      "Predicted=549.0, Expected=538.0\n",
      "RMSE test score: 21.974660873413086\n"
     ]
    }
   ],
   "source": [
    "from sklearn.metrics import mean_squared_error\n",
    "\n",
    "dataset = pd.read_csv('./project/Project Annual Water Usage in Baltimore/dataset/dataset.csv', index_col='Year', parse_dates=['Year'])\n",
    "X = dataset.values.astype('float32').flatten()\n",
    "train_size = int(len(X) * .5)\n",
    "train, test = X[:train_size], X[train_size:]\n",
    "\n",
    "# walk-forward validation\n",
    "history = [x for x in train]\n",
    "predictions = []\n",
    "\n",
    "for i in range(len(test)):\n",
    "    # predict\n",
    "    y_pred = history[-1]\n",
    "    predictions.append(y_pred)\n",
    "    # observation\n",
    "    obs = test[i]\n",
    "    history.append(obs)\n",
    "    print(f'Predicted={y_pred}, Expected={obs}')\n",
    "rmse = np.sqrt(mean_squared_error(test, predictions))\n",
    "print(f'RMSE test score: {rmse}')"
   ]
  },
  {
   "cell_type": "markdown",
   "id": "33c31397",
   "metadata": {},
   "source": [
    "We now have a baseline prediction method and performance; now we can start digging into\n",
    "our data."
   ]
  },
  {
   "cell_type": "markdown",
   "id": "237df2c6",
   "metadata": {},
   "source": [
    "## Data Analysis\n",
    "We can use summary statistics and plots of the data to quickly learn more about the structure\n",
    "of the prediction problem. In this section, we will look at the data from four perspectives:\n",
    "1. Summary Statistics.\n",
    "2. Line Plot.\n",
    "3. Density Plots.\n",
    "4. Box and Whisker Plot."
   ]
  },
  {
   "cell_type": "markdown",
   "id": "964e9076",
   "metadata": {},
   "source": [
    "### Summary Statistics\n",
    "\n",
    "Summary statistics provide a quick look at the limits of observed values. It can help to get a\n",
    "quick idea of what we are working with. The example below calculates and prints summary\n",
    "statistics for the time series."
   ]
  },
  {
   "cell_type": "code",
   "execution_count": 8,
   "id": "19ebc76f",
   "metadata": {},
   "outputs": [
    {
     "data": {
      "text/html": [
       "<div>\n",
       "<style scoped>\n",
       "    .dataframe tbody tr th:only-of-type {\n",
       "        vertical-align: middle;\n",
       "    }\n",
       "\n",
       "    .dataframe tbody tr th {\n",
       "        vertical-align: top;\n",
       "    }\n",
       "\n",
       "    .dataframe thead th {\n",
       "        text-align: right;\n",
       "    }\n",
       "</style>\n",
       "<table border=\"1\" class=\"dataframe\">\n",
       "  <thead>\n",
       "    <tr style=\"text-align: right;\">\n",
       "      <th></th>\n",
       "      <th>Water</th>\n",
       "    </tr>\n",
       "  </thead>\n",
       "  <tbody>\n",
       "    <tr>\n",
       "      <th>count</th>\n",
       "      <td>69.000000</td>\n",
       "    </tr>\n",
       "    <tr>\n",
       "      <th>mean</th>\n",
       "      <td>500.478261</td>\n",
       "    </tr>\n",
       "    <tr>\n",
       "      <th>std</th>\n",
       "      <td>73.901685</td>\n",
       "    </tr>\n",
       "    <tr>\n",
       "      <th>min</th>\n",
       "      <td>344.000000</td>\n",
       "    </tr>\n",
       "    <tr>\n",
       "      <th>25%</th>\n",
       "      <td>458.000000</td>\n",
       "    </tr>\n",
       "    <tr>\n",
       "      <th>50%</th>\n",
       "      <td>492.000000</td>\n",
       "    </tr>\n",
       "    <tr>\n",
       "      <th>75%</th>\n",
       "      <td>538.000000</td>\n",
       "    </tr>\n",
       "    <tr>\n",
       "      <th>max</th>\n",
       "      <td>662.000000</td>\n",
       "    </tr>\n",
       "  </tbody>\n",
       "</table>\n",
       "</div>"
      ],
      "text/plain": [
       "            Water\n",
       "count   69.000000\n",
       "mean   500.478261\n",
       "std     73.901685\n",
       "min    344.000000\n",
       "25%    458.000000\n",
       "50%    492.000000\n",
       "75%    538.000000\n",
       "max    662.000000"
      ]
     },
     "execution_count": 8,
     "metadata": {},
     "output_type": "execute_result"
    }
   ],
   "source": [
    "# summary statistics of time series\n",
    "dataset.describe()"
   ]
  },
  {
   "cell_type": "markdown",
   "id": "6fce7cef",
   "metadata": {},
   "source": [
    "Running the example provides a number of summary statistics to review. Some observations\n",
    "from these statistics include:\n",
    "* The number of observations (count) matches our expectation, meaning we are handling the data correctly.\n",
    "* The mean is about 500, which we might consider our level in this series.\n",
    "* The standard deviation and percentiles suggest a reasonably tight spread around the mean."
   ]
  },
  {
   "cell_type": "markdown",
   "id": "5371df60",
   "metadata": {},
   "source": [
    "### Line Plot\n",
    "A line plot of a time series dataset can provide a lot of insight into the problem. The example\n",
    "below creates and shows a line plot of the dataset."
   ]
  },
  {
   "cell_type": "code",
   "execution_count": 9,
   "id": "117da8be",
   "metadata": {},
   "outputs": [
    {
     "data": {
      "image/png": "[encoded data removed]",
      "text/plain": [
       "<Figure size 432x288 with 1 Axes>"
      ]
     },
     "metadata": {
      "needs_background": "light"
     },
     "output_type": "display_data"
    }
   ],
   "source": [
    "dataset.plot()\n",
    "plt.show()"
   ]
  },
  {
   "cell_type": "code",
   "execution_count": 10,
   "id": "c437f513",
   "metadata": {},
   "outputs": [
    {
     "data": {
      "image/png": "[encoded data removed]",
      "text/plain": [
       "<Figure size 432x288 with 4 Axes>"
      ]
     },
     "metadata": {
      "needs_background": "light"
     },
     "output_type": "display_data"
    }
   ],
   "source": [
    "from statsmodels.tsa.seasonal import seasonal_decompose\n",
    "\n",
    "result = seasonal_decompose(dataset, model='multiplicative')\n",
    "_ = result.plot()"
   ]
  },
  {
   "cell_type": "markdown",
   "id": "05ccade2",
   "metadata": {},
   "source": [
    "Run the example and review the plot. Note any obvious temporal structures in the series.\n",
    "Some observations from the plot include:\n",
    "* There looks to be an increasing trend in water usage over time.\n",
    "* There do not appear to be any obvious outliers, although there are some large fluctuations.\n",
    "* There is a downward trend for the last few years of the series."
   ]
  },
  {
   "cell_type": "markdown",
   "id": "ee173553",
   "metadata": {},
   "source": [
    "### Density Plot\n",
    "Reviewing plots of the density of observations can provide further insight into the structure of\n",
    "the data. The example below creates a histogram and density plot of the observations without\n",
    "any temporal structure."
   ]
  },
  {
   "cell_type": "code",
   "execution_count": 11,
   "id": "1baa28da",
   "metadata": {},
   "outputs": [
    {
     "data": {
      "image/png": "[encoded data removed]",
      "text/plain": [
       "<Figure size 432x288 with 1 Axes>"
      ]
     },
     "metadata": {
      "needs_background": "light"
     },
     "output_type": "display_data"
    },
    {
     "data": {
      "image/png": "[encoded data removed]",
      "text/plain": [
       "<Figure size 432x288 with 1 Axes>"
      ]
     },
     "metadata": {
      "needs_background": "light"
     },
     "output_type": "display_data"
    }
   ],
   "source": [
    "dataset.hist(edgecolor='k')\n",
    "plt.show()\n",
    "dataset.plot(kind='kde')\n",
    "plt.show()"
   ]
  },
  {
   "cell_type": "markdown",
   "id": "66624b64",
   "metadata": {},
   "source": [
    "Run the example and review the plots. Some observations from the plots include:\n",
    "* The distribution is not Gaussian, but is pretty close.\n",
    "* The distribution has a long right tail and may suggest an exponential distribution or a double Gaussian."
   ]
  },
  {
   "cell_type": "code",
   "execution_count": 12,
   "id": "3c5f54e9",
   "metadata": {},
   "outputs": [
    {
     "name": "stdout",
     "output_type": "stream",
     "text": [
      "ADF Statistic: -2.267303\n",
      "p-value: 0.182730\n",
      "Critical Values:\n",
      "\t1%: -3.534\n",
      "\t5%: -2.906\n",
      "\t10%: -2.591\n"
     ]
    }
   ],
   "source": [
    "from statsmodels.tsa.stattools import adfuller\n",
    "\n",
    "result = adfuller(dataset)\n",
    "print('ADF Statistic: %f' % result[0])\n",
    "print('p-value: %f' % result[1])\n",
    "print('Critical Values:')\n",
    "for key, value in result[4].items():\n",
    "    print('\\t%s: %.3f' % (key, value))"
   ]
  },
  {
   "cell_type": "markdown",
   "id": "efbcf8b5",
   "metadata": {},
   "source": [
    "### Box and Whisker Plots\n",
    "We can group the annual data by decade and get an idea of the spread of observations for each\n",
    "decade and how this may be changing. We do expect to see some trend (increasing mean or\n",
    "median), but it may be interesting to see how the rest of the distribution may be changing. The\n",
    "example below groups the observations by decade and creates one box and whisker plot for\n",
    "each decade of observations. The last decade only contains 9 years and may not be a useful\n",
    "comparison with the other decades. Therefore only data between 1885 and 1944 was plotted."
   ]
  },
  {
   "cell_type": "code",
   "execution_count": 13,
   "id": "4b3d36b7",
   "metadata": {},
   "outputs": [
    {
     "data": {
      "text/plain": [
       "{1: [1885, 1886, 1887, 1888, 1889, 1890, 1891, 1892, 1893, 1894],\n",
       " 2: [1895, 1896, 1897, 1898, 1899, 1900, 1901, 1902, 1903, 1904],\n",
       " 3: [1905, 1906, 1907, 1908, 1909, 1910, 1911, 1912, 1913, 1914],\n",
       " 4: [1915, 1916, 1917, 1918, 1919, 1920, 1921, 1922, 1923, 1924],\n",
       " 5: [1925, 1926, 1927, 1928, 1929, 1930, 1931, 1932, 1933, 1934],\n",
       " 6: [1935, 1936, 1937, 1938, 1939, 1940, 1941, 1942, 1943, 1944],\n",
       " 7: [1945, 1946, 1947, 1948, 1949, 1950, 1951, 1952, 1953]}"
      ]
     },
     "execution_count": 13,
     "metadata": {},
     "output_type": "execute_result"
    }
   ],
   "source": [
    "years = list(dataset.index.year)\n",
    "\n",
    "year_grouping = {}\n",
    "count = 10\n",
    "for i in range(int(len(years) / 10) + 1):\n",
    "    year_grouping[i+1] = years[count-10:count]\n",
    "    count += 10\n",
    "year_grouping"
   ]
  },
  {
   "cell_type": "code",
   "execution_count": 14,
   "id": "88ccd594",
   "metadata": {},
   "outputs": [
    {
     "data": {
      "text/html": [
       "<div>\n",
       "<style scoped>\n",
       "    .dataframe tbody tr th:only-of-type {\n",
       "        vertical-align: middle;\n",
       "    }\n",
       "\n",
       "    .dataframe tbody tr th {\n",
       "        vertical-align: top;\n",
       "    }\n",
       "\n",
       "    .dataframe thead th {\n",
       "        text-align: right;\n",
       "    }\n",
       "</style>\n",
       "<table border=\"1\" class=\"dataframe\">\n",
       "  <thead>\n",
       "    <tr style=\"text-align: right;\">\n",
       "      <th></th>\n",
       "      <th>Water</th>\n",
       "    </tr>\n",
       "    <tr>\n",
       "      <th>Year</th>\n",
       "      <th></th>\n",
       "    </tr>\n",
       "  </thead>\n",
       "  <tbody>\n",
       "    <tr>\n",
       "      <th>1885-01-01</th>\n",
       "      <td>356</td>\n",
       "    </tr>\n",
       "    <tr>\n",
       "      <th>1886-01-01</th>\n",
       "      <td>386</td>\n",
       "    </tr>\n",
       "    <tr>\n",
       "      <th>1887-01-01</th>\n",
       "      <td>397</td>\n",
       "    </tr>\n",
       "    <tr>\n",
       "      <th>1888-01-01</th>\n",
       "      <td>397</td>\n",
       "    </tr>\n",
       "    <tr>\n",
       "      <th>1889-01-01</th>\n",
       "      <td>413</td>\n",
       "    </tr>\n",
       "    <tr>\n",
       "      <th>...</th>\n",
       "      <td>...</td>\n",
       "    </tr>\n",
       "    <tr>\n",
       "      <th>1949-01-01</th>\n",
       "      <td>598</td>\n",
       "    </tr>\n",
       "    <tr>\n",
       "      <th>1950-01-01</th>\n",
       "      <td>575</td>\n",
       "    </tr>\n",
       "    <tr>\n",
       "      <th>1951-01-01</th>\n",
       "      <td>564</td>\n",
       "    </tr>\n",
       "    <tr>\n",
       "      <th>1952-01-01</th>\n",
       "      <td>549</td>\n",
       "    </tr>\n",
       "    <tr>\n",
       "      <th>1953-01-01</th>\n",
       "      <td>538</td>\n",
       "    </tr>\n",
       "  </tbody>\n",
       "</table>\n",
       "<p>69 rows × 1 columns</p>\n",
       "</div>"
      ],
      "text/plain": [
       "            Water\n",
       "Year             \n",
       "1885-01-01    356\n",
       "1886-01-01    386\n",
       "1887-01-01    397\n",
       "1888-01-01    397\n",
       "1889-01-01    413\n",
       "...           ...\n",
       "1949-01-01    598\n",
       "1950-01-01    575\n",
       "1951-01-01    564\n",
       "1952-01-01    549\n",
       "1953-01-01    538\n",
       "\n",
       "[69 rows x 1 columns]"
      ]
     },
     "execution_count": 14,
     "metadata": {},
     "output_type": "execute_result"
    }
   ],
   "source": [
    "dataset"
   ]
  },
  {
   "cell_type": "code",
   "execution_count": 15,
   "id": "7a515360",
   "metadata": {},
   "outputs": [
    {
     "data": {
      "text/html": [
       "<div>\n",
       "<style scoped>\n",
       "    .dataframe tbody tr th:only-of-type {\n",
       "        vertical-align: middle;\n",
       "    }\n",
       "\n",
       "    .dataframe tbody tr th {\n",
       "        vertical-align: top;\n",
       "    }\n",
       "\n",
       "    .dataframe thead th {\n",
       "        text-align: right;\n",
       "    }\n",
       "</style>\n",
       "<table border=\"1\" class=\"dataframe\">\n",
       "  <thead>\n",
       "    <tr style=\"text-align: right;\">\n",
       "      <th></th>\n",
       "      <th>1885</th>\n",
       "      <th>1895</th>\n",
       "      <th>1905</th>\n",
       "      <th>1915</th>\n",
       "      <th>1925</th>\n",
       "      <th>1935</th>\n",
       "    </tr>\n",
       "  </thead>\n",
       "  <tbody>\n",
       "    <tr>\n",
       "      <th>0</th>\n",
       "      <td>356</td>\n",
       "      <td>420</td>\n",
       "      <td>458</td>\n",
       "      <td>587</td>\n",
       "      <td>503</td>\n",
       "      <td>503</td>\n",
       "    </tr>\n",
       "    <tr>\n",
       "      <th>1</th>\n",
       "      <td>386</td>\n",
       "      <td>435</td>\n",
       "      <td>469</td>\n",
       "      <td>515</td>\n",
       "      <td>450</td>\n",
       "      <td>515</td>\n",
       "    </tr>\n",
       "    <tr>\n",
       "      <th>2</th>\n",
       "      <td>397</td>\n",
       "      <td>439</td>\n",
       "      <td>481</td>\n",
       "      <td>526</td>\n",
       "      <td>432</td>\n",
       "      <td>500</td>\n",
       "    </tr>\n",
       "    <tr>\n",
       "      <th>3</th>\n",
       "      <td>397</td>\n",
       "      <td>454</td>\n",
       "      <td>488</td>\n",
       "      <td>503</td>\n",
       "      <td>432</td>\n",
       "      <td>522</td>\n",
       "    </tr>\n",
       "    <tr>\n",
       "      <th>4</th>\n",
       "      <td>413</td>\n",
       "      <td>462</td>\n",
       "      <td>466</td>\n",
       "      <td>503</td>\n",
       "      <td>458</td>\n",
       "      <td>575</td>\n",
       "    </tr>\n",
       "    <tr>\n",
       "      <th>5</th>\n",
       "      <td>458</td>\n",
       "      <td>454</td>\n",
       "      <td>462</td>\n",
       "      <td>503</td>\n",
       "      <td>462</td>\n",
       "      <td>583</td>\n",
       "    </tr>\n",
       "    <tr>\n",
       "      <th>6</th>\n",
       "      <td>485</td>\n",
       "      <td>469</td>\n",
       "      <td>473</td>\n",
       "      <td>515</td>\n",
       "      <td>503</td>\n",
       "      <td>587</td>\n",
       "    </tr>\n",
       "    <tr>\n",
       "      <th>7</th>\n",
       "      <td>344</td>\n",
       "      <td>500</td>\n",
       "      <td>530</td>\n",
       "      <td>522</td>\n",
       "      <td>488</td>\n",
       "      <td>628</td>\n",
       "    </tr>\n",
       "    <tr>\n",
       "      <th>8</th>\n",
       "      <td>390</td>\n",
       "      <td>492</td>\n",
       "      <td>662</td>\n",
       "      <td>492</td>\n",
       "      <td>466</td>\n",
       "      <td>640</td>\n",
       "    </tr>\n",
       "    <tr>\n",
       "      <th>9</th>\n",
       "      <td>360</td>\n",
       "      <td>473</td>\n",
       "      <td>651</td>\n",
       "      <td>503</td>\n",
       "      <td>492</td>\n",
       "      <td>609</td>\n",
       "    </tr>\n",
       "  </tbody>\n",
       "</table>\n",
       "</div>"
      ],
      "text/plain": [
       "   1885  1895  1905  1915  1925  1935\n",
       "0   356   420   458   587   503   503\n",
       "1   386   435   469   515   450   515\n",
       "2   397   439   481   526   432   500\n",
       "3   397   454   488   503   432   522\n",
       "4   413   462   466   503   458   575\n",
       "5   458   454   462   503   462   583\n",
       "6   485   469   473   515   503   587\n",
       "7   344   500   530   522   488   628\n",
       "8   390   492   662   492   466   640\n",
       "9   360   473   651   503   492   609"
      ]
     },
     "metadata": {},
     "output_type": "display_data"
    },
    {
     "data": {
      "image/png": "[encoded data removed]",
      "text/plain": [
       "<Figure size 432x288 with 1 Axes>"
      ]
     },
     "metadata": {
      "needs_background": "light"
     },
     "output_type": "display_data"
    }
   ],
   "source": [
    "groups = dataset.resample('10YS')\n",
    "decades = pd.DataFrame()\n",
    "\n",
    "for index, group in groups:\n",
    "    if len(group.values) == 10:\n",
    "        decades[index.year] = group.values.flatten()\n",
    "\n",
    "display(decades)\n",
    "decades.boxplot()\n",
    "plt.show()"
   ]
  },
  {
   "cell_type": "markdown",
   "id": "149cf736",
   "metadata": {},
   "source": [
    "Running the example creates 6 box and whisker plots side-by-side, one for the 6 decades of\n",
    "selected data. Some observations from reviewing the plot include:\n",
    "* The median values for each year (red line) may show an increasing trend that may not be linear.\n",
    "* The spread, or middle 50% of the data (blue boxes), does show some variability.\n",
    "* There maybe outliers in some decades (crosses outside of the box and whiskers).\n",
    "* The second to last decade seems to have a lower average consumption, perhaps related to the first world war."
   ]
  },
  {
   "cell_type": "markdown",
   "id": "0a4dada0",
   "metadata": {},
   "source": [
    "### ARIMA Models\n",
    "In this section, we will develop Autoregressive Integrated Moving Average or ARIMA models\n",
    "for the problem. We will approach modeling by both manual and automatic configuration of\n",
    "the ARIMA model. This will be followed by a third step of investigating the residual errors of\n",
    "the chosen model. As such, this section is broken down into 3 steps:\n",
    "1. Manually Configure the ARIMA.\n",
    "2. Automatically Configure the ARIMA.\n",
    "3. Review Residual Errors."
   ]
  },
  {
   "cell_type": "markdown",
   "id": "326b931a",
   "metadata": {},
   "source": [
    "### Manually Configured ARIMA\n",
    "The ARIMA(p,d,q) model requires three parameters and is traditionally configured manually.\n",
    "Analysis of the time series data assumes that we are working with a stationary time series. The\n",
    "time series is likely non-stationary. We can make it stationary by first differencing the series\n",
    "and using a statistical test to confirm that the result is stationary. The example below creates a\n",
    "stationary version of the series and saves it to file stationary.csv."
   ]
  },
  {
   "cell_type": "code",
   "execution_count": 50,
   "id": "b8da3b8d",
   "metadata": {},
   "outputs": [
    {
     "name": "stdout",
     "output_type": "stream",
     "text": [
      "ADF Statistic: -6.126719\n",
      "p-value: 0.000000\n",
      "Critical Values:\n",
      "\t1%: -3.534\n",
      "\t5%: -2.906\n",
      "\t10%: -2.591\n"
     ]
    }
   ],
   "source": [
    "from statsmodels.tsa.stattools import adfuller\n",
    "\n",
    "def print_result(data):\n",
    "    print('ADF Statistic: %f' % data[0])\n",
    "    print('p-value: %f' % data[1])\n",
    "    print('Critical Values:')\n",
    "    for key, value in data[4].items():\n",
    "        print('\\t%s: %.3f' % (key, value))\n",
    "\n",
    "dataset['Diff'] = dataset.diff()\n",
    "X = dataset['Diff'][1:].values.astype('float32')\n",
    "\n",
    "result_1 = adfuller(X)\n",
    "result_2 = adfuller(dataset['Water'])\n",
    "\n",
    "print_result(result_1)"
   ]
  },
  {
   "cell_type": "code",
   "execution_count": 17,
   "id": "28b9f7df",
   "metadata": {},
   "outputs": [
    {
     "data": {
      "image/png": "[encoded data removed]",
      "text/plain": [
       "<Figure size 432x288 with 1 Axes>"
      ]
     },
     "metadata": {
      "needs_background": "light"
     },
     "output_type": "display_data"
    }
   ],
   "source": [
    "dataset['Diff'].plot()\n",
    "plt.show()\n",
    "dataset['Diff'].to_csv('./project/Project Annual Water Usage in Baltimore/dataset/stationary.csv', header=False)"
   ]
  },
  {
   "cell_type": "markdown",
   "id": "13385da5",
   "metadata": {},
   "source": [
    "Running the example outputs the result of a statistical significance test of whether the\n",
    "differenced series is stationary. Specifically, the augmented Dickey-Fuller test. The results show\n",
    "that the test statistic value -6.126719 is smaller than the critical value at 1% of -3.534. This\n",
    "suggests that we can reject the null hypothesis with a significance level of less than 1% (i.e. a\n",
    "low probability that the result is a statistical fluke). Rejecting the null hypothesis means that the process has no unit root, and in turn that the time series is stationary or does not have time-dependent structure.\n",
    "\n",
    "This suggests that at least one level of differencing is required. The d parameter in our\n",
    "ARIMA model should at least be a value of 1. A plot of the differenced data is also created. It\n",
    "suggests that this has indeed removed the increasing trend."
   ]
  },
  {
   "cell_type": "markdown",
   "id": "c64a335f",
   "metadata": {},
   "source": [
    "The next first step is to select the lag values for the Autoregression (AR) and Moving Average\n",
    "(MA) parameters, p and q respectively. We can do this by reviewing Autocorrelation Function\n",
    "(ACF) and Partial Autocorrelation Function (PACF) plots. The example below creates ACF\n",
    "and PACF plots for the series."
   ]
  },
  {
   "cell_type": "code",
   "execution_count": 18,
   "id": "fdae4bfd",
   "metadata": {},
   "outputs": [
    {
     "data": {
      "image/png": "[encoded data removed]",
      "text/plain": [
       "<Figure size 432x288 with 1 Axes>"
      ]
     },
     "metadata": {
      "needs_background": "light"
     },
     "output_type": "display_data"
    },
    {
     "data": {
      "image/png": "[encoded data removed]",
      "text/plain": [
       "<Figure size 432x288 with 1 Axes>"
      ]
     },
     "metadata": {
      "needs_background": "light"
     },
     "output_type": "display_data"
    }
   ],
   "source": [
    "from statsmodels.graphics.tsaplots import plot_acf\n",
    "from statsmodels.graphics.tsaplots import plot_pacf\n",
    "\n",
    "_ = plot_acf(dataset['Water'], lags=30)\n",
    "plt.show()\n",
    "_ = plot_pacf(dataset['Water'], lags=30)\n",
    "plt.show()"
   ]
  },
  {
   "cell_type": "markdown",
   "id": "a802ca2f",
   "metadata": {},
   "source": [
    "Run the example and review the plots for insights into how to set the p and q variables for\n",
    "the ARIMA model. Below are some observations from the plots.\n",
    "* The ACF shows significant lags to 4 time steps.\n",
    "* The PACF shows significant lags to 1 time step.\n",
    "A good starting point for the p is 4 and q is 1."
   ]
  },
  {
   "cell_type": "code",
   "execution_count": 19,
   "id": "fda71617",
   "metadata": {},
   "outputs": [
    {
     "name": "stdout",
     "output_type": "stream",
     "text": [
      ">Predicted=548.319, Expected=503.000\n",
      ">Predicted=545.085, Expected=503.000\n",
      ">Predicted=546.061, Expected=515.000\n",
      ">Predicted=550.660, Expected=522.000\n",
      ">Predicted=552.011, Expected=492.000\n",
      ">Predicted=519.221, Expected=503.000\n",
      ">Predicted=527.953, Expected=503.000\n",
      ">Predicted=534.026, Expected=450.000\n",
      ">Predicted=474.119, Expected=432.000\n",
      ">Predicted=456.458, Expected=432.000\n",
      ">Predicted=465.408, Expected=458.000\n",
      ">Predicted=481.425, Expected=462.000\n",
      ">Predicted=476.155, Expected=503.000\n",
      ">Predicted=511.083, Expected=488.000\n",
      ">Predicted=497.183, Expected=466.000\n",
      ">Predicted=460.301, Expected=492.000\n",
      ">Predicted=506.310, Expected=503.000\n",
      ">Predicted=515.928, Expected=515.000\n",
      ">Predicted=516.368, Expected=500.000\n",
      ">Predicted=504.364, Expected=522.000\n",
      ">Predicted=525.885, Expected=575.000\n",
      ">Predicted=579.358, Expected=583.000\n",
      ">Predicted=575.313, Expected=587.000\n",
      ">Predicted=573.357, Expected=628.000\n",
      ">Predicted=622.135, Expected=640.000\n",
      ">Predicted=632.300, Expected=609.000\n",
      ">Predicted=595.782, Expected=606.000\n",
      ">Predicted=602.447, Expected=632.000\n",
      ">Predicted=635.946, Expected=617.000\n",
      ">Predicted=614.238, Expected=613.000\n",
      ">Predicted=609.030, Expected=598.000\n",
      ">Predicted=601.832, Expected=575.000\n",
      ">Predicted=580.316, Expected=564.000\n",
      ">Predicted=574.084, Expected=549.000\n",
      ">Predicted=562.009, Expected=538.000\n",
      "RMSE test score: 31.097105622734702\n"
     ]
    }
   ],
   "source": [
    "from sklearn.metrics import mean_squared_error\n",
    "from statsmodels.tsa.arima_model import ARIMA\n",
    "\n",
    "X = dataset['Water'].values.astype('float32')\n",
    "train_size = int(len(X) * .5)\n",
    "train, test = X[:train_size], X[train_size:]\n",
    "\n",
    "# walk validation\n",
    "history = [x for x in train]\n",
    "predictions = []\n",
    "\n",
    "for i in range(len(test)):\n",
    "    #predict\n",
    "    model = ARIMA(history, order=(4,1,1))\n",
    "    model_fit = model.fit(disp=0)\n",
    "    y_pred = model_fit.forecast()[0]\n",
    "    predictions.append(y_pred)\n",
    "    \n",
    "    # observation    \n",
    "    obs = test[i]\n",
    "    history.append(obs)\n",
    "    print('>Predicted=%.3f, Expected=%.3f' % (y_pred, obs))\n",
    "rmse = np.sqrt(mean_squared_error(test, predictions))\n",
    "print(f'RMSE test score: {rmse}')"
   ]
  },
  {
   "cell_type": "markdown",
   "id": "bf9b1049",
   "metadata": {},
   "source": [
    "## Grid Search ARIMA Hyperparameters\n",
    "The ACF and PACF plots suggest that we cannot do better than a persistence model on this\n",
    "dataset. To confirm this analysis, we can grid search a suite of ARIMA hyperparameters and\n",
    "check that no models result in better out-of-sample RMSE performance. In this section, we will\n",
    "search values of p, d, and q for combinations (skipping those that fail to converge), and find\n",
    "the combination that results in the best performance. We will use a grid search to explore all\n",
    "combinations in a subset of integer values. Specifically, we will search all combinations of the\n",
    "following parameters:\n",
    "\n",
    "* p: 0 to 4.\n",
    "* d: 0 to 2.\n",
    "* q: 0 to 4.\n",
    "\n",
    "This is (5 $\\times$ 3 $\\times$ 5), or 300 potential runs of the test harness, and will take some time to\n",
    "execute. We will also disable the automatic addition of a trend constant from the model by\n",
    "setting the trend argument to nc for no constant when calling fit(). The complete worked\n",
    "example with the grid search version of the test harness is listed below."
   ]
  },
  {
   "cell_type": "code",
   "execution_count": 21,
   "id": "d549129c",
   "metadata": {},
   "outputs": [
    {
     "name": "stdout",
     "output_type": "stream",
     "text": [
      "ARIMA(0, 0, 0) RMSE=76.755\n",
      "ARIMA(0, 0, 1) RMSE=47.346\n",
      "ARIMA(0, 0, 2) RMSE=36.048\n",
      "ARIMA(0, 0, 3) RMSE=32.587\n",
      "ARIMA(0, 1, 0) RMSE=22.311\n",
      "ARIMA(0, 1, 1) RMSE=22.258\n",
      "ARIMA(0, 1, 2) RMSE=28.430\n",
      "ARIMA(0, 1, 3) RMSE=30.054\n",
      "ARIMA(0, 2, 0) RMSE=29.335\n",
      "ARIMA(0, 2, 1) RMSE=23.072\n",
      "ARIMA(0, 2, 2) RMSE=22.954\n",
      "ARIMA(0, 2, 3) RMSE=23.374\n",
      "ARIMA(1, 0, 0) RMSE=23.958\n",
      "ARIMA(1, 0, 1) RMSE=23.998\n",
      "ARIMA(1, 0, 2) RMSE=25.412\n",
      "ARIMA(1, 0, 3) RMSE=30.529\n",
      "ARIMA(1, 1, 0) RMSE=22.270\n",
      "ARIMA(1, 2, 0) RMSE=27.786\n",
      "ARIMA(1, 2, 1) RMSE=22.979\n",
      "ARIMA(2, 0, 0) RMSE=24.131\n",
      "ARIMA(2, 0, 1) RMSE=24.140\n",
      "ARIMA(2, 1, 0) RMSE=22.084\n",
      "ARIMA(2, 2, 0) RMSE=25.616\n",
      "ARIMA(2, 2, 3) RMSE=25.607\n",
      "ARIMA(3, 0, 0) RMSE=24.183\n",
      "ARIMA(3, 0, 1) RMSE=24.555\n",
      "ARIMA(3, 1, 0) RMSE=25.060\n",
      "ARIMA(3, 1, 1) RMSE=32.092\n",
      "ARIMA(3, 2, 0) RMSE=26.126\n",
      "ARIMA(3, 2, 1) RMSE=25.594\n",
      "Best ARIMA(2, 1, 0) RMSE=22.084\n"
     ]
    }
   ],
   "source": [
    "# evaluate an ARIMA model for a given order (p,d,q) and return RMSE\n",
    "def evaluate_arima_model(X, arima_order):\n",
    "    # prepare training dataset\n",
    "    X = X.astype('float32')\n",
    "    train_size = int(len(X) * .5)\n",
    "    train, test = X[:train_size], X[train_size:]\n",
    "    \n",
    "    # make predictions\n",
    "    history = [x for x in train]\n",
    "    predictions = []\n",
    "    \n",
    "    for i in range(len(test)):\n",
    "        model = ARIMA(history, order=arima_order)\n",
    "#         model_fit = model.fit(trend='nc', disp=0)\n",
    "        model_fit = model.fit(disp=0)\n",
    "        y_pred = model_fit.forecast()[0]\n",
    "        predictions.append(y_pred)\n",
    "        \n",
    "        obs = test[i]\n",
    "        history.append(obs)\n",
    "    # calculate out of sample error\n",
    "    rmse = np.sqrt(mean_squared_error(test, predictions))\n",
    "    return rmse\n",
    "\n",
    "# evaluate combinations of p, d and q values for an ARIMA model\n",
    "def evaluate_models(dataset, p_values, d_values, q_values):\n",
    "    dataset = dataset.astype('float32')\n",
    "    best_score, best_cfg = float('inf'), None\n",
    "    for p in p_values:\n",
    "        for d in d_values:\n",
    "            for q in q_values:\n",
    "                order = (p, d, q)\n",
    "                try:\n",
    "                    rmse = evaluate_arima_model(dataset, order)\n",
    "                    if rmse < best_score:\n",
    "                        best_score, best_cfg = rmse, order\n",
    "                    print('ARIMA%s RMSE=%.3f' % (order,rmse))\n",
    "                except:\n",
    "                    continue\n",
    "    print('Best ARIMA%s RMSE=%.3f' % (best_cfg, best_score))\n",
    "\n",
    "p_values = range(0, 4)\n",
    "d_values = range(0, 3)\n",
    "q_values = range(0, 4)\n",
    "warnings.filterwarnings(\"ignore\")\n",
    "evaluate_models(dataset['Water'].values, p_values, d_values, q_values)"
   ]
  },
  {
   "cell_type": "markdown",
   "id": "846f85bc",
   "metadata": {},
   "source": [
    "Running the example runs through all combinations and reports the results on those that\n",
    "converge without error. The example takes a little over 2 minutes to run on modern hardware.\n",
    "The results show that the best configuration discovered was ARIMA(2,1,0) with an RMSE\n",
    "of 21.733, slightly lower than the persistence model tested earlier, but may or may not be"
   ]
  },
  {
   "cell_type": "markdown",
   "id": "f13ac6e0",
   "metadata": {},
   "source": [
    "## Review Residual Errors\n",
    "A good final check of a model is to review residual forecast errors. Ideally, the distribution of\n",
    "residual errors should be a Gaussian with a zero mean. We can check this by using summary\n",
    "statistics and plots to investigate the residual errors from the ARIMA(2,1,0) model. The example\n",
    "below calculates and summarizes the residual forecast errors."
   ]
  },
  {
   "cell_type": "code",
   "execution_count": 45,
   "id": "7bb797fd",
   "metadata": {},
   "outputs": [
    {
     "name": "stdout",
     "output_type": "stream",
     "text": [
      "RMSE: 22.417356505678118\n"
     ]
    },
    {
     "data": {
      "image/png": "[encoded data removed]",
      "text/plain": [
       "<Figure size 432x288 with 1 Axes>"
      ]
     },
     "metadata": {
      "needs_background": "light"
     },
     "output_type": "display_data"
    },
    {
     "data": {
      "image/png": "[encoded data removed]",
      "text/plain": [
       "<Figure size 432x288 with 1 Axes>"
      ]
     },
     "metadata": {
      "needs_background": "light"
     },
     "output_type": "display_data"
    }
   ],
   "source": [
    "X = dataset['Water'].values.astype('float32')\n",
    "train_size = int(len(X) * .5)\n",
    "train, test = X[:train_size], X[train_size:]\n",
    "\n",
    "# walk forward validation\n",
    "history = [x for x in X]\n",
    "predictions = []\n",
    "\n",
    "for i in range(len(test)):\n",
    "    # predict\n",
    "    model = ARIMA(history, order=(2,1,0))\n",
    "    model_fit = model.fit(trend='nc', disp=0)\n",
    "    y_pred = model_fit.forecast()[0]\n",
    "    predictions.append(y_pred)\n",
    "    \n",
    "    # obervation\n",
    "    obs = test[i]\n",
    "    history.append(obs)\n",
    "rmse = np.sqrt(mean_squared_error(test, predictions))\n",
    "print(f'RMSE: {rmse}')\n",
    "\n",
    "# errors\n",
    "residuals = [test[i] - predictions[i] for i in range(len(predictions))]\n",
    "residuals = pd.DataFrame(residuals)\n",
    "\n",
    "residuals.hist()\n",
    "plt.show()\n",
    "\n",
    "residuals.plot(kind='kde')\n",
    "plt.show()"
   ]
  },
  {
   "cell_type": "code",
   "execution_count": 46,
   "id": "a71a7d2c",
   "metadata": {},
   "outputs": [
    {
     "data": {
      "text/html": [
       "<div>\n",
       "<style scoped>\n",
       "    .dataframe tbody tr th:only-of-type {\n",
       "        vertical-align: middle;\n",
       "    }\n",
       "\n",
       "    .dataframe tbody tr th {\n",
       "        vertical-align: top;\n",
       "    }\n",
       "\n",
       "    .dataframe thead th {\n",
       "        text-align: right;\n",
       "    }\n",
       "</style>\n",
       "<table border=\"1\" class=\"dataframe\">\n",
       "  <thead>\n",
       "    <tr style=\"text-align: right;\">\n",
       "      <th></th>\n",
       "      <th>0</th>\n",
       "    </tr>\n",
       "  </thead>\n",
       "  <tbody>\n",
       "    <tr>\n",
       "      <th>count</th>\n",
       "      <td>35.000000</td>\n",
       "    </tr>\n",
       "    <tr>\n",
       "      <th>mean</th>\n",
       "      <td>-0.007629</td>\n",
       "    </tr>\n",
       "    <tr>\n",
       "      <th>std</th>\n",
       "      <td>22.744633</td>\n",
       "    </tr>\n",
       "    <tr>\n",
       "      <th>min</th>\n",
       "      <td>-51.927855</td>\n",
       "    </tr>\n",
       "    <tr>\n",
       "      <th>25%</th>\n",
       "      <td>-16.709941</td>\n",
       "    </tr>\n",
       "    <tr>\n",
       "      <th>50%</th>\n",
       "      <td>0.435007</td>\n",
       "    </tr>\n",
       "    <tr>\n",
       "      <th>75%</th>\n",
       "      <td>11.491881</td>\n",
       "    </tr>\n",
       "    <tr>\n",
       "      <th>max</th>\n",
       "      <td>50.417785</td>\n",
       "    </tr>\n",
       "  </tbody>\n",
       "</table>\n",
       "</div>"
      ],
      "text/plain": [
       "               0\n",
       "count  35.000000\n",
       "mean   -0.007629\n",
       "std    22.744633\n",
       "min   -51.927855\n",
       "25%   -16.709941\n",
       "50%     0.435007\n",
       "75%    11.491881\n",
       "max    50.417785"
      ]
     },
     "execution_count": 46,
     "metadata": {},
     "output_type": "execute_result"
    }
   ],
   "source": [
    "residuals.describe()"
   ]
  },
  {
   "cell_type": "markdown",
   "id": "be609585",
   "metadata": {},
   "source": [
    "Running the example first describes the distribution of the residuals. We can see that the\n",
    "distribution has a right shift and that the mean is non-zero at -0.00763. This is perhaps a sign\n",
    "that the predictions are biased.\n",
    "\n",
    "The distribution of residual errors is also plotted. The graphs suggest a Gaussian-like\n",
    "distribution with a longer right tail, providing further evidence that perhaps a power transform\n",
    "might be worth exploring.\n",
    "\n",
    "We could use this information to bias-correct predictions by adding the mean residual error\n",
    "of -0.00763 to each forecast made. The example below performs this bias-correction."
   ]
  },
  {
   "cell_type": "code",
   "execution_count": 47,
   "id": "b2ef22e7",
   "metadata": {},
   "outputs": [
    {
     "name": "stdout",
     "output_type": "stream",
     "text": [
      "RMSE: 21.732992484229293\n"
     ]
    },
    {
     "data": {
      "image/png": "[encoded data removed]",
      "text/plain": [
       "<Figure size 432x288 with 1 Axes>"
      ]
     },
     "metadata": {
      "needs_background": "light"
     },
     "output_type": "display_data"
    },
    {
     "data": {
      "image/png": "[encoded data removed]",
      "text/plain": [
       "<Figure size 432x288 with 1 Axes>"
      ]
     },
     "metadata": {
      "needs_background": "light"
     },
     "output_type": "display_data"
    }
   ],
   "source": [
    "X = dataset['Water'].values.astype('float32')\n",
    "\n",
    "train_size = int(len(X) * .5)\n",
    "train, test = X[:train_size], X[train_size:]\n",
    "\n",
    "# walk forward validation\n",
    "history = [x for x in train]\n",
    "predictions = []\n",
    "bias = -0.00763\n",
    "\n",
    "for i in range(len(test)):\n",
    "    # predict\n",
    "    model = ARIMA(history, order=(2,1,0))\n",
    "    model_fit = model.fit(trend='nc', disp=0)\n",
    "    y_pred = bias + float(model_fit.forecast()[0])\n",
    "    predictions.append(y_pred)\n",
    "    \n",
    "    # obs\n",
    "    obs = test[i]\n",
    "    history.append(obs)\n",
    "# report performance\n",
    "rmse = np.sqrt(mean_squared_error(test, predictions))\n",
    "print(f'RMSE: {rmse}')\n",
    "\n",
    "residuals = [test[i] - predictions[i] for i in range(len(predictions))]\n",
    "residuals = pd.DataFrame(residuals)\n",
    "\n",
    "residuals.hist()\n",
    "plt.show()\n",
    "residuals.plot(kind='kde')\n",
    "plt.show()"
   ]
  },
  {
   "cell_type": "code",
   "execution_count": 48,
   "id": "ceb875d6",
   "metadata": {},
   "outputs": [
    {
     "data": {
      "text/html": [
       "<div>\n",
       "<style scoped>\n",
       "    .dataframe tbody tr th:only-of-type {\n",
       "        vertical-align: middle;\n",
       "    }\n",
       "\n",
       "    .dataframe tbody tr th {\n",
       "        vertical-align: top;\n",
       "    }\n",
       "\n",
       "    .dataframe thead th {\n",
       "        text-align: right;\n",
       "    }\n",
       "</style>\n",
       "<table border=\"1\" class=\"dataframe\">\n",
       "  <thead>\n",
       "    <tr style=\"text-align: right;\">\n",
       "      <th></th>\n",
       "      <th>0</th>\n",
       "    </tr>\n",
       "  </thead>\n",
       "  <tbody>\n",
       "    <tr>\n",
       "      <th>count</th>\n",
       "      <td>35.000000</td>\n",
       "    </tr>\n",
       "    <tr>\n",
       "      <th>mean</th>\n",
       "      <td>1.089254</td>\n",
       "    </tr>\n",
       "    <tr>\n",
       "      <th>std</th>\n",
       "      <td>22.022567</td>\n",
       "    </tr>\n",
       "    <tr>\n",
       "      <th>min</th>\n",
       "      <td>-52.096181</td>\n",
       "    </tr>\n",
       "    <tr>\n",
       "      <th>25%</th>\n",
       "      <td>-16.194656</td>\n",
       "    </tr>\n",
       "    <tr>\n",
       "      <th>50%</th>\n",
       "      <td>-0.452176</td>\n",
       "    </tr>\n",
       "    <tr>\n",
       "      <th>75%</th>\n",
       "      <td>12.092722</td>\n",
       "    </tr>\n",
       "    <tr>\n",
       "      <th>max</th>\n",
       "      <td>51.291963</td>\n",
       "    </tr>\n",
       "  </tbody>\n",
       "</table>\n",
       "</div>"
      ],
      "text/plain": [
       "               0\n",
       "count  35.000000\n",
       "mean    1.089254\n",
       "std    22.022567\n",
       "min   -52.096181\n",
       "25%   -16.194656\n",
       "50%    -0.452176\n",
       "75%    12.092722\n",
       "max    51.291963"
      ]
     },
     "execution_count": 48,
     "metadata": {},
     "output_type": "execute_result"
    }
   ],
   "source": [
    "residuals.describe()"
   ]
  },
  {
   "cell_type": "markdown",
   "id": "266223dc",
   "metadata": {},
   "source": [
    "## Model Validation\n",
    "After models have been developed and a final model selected, it must be validated and finalized.\n",
    "Validation is an optional part of the process, but one that provides a last check to ensure we\n",
    "have not fooled or misled ourselves. This section includes the following steps:\n",
    "\n",
    "* Finalize Model: Train and save the final model.\n",
    "* Make Prediction: Load the finalized model and make a prediction.\n",
    "* Validate Model: Load and validate the final model."
   ]
  },
  {
   "cell_type": "markdown",
   "id": "da39a17b",
   "metadata": {},
   "source": [
    "## Finalize Model\n",
    "\n",
    "Finalizing the model involves fitting an ARIMA model on the entire dataset, in this case, on\n",
    "a transformed version of the entire dataset. Once fit, the model can be saved to file for later\n",
    "use. The example below trains an ARIMA(2,1,0) model on the dataset and saves the whole fit\n",
    "object and the bias to file. There is a bug in the current version of the Statsmodels library that\n",
    "results in an error when you try to load a saved ARIMA model from file."
   ]
  },
  {
   "cell_type": "code",
   "execution_count": 54,
   "id": "c095fd22",
   "metadata": {},
   "outputs": [],
   "source": [
    "# monkey patch around bug in ARIMA class\n",
    "def __getnewargs__(self):\n",
    "    return ((self.endog),(self.k_lags, self.k_diff, self.k_ma))\n",
    "ARIMA.__getnewargs__ = __getnewargs__\n",
    "\n",
    "# prepare data\n",
    "X = dataset['Water'].values.astype('float32')\n",
    "\n",
    "# fit model\n",
    "model = ARIMA(X, order=(2,1,0))\n",
    "model_fit = model.fit(trend='nc', disp=0)\n",
    "\n",
    "# bias constant, could be calculated from in-sample mean residual\n",
    "bias = -0.00763\n",
    "\n",
    "# save model\n",
    "model_fit.save('./project/Project Annual Water Usage in Baltimore/model/model.pkl')\n",
    "np.save('./project/Project Annual Water Usage in Baltimore/model/model_bias.npy', bias)"
   ]
  },
  {
   "cell_type": "markdown",
   "id": "5f3f038d",
   "metadata": {},
   "source": [
    "Running the example creates two local files:\n",
    "* model.pkl This is the ARIMAResult object from the call to ARIMA.fit(). This includes the coeficients and all other internal data returned when fitting the model.\n",
    "* model bias.npy This is the bias value stored as a one-row, one-column NumPy array."
   ]
  },
  {
   "cell_type": "markdown",
   "id": "cbeb9846",
   "metadata": {},
   "source": [
    "## Make Prediction\n",
    "A natural case may be to load the model and make a single forecast. This is relatively\n",
    "straightforward and involves restoring the saved model and the bias and calling the forecast()\n",
    "function. The example below loads the model, makes a prediction for the next time step, and\n",
    "prints the prediction."
   ]
  },
  {
   "cell_type": "code",
   "execution_count": 58,
   "id": "3e7b2c29",
   "metadata": {},
   "outputs": [
    {
     "name": "stdout",
     "output_type": "stream",
     "text": [
      "Predicted: 538.9242073262301\n"
     ]
    }
   ],
   "source": [
    "from statsmodels.tsa.arima_model import ARIMAResults\n",
    "\n",
    "model_fit = ARIMAResults.load('./project/Project Annual Water Usage in Baltimore/model/model.pkl')\n",
    "bias = np.load('./project/Project Annual Water Usage in Baltimore/model/model_bias.npy')\n",
    "y_pred = bias + float(model_fit.forecast()[0])\n",
    "print(f'Predicted: {y_pred}')"
   ]
  }
 ],
 "metadata": {
  "kernelspec": {
   "display_name": "Python 3",
   "language": "python",
   "name": "python3"
  },
  "language_info": {
   "codemirror_mode": {
    "name": "ipython",
    "version": 3
   },
   "file_extension": ".py",
   "mimetype": "text/x-python",
   "name": "python",
   "nbconvert_exporter": "python",
   "pygments_lexer": "ipython3",
   "version": "3.8.8"
  }
 },
 "nbformat": 4,
 "nbformat_minor": 5
}
