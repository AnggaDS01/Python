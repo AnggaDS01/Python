{
 "cells": [
  {
   "cell_type": "code",
   "execution_count": 1,
   "id": "884a2761",
   "metadata": {},
   "outputs": [],
   "source": [
    "import pandas as pd\n",
    "import numpy as np\n",
    "import matplotlib.pyplot as plt"
   ]
  },
  {
   "cell_type": "markdown",
   "id": "9c86db61",
   "metadata": {},
   "source": [
    "## Persistence Algorithm Steps\n",
    "A persistence model can be implemented easily in Python. We will break this tutorial down\n",
    "into 4 steps:\n",
    "1. Transform the univariate dataset into a supervised learning problem.\n",
    "2. Establish the train and test datasets for the test harness.\n",
    "3. Define the persistence model.\n",
    "4. Make a forecast and establish a baseline performance.\n",
    "5. Review the complete example and plot the output."
   ]
  },
  {
   "cell_type": "markdown",
   "id": "2b43d682",
   "metadata": {},
   "source": [
    "### Step 1: Define the Supervised Learning Problem "
   ]
  },
  {
   "cell_type": "code",
   "execution_count": 9,
   "id": "ca34b766",
   "metadata": {},
   "outputs": [
    {
     "data": {
      "text/html": [
       "<div>\n",
       "<style scoped>\n",
       "    .dataframe tbody tr th:only-of-type {\n",
       "        vertical-align: middle;\n",
       "    }\n",
       "\n",
       "    .dataframe tbody tr th {\n",
       "        vertical-align: top;\n",
       "    }\n",
       "\n",
       "    .dataframe thead th {\n",
       "        text-align: right;\n",
       "    }\n",
       "</style>\n",
       "<table border=\"1\" class=\"dataframe\">\n",
       "  <thead>\n",
       "    <tr style=\"text-align: right;\">\n",
       "      <th></th>\n",
       "      <th>t+1</th>\n",
       "      <th>t</th>\n",
       "    </tr>\n",
       "  </thead>\n",
       "  <tbody>\n",
       "    <tr>\n",
       "      <th>0</th>\n",
       "      <td>266.0</td>\n",
       "      <td>NaN</td>\n",
       "    </tr>\n",
       "    <tr>\n",
       "      <th>1</th>\n",
       "      <td>145.9</td>\n",
       "      <td>266.0</td>\n",
       "    </tr>\n",
       "    <tr>\n",
       "      <th>2</th>\n",
       "      <td>183.1</td>\n",
       "      <td>145.9</td>\n",
       "    </tr>\n",
       "    <tr>\n",
       "      <th>3</th>\n",
       "      <td>119.3</td>\n",
       "      <td>183.1</td>\n",
       "    </tr>\n",
       "    <tr>\n",
       "      <th>4</th>\n",
       "      <td>180.3</td>\n",
       "      <td>119.3</td>\n",
       "    </tr>\n",
       "  </tbody>\n",
       "</table>\n",
       "</div>"
      ],
      "text/plain": [
       "     t+1      t\n",
       "0  266.0    NaN\n",
       "1  145.9  266.0\n",
       "2  183.1  145.9\n",
       "3  119.3  183.1\n",
       "4  180.3  119.3"
      ]
     },
     "execution_count": 9,
     "metadata": {},
     "output_type": "execute_result"
    }
   ],
   "source": [
    "df = pd.read_csv('./dataset/shampoo_sales.csv', usecols=['Sales']).rename(columns={'Sales':'t+1'})\n",
    "df['t'] = df.shift(1)\n",
    "df.head()"
   ]
  },
  {
   "cell_type": "markdown",
   "id": "603ae6b5",
   "metadata": {},
   "source": [
    "This snippet creates the dataset and prints the first 5 rows of the new dataset. We can see\n",
    "that the first row (index 0) will have to be discarded as there was no observation prior to the\n",
    "first observation to use to make the prediction. From a supervised learning perspective, the t\n",
    "column is the input variable, or X, and the t+1 column is the output variable, or y."
   ]
  },
  {
   "cell_type": "markdown",
   "id": "4e5967f4",
   "metadata": {},
   "source": [
    "### Step 2: Train and Test Sets"
   ]
  },
  {
   "cell_type": "code",
   "execution_count": 17,
   "id": "34d129cc",
   "metadata": {},
   "outputs": [
    {
     "name": "stdout",
     "output_type": "stream",
     "text": [
      "train: 9, test: 9\n",
      "train: 18, test: 9\n",
      "train: 27, test: 9\n"
     ]
    }
   ],
   "source": [
    "from sklearn.model_selection import TimeSeriesSplit\n",
    "\n",
    "X = df.values\n",
    "splits = TimeSeriesSplit(n_splits=3)\n",
    "for train_index, test_index in splits.split(X):\n",
    "    train = X[train_index]\n",
    "    test = X[test_index]\n",
    "    print(f'train: {len(train)}, test: {len(test)}')"
   ]
  },
  {
   "cell_type": "code",
   "execution_count": 23,
   "id": "0d033040",
   "metadata": {},
   "outputs": [],
   "source": [
    "X_train, y_train = train[:,1], train[:, 0]\n",
    "X_test, y_test = test[:,1], test[:, 0]"
   ]
  },
  {
   "cell_type": "markdown",
   "id": "36b22098",
   "metadata": {},
   "source": [
    "### Step 3: Persistence Algorithm"
   ]
  },
  {
   "cell_type": "code",
   "execution_count": 18,
   "id": "7bc1c454",
   "metadata": {},
   "outputs": [],
   "source": [
    "def persistence_model(x):\n",
    "    return x"
   ]
  },
  {
   "cell_type": "markdown",
   "id": "88b1c615",
   "metadata": {},
   "source": [
    "### Step 4: Make and Evaluate Forecast"
   ]
  },
  {
   "cell_type": "code",
   "execution_count": 26,
   "id": "5682dc6d",
   "metadata": {},
   "outputs": [
    {
     "name": "stdout",
     "output_type": "stream",
     "text": [
      "Test RMSE: 148.62196637404878\n"
     ]
    }
   ],
   "source": [
    "from sklearn.metrics import mean_squared_error\n",
    "# walk-forward validation\n",
    "predictions = []\n",
    "for x in X_test:\n",
    "    yhat = persistence_model(x)\n",
    "    predictions.append(yhat)\n",
    "rmse = np.sqrt(mean_squared_error(y_test, predictions))\n",
    "print(f'Test RMSE: {rmse}')"
   ]
  },
  {
   "cell_type": "markdown",
   "id": "84de242c",
   "metadata": {},
   "source": [
    "### Step 5: Complete Example"
   ]
  },
  {
   "cell_type": "code",
   "execution_count": 28,
   "id": "fc306758",
   "metadata": {},
   "outputs": [
    {
     "data": {
      "image/png": "[encoded data removed]",
      "text/plain": [
       "<Figure size 432x288 with 1 Axes>"
      ]
     },
     "metadata": {
      "needs_background": "light"
     },
     "output_type": "display_data"
    }
   ],
   "source": [
    "plt.plot(y_train)\n",
    "plt.plot([None for i in y_train] + [x for x in y_test])\n",
    "plt.plot([None for i in y_train] + [x for x in predictions])\n",
    "plt.show()"
   ]
  }
 ],
 "metadata": {
  "kernelspec": {
   "display_name": "Python 3",
   "language": "python",
   "name": "python3"
  },
  "language_info": {
   "codemirror_mode": {
    "name": "ipython",
    "version": 3
   },
   "file_extension": ".py",
   "mimetype": "text/x-python",
   "name": "python",
   "nbconvert_exporter": "python",
   "pygments_lexer": "ipython3",
   "version": "3.8.8"
  }
 },
 "nbformat": 4,
 "nbformat_minor": 5
}
