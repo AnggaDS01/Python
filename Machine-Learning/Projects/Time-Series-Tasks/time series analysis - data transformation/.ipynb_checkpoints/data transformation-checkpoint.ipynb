{
 "cells": [
  {
   "cell_type": "code",
   "execution_count": 1,
   "id": "6e780f24",
   "metadata": {},
   "outputs": [],
   "source": [
    "import pandas as pd\n",
    "import matplotlib.pyplot as plt\n",
    "import seaborn as sns\n",
    "import numpy as np"
   ]
  },
  {
   "cell_type": "code",
   "execution_count": 2,
   "id": "b872856d",
   "metadata": {},
   "outputs": [
    {
     "data": {
      "text/html": [
       "<div>\n",
       "<style scoped>\n",
       "    .dataframe tbody tr th:only-of-type {\n",
       "        vertical-align: middle;\n",
       "    }\n",
       "\n",
       "    .dataframe tbody tr th {\n",
       "        vertical-align: top;\n",
       "    }\n",
       "\n",
       "    .dataframe thead th {\n",
       "        text-align: right;\n",
       "    }\n",
       "</style>\n",
       "<table border=\"1\" class=\"dataframe\">\n",
       "  <thead>\n",
       "    <tr style=\"text-align: right;\">\n",
       "      <th></th>\n",
       "      <th>births</th>\n",
       "    </tr>\n",
       "    <tr>\n",
       "      <th>date</th>\n",
       "      <th></th>\n",
       "    </tr>\n",
       "  </thead>\n",
       "  <tbody>\n",
       "    <tr>\n",
       "      <th>1959-01-01</th>\n",
       "      <td>35</td>\n",
       "    </tr>\n",
       "    <tr>\n",
       "      <th>1959-01-02</th>\n",
       "      <td>32</td>\n",
       "    </tr>\n",
       "    <tr>\n",
       "      <th>1959-01-03</th>\n",
       "      <td>30</td>\n",
       "    </tr>\n",
       "    <tr>\n",
       "      <th>1959-01-04</th>\n",
       "      <td>31</td>\n",
       "    </tr>\n",
       "    <tr>\n",
       "      <th>1959-01-05</th>\n",
       "      <td>44</td>\n",
       "    </tr>\n",
       "  </tbody>\n",
       "</table>\n",
       "</div>"
      ],
      "text/plain": [
       "            births\n",
       "date              \n",
       "1959-01-01      35\n",
       "1959-01-02      32\n",
       "1959-01-03      30\n",
       "1959-01-04      31\n",
       "1959-01-05      44"
      ]
     },
     "execution_count": 2,
     "metadata": {},
     "output_type": "execute_result"
    }
   ],
   "source": [
    "birth_df = pd.read_csv('./dataset/daily-total-female-births-CA.csv', parse_dates=['date'], index_col='date')\n",
    "birth_df.head()"
   ]
  },
  {
   "cell_type": "code",
   "execution_count": 3,
   "id": "97f1429f",
   "metadata": {},
   "outputs": [
    {
     "data": {
      "text/plain": [
       "DatetimeIndex(['1959-01-01', '1959-01-02', '1959-01-03', '1959-01-04',\n",
       "               '1959-01-05', '1959-01-06', '1959-01-07', '1959-01-08',\n",
       "               '1959-01-09', '1959-01-10',\n",
       "               ...\n",
       "               '1959-12-22', '1959-12-23', '1959-12-24', '1959-12-25',\n",
       "               '1959-12-26', '1959-12-27', '1959-12-28', '1959-12-29',\n",
       "               '1959-12-30', '1959-12-31'],\n",
       "              dtype='datetime64[ns]', name='date', length=365, freq=None)"
      ]
     },
     "execution_count": 3,
     "metadata": {},
     "output_type": "execute_result"
    }
   ],
   "source": [
    "birth_df.index"
   ]
  },
  {
   "cell_type": "code",
   "execution_count": 4,
   "id": "70d00725",
   "metadata": {},
   "outputs": [
    {
     "data": {
      "text/html": [
       "<div>\n",
       "<style scoped>\n",
       "    .dataframe tbody tr th:only-of-type {\n",
       "        vertical-align: middle;\n",
       "    }\n",
       "\n",
       "    .dataframe tbody tr th {\n",
       "        vertical-align: top;\n",
       "    }\n",
       "\n",
       "    .dataframe thead th {\n",
       "        text-align: right;\n",
       "    }\n",
       "</style>\n",
       "<table border=\"1\" class=\"dataframe\">\n",
       "  <thead>\n",
       "    <tr style=\"text-align: right;\">\n",
       "      <th></th>\n",
       "      <th>births</th>\n",
       "    </tr>\n",
       "  </thead>\n",
       "  <tbody>\n",
       "    <tr>\n",
       "      <th>count</th>\n",
       "      <td>365.000000</td>\n",
       "    </tr>\n",
       "    <tr>\n",
       "      <th>mean</th>\n",
       "      <td>41.980822</td>\n",
       "    </tr>\n",
       "    <tr>\n",
       "      <th>std</th>\n",
       "      <td>7.348257</td>\n",
       "    </tr>\n",
       "    <tr>\n",
       "      <th>min</th>\n",
       "      <td>23.000000</td>\n",
       "    </tr>\n",
       "    <tr>\n",
       "      <th>25%</th>\n",
       "      <td>37.000000</td>\n",
       "    </tr>\n",
       "    <tr>\n",
       "      <th>50%</th>\n",
       "      <td>42.000000</td>\n",
       "    </tr>\n",
       "    <tr>\n",
       "      <th>75%</th>\n",
       "      <td>46.000000</td>\n",
       "    </tr>\n",
       "    <tr>\n",
       "      <th>max</th>\n",
       "      <td>73.000000</td>\n",
       "    </tr>\n",
       "  </tbody>\n",
       "</table>\n",
       "</div>"
      ],
      "text/plain": [
       "           births\n",
       "count  365.000000\n",
       "mean    41.980822\n",
       "std      7.348257\n",
       "min     23.000000\n",
       "25%     37.000000\n",
       "50%     42.000000\n",
       "75%     46.000000\n",
       "max     73.000000"
      ]
     },
     "execution_count": 4,
     "metadata": {},
     "output_type": "execute_result"
    }
   ],
   "source": [
    "birth_df.describe()"
   ]
  },
  {
   "cell_type": "code",
   "execution_count": 5,
   "id": "c158146f",
   "metadata": {},
   "outputs": [
    {
     "name": "stdout",
     "output_type": "stream",
     "text": [
      "<class 'pandas.core.frame.DataFrame'>\n",
      "DatetimeIndex: 365 entries, 1959-01-01 to 1959-12-31\n",
      "Data columns (total 1 columns):\n",
      " #   Column  Non-Null Count  Dtype\n",
      "---  ------  --------------  -----\n",
      " 0   births  365 non-null    int64\n",
      "dtypes: int64(1)\n",
      "memory usage: 5.7 KB\n"
     ]
    }
   ],
   "source": [
    "birth_df.info()"
   ]
  },
  {
   "cell_type": "markdown",
   "id": "75aa6b9e",
   "metadata": {},
   "source": [
    "# Normalization\n",
    "\n",
    "* if your data is on different scales\n",
    "* because some algorithm work better when data is normalized\n",
    "* because you are data scientist and you have to keep on exploring with data transformation techniques"
   ]
  },
  {
   "cell_type": "code",
   "execution_count": 6,
   "id": "a776268d",
   "metadata": {},
   "outputs": [
    {
     "data": {
      "text/html": [
       "<div>\n",
       "<style scoped>\n",
       "    .dataframe tbody tr th:only-of-type {\n",
       "        vertical-align: middle;\n",
       "    }\n",
       "\n",
       "    .dataframe tbody tr th {\n",
       "        vertical-align: top;\n",
       "    }\n",
       "\n",
       "    .dataframe thead th {\n",
       "        text-align: right;\n",
       "    }\n",
       "</style>\n",
       "<table border=\"1\" class=\"dataframe\">\n",
       "  <thead>\n",
       "    <tr style=\"text-align: right;\">\n",
       "      <th></th>\n",
       "      <th>births</th>\n",
       "    </tr>\n",
       "    <tr>\n",
       "      <th>date</th>\n",
       "      <th></th>\n",
       "    </tr>\n",
       "  </thead>\n",
       "  <tbody>\n",
       "    <tr>\n",
       "      <th>1959-01-01</th>\n",
       "      <td>0.24</td>\n",
       "    </tr>\n",
       "    <tr>\n",
       "      <th>1959-01-02</th>\n",
       "      <td>0.18</td>\n",
       "    </tr>\n",
       "    <tr>\n",
       "      <th>1959-01-03</th>\n",
       "      <td>0.14</td>\n",
       "    </tr>\n",
       "    <tr>\n",
       "      <th>1959-01-04</th>\n",
       "      <td>0.16</td>\n",
       "    </tr>\n",
       "    <tr>\n",
       "      <th>1959-01-05</th>\n",
       "      <td>0.42</td>\n",
       "    </tr>\n",
       "    <tr>\n",
       "      <th>...</th>\n",
       "      <td>...</td>\n",
       "    </tr>\n",
       "    <tr>\n",
       "      <th>1959-12-27</th>\n",
       "      <td>0.28</td>\n",
       "    </tr>\n",
       "    <tr>\n",
       "      <th>1959-12-28</th>\n",
       "      <td>0.58</td>\n",
       "    </tr>\n",
       "    <tr>\n",
       "      <th>1959-12-29</th>\n",
       "      <td>0.50</td>\n",
       "    </tr>\n",
       "    <tr>\n",
       "      <th>1959-12-30</th>\n",
       "      <td>0.64</td>\n",
       "    </tr>\n",
       "    <tr>\n",
       "      <th>1959-12-31</th>\n",
       "      <td>0.54</td>\n",
       "    </tr>\n",
       "  </tbody>\n",
       "</table>\n",
       "<p>365 rows × 1 columns</p>\n",
       "</div>"
      ],
      "text/plain": [
       "            births\n",
       "date              \n",
       "1959-01-01    0.24\n",
       "1959-01-02    0.18\n",
       "1959-01-03    0.14\n",
       "1959-01-04    0.16\n",
       "1959-01-05    0.42\n",
       "...            ...\n",
       "1959-12-27    0.28\n",
       "1959-12-28    0.58\n",
       "1959-12-29    0.50\n",
       "1959-12-30    0.64\n",
       "1959-12-31    0.54\n",
       "\n",
       "[365 rows x 1 columns]"
      ]
     },
     "execution_count": 6,
     "metadata": {},
     "output_type": "execute_result"
    }
   ],
   "source": [
    "from sklearn.preprocessing import MinMaxScaler\n",
    "\n",
    "scaler = MinMaxScaler()\n",
    "birth_df['births'] = scaler.fit_transform(birth_df[['births']])\n",
    "\n",
    "birth_df"
   ]
  },
  {
   "cell_type": "code",
   "execution_count": 7,
   "id": "58d15d11",
   "metadata": {},
   "outputs": [
    {
     "data": {
      "text/html": [
       "<div>\n",
       "<style scoped>\n",
       "    .dataframe tbody tr th:only-of-type {\n",
       "        vertical-align: middle;\n",
       "    }\n",
       "\n",
       "    .dataframe tbody tr th {\n",
       "        vertical-align: top;\n",
       "    }\n",
       "\n",
       "    .dataframe thead th {\n",
       "        text-align: right;\n",
       "    }\n",
       "</style>\n",
       "<table border=\"1\" class=\"dataframe\">\n",
       "  <thead>\n",
       "    <tr style=\"text-align: right;\">\n",
       "      <th></th>\n",
       "      <th>births</th>\n",
       "    </tr>\n",
       "    <tr>\n",
       "      <th>date</th>\n",
       "      <th></th>\n",
       "    </tr>\n",
       "  </thead>\n",
       "  <tbody>\n",
       "    <tr>\n",
       "      <th>1959-03-20</th>\n",
       "      <td>0.26</td>\n",
       "    </tr>\n",
       "    <tr>\n",
       "      <th>1959-08-16</th>\n",
       "      <td>0.44</td>\n",
       "    </tr>\n",
       "    <tr>\n",
       "      <th>1959-09-04</th>\n",
       "      <td>0.38</td>\n",
       "    </tr>\n",
       "    <tr>\n",
       "      <th>1959-03-23</th>\n",
       "      <td>0.40</td>\n",
       "    </tr>\n",
       "    <tr>\n",
       "      <th>1959-12-06</th>\n",
       "      <td>0.20</td>\n",
       "    </tr>\n",
       "    <tr>\n",
       "      <th>...</th>\n",
       "      <td>...</td>\n",
       "    </tr>\n",
       "    <tr>\n",
       "      <th>1959-07-23</th>\n",
       "      <td>0.38</td>\n",
       "    </tr>\n",
       "    <tr>\n",
       "      <th>1959-09-13</th>\n",
       "      <td>0.38</td>\n",
       "    </tr>\n",
       "    <tr>\n",
       "      <th>1959-03-14</th>\n",
       "      <td>0.16</td>\n",
       "    </tr>\n",
       "    <tr>\n",
       "      <th>1959-08-24</th>\n",
       "      <td>0.42</td>\n",
       "    </tr>\n",
       "    <tr>\n",
       "      <th>1959-02-07</th>\n",
       "      <td>0.56</td>\n",
       "    </tr>\n",
       "  </tbody>\n",
       "</table>\n",
       "<p>292 rows × 1 columns</p>\n",
       "</div>"
      ],
      "text/plain": [
       "            births\n",
       "date              \n",
       "1959-03-20    0.26\n",
       "1959-08-16    0.44\n",
       "1959-09-04    0.38\n",
       "1959-03-23    0.40\n",
       "1959-12-06    0.20\n",
       "...            ...\n",
       "1959-07-23    0.38\n",
       "1959-09-13    0.38\n",
       "1959-03-14    0.16\n",
       "1959-08-24    0.42\n",
       "1959-02-07    0.56\n",
       "\n",
       "[292 rows x 1 columns]"
      ]
     },
     "execution_count": 7,
     "metadata": {},
     "output_type": "execute_result"
    }
   ],
   "source": [
    "from sklearn.model_selection import train_test_split\n",
    "\n",
    "train_df, test_df = train_test_split(\n",
    "    birth_df,\n",
    "    test_size=.2,\n",
    "    random_state=1\n",
    ")\n",
    "\n",
    "train_df"
   ]
  },
  {
   "cell_type": "code",
   "execution_count": 8,
   "id": "9210cc95",
   "metadata": {},
   "outputs": [
    {
     "name": "stderr",
     "output_type": "stream",
     "text": [
      "C:\\Users\\Angga\\anaconda3\\lib\\site-packages\\statsmodels\\tsa\\arima_model.py:472: FutureWarning: \n",
      "statsmodels.tsa.arima_model.ARMA and statsmodels.tsa.arima_model.ARIMA have\n",
      "been deprecated in favor of statsmodels.tsa.arima.model.ARIMA (note the .\n",
      "between arima and model) and\n",
      "statsmodels.tsa.SARIMAX. These will be removed after the 0.12 release.\n",
      "\n",
      "statsmodels.tsa.arima.model.ARIMA makes use of the statespace framework and\n",
      "is both well tested and maintained.\n",
      "\n",
      "To silence this warning and continue using ARMA and ARIMA until they are\n",
      "removed, use:\n",
      "\n",
      "import warnings\n",
      "warnings.filterwarnings('ignore', 'statsmodels.tsa.arima_model.ARMA',\n",
      "                        FutureWarning)\n",
      "warnings.filterwarnings('ignore', 'statsmodels.tsa.arima_model.ARIMA',\n",
      "                        FutureWarning)\n",
      "\n",
      "  warnings.warn(ARIMA_DEPRECATION_WARN, FutureWarning)\n",
      "C:\\Users\\Angga\\anaconda3\\lib\\site-packages\\statsmodels\\tsa\\base\\tsa_model.py:581: ValueWarning: A date index has been provided, but it has no associated frequency information and so will be ignored when e.g. forecasting.\n",
      "  warnings.warn('A date index has been provided, but it has no'\n",
      "C:\\Users\\Angga\\anaconda3\\lib\\site-packages\\statsmodels\\tsa\\base\\tsa_model.py:585: ValueWarning: A date index has been provided, but it is not monotonic and so will be ignored when e.g. forecasting.\n",
      "  warnings.warn('A date index has been provided, but it is not'\n",
      "C:\\Users\\Angga\\anaconda3\\lib\\site-packages\\statsmodels\\tsa\\base\\tsa_model.py:581: ValueWarning: A date index has been provided, but it has no associated frequency information and so will be ignored when e.g. forecasting.\n",
      "  warnings.warn('A date index has been provided, but it has no'\n",
      "C:\\Users\\Angga\\anaconda3\\lib\\site-packages\\statsmodels\\tsa\\base\\tsa_model.py:585: ValueWarning: A date index has been provided, but it is not monotonic and so will be ignored when e.g. forecasting.\n",
      "  warnings.warn('A date index has been provided, but it is not'\n"
     ]
    }
   ],
   "source": [
    "from statsmodels.tsa.arima_model import ARIMA\n",
    "\n",
    "birth_model = ARIMA(train_df, order=(2,1,2))"
   ]
  },
  {
   "cell_type": "code",
   "execution_count": 9,
   "id": "8d5aed6d",
   "metadata": {},
   "outputs": [
    {
     "name": "stderr",
     "output_type": "stream",
     "text": [
      "C:\\Users\\Angga\\anaconda3\\lib\\site-packages\\statsmodels\\tsa\\arima_model.py:472: FutureWarning: \n",
      "statsmodels.tsa.arima_model.ARMA and statsmodels.tsa.arima_model.ARIMA have\n",
      "been deprecated in favor of statsmodels.tsa.arima.model.ARIMA (note the .\n",
      "between arima and model) and\n",
      "statsmodels.tsa.SARIMAX. These will be removed after the 0.12 release.\n",
      "\n",
      "statsmodels.tsa.arima.model.ARIMA makes use of the statespace framework and\n",
      "is both well tested and maintained.\n",
      "\n",
      "To silence this warning and continue using ARMA and ARIMA until they are\n",
      "removed, use:\n",
      "\n",
      "import warnings\n",
      "warnings.filterwarnings('ignore', 'statsmodels.tsa.arima_model.ARMA',\n",
      "                        FutureWarning)\n",
      "warnings.filterwarnings('ignore', 'statsmodels.tsa.arima_model.ARIMA',\n",
      "                        FutureWarning)\n",
      "\n",
      "  warnings.warn(ARIMA_DEPRECATION_WARN, FutureWarning)\n"
     ]
    }
   ],
   "source": [
    "birth_model_fit = birth_model.fit()"
   ]
  },
  {
   "cell_type": "code",
   "execution_count": 10,
   "id": "ca7af5dc",
   "metadata": {},
   "outputs": [
    {
     "data": {
      "text/plain": [
       "-281.9199257050087"
      ]
     },
     "execution_count": 10,
     "metadata": {},
     "output_type": "execute_result"
    }
   ],
   "source": [
    "birth_model_fit.aic"
   ]
  },
  {
   "cell_type": "code",
   "execution_count": 11,
   "id": "c6655e9f",
   "metadata": {},
   "outputs": [],
   "source": [
    "birth_forecast = birth_model_fit.forecast(steps=len(test_df))[0]"
   ]
  },
  {
   "cell_type": "code",
   "execution_count": 12,
   "id": "f8c898e3",
   "metadata": {},
   "outputs": [
    {
     "data": {
      "text/plain": [
       "array([0.398694  , 0.37771312, 0.38281877, 0.37722598, 0.38205087,\n",
       "       0.37779159, 0.38153216, 0.37823427, 0.38112952, 0.37857546,\n",
       "       0.38081622, 0.37883805, 0.38057209, 0.37903978, 0.38038151,\n",
       "       0.37919438, 0.38023238, 0.37931251, 0.38011536, 0.3794024 ,\n",
       "       0.38002319, 0.37947041, 0.37995025, 0.3795215 , 0.37989221,\n",
       "       0.37955949, 0.37984571, 0.37958732, 0.37980813, 0.3796073 ,\n",
       "       0.37977747, 0.3796212 , 0.37975216, 0.37963038, 0.37973099,\n",
       "       0.37963592, 0.37971303, 0.37963864, 0.37969755, 0.37963918,\n",
       "       0.379684  , 0.37963802, 0.37967193, 0.37963555, 0.37966102,\n",
       "       0.37963207, 0.379651  , 0.3796278 , 0.37964167, 0.37962292,\n",
       "       0.37963288, 0.37961758, 0.3796245 , 0.37961187, 0.37961644,\n",
       "       0.37960587, 0.37960863, 0.37959966, 0.37960101, 0.37959328,\n",
       "       0.37959354, 0.37958677, 0.37958618, 0.37958016, 0.37957892,\n",
       "       0.37957347, 0.37957172, 0.37956671, 0.37956458, 0.37955991,\n",
       "       0.37955747, 0.37955308, 0.3795504 ])"
      ]
     },
     "execution_count": 12,
     "metadata": {},
     "output_type": "execute_result"
    }
   ],
   "source": [
    "birth_forecast"
   ]
  },
  {
   "cell_type": "code",
   "execution_count": 13,
   "id": "a8a79981",
   "metadata": {},
   "outputs": [
    {
     "data": {
      "text/html": [
       "<div>\n",
       "<style scoped>\n",
       "    .dataframe tbody tr th:only-of-type {\n",
       "        vertical-align: middle;\n",
       "    }\n",
       "\n",
       "    .dataframe tbody tr th {\n",
       "        vertical-align: top;\n",
       "    }\n",
       "\n",
       "    .dataframe thead th {\n",
       "        text-align: right;\n",
       "    }\n",
       "</style>\n",
       "<table border=\"1\" class=\"dataframe\">\n",
       "  <thead>\n",
       "    <tr style=\"text-align: right;\">\n",
       "      <th></th>\n",
       "      <th>births</th>\n",
       "    </tr>\n",
       "    <tr>\n",
       "      <th>date</th>\n",
       "      <th></th>\n",
       "    </tr>\n",
       "  </thead>\n",
       "  <tbody>\n",
       "    <tr>\n",
       "      <th>1959-12-21</th>\n",
       "      <td>0.60</td>\n",
       "    </tr>\n",
       "    <tr>\n",
       "      <th>1959-07-05</th>\n",
       "      <td>0.44</td>\n",
       "    </tr>\n",
       "    <tr>\n",
       "      <th>1959-06-17</th>\n",
       "      <td>0.14</td>\n",
       "    </tr>\n",
       "    <tr>\n",
       "      <th>1959-06-25</th>\n",
       "      <td>0.14</td>\n",
       "    </tr>\n",
       "    <tr>\n",
       "      <th>1959-11-11</th>\n",
       "      <td>0.34</td>\n",
       "    </tr>\n",
       "    <tr>\n",
       "      <th>...</th>\n",
       "      <td>...</td>\n",
       "    </tr>\n",
       "    <tr>\n",
       "      <th>1959-06-29</th>\n",
       "      <td>0.36</td>\n",
       "    </tr>\n",
       "    <tr>\n",
       "      <th>1959-12-03</th>\n",
       "      <td>0.46</td>\n",
       "    </tr>\n",
       "    <tr>\n",
       "      <th>1959-04-17</th>\n",
       "      <td>0.38</td>\n",
       "    </tr>\n",
       "    <tr>\n",
       "      <th>1959-01-28</th>\n",
       "      <td>0.24</td>\n",
       "    </tr>\n",
       "    <tr>\n",
       "      <th>1959-10-11</th>\n",
       "      <td>0.40</td>\n",
       "    </tr>\n",
       "  </tbody>\n",
       "</table>\n",
       "<p>73 rows × 1 columns</p>\n",
       "</div>"
      ],
      "text/plain": [
       "            births\n",
       "date              \n",
       "1959-12-21    0.60\n",
       "1959-07-05    0.44\n",
       "1959-06-17    0.14\n",
       "1959-06-25    0.14\n",
       "1959-11-11    0.34\n",
       "...            ...\n",
       "1959-06-29    0.36\n",
       "1959-12-03    0.46\n",
       "1959-04-17    0.38\n",
       "1959-01-28    0.24\n",
       "1959-10-11    0.40\n",
       "\n",
       "[73 rows x 1 columns]"
      ]
     },
     "execution_count": 13,
     "metadata": {},
     "output_type": "execute_result"
    }
   ],
   "source": [
    "test_df"
   ]
  },
  {
   "cell_type": "code",
   "execution_count": 20,
   "id": "2ebece9d",
   "metadata": {},
   "outputs": [
    {
     "data": {
      "text/plain": [
       "0.15146328241563115"
      ]
     },
     "execution_count": 20,
     "metadata": {},
     "output_type": "execute_result"
    }
   ],
   "source": [
    "from sklearn.metrics import mean_squared_error\n",
    "\n",
    "np.sqrt(mean_squared_error(test_df, birth_forecast))"
   ]
  },
  {
   "cell_type": "code",
   "execution_count": 33,
   "id": "d826e496",
   "metadata": {},
   "outputs": [
    {
     "data": {
      "text/plain": [
       "array([[42.9346998 ],\n",
       "       [41.88565584],\n",
       "       [42.14093859],\n",
       "       [41.86129913],\n",
       "       [42.10254367],\n",
       "       [41.88957974],\n",
       "       [42.07660821],\n",
       "       [41.91171342],\n",
       "       [42.05647603],\n",
       "       [41.92877316],\n",
       "       [42.04081103],\n",
       "       [41.94190248],\n",
       "       [42.0286044 ],\n",
       "       [41.95198879],\n",
       "       [42.01907529],\n",
       "       [41.95971918],\n",
       "       [42.01161915],\n",
       "       [41.96562557],\n",
       "       [42.00576793],\n",
       "       [41.9701198 ],\n",
       "       [42.00115926],\n",
       "       [41.97352071],\n",
       "       [41.99751259],\n",
       "       [41.97607517],\n",
       "       [41.99461071],\n",
       "       [41.97797429],\n",
       "       [41.99228547],\n",
       "       [41.97936604],\n",
       "       [41.99040666],\n",
       "       [41.98036497],\n",
       "       [41.98887348],\n",
       "       [41.98105979],\n",
       "       [41.98760789],\n",
       "       [41.98151914],\n",
       "       [41.98654949],\n",
       "       [41.98179621],\n",
       "       [41.98565148],\n",
       "       [41.98193214],\n",
       "       [41.98487765],\n",
       "       [41.9819588 ],\n",
       "       [41.98419997],\n",
       "       [41.98190087],\n",
       "       [41.98359672],\n",
       "       [41.98177744],\n",
       "       [41.9830511 ],\n",
       "       [41.9816033 ],\n",
       "       [41.9825501 ],\n",
       "       [41.98138991],\n",
       "       [41.98208365],\n",
       "       [41.98114612],\n",
       "       [41.98164393],\n",
       "       [41.9808788 ],\n",
       "       [41.98122492],\n",
       "       [41.98059326],\n",
       "       [41.98082195],\n",
       "       [41.98029361],\n",
       "       [41.98043138],\n",
       "       [41.97998305],\n",
       "       [41.98005042],\n",
       "       [41.97966403],\n",
       "       [41.9796769 ],\n",
       "       [41.97933846],\n",
       "       [41.97930914],\n",
       "       [41.97900783],\n",
       "       [41.97894584],\n",
       "       [41.97867328],\n",
       "       [41.97858599],\n",
       "       [41.97833568],\n",
       "       [41.97822882],\n",
       "       [41.97799574],\n",
       "       [41.97787371],\n",
       "       [41.97765397],\n",
       "       [41.97752021]])"
      ]
     },
     "execution_count": 33,
     "metadata": {},
     "output_type": "execute_result"
    }
   ],
   "source": [
    "forecast_inverse = scaler.inverse_transform(birth_forecast.reshape(-1, 1))\n",
    "forecast_inverse"
   ]
  },
  {
   "cell_type": "code",
   "execution_count": 29,
   "id": "2d312598",
   "metadata": {},
   "outputs": [
    {
     "data": {
      "text/plain": [
       "array([[53.],\n",
       "       [45.],\n",
       "       [30.],\n",
       "       [30.],\n",
       "       [40.],\n",
       "       [57.],\n",
       "       [56.],\n",
       "       [43.],\n",
       "       [52.],\n",
       "       [29.],\n",
       "       [49.],\n",
       "       [49.],\n",
       "       [39.],\n",
       "       [33.],\n",
       "       [39.],\n",
       "       [47.],\n",
       "       [52.],\n",
       "       [27.],\n",
       "       [42.],\n",
       "       [51.],\n",
       "       [39.],\n",
       "       [41.],\n",
       "       [36.],\n",
       "       [40.],\n",
       "       [32.],\n",
       "       [46.],\n",
       "       [34.],\n",
       "       [47.],\n",
       "       [40.],\n",
       "       [41.],\n",
       "       [44.],\n",
       "       [35.],\n",
       "       [42.],\n",
       "       [42.],\n",
       "       [43.],\n",
       "       [42.],\n",
       "       [35.],\n",
       "       [32.],\n",
       "       [33.],\n",
       "       [33.],\n",
       "       [33.],\n",
       "       [41.],\n",
       "       [46.],\n",
       "       [34.],\n",
       "       [28.],\n",
       "       [36.],\n",
       "       [49.],\n",
       "       [40.],\n",
       "       [40.],\n",
       "       [47.],\n",
       "       [46.],\n",
       "       [44.],\n",
       "       [44.],\n",
       "       [51.],\n",
       "       [47.],\n",
       "       [34.],\n",
       "       [44.],\n",
       "       [26.],\n",
       "       [38.],\n",
       "       [59.],\n",
       "       [51.],\n",
       "       [36.],\n",
       "       [45.],\n",
       "       [40.],\n",
       "       [48.],\n",
       "       [39.],\n",
       "       [55.],\n",
       "       [56.],\n",
       "       [41.],\n",
       "       [46.],\n",
       "       [42.],\n",
       "       [35.],\n",
       "       [43.]])"
      ]
     },
     "execution_count": 29,
     "metadata": {},
     "output_type": "execute_result"
    }
   ],
   "source": [
    "test_inverse = scaler.inverse_transform(test_df[['births']])\n",
    "test_inverse"
   ]
  },
  {
   "cell_type": "code",
   "execution_count": 38,
   "id": "daf459a0",
   "metadata": {},
   "outputs": [
    {
     "name": "stdout",
     "output_type": "stream",
     "text": [
      "7.573164120781557\n"
     ]
    },
    {
     "data": {
      "image/png": "[encoded data removed]",
      "text/plain": [
       "<Figure size 432x288 with 1 Axes>"
      ]
     },
     "metadata": {
      "needs_background": "light"
     },
     "output_type": "display_data"
    }
   ],
   "source": [
    "comp_df = pd.DataFrame()\n",
    "comp_df['test birth'] = test_inverse.flatten()\n",
    "comp_df['forecast birth'] = forecast_inverse.flatten()\n",
    "\n",
    "comp_df.plot()\n",
    "print( np.sqrt(mean_squared_error(comp_df['test birth'], comp_df['forecast birth'])) )"
   ]
  },
  {
   "cell_type": "markdown",
   "id": "481bfb4d",
   "metadata": {},
   "source": [
    "# Standaradization"
   ]
  },
  {
   "cell_type": "code",
   "execution_count": 94,
   "id": "3f4fd6e6",
   "metadata": {},
   "outputs": [
    {
     "data": {
      "text/html": [
       "<div>\n",
       "<style scoped>\n",
       "    .dataframe tbody tr th:only-of-type {\n",
       "        vertical-align: middle;\n",
       "    }\n",
       "\n",
       "    .dataframe tbody tr th {\n",
       "        vertical-align: top;\n",
       "    }\n",
       "\n",
       "    .dataframe thead th {\n",
       "        text-align: right;\n",
       "    }\n",
       "</style>\n",
       "<table border=\"1\" class=\"dataframe\">\n",
       "  <thead>\n",
       "    <tr style=\"text-align: right;\">\n",
       "      <th></th>\n",
       "      <th>births</th>\n",
       "    </tr>\n",
       "    <tr>\n",
       "      <th>date</th>\n",
       "      <th></th>\n",
       "    </tr>\n",
       "  </thead>\n",
       "  <tbody>\n",
       "    <tr>\n",
       "      <th>1959-01-01</th>\n",
       "      <td>-0.951301</td>\n",
       "    </tr>\n",
       "    <tr>\n",
       "      <th>1959-01-02</th>\n",
       "      <td>-1.360121</td>\n",
       "    </tr>\n",
       "    <tr>\n",
       "      <th>1959-01-03</th>\n",
       "      <td>-1.632668</td>\n",
       "    </tr>\n",
       "    <tr>\n",
       "      <th>1959-01-04</th>\n",
       "      <td>-1.496395</td>\n",
       "    </tr>\n",
       "    <tr>\n",
       "      <th>1959-01-05</th>\n",
       "      <td>0.275160</td>\n",
       "    </tr>\n",
       "    <tr>\n",
       "      <th>...</th>\n",
       "      <td>...</td>\n",
       "    </tr>\n",
       "    <tr>\n",
       "      <th>1959-12-27</th>\n",
       "      <td>-0.678754</td>\n",
       "    </tr>\n",
       "    <tr>\n",
       "      <th>1959-12-28</th>\n",
       "      <td>1.365348</td>\n",
       "    </tr>\n",
       "    <tr>\n",
       "      <th>1959-12-29</th>\n",
       "      <td>0.820254</td>\n",
       "    </tr>\n",
       "    <tr>\n",
       "      <th>1959-12-30</th>\n",
       "      <td>1.774169</td>\n",
       "    </tr>\n",
       "    <tr>\n",
       "      <th>1959-12-31</th>\n",
       "      <td>1.092801</td>\n",
       "    </tr>\n",
       "  </tbody>\n",
       "</table>\n",
       "<p>365 rows × 1 columns</p>\n",
       "</div>"
      ],
      "text/plain": [
       "              births\n",
       "date                \n",
       "1959-01-01 -0.951301\n",
       "1959-01-02 -1.360121\n",
       "1959-01-03 -1.632668\n",
       "1959-01-04 -1.496395\n",
       "1959-01-05  0.275160\n",
       "...              ...\n",
       "1959-12-27 -0.678754\n",
       "1959-12-28  1.365348\n",
       "1959-12-29  0.820254\n",
       "1959-12-30  1.774169\n",
       "1959-12-31  1.092801\n",
       "\n",
       "[365 rows x 1 columns]"
      ]
     },
     "execution_count": 94,
     "metadata": {},
     "output_type": "execute_result"
    }
   ],
   "source": [
    "from sklearn.preprocessing import StandardScaler\n",
    "\n",
    "birth_df = pd.read_csv('./dataset/daily-total-female-births-CA.csv', parse_dates=['date'], index_col='date')\n",
    "\n",
    "std_scaler = StandardScaler()\n",
    "birth_df[['births']] = std_scaler.fit_transform(birth_df[['births']])\n",
    "birth_df"
   ]
  },
  {
   "cell_type": "code",
   "execution_count": 96,
   "id": "7dcdc8ac",
   "metadata": {},
   "outputs": [
    {
     "name": "stdout",
     "output_type": "stream",
     "text": [
      "(292, 1)\n",
      "(73, 1)\n"
     ]
    }
   ],
   "source": [
    "train_df, test_df = train_test_split(\n",
    "    birth_df,\n",
    "    test_size=.2,\n",
    "    random_state=1\n",
    ")\n",
    "\n",
    "print(train_df.shape)\n",
    "print(test_df.shape)"
   ]
  },
  {
   "cell_type": "code",
   "execution_count": 97,
   "id": "86e0d05f",
   "metadata": {},
   "outputs": [
    {
     "data": {
      "text/html": [
       "<div>\n",
       "<style scoped>\n",
       "    .dataframe tbody tr th:only-of-type {\n",
       "        vertical-align: middle;\n",
       "    }\n",
       "\n",
       "    .dataframe tbody tr th {\n",
       "        vertical-align: top;\n",
       "    }\n",
       "\n",
       "    .dataframe thead th {\n",
       "        text-align: right;\n",
       "    }\n",
       "</style>\n",
       "<table border=\"1\" class=\"dataframe\">\n",
       "  <thead>\n",
       "    <tr style=\"text-align: right;\">\n",
       "      <th></th>\n",
       "      <th>births</th>\n",
       "    </tr>\n",
       "    <tr>\n",
       "      <th>date</th>\n",
       "      <th></th>\n",
       "    </tr>\n",
       "  </thead>\n",
       "  <tbody>\n",
       "    <tr>\n",
       "      <th>1959-03-20</th>\n",
       "      <td>-0.815027</td>\n",
       "    </tr>\n",
       "    <tr>\n",
       "      <th>1959-08-16</th>\n",
       "      <td>0.411434</td>\n",
       "    </tr>\n",
       "    <tr>\n",
       "      <th>1959-09-04</th>\n",
       "      <td>0.002613</td>\n",
       "    </tr>\n",
       "    <tr>\n",
       "      <th>1959-03-23</th>\n",
       "      <td>0.138887</td>\n",
       "    </tr>\n",
       "    <tr>\n",
       "      <th>1959-12-06</th>\n",
       "      <td>-1.223848</td>\n",
       "    </tr>\n",
       "    <tr>\n",
       "      <th>...</th>\n",
       "      <td>...</td>\n",
       "    </tr>\n",
       "    <tr>\n",
       "      <th>1959-07-23</th>\n",
       "      <td>0.002613</td>\n",
       "    </tr>\n",
       "    <tr>\n",
       "      <th>1959-09-13</th>\n",
       "      <td>0.002613</td>\n",
       "    </tr>\n",
       "    <tr>\n",
       "      <th>1959-03-14</th>\n",
       "      <td>-1.496395</td>\n",
       "    </tr>\n",
       "    <tr>\n",
       "      <th>1959-08-24</th>\n",
       "      <td>0.275160</td>\n",
       "    </tr>\n",
       "    <tr>\n",
       "      <th>1959-02-07</th>\n",
       "      <td>1.229075</td>\n",
       "    </tr>\n",
       "  </tbody>\n",
       "</table>\n",
       "<p>292 rows × 1 columns</p>\n",
       "</div>"
      ],
      "text/plain": [
       "              births\n",
       "date                \n",
       "1959-03-20 -0.815027\n",
       "1959-08-16  0.411434\n",
       "1959-09-04  0.002613\n",
       "1959-03-23  0.138887\n",
       "1959-12-06 -1.223848\n",
       "...              ...\n",
       "1959-07-23  0.002613\n",
       "1959-09-13  0.002613\n",
       "1959-03-14 -1.496395\n",
       "1959-08-24  0.275160\n",
       "1959-02-07  1.229075\n",
       "\n",
       "[292 rows x 1 columns]"
      ]
     },
     "execution_count": 97,
     "metadata": {},
     "output_type": "execute_result"
    }
   ],
   "source": [
    "train_df"
   ]
  },
  {
   "cell_type": "code",
   "execution_count": 98,
   "id": "36b7d0ca",
   "metadata": {},
   "outputs": [
    {
     "data": {
      "text/html": [
       "<div>\n",
       "<style scoped>\n",
       "    .dataframe tbody tr th:only-of-type {\n",
       "        vertical-align: middle;\n",
       "    }\n",
       "\n",
       "    .dataframe tbody tr th {\n",
       "        vertical-align: top;\n",
       "    }\n",
       "\n",
       "    .dataframe thead th {\n",
       "        text-align: right;\n",
       "    }\n",
       "</style>\n",
       "<table border=\"1\" class=\"dataframe\">\n",
       "  <thead>\n",
       "    <tr style=\"text-align: right;\">\n",
       "      <th></th>\n",
       "      <th>births</th>\n",
       "    </tr>\n",
       "    <tr>\n",
       "      <th>date</th>\n",
       "      <th></th>\n",
       "    </tr>\n",
       "  </thead>\n",
       "  <tbody>\n",
       "    <tr>\n",
       "      <th>1959-12-21</th>\n",
       "      <td>1.501622</td>\n",
       "    </tr>\n",
       "    <tr>\n",
       "      <th>1959-07-05</th>\n",
       "      <td>0.411434</td>\n",
       "    </tr>\n",
       "    <tr>\n",
       "      <th>1959-06-17</th>\n",
       "      <td>-1.632668</td>\n",
       "    </tr>\n",
       "    <tr>\n",
       "      <th>1959-06-25</th>\n",
       "      <td>-1.632668</td>\n",
       "    </tr>\n",
       "    <tr>\n",
       "      <th>1959-11-11</th>\n",
       "      <td>-0.269934</td>\n",
       "    </tr>\n",
       "    <tr>\n",
       "      <th>...</th>\n",
       "      <td>...</td>\n",
       "    </tr>\n",
       "    <tr>\n",
       "      <th>1959-06-29</th>\n",
       "      <td>-0.133660</td>\n",
       "    </tr>\n",
       "    <tr>\n",
       "      <th>1959-12-03</th>\n",
       "      <td>0.547707</td>\n",
       "    </tr>\n",
       "    <tr>\n",
       "      <th>1959-04-17</th>\n",
       "      <td>0.002613</td>\n",
       "    </tr>\n",
       "    <tr>\n",
       "      <th>1959-01-28</th>\n",
       "      <td>-0.951301</td>\n",
       "    </tr>\n",
       "    <tr>\n",
       "      <th>1959-10-11</th>\n",
       "      <td>0.138887</td>\n",
       "    </tr>\n",
       "  </tbody>\n",
       "</table>\n",
       "<p>73 rows × 1 columns</p>\n",
       "</div>"
      ],
      "text/plain": [
       "              births\n",
       "date                \n",
       "1959-12-21  1.501622\n",
       "1959-07-05  0.411434\n",
       "1959-06-17 -1.632668\n",
       "1959-06-25 -1.632668\n",
       "1959-11-11 -0.269934\n",
       "...              ...\n",
       "1959-06-29 -0.133660\n",
       "1959-12-03  0.547707\n",
       "1959-04-17  0.002613\n",
       "1959-01-28 -0.951301\n",
       "1959-10-11  0.138887\n",
       "\n",
       "[73 rows x 1 columns]"
      ]
     },
     "execution_count": 98,
     "metadata": {},
     "output_type": "execute_result"
    }
   ],
   "source": [
    "test_df"
   ]
  },
  {
   "cell_type": "code",
   "execution_count": 99,
   "id": "f30d67ba",
   "metadata": {},
   "outputs": [
    {
     "name": "stderr",
     "output_type": "stream",
     "text": [
      "C:\\Users\\Angga\\anaconda3\\lib\\site-packages\\statsmodels\\tsa\\arima_model.py:472: FutureWarning: \n",
      "statsmodels.tsa.arima_model.ARMA and statsmodels.tsa.arima_model.ARIMA have\n",
      "been deprecated in favor of statsmodels.tsa.arima.model.ARIMA (note the .\n",
      "between arima and model) and\n",
      "statsmodels.tsa.SARIMAX. These will be removed after the 0.12 release.\n",
      "\n",
      "statsmodels.tsa.arima.model.ARIMA makes use of the statespace framework and\n",
      "is both well tested and maintained.\n",
      "\n",
      "To silence this warning and continue using ARMA and ARIMA until they are\n",
      "removed, use:\n",
      "\n",
      "import warnings\n",
      "warnings.filterwarnings('ignore', 'statsmodels.tsa.arima_model.ARMA',\n",
      "                        FutureWarning)\n",
      "warnings.filterwarnings('ignore', 'statsmodels.tsa.arima_model.ARIMA',\n",
      "                        FutureWarning)\n",
      "\n",
      "  warnings.warn(ARIMA_DEPRECATION_WARN, FutureWarning)\n",
      "C:\\Users\\Angga\\anaconda3\\lib\\site-packages\\statsmodels\\tsa\\base\\tsa_model.py:581: ValueWarning: A date index has been provided, but it has no associated frequency information and so will be ignored when e.g. forecasting.\n",
      "  warnings.warn('A date index has been provided, but it has no'\n",
      "C:\\Users\\Angga\\anaconda3\\lib\\site-packages\\statsmodels\\tsa\\base\\tsa_model.py:585: ValueWarning: A date index has been provided, but it is not monotonic and so will be ignored when e.g. forecasting.\n",
      "  warnings.warn('A date index has been provided, but it is not'\n",
      "C:\\Users\\Angga\\anaconda3\\lib\\site-packages\\statsmodels\\tsa\\base\\tsa_model.py:581: ValueWarning: A date index has been provided, but it has no associated frequency information and so will be ignored when e.g. forecasting.\n",
      "  warnings.warn('A date index has been provided, but it has no'\n",
      "C:\\Users\\Angga\\anaconda3\\lib\\site-packages\\statsmodels\\tsa\\base\\tsa_model.py:585: ValueWarning: A date index has been provided, but it is not monotonic and so will be ignored when e.g. forecasting.\n",
      "  warnings.warn('A date index has been provided, but it is not'\n"
     ]
    }
   ],
   "source": [
    "std_birth_arima = ARIMA(train_df, order=(2,1,2))"
   ]
  },
  {
   "cell_type": "code",
   "execution_count": 100,
   "id": "b14ec536",
   "metadata": {},
   "outputs": [
    {
     "name": "stderr",
     "output_type": "stream",
     "text": [
      "C:\\Users\\Angga\\anaconda3\\lib\\site-packages\\statsmodels\\tsa\\arima_model.py:472: FutureWarning: \n",
      "statsmodels.tsa.arima_model.ARMA and statsmodels.tsa.arima_model.ARIMA have\n",
      "been deprecated in favor of statsmodels.tsa.arima.model.ARIMA (note the .\n",
      "between arima and model) and\n",
      "statsmodels.tsa.SARIMAX. These will be removed after the 0.12 release.\n",
      "\n",
      "statsmodels.tsa.arima.model.ARIMA makes use of the statespace framework and\n",
      "is both well tested and maintained.\n",
      "\n",
      "To silence this warning and continue using ARMA and ARIMA until they are\n",
      "removed, use:\n",
      "\n",
      "import warnings\n",
      "warnings.filterwarnings('ignore', 'statsmodels.tsa.arima_model.ARMA',\n",
      "                        FutureWarning)\n",
      "warnings.filterwarnings('ignore', 'statsmodels.tsa.arima_model.ARIMA',\n",
      "                        FutureWarning)\n",
      "\n",
      "  warnings.warn(ARIMA_DEPRECATION_WARN, FutureWarning)\n"
     ]
    }
   ],
   "source": [
    "std_birth_arima_fit = std_birth_arima.fit()"
   ]
  },
  {
   "cell_type": "code",
   "execution_count": 101,
   "id": "97f056d8",
   "metadata": {},
   "outputs": [
    {
     "data": {
      "text/plain": [
       "834.8982529084345"
      ]
     },
     "execution_count": 101,
     "metadata": {},
     "output_type": "execute_result"
    }
   ],
   "source": [
    "std_birth_arima_fit.aic"
   ]
  },
  {
   "cell_type": "code",
   "execution_count": 102,
   "id": "b4972a49",
   "metadata": {},
   "outputs": [],
   "source": [
    "std_birth_forecast = std_birth_arima_fit.forecast(steps=len(test_df))[0]"
   ]
  },
  {
   "cell_type": "code",
   "execution_count": 103,
   "id": "2548fddd",
   "metadata": {},
   "outputs": [
    {
     "data": {
      "text/plain": [
       "array([ 1.29992651e-01, -1.29642207e-02,  2.18241826e-02, -1.62833209e-02,\n",
       "        1.65920080e-02, -1.24293472e-02,  1.30577370e-02, -9.41304305e-03,\n",
       "        1.03143047e-02, -7.08818620e-03,  8.17963358e-03, -5.29894482e-03,\n",
       "        6.51624951e-03, -3.92438573e-03,  5.21774176e-03, -2.87087899e-03,\n",
       "        4.20172592e-03, -2.06593508e-03,  3.40441895e-03, -1.45343171e-03,\n",
       "        2.77643917e-03, -9.89918265e-04,  2.27955468e-03, -6.41754726e-04,\n",
       "        1.88416584e-03, -3.82896562e-04,  1.56735623e-03, -1.93179763e-04,\n",
       "        1.31138367e-03, -5.69930941e-05,  1.10251193e-03,  3.77498623e-05,\n",
       "        9.30106244e-04,  1.00406566e-04,  7.85933050e-04,  1.38221682e-04,\n",
       "        6.63617810e-04,  1.56804123e-04,  5.58225280e-04,  1.60496380e-04,\n",
       "        4.65934526e-04,  1.52660466e-04,  3.83787337e-04,  1.35899295e-04,\n",
       "        3.09493425e-04,  1.12228076e-04,  2.41279621e-04,  8.32070086e-05,\n",
       "        1.77773114e-04,  5.00440203e-05,  1.17911057e-04,  1.36743038e-05,\n",
       "        6.08705793e-05, -2.51781028e-05,  6.01460495e-06, -6.59526397e-05,\n",
       "       -4.71500991e-05, -1.08215315e-04, -9.90054001e-05, -1.51630125e-04,\n",
       "       -1.49846944e-04, -1.95936933e-04, -1.99903625e-04, -2.40934338e-04,\n",
       "       -2.49352655e-04, -2.86466411e-04, -2.98331233e-04, -3.32412432e-04,\n",
       "       -3.46945582e-04, -3.78678935e-04, -3.95277939e-04, -4.25193561e-04,\n",
       "       -4.43391976e-04])"
      ]
     },
     "execution_count": 103,
     "metadata": {},
     "output_type": "execute_result"
    }
   ],
   "source": [
    "std_birth_forecast"
   ]
  },
  {
   "cell_type": "code",
   "execution_count": 104,
   "id": "b38d1f41",
   "metadata": {},
   "outputs": [
    {
     "data": {
      "text/plain": [
       "array([[42.93473194],\n",
       "       [41.88568808],\n",
       "       [42.14097179],\n",
       "       [41.86133191],\n",
       "       [42.10257713],\n",
       "       [41.88961308],\n",
       "       [42.076642  ],\n",
       "       [41.91174727],\n",
       "       [42.05651019],\n",
       "       [41.9288075 ],\n",
       "       [42.04084558],\n",
       "       [41.94193728],\n",
       "       [42.02863936],\n",
       "       [41.95202405],\n",
       "       [42.01911067],\n",
       "       [41.95975488],\n",
       "       [42.01165496],\n",
       "       [41.96566171],\n",
       "       [42.00580417],\n",
       "       [41.97015637],\n",
       "       [42.00119594],\n",
       "       [41.97355772],\n",
       "       [41.99754971],\n",
       "       [41.9761126 ],\n",
       "       [41.99464827],\n",
       "       [41.97801215],\n",
       "       [41.99232347],\n",
       "       [41.97940433],\n",
       "       [41.99044509],\n",
       "       [41.98040369],\n",
       "       [41.98891235],\n",
       "       [41.98109893],\n",
       "       [41.98764721],\n",
       "       [41.98155872],\n",
       "       [41.98658924],\n",
       "       [41.98183621],\n",
       "       [41.98569167],\n",
       "       [41.98197258],\n",
       "       [41.98491828],\n",
       "       [41.98199967],\n",
       "       [41.98424103],\n",
       "       [41.98194217],\n",
       "       [41.98363822],\n",
       "       [41.98181917],\n",
       "       [41.98309304],\n",
       "       [41.98164547],\n",
       "       [41.98259247],\n",
       "       [41.98143251],\n",
       "       [41.98212645],\n",
       "       [41.98118915],\n",
       "       [41.98168717],\n",
       "       [41.98092226],\n",
       "       [41.9812686 ],\n",
       "       [41.98063716],\n",
       "       [41.98086605],\n",
       "       [41.98033795],\n",
       "       [41.98047592],\n",
       "       [41.98002781],\n",
       "       [41.9800954 ],\n",
       "       [41.97970923],\n",
       "       [41.97972231],\n",
       "       [41.9793841 ],\n",
       "       [41.97935499],\n",
       "       [41.9790539 ],\n",
       "       [41.97899212],\n",
       "       [41.97871977],\n",
       "       [41.97863271],\n",
       "       [41.97838261],\n",
       "       [41.97827597],\n",
       "       [41.9780431 ],\n",
       "       [41.9779213 ],\n",
       "       [41.97770177],\n",
       "       [41.97756823]])"
      ]
     },
     "execution_count": 104,
     "metadata": {},
     "output_type": "execute_result"
    }
   ],
   "source": [
    "std_scaler.inverse_transform(std_birth_forecast.reshape(-1,1))"
   ]
  },
  {
   "cell_type": "code",
   "execution_count": 105,
   "id": "3555e2fa",
   "metadata": {},
   "outputs": [
    {
     "data": {
      "text/plain": [
       "array([[53.],\n",
       "       [45.],\n",
       "       [30.],\n",
       "       [30.],\n",
       "       [40.],\n",
       "       [57.],\n",
       "       [56.],\n",
       "       [43.],\n",
       "       [52.],\n",
       "       [29.],\n",
       "       [49.],\n",
       "       [49.],\n",
       "       [39.],\n",
       "       [33.],\n",
       "       [39.],\n",
       "       [47.],\n",
       "       [52.],\n",
       "       [27.],\n",
       "       [42.],\n",
       "       [51.],\n",
       "       [39.],\n",
       "       [41.],\n",
       "       [36.],\n",
       "       [40.],\n",
       "       [32.],\n",
       "       [46.],\n",
       "       [34.],\n",
       "       [47.],\n",
       "       [40.],\n",
       "       [41.],\n",
       "       [44.],\n",
       "       [35.],\n",
       "       [42.],\n",
       "       [42.],\n",
       "       [43.],\n",
       "       [42.],\n",
       "       [35.],\n",
       "       [32.],\n",
       "       [33.],\n",
       "       [33.],\n",
       "       [33.],\n",
       "       [41.],\n",
       "       [46.],\n",
       "       [34.],\n",
       "       [28.],\n",
       "       [36.],\n",
       "       [49.],\n",
       "       [40.],\n",
       "       [40.],\n",
       "       [47.],\n",
       "       [46.],\n",
       "       [44.],\n",
       "       [44.],\n",
       "       [51.],\n",
       "       [47.],\n",
       "       [34.],\n",
       "       [44.],\n",
       "       [26.],\n",
       "       [38.],\n",
       "       [59.],\n",
       "       [51.],\n",
       "       [36.],\n",
       "       [45.],\n",
       "       [40.],\n",
       "       [48.],\n",
       "       [39.],\n",
       "       [55.],\n",
       "       [56.],\n",
       "       [41.],\n",
       "       [46.],\n",
       "       [42.],\n",
       "       [35.],\n",
       "       [43.]])"
      ]
     },
     "execution_count": 105,
     "metadata": {},
     "output_type": "execute_result"
    }
   ],
   "source": [
    "std_scaler.inverse_transform(test_df[['births']])"
   ]
  },
  {
   "cell_type": "code",
   "execution_count": 109,
   "id": "f87472fc",
   "metadata": {},
   "outputs": [
    {
     "name": "stdout",
     "output_type": "stream",
     "text": [
      "7.573165475328858\n"
     ]
    },
    {
     "data": {
      "image/png": "[encoded data removed]",
      "text/plain": [
       "<Figure size 432x288 with 1 Axes>"
      ]
     },
     "metadata": {
      "needs_background": "light"
     },
     "output_type": "display_data"
    }
   ],
   "source": [
    "comp_std_df = pd.DataFrame()\n",
    "comp_std_df['births test'] = std_scaler.inverse_transform(test_df[['births']]).flatten()\n",
    "comp_std_df['births forecast'] = std_scaler.inverse_transform(std_birth_forecast.reshape(-1,1)).flatten()\n",
    "comp_std_df.plot()\n",
    "print(np.sqrt(mean_squared_error(comp_std_df['births test'], comp_std_df['births forecast'])))"
   ]
  }
 ],
 "metadata": {
  "kernelspec": {
   "display_name": "Python 3",
   "language": "python",
   "name": "python3"
  },
  "language_info": {
   "codemirror_mode": {
    "name": "ipython",
    "version": 3
   },
   "file_extension": ".py",
   "mimetype": "text/x-python",
   "name": "python",
   "nbconvert_exporter": "python",
   "pygments_lexer": "ipython3",
   "version": "3.8.8"
  }
 },
 "nbformat": 4,
 "nbformat_minor": 5
}
