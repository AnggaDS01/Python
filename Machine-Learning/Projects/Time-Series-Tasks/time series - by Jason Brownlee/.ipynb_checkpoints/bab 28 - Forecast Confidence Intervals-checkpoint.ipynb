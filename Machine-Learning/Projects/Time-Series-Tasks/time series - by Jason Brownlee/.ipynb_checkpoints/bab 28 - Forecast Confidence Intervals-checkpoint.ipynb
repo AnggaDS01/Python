{
 "cells": [
  {
   "cell_type": "code",
   "execution_count": 8,
   "id": "062cf2f3",
   "metadata": {},
   "outputs": [],
   "source": [
    "import pandas as pd\n",
    "import numpy as np\n",
    "import matplotlib.pyplot as plt\n",
    "import warnings\n",
    "warnings.filterwarnings('ignore')"
   ]
  },
  {
   "cell_type": "markdown",
   "id": "42b079bb",
   "metadata": {},
   "source": [
    "## Forecast Confidence Intervals\n",
    "\n",
    "Time series forecast models can both make predictions and provide a confidence interval for\n",
    "those predictions. Confidence intervals provide an upper and lower expectation for the real\n",
    "observation."
   ]
  },
  {
   "cell_type": "markdown",
   "id": "47c8f916",
   "metadata": {},
   "source": [
    "### ARIMA Forecast\n",
    "\n",
    "The ARIMA implementation in the Statsmodels Python library can be used to fit an ARIMA\n",
    "model.  It returns an ARIMAResults object.  This object provides the forecast() function that can \n",
    "be used to make predictions about future time steps and default to predicting the value at the next \n",
    "time step after the end of the training data.  Assuming we are predicting just the next time step, \n",
    "the forecast() method returns three values:\n",
    "\n",
    "* Forecast.  The forecasted value in the units of the training time series.\n",
    "* Standard error.  The standard error for the model.\n",
    "* Confidence interval.  The 95% confidence interval for the forecast.\n",
    "\n",
    "In this tutorial, we will better understand the confidence interval provided with an ARIMA \n",
    "forecast.  Before we dive in, let’s first look at the Daily Female Births dataset that we will use\n",
    "as the context for this tutorial.\n"
   ]
  },
  {
   "cell_type": "markdown",
   "id": "d98819b2",
   "metadata": {},
   "source": [
    "### Forecast Confidence Interval\n",
    "\n",
    "In this section, we will train an ARIMA model, use it to make a prediction, and inspect the\n",
    "confidence interval. First, we will split the training dataset into a training and test dataset.\n",
    "Almost all observations will be used for training and we will hold back the last single observation\n",
    "as a test dataset for which we will make a prediction."
   ]
  },
  {
   "cell_type": "code",
   "execution_count": 4,
   "id": "901e257a",
   "metadata": {},
   "outputs": [
    {
     "data": {
      "text/html": [
       "<div>\n",
       "<style scoped>\n",
       "    .dataframe tbody tr th:only-of-type {\n",
       "        vertical-align: middle;\n",
       "    }\n",
       "\n",
       "    .dataframe tbody tr th {\n",
       "        vertical-align: top;\n",
       "    }\n",
       "\n",
       "    .dataframe thead th {\n",
       "        text-align: right;\n",
       "    }\n",
       "</style>\n",
       "<table border=\"1\" class=\"dataframe\">\n",
       "  <thead>\n",
       "    <tr style=\"text-align: right;\">\n",
       "      <th></th>\n",
       "      <th>Births</th>\n",
       "    </tr>\n",
       "    <tr>\n",
       "      <th>Date</th>\n",
       "      <th></th>\n",
       "    </tr>\n",
       "  </thead>\n",
       "  <tbody>\n",
       "    <tr>\n",
       "      <th>1959-01-01</th>\n",
       "      <td>35</td>\n",
       "    </tr>\n",
       "    <tr>\n",
       "      <th>1959-01-02</th>\n",
       "      <td>32</td>\n",
       "    </tr>\n",
       "    <tr>\n",
       "      <th>1959-01-03</th>\n",
       "      <td>30</td>\n",
       "    </tr>\n",
       "    <tr>\n",
       "      <th>1959-01-04</th>\n",
       "      <td>31</td>\n",
       "    </tr>\n",
       "    <tr>\n",
       "      <th>1959-01-05</th>\n",
       "      <td>44</td>\n",
       "    </tr>\n",
       "  </tbody>\n",
       "</table>\n",
       "</div>"
      ],
      "text/plain": [
       "            Births\n",
       "Date              \n",
       "1959-01-01      35\n",
       "1959-01-02      32\n",
       "1959-01-03      30\n",
       "1959-01-04      31\n",
       "1959-01-05      44"
      ]
     },
     "execution_count": 4,
     "metadata": {},
     "output_type": "execute_result"
    }
   ],
   "source": [
    "from statsmodels.tsa.arima_model import ARIMA\n",
    "\n",
    "df = pd.read_csv('./dataset/daily-total-female-births.csv', parse_dates=['Date'], index_col='Date')\n",
    "df.head()"
   ]
  },
  {
   "cell_type": "code",
   "execution_count": 9,
   "id": "643fc78c",
   "metadata": {},
   "outputs": [
    {
     "name": "stdout",
     "output_type": "stream",
     "text": [
      "train: 73, test: 73\n",
      "train: 146, test: 73\n",
      "train: 219, test: 73\n",
      "train: 292, test: 73\n",
      "Expected: 42.000\n",
      "Forecast: 47.095\n",
      "Standard Error: 7.062\n",
      "95% Confidence Interval: 33.254 to 60.935\n"
     ]
    }
   ],
   "source": [
    "from sklearn.model_selection import TimeSeriesSplit\n",
    "\n",
    "X = df.values\n",
    "splits = TimeSeriesSplit(n_splits=4)\n",
    "\n",
    "for train_index, test_index in splits.split(X):\n",
    "    train = X[train_index]\n",
    "    test = X[test_index]\n",
    "    print(f'train: {len(train)}, test: {len(test)}')\n",
    "\n",
    "# fit an ARIMA model \n",
    "model = ARIMA(train, order=(5,1,1))\n",
    "model_fit = model.fit(disp=False)\n",
    "\n",
    "# forecast\n",
    "forecast, stderr, conf = model_fit.forecast()\n",
    "\n",
    "# summarize forecast and confidence intervals\n",
    "print('Expected: %.3f' % test[0])\n",
    "print('Forecast: %.3f' % forecast)\n",
    "print('Standard Error: %.3f' % stderr)\n",
    "print('95%% Confidence Interval: %.3f to %.3f' % (conf[0][0], conf[0][1]))"
   ]
  },
  {
   "cell_type": "markdown",
   "id": "327fb96d",
   "metadata": {},
   "source": [
    "## Interpreting the Confidence Interval\n",
    "\n",
    "The forecast() function allows the confidence interval to be specified.  The alpha argument\n",
    "on the forecast() function specifies the confidence level.  It is set by default to alpha=0.05, \n",
    "which is a 95% confidence interval.  This is a sensible and widely used confidence interval.  An \n",
    "alpha of 0.05 means that the ARIMA model will estimate the upper and lower values around the \n",
    "forecast where there is a only a 5% chance that the real value will not be in that range.\n",
    "\n",
    "Put another way, the 95% confidence interval suggests that there is a high likelihood that the real \n",
    "observation will be within the range.  In the above example, the forecast was 45.878. The 95% \n",
    "confidence interval suggested that the real observation was highly likely to fall within the range \n",
    "of values between 32.167 and 59.590.  The real observation was 50.0 and was well\n",
    "within this range.  We can tighten the range of likely values a few ways:\n",
    "\n",
    "* We can ask for a range that is narrower but increases the statistical likelihood of a real observation falling outside of the range.\n",
    "* We can develop a model that has more predictive power and in turn makes more accurate predictions.\n",
    "\n",
    "Further, the confidence interval is also limited by the assumptions made by the model, such\n",
    "as the distribution of errors made by the model fit a Gaussian distribution with a zero mean\n",
    "value (e.g. white noise). Extending the example above, we can report our forecast with a few\n",
    "different commonly used confidence intervals of 80%, 90%, 95% and 99%. The complete example\n",
    "is listed below."
   ]
  },
  {
   "cell_type": "code",
   "execution_count": 11,
   "id": "0ebc18f6",
   "metadata": {},
   "outputs": [
    {
     "name": "stdout",
     "output_type": "stream",
     "text": [
      "80.0% Confidence Interval: 47.095 between 38.045 and 56.145\n",
      "90.0% Confidence Interval: 47.095 between 35.480 and 58.710\n",
      "95.0% Confidence Interval: 47.095 between 33.254 and 60.935\n",
      "99.0% Confidence Interval: 47.095 between 28.905 and 65.284\n"
     ]
    }
   ],
   "source": [
    "intervals = [0.2, 0.1, 0.05, 0.01]\n",
    "for a in intervals:\n",
    "    forecast, stderr, conf = model_fit.forecast(alpha=a)\n",
    "    print('%.1f%% Confidence Interval: %.3f between %.3f and %.3f' % ((1-a)*100, forecast, conf[0][0], conf[0][1]))"
   ]
  },
  {
   "cell_type": "code",
   "execution_count": 16,
   "id": "c07c669b",
   "metadata": {},
   "outputs": [
    {
     "data": {
      "image/png": "[encoded data removed]",
      "text/plain": [
       "<Figure size 432x288 with 1 Axes>"
      ]
     },
     "metadata": {
      "needs_background": "light"
     },
     "output_type": "display_data"
    }
   ],
   "source": [
    "# plot some history and the forecast with confidence intervals\n",
    "model_fit.plot_predict(len(train)-10, len(train)+10)\n",
    "plt.legend(loc='upper left')\n",
    "plt.show()"
   ]
  }
 ],
 "metadata": {
  "kernelspec": {
   "display_name": "Python 3",
   "language": "python",
   "name": "python3"
  },
  "language_info": {
   "codemirror_mode": {
    "name": "ipython",
    "version": 3
   },
   "file_extension": ".py",
   "mimetype": "text/x-python",
   "name": "python",
   "nbconvert_exporter": "python",
   "pygments_lexer": "ipython3",
   "version": "3.8.8"
  }
 },
 "nbformat": 4,
 "nbformat_minor": 5
}
