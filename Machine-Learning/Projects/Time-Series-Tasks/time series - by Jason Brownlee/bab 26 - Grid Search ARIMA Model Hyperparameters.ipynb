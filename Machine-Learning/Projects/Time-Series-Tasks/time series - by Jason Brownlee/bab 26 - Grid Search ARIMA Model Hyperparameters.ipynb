{
 "cells": [
  {
   "cell_type": "code",
   "execution_count": 1,
   "id": "645bdea8",
   "metadata": {},
   "outputs": [],
   "source": [
    "import pandas as pd\n",
    "import matplotlib.pyplot as plt\n",
    "import numpy as np"
   ]
  },
  {
   "cell_type": "markdown",
   "id": "67b75062",
   "metadata": {},
   "source": [
    "## Grid Searching Method\n",
    "Diagnostic plots of the time series can be used along with heuristic rules to determine the\n",
    "hyperparameters of the ARIMA model. These are good in most, but perhaps not all, situations.\n",
    "We can automate the process of training and evaluating ARIMA models on di\u000b",
    "erent combinations\n",
    "of model hyperparameters. In machine learning this is called a grid search or model tuning. In\n",
    "this tutorial, we will develop a method to grid search ARIMA hyperparameters for a one-step\n",
    "rolling forecast. The approach is broken down into two parts:\n",
    "1. Evaluate an ARIMA model.\n",
    "2. Evaluate sets of ARIMA parameters.\n",
    "The code in this tutorial makes use of the scikit-learn, Pandas, and the Statsmodels Python\n",
    "libraries."
   ]
  },
  {
   "cell_type": "code",
   "execution_count": 2,
   "id": "319a5891",
   "metadata": {},
   "outputs": [],
   "source": [
    "from sklearn.model_selection import TimeSeriesSplit\n",
    "from statsmodels.tsa.arima_model import ARIMA\n",
    "from sklearn.metrics import mean_squared_error\n",
    "\n",
    "def evaluate_arima_model(X, arima_order):\n",
    "    # prepare training dataset\n",
    "    train_size = int(len(X) * 0.66)\n",
    "    train, test = X[0:train_size], X[train_size:]\n",
    "    history = [x for x in train]\n",
    "    # make predictions\n",
    "    predictions = list()\n",
    "    for t in range(len(test)):\n",
    "        model = ARIMA(history, order=arima_order)\n",
    "        model_fit = model.fit(disp=0)\n",
    "        yhat = model_fit.forecast()[0]\n",
    "        predictions.append(yhat)\n",
    "        history.append(test[t])\n",
    "    # calculate out of sample error\n",
    "    rmse = sqrt(mean_squared_error(test, predictions))\n",
    "    return rmse"
   ]
  },
  {
   "cell_type": "markdown",
   "id": "42f48cd5",
   "metadata": {},
   "source": [
    "## Iterate ARIMA Parameters\n",
    "\n",
    "Evaluating a suite of parameters is relatively straightforward. The user must specify a grid\n",
    "of p, d, and q ARIMA parameters to iterate. A model is created for each parameter and\n",
    "its performance evaluated by calling the evaluate arima model() function described in the\n",
    "previous section. The function must keep track of the lowest error score observed and the\n",
    "con\f",
    "guration that caused it. This can be summarized at the end of the function with a print to\n",
    "standard out."
   ]
  },
  {
   "cell_type": "code",
   "execution_count": 3,
   "id": "8841f47a",
   "metadata": {},
   "outputs": [],
   "source": [
    "import warnings\n",
    "warnings.filterwarnings('ignore')"
   ]
  },
  {
   "cell_type": "code",
   "execution_count": 4,
   "id": "7e7fee08",
   "metadata": {},
   "outputs": [],
   "source": [
    "def evaluate_models(dataset, p_values, d_values, q_values):\n",
    "    dataset = dataset.astype('float32')\n",
    "    best_score, best_cfg = float(\"inf\"), None\n",
    "    for p in p_values:\n",
    "        for d in d_values:\n",
    "            for q in q_values:\n",
    "                order = (p,d,q)\n",
    "                try:\n",
    "                    rmse = evaluate_arima_model(dataset, order)\n",
    "                    if rmse < best_score:\n",
    "                        best_score, best_cfg = rmse, order\n",
    "                    print('ARIMA%s RMSE=%.3f' % (order,rmse))\n",
    "                except:\n",
    "                    continue\n",
    "    print('Best ARIMA%s RMSE=%.3f' % (best_cfg, best_score))"
   ]
  },
  {
   "cell_type": "code",
   "execution_count": 5,
   "id": "cb91dcbf",
   "metadata": {},
   "outputs": [
    {
     "data": {
      "text/html": [
       "<div>\n",
       "<style scoped>\n",
       "    .dataframe tbody tr th:only-of-type {\n",
       "        vertical-align: middle;\n",
       "    }\n",
       "\n",
       "    .dataframe tbody tr th {\n",
       "        vertical-align: top;\n",
       "    }\n",
       "\n",
       "    .dataframe thead th {\n",
       "        text-align: right;\n",
       "    }\n",
       "</style>\n",
       "<table border=\"1\" class=\"dataframe\">\n",
       "  <thead>\n",
       "    <tr style=\"text-align: right;\">\n",
       "      <th></th>\n",
       "      <th>Sales</th>\n",
       "    </tr>\n",
       "    <tr>\n",
       "      <th>Month</th>\n",
       "      <th></th>\n",
       "    </tr>\n",
       "  </thead>\n",
       "  <tbody>\n",
       "    <tr>\n",
       "      <th>1901-01-01</th>\n",
       "      <td>266.0</td>\n",
       "    </tr>\n",
       "    <tr>\n",
       "      <th>1901-02-01</th>\n",
       "      <td>145.9</td>\n",
       "    </tr>\n",
       "    <tr>\n",
       "      <th>1901-03-01</th>\n",
       "      <td>183.1</td>\n",
       "    </tr>\n",
       "    <tr>\n",
       "      <th>1901-04-01</th>\n",
       "      <td>119.3</td>\n",
       "    </tr>\n",
       "    <tr>\n",
       "      <th>1901-05-01</th>\n",
       "      <td>180.3</td>\n",
       "    </tr>\n",
       "  </tbody>\n",
       "</table>\n",
       "</div>"
      ],
      "text/plain": [
       "            Sales\n",
       "Month            \n",
       "1901-01-01  266.0\n",
       "1901-02-01  145.9\n",
       "1901-03-01  183.1\n",
       "1901-04-01  119.3\n",
       "1901-05-01  180.3"
      ]
     },
     "execution_count": 5,
     "metadata": {},
     "output_type": "execute_result"
    }
   ],
   "source": [
    "parser = lambda x: pd.datetime.strptime('190'+x, '%Y-%m')\n",
    "df = pd.read_csv('./dataset/shampoo_sales.csv', parse_dates=['Month'], date_parser=parser, index_col='Month')\n",
    "df.head()"
   ]
  },
  {
   "cell_type": "code",
   "execution_count": 6,
   "id": "7470cddb",
   "metadata": {},
   "outputs": [
    {
     "name": "stdout",
     "output_type": "stream",
     "text": [
      "Best ARIMANone RMSE=inf\n"
     ]
    }
   ],
   "source": [
    "# evaluate parameters\n",
    "p_values = [0, 1, 2, 4, 6, 8, 10]\n",
    "d_values = range(0, 3)\n",
    "q_values = range(0, 3)\n",
    "evaluate_models(df.values, p_values, d_values, q_values)"
   ]
  },
  {
   "cell_type": "code",
   "execution_count": 7,
   "id": "e65eabd2",
   "metadata": {},
   "outputs": [
    {
     "name": "stdout",
     "output_type": "stream",
     "text": [
      "ARIMA(0, 0, 0) RMSE=228.966\n",
      "ARIMA(0, 0, 1) RMSE=195.308\n",
      "ARIMA(0, 0, 2) RMSE=154.886\n",
      "ARIMA(0, 1, 0) RMSE=134.176\n",
      "ARIMA(0, 1, 1) RMSE=97.767\n",
      "ARIMA(0, 1, 2) RMSE=79.415\n",
      "ARIMA(0, 2, 0) RMSE=259.499\n",
      "ARIMA(0, 2, 1) RMSE=135.357\n",
      "ARIMA(1, 0, 0) RMSE=152.030\n",
      "ARIMA(1, 0, 2) RMSE=85.627\n",
      "ARIMA(1, 1, 0) RMSE=84.388\n",
      "ARIMA(1, 1, 1) RMSE=83.688\n",
      "ARIMA(1, 2, 0) RMSE=136.411\n",
      "ARIMA(2, 0, 0) RMSE=102.967\n",
      "ARIMA(2, 1, 0) RMSE=75.432\n",
      "ARIMA(2, 1, 1) RMSE=88.089\n",
      "ARIMA(2, 2, 0) RMSE=99.302\n",
      "ARIMA(4, 0, 0) RMSE=98.796\n",
      "ARIMA(4, 1, 0) RMSE=81.545\n",
      "ARIMA(4, 1, 1) RMSE=82.440\n",
      "ARIMA(4, 2, 0) RMSE=87.157\n",
      "ARIMA(4, 2, 1) RMSE=68.519\n",
      "ARIMA(6, 0, 0) RMSE=91.973\n",
      "ARIMA(6, 1, 0) RMSE=82.523\n",
      "ARIMA(6, 1, 1) RMSE=67.250\n",
      "ARIMA(6, 2, 0) RMSE=79.127\n",
      "ARIMA(8, 1, 0) RMSE=81.113\n",
      "ARIMA(10, 1, 0) RMSE=86.853\n",
      "Best ARIMA(6, 1, 1) RMSE=67.250\n"
     ]
    }
   ],
   "source": [
    "import warnings\n",
    "from math import sqrt\n",
    "from pandas import read_csv\n",
    "from pandas import datetime\n",
    "from statsmodels.tsa.arima_model import ARIMA\n",
    "from sklearn.metrics import mean_squared_error\n",
    "# evaluate an ARIMA model for a given order (p,d,q)\n",
    "def evaluate_arima_model(X, arima_order):\n",
    "    # prepare training dataset\n",
    "    train_size = int(len(X) * 0.66)\n",
    "    train, test = X[0:train_size], X[train_size:]\n",
    "    history = [x for x in train]\n",
    "    # make predictions\n",
    "    predictions = list()\n",
    "    for t in range(len(test)):\n",
    "        model = ARIMA(history, order=arima_order)\n",
    "        model_fit = model.fit(disp=0)\n",
    "        yhat = model_fit.forecast()[0]\n",
    "        predictions.append(yhat)\n",
    "        history.append(test[t])\n",
    "    # calculate out of sample error\n",
    "    rmse = sqrt(mean_squared_error(test, predictions))\n",
    "    return rmse\n",
    "\n",
    "# evaluate combinations of p, d and q values for an ARIMA model\n",
    "def evaluate_models(dataset, p_values, d_values, q_values):\n",
    "    dataset = dataset.astype('float32')\n",
    "    best_score, best_cfg = float(\"inf\"), None\n",
    "    for p in p_values:\n",
    "        for d in d_values:\n",
    "            for q in q_values:\n",
    "                order = (p,d,q)\n",
    "                try:\n",
    "                    rmse = evaluate_arima_model(dataset, order)\n",
    "                    if rmse < best_score:\n",
    "                        best_score, best_cfg = rmse, order\n",
    "                    print('ARIMA%s RMSE=%.3f' % (order,rmse))\n",
    "                except:\n",
    "                    continue\n",
    "    print('Best ARIMA%s RMSE=%.3f' % (best_cfg, best_score))\n",
    "    \n",
    "# evaluate parameters\n",
    "p_values = [0, 1, 2, 4, 6, 8, 10]\n",
    "d_values = range(0, 3)\n",
    "q_values = range(0, 3)\n",
    "warnings.filterwarnings(\"ignore\")\n",
    "evaluate_models(df.values, p_values, d_values, q_values)"
   ]
  },
  {
   "cell_type": "code",
   "execution_count": 9,
   "id": "3d51d7a4",
   "metadata": {},
   "outputs": [
    {
     "data": {
      "text/html": [
       "<div>\n",
       "<style scoped>\n",
       "    .dataframe tbody tr th:only-of-type {\n",
       "        vertical-align: middle;\n",
       "    }\n",
       "\n",
       "    .dataframe tbody tr th {\n",
       "        vertical-align: top;\n",
       "    }\n",
       "\n",
       "    .dataframe thead th {\n",
       "        text-align: right;\n",
       "    }\n",
       "</style>\n",
       "<table border=\"1\" class=\"dataframe\">\n",
       "  <thead>\n",
       "    <tr style=\"text-align: right;\">\n",
       "      <th></th>\n",
       "      <th>Births</th>\n",
       "    </tr>\n",
       "    <tr>\n",
       "      <th>Date</th>\n",
       "      <th></th>\n",
       "    </tr>\n",
       "  </thead>\n",
       "  <tbody>\n",
       "    <tr>\n",
       "      <th>1959-01-01</th>\n",
       "      <td>35</td>\n",
       "    </tr>\n",
       "    <tr>\n",
       "      <th>1959-01-02</th>\n",
       "      <td>32</td>\n",
       "    </tr>\n",
       "    <tr>\n",
       "      <th>1959-01-03</th>\n",
       "      <td>30</td>\n",
       "    </tr>\n",
       "    <tr>\n",
       "      <th>1959-01-04</th>\n",
       "      <td>31</td>\n",
       "    </tr>\n",
       "    <tr>\n",
       "      <th>1959-01-05</th>\n",
       "      <td>44</td>\n",
       "    </tr>\n",
       "  </tbody>\n",
       "</table>\n",
       "</div>"
      ],
      "text/plain": [
       "            Births\n",
       "Date              \n",
       "1959-01-01      35\n",
       "1959-01-02      32\n",
       "1959-01-03      30\n",
       "1959-01-04      31\n",
       "1959-01-05      44"
      ]
     },
     "execution_count": 9,
     "metadata": {},
     "output_type": "execute_result"
    }
   ],
   "source": [
    "df = pd.read_csv('./dataset/daily-total-female-births.csv', index_col='Date', parse_dates=['Date'])\n",
    "df.head()"
   ]
  },
  {
   "cell_type": "code",
   "execution_count": null,
   "id": "075bbe46",
   "metadata": {},
   "outputs": [
    {
     "name": "stdout",
     "output_type": "stream",
     "text": [
      "ARIMA(0, 0, 0) RMSE=8.189\n",
      "ARIMA(0, 0, 1) RMSE=7.884\n",
      "ARIMA(0, 0, 2) RMSE=7.771\n",
      "ARIMA(0, 1, 0) RMSE=9.167\n",
      "ARIMA(0, 1, 1) RMSE=7.527\n",
      "ARIMA(0, 1, 2) RMSE=7.434\n",
      "ARIMA(0, 2, 0) RMSE=15.698\n",
      "ARIMA(0, 2, 1) RMSE=9.201\n",
      "ARIMA(0, 2, 2) RMSE=7.555\n",
      "ARIMA(1, 0, 0) RMSE=7.802\n",
      "ARIMA(1, 0, 1) RMSE=7.554\n",
      "ARIMA(1, 1, 0) RMSE=8.120\n",
      "ARIMA(1, 1, 1) RMSE=7.425\n",
      "ARIMA(1, 1, 2) RMSE=7.429\n",
      "ARIMA(1, 2, 0) RMSE=11.990\n",
      "ARIMA(2, 0, 0) RMSE=7.697\n",
      "ARIMA(2, 0, 1) RMSE=7.421\n",
      "ARIMA(2, 0, 2) RMSE=7.483\n",
      "ARIMA(2, 1, 0) RMSE=7.713\n",
      "ARIMA(2, 1, 1) RMSE=7.417\n",
      "ARIMA(2, 1, 2) RMSE=7.429\n",
      "ARIMA(2, 2, 0) RMSE=10.373\n",
      "ARIMA(4, 0, 0) RMSE=7.693\n",
      "ARIMA(4, 0, 1) RMSE=7.829\n",
      "ARIMA(4, 0, 2) RMSE=7.468\n",
      "ARIMA(4, 1, 0) RMSE=7.578\n",
      "ARIMA(4, 1, 1) RMSE=7.474\n",
      "ARIMA(4, 1, 2) RMSE=7.455\n",
      "ARIMA(4, 2, 0) RMSE=8.956\n",
      "ARIMA(6, 0, 0) RMSE=7.666\n",
      "ARIMA(6, 0, 1) RMSE=7.711\n",
      "ARIMA(6, 0, 2) RMSE=7.586\n",
      "ARIMA(6, 1, 0) RMSE=7.293\n",
      "ARIMA(6, 1, 1) RMSE=7.569\n",
      "ARIMA(6, 1, 2) RMSE=7.463\n",
      "ARIMA(6, 2, 0) RMSE=8.352\n",
      "ARIMA(8, 0, 0) RMSE=7.549\n",
      "ARIMA(8, 0, 1) RMSE=7.565\n",
      "ARIMA(8, 0, 2) RMSE=7.625\n",
      "ARIMA(8, 1, 0) RMSE=7.569\n",
      "ARIMA(8, 1, 1) RMSE=7.430\n",
      "ARIMA(8, 1, 2) RMSE=7.435\n",
      "ARIMA(8, 2, 0) RMSE=8.126\n",
      "ARIMA(8, 2, 1) RMSE=7.602\n",
      "ARIMA(8, 2, 2) RMSE=7.514\n",
      "ARIMA(10, 0, 0) RMSE=7.581\n",
      "ARIMA(10, 0, 1) RMSE=7.570\n"
     ]
    }
   ],
   "source": [
    "p_values = [0, 1, 2, 4, 6, 8, 10]\n",
    "d_values = range(0, 3)\n",
    "q_values = range(0, 3)\n",
    "evaluate_models(df.values, p_values, d_values, q_values)"
   ]
  }
 ],
 "metadata": {
  "kernelspec": {
   "display_name": "Python 3",
   "language": "python",
   "name": "python3"
  },
  "language_info": {
   "codemirror_mode": {
    "name": "ipython",
    "version": 3
   },
   "file_extension": ".py",
   "mimetype": "text/x-python",
   "name": "python",
   "nbconvert_exporter": "python",
   "pygments_lexer": "ipython3",
   "version": "3.8.8"
  }
 },
 "nbformat": 4,
 "nbformat_minor": 5
}
