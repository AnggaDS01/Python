{
 "cells": [
  {
   "cell_type": "code",
   "execution_count": 1,
   "id": "50bb7227",
   "metadata": {},
   "outputs": [],
   "source": [
    "import pandas as pd\n",
    "import numpy as np\n",
    "import matplotlib.pyplot as plt"
   ]
  },
  {
   "cell_type": "markdown",
   "id": "7ad54cfc",
   "metadata": {},
   "source": [
    "## Autoregressive Integrated Moving Average Model\n",
    "\n",
    "An ARIMA model is a class of statistical model for analyzing and forecasting time series data.\n",
    "ARIMA is an acronym that stands for AutoRegressive Integrated Moving Average. It is a\n",
    "generalization of the simpler AutoRegressive Moving Average and adds the notion of integration.\n",
    "This acronym is descriptive, capturing the key aspects of the model itself. Brie\n",
    "y, they are:\n",
    "* AR: Autoregression. A model that uses the dependent relationship between an observation and some number of lagged observations.\n",
    "* I: Integrated. The use of di\u000b",
    "erencing of raw observations (i.e. subtracting an observation from an observation at the previous time step) in order to make the time series stationary.\n",
    "* MA: Moving Average. A model that uses the dependency between an observation and residual errors from a moving average model applied to lagged observations.\n",
    "\n",
    "Each of these components are explicitly specified in the model as a parameter. A standard\n",
    "notation is used of ARIMA(p,d,q) where the parameters are substituted with integer values to\n",
    "quickly indicate the specific ARIMA model being used. The parameters of the ARIMA model\n",
    "are defined as follows:\n",
    "* p: The number of lag observations included in the model, also called the lag order.\n",
    "* d: The number of times that the raw observations are diferenced, also called the degree of differencing.\n",
    "* q: The size of the moving average window, also called the order of moving average."
   ]
  },
  {
   "cell_type": "markdown",
   "id": "fca46533",
   "metadata": {},
   "source": [
    "## Box-Jenkins Method\n",
    "\n",
    "The Box-Jenkins method was proposed by George Box and Gwilym Jenkins in their seminal\n",
    "1970 textbook Time Series Analysis: Forecasting and Control1. The approach starts with the\n",
    "assumption that the process that generated the time series can be approximated using an ARMA\n",
    "model if it is stationary or an ARIMA model if it is non-stationary. a stochastic model building and that it\n",
    "is an iterative approach that consists of the following 3 steps:\n",
    "\n",
    "1. Identification. Use the data and all related information to help select a sub-class of model that may best summarize the data.\n",
    "2. Estimation. Use the data to train the parameters of the model (i.e. the coefecients).\n",
    "3. Diagnostic Checking. Evaluate the fitted model in the context of the available data and check for areas where the model may be improved."
   ]
  },
  {
   "cell_type": "markdown",
   "id": "18ad4ad0",
   "metadata": {},
   "source": [
    "### Identification \n",
    "\n",
    "The identification step is further broken down into: Assess whether the time series is stationary,\n",
    "and if not, how many differences are required to make it stationary. Identify the parameters of\n",
    "an ARMA model for the data.\n",
    "\n",
    "#### Differencing\n",
    "Below are some tips during identification.\n",
    "* Unit Root Tests. Use unit root statistical tests on the time series to determine whether or not it is stationary. Repeat after each round of differencing.\n",
    "* Avoid over differencing. Differencing the time series more than is required can result in the addition of extra serial correlation and additional complexity.\n",
    "\n",
    "#### Configuring AR and MA\n",
    "Two diagnostic plots can be used to help choose the p and q parameters of the ARMA or\n",
    "ARIMA. They are:\n",
    "* Autocorrelation Function (ACF). The plot summarizes the correlation of an obser- vation with lag values. The x-axis shows the lag and the y-axis shows the correlation coefecient between -1 and 1 for negative and positive correlation.\n",
    "* Partial Autocorrelation Function (PACF). The plot summarizes the correlations for an observation with lag values that is not accounted for by prior lagged observations.\n",
    "\n",
    "Some useful patterns you may observe on these plots are:\n",
    "* The model is AR if the ACF trails of after a lag and has a hard cut-off in the PACF after a lag. This lag is taken as the value for p.\n",
    "* The model is MA if the PACF trails of after a lag and has a hard cut-off in the ACF after the lag. This lag value is taken as the value for q.\n",
    "* The model is a mix of AR and MA if both the ACF and PACF trail off."
   ]
  },
  {
   "cell_type": "markdown",
   "id": "74aa0112",
   "metadata": {},
   "source": [
    "### Estimation\n",
    "\n",
    "Estimation involves using numerical methods to minimize a loss or error term. We will not\n",
    "go into the details of estimating model parameters as these details are handled by the chosen\n",
    "library or tool. I would recommend referring to a textbook for a deeper understanding of the\n",
    "optimization problem to be solved by ARMA and ARIMA models and optimization methods\n",
    "like Limited-memory BFGS used to solve it.\n",
    "\n",
    "#### Diagnostic Checking\n",
    "The idea of diagnostic checking is to look for evidence that the model is not a good fit for the\n",
    "data. Two useful areas to investigate diagnostics are:\n",
    "1. Overftting.\n",
    "2. Residual Errors."
   ]
  }
 ],
 "metadata": {
  "kernelspec": {
   "display_name": "Python 3",
   "language": "python",
   "name": "python3"
  },
  "language_info": {
   "codemirror_mode": {
    "name": "ipython",
    "version": 3
   },
   "file_extension": ".py",
   "mimetype": "text/x-python",
   "name": "python",
   "nbconvert_exporter": "python",
   "pygments_lexer": "ipython3",
   "version": "3.8.8"
  }
 },
 "nbformat": 4,
 "nbformat_minor": 5
}
