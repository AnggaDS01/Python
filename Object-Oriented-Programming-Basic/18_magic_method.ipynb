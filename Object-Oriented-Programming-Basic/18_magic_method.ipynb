{
 "cells": [
  {
   "cell_type": "code",
   "execution_count": 15,
   "metadata": {},
   "outputs": [
    {
     "name": "stdout",
     "output_type": "stream",
     "text": [
      "Debug: Mangga(mangga madu, 15)\n",
      "Mangga(mangga apel, 10)\n",
      "5\n",
      "ini adalah class Mangga yang menerima 2 parameter yaitu: [nama, jumlah]\n"
     ]
    }
   ],
   "source": [
    "class Mangga:\n",
    "  # magic method\n",
    "  def __init__(self, nama, jumlah):\n",
    "    self.nama = nama\n",
    "    self.jumlah = jumlah\n",
    "\n",
    "  def __repr__(self):\n",
    "    return f'Debug: Mangga({self.nama}, {self.jumlah})'\n",
    "\n",
    "  def __str__(self):\n",
    "    return f'Mangga({self.nama}, {self.jumlah})'\n",
    "\n",
    "  def __add__(self, objek):\n",
    "    return self.jumlah - objek.jumlah\n",
    "\n",
    "  @property\n",
    "  def __dict__(self):\n",
    "    return 'ini adalah class Mangga yang menerima 2 parameter yaitu: [nama, jumlah]'\n",
    "\n",
    "mangga1 = Mangga('mangga madu', 15)\n",
    "mangga2 = Mangga('mangga apel', 10)\n",
    "print(repr(mangga1))\n",
    "print(mangga2)\n",
    "print(mangga1 + mangga2)\n",
    "\n",
    "print(mangga1.__dict__)"
   ]
  },
  {
   "cell_type": "code",
   "execution_count": null,
   "metadata": {},
   "outputs": [],
   "source": []
  }
 ],
 "metadata": {
  "kernelspec": {
   "display_name": "Python 3.9.8 64-bit",
   "language": "python",
   "name": "python3"
  },
  "language_info": {
   "codemirror_mode": {
    "name": "ipython",
    "version": 3
   },
   "file_extension": ".py",
   "mimetype": "text/x-python",
   "name": "python",
   "nbconvert_exporter": "python",
   "pygments_lexer": "ipython3",
   "version": "3.9.8"
  },
  "orig_nbformat": 4,
  "vscode": {
   "interpreter": {
    "hash": "119291516cda16c1f20f004fce1af5d13e51e8d9e9c44b4802d0276c8255ca61"
   }
  }
 },
 "nbformat": 4,
 "nbformat_minor": 2
}
