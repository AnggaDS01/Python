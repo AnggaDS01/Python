{
 "cells": [
  {
   "cell_type": "code",
   "execution_count": 10,
   "metadata": {},
   "outputs": [
    {
     "name": "stdout",
     "output_type": "stream",
     "text": [
      "ini adalah method super class B\n"
     ]
    }
   ],
   "source": [
    "class Super_Class_A:\n",
    "  def method_super_class_A(self):\n",
    "    print('ini adalah method super class A')\n",
    "class Super_Class_B:\n",
    "  def method_super_class_B(self):\n",
    "    print('ini adalah method super class B')\n",
    "\n",
    "class Sub_Class(Super_Class_A, Super_Class_B):\n",
    "  pass\n",
    "\n",
    "object_sub_class = Sub_Class()\n",
    "\n",
    "object_sub_class.method_super_class_B()"
   ]
  },
  {
   "cell_type": "code",
   "execution_count": 17,
   "metadata": {},
   "outputs": [
    {
     "data": {
      "text/plain": [
       "'range'"
      ]
     },
     "execution_count": 17,
     "metadata": {},
     "output_type": "execute_result"
    }
   ],
   "source": [
    "class Team:\n",
    "  def set_team(self, team):\n",
    "    self.team = team\n",
    "\n",
    "  def show_team(self):\n",
    "    return self.team\n",
    "\n",
    "class Tipe:\n",
    "  def set_tipe(self, tipe):\n",
    "    self.tipe = tipe\n",
    "\n",
    "  def show_tipe(self):\n",
    "    return self.tipe\n",
    "\n",
    "class Hero(Team, Tipe):\n",
    "  def __init__(self, name, health):\n",
    "    self.name = name\n",
    "    self.health = health\n",
    "\n",
    "archer = Hero('Archer', 100)\n",
    "archer.set_team('biru')\n",
    "archer.set_tipe('range')\n",
    "\n",
    "archer.show_team()\n",
    "archer.show_tipe()\n"
   ]
  }
 ],
 "metadata": {
  "kernelspec": {
   "display_name": "Python 3.9.8 64-bit",
   "language": "python",
   "name": "python3"
  },
  "language_info": {
   "codemirror_mode": {
    "name": "ipython",
    "version": 3
   },
   "file_extension": ".py",
   "mimetype": "text/x-python",
   "name": "python",
   "nbconvert_exporter": "python",
   "pygments_lexer": "ipython3",
   "version": "3.9.8"
  },
  "orig_nbformat": 4,
  "vscode": {
   "interpreter": {
    "hash": "119291516cda16c1f20f004fce1af5d13e51e8d9e9c44b4802d0276c8255ca61"
   }
  }
 },
 "nbformat": 4,
 "nbformat_minor": 2
}
