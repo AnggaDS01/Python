{
 "cells": [
  {
   "cell_type": "code",
   "execution_count": 17,
   "metadata": {},
   "outputs": [
    {
     "name": "stdout",
     "output_type": "stream",
     "text": [
      "1\n",
      "2\n",
      "3\n"
     ]
    }
   ],
   "source": [
    "class Hero:\n",
    "  # private class variabel\n",
    "  __jumlah = 0\n",
    "\n",
    "  def __init__(self, input_name):\n",
    "    self.name = input_name\n",
    "    Hero.__jumlah += 1\n",
    "\n",
    "  # method ini berlaku untuk objek\n",
    "  def get_jumlah(self):\n",
    "    return Hero.__jumlah\n",
    "\n",
    "  # method ini berlaku untuk class\n",
    "  def get_jumlah_2():\n",
    "    return Hero.__jumlah\n",
    "\n",
    "  # method static (decorator)\n",
    "  @staticmethod\n",
    "  def get_jumlah_3():\n",
    "    return Hero.__jumlah\n",
    "\n",
    "  @classmethod\n",
    "  def get_jumlah_4(cls):\n",
    "    return cls.__jumlah\n",
    "\n",
    "knight = Hero('Knight')\n",
    "print(knight.get_jumlah_4())\n",
    "witch = Hero('Witch')\n",
    "print(Hero.get_jumlah_3())\n",
    "archer = Hero('archer')\n",
    "print(archer.get_jumlah_4())"
   ]
  }
 ],
 "metadata": {
  "kernelspec": {
   "display_name": "Python 3.9.8 64-bit",
   "language": "python",
   "name": "python3"
  },
  "language_info": {
   "codemirror_mode": {
    "name": "ipython",
    "version": 3
   },
   "file_extension": ".py",
   "mimetype": "text/x-python",
   "name": "python",
   "nbconvert_exporter": "python",
   "pygments_lexer": "ipython3",
   "version": "3.9.8"
  },
  "orig_nbformat": 4,
  "vscode": {
   "interpreter": {
    "hash": "119291516cda16c1f20f004fce1af5d13e51e8d9e9c44b4802d0276c8255ca61"
   }
  }
 },
 "nbformat": 4,
 "nbformat_minor": 2
}
