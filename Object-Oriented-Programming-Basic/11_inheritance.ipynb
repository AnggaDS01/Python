{
 "cells": [
  {
   "cell_type": "code",
   "execution_count": 7,
   "metadata": {},
   "outputs": [
    {
     "name": "stdout",
     "output_type": "stream",
     "text": [
      "Golem\n",
      "Help on Hero_tanker in module __main__ object:\n",
      "\n",
      "class Hero_tanker(builtins.object)\n",
      " |  Data descriptors defined here:\n",
      " |  \n",
      " |  __dict__\n",
      " |      dictionary for instance variables (if defined)\n",
      " |  \n",
      " |  __weakref__\n",
      " |      list of weak references to the object (if defined)\n",
      "\n",
      "None\n"
     ]
    }
   ],
   "source": [
    "class Hero:\n",
    "  def __init__(self, input_name, input_health):\n",
    "    self.name = input_name\n",
    "    self.health = input_health\n",
    "\n",
    "class Hero_tanker:\n",
    "  pass\n",
    "\n",
    "golem = Hero('Golem', 700)\n",
    "giant = Hero_tanker()\n",
    "\n",
    "print(golem.name)\n",
    "print(help(giant))"
   ]
  },
  {
   "cell_type": "code",
   "execution_count": 11,
   "metadata": {},
   "outputs": [
    {
     "name": "stdout",
     "output_type": "stream",
     "text": [
      "Golem\n",
      "Giant\n",
      "Archer\n"
     ]
    }
   ],
   "source": [
    "class Hero:\n",
    "  def __init__(self, input_name, input_health):\n",
    "    self.name = input_name\n",
    "    self.health = input_health\n",
    "\n",
    "class Hero_tanker(Hero):\n",
    "  pass\n",
    "\n",
    "class Hero_range(Hero):\n",
    "  pass\n",
    "\n",
    "golem = Hero('Golem', 700)\n",
    "giant = Hero_tanker('Giant', 450)\n",
    "archer = Hero_range('Archer', 75)\n",
    "\n",
    "print(golem.name)\n",
    "print(giant.name)\n",
    "print(archer.name)"
   ]
  }
 ],
 "metadata": {
  "kernelspec": {
   "display_name": "Python 3.9.8 64-bit",
   "language": "python",
   "name": "python3"
  },
  "language_info": {
   "codemirror_mode": {
    "name": "ipython",
    "version": 3
   },
   "file_extension": ".py",
   "mimetype": "text/x-python",
   "name": "python",
   "nbconvert_exporter": "python",
   "pygments_lexer": "ipython3",
   "version": "3.9.8"
  },
  "orig_nbformat": 4,
  "vscode": {
   "interpreter": {
    "hash": "119291516cda16c1f20f004fce1af5d13e51e8d9e9c44b4802d0276c8255ca61"
   }
  }
 },
 "nbformat": 4,
 "nbformat_minor": 2
}
