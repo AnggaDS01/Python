{
 "cells": [
  {
   "cell_type": "code",
   "execution_count": 63,
   "metadata": {},
   "outputs": [
    {
     "name": "stdout",
     "output_type": "stream",
     "text": [
      "Go to: www.coba.com\n"
     ]
    }
   ],
   "source": [
    "from abc import ABC, abstractmethod\n",
    "\n",
    "class Button(ABC):\n",
    "  def __init__(self, set_link):\n",
    "    self.links = set_link\n",
    "\n",
    "  @abstractmethod\n",
    "  def click(self):\n",
    "    pass\n",
    "\n",
    "  @property\n",
    "  @abstractmethod\n",
    "  def links(self):\n",
    "    pass\n",
    "\n",
    "class Push_Button(Button):\n",
    "\n",
    "  def click(self):\n",
    "    print(f'Go to: {self.links}')\n",
    "\n",
    "  @Button.links.setter\n",
    "  def links(self, input):\n",
    "    self.__link = input\n",
    "\n",
    "  @links.getter\n",
    "  def links(self):\n",
    "    return self.__link\n",
    "\n",
    "tombol1 = Push_Button('www.coba.com')\n",
    "tombol1.click()"
   ]
  },
  {
   "cell_type": "code",
   "execution_count": 44,
   "metadata": {},
   "outputs": [
    {
     "data": {
      "text/plain": [
       "'angga'"
      ]
     },
     "execution_count": 44,
     "metadata": {},
     "output_type": "execute_result"
    }
   ],
   "source": [
    "class Test:\n",
    "  def __init__(self, nama):\n",
    "    self.__nama = nama\n",
    "\n",
    "  @property\n",
    "  def nama_orang(self):\n",
    "    pass\n",
    "\n",
    "  @nama_orang.setter\n",
    "  def name(self, input):\n",
    "    self.__nama = input\n",
    "\n",
    "  @nama_orang.getter\n",
    "  def get_nama(self):\n",
    "    return self.__nama\n",
    "\n",
    "nama = Test('angga')\n",
    "# nama.name = 'abdul'\n",
    "nama.get_nama"
   ]
  }
 ],
 "metadata": {
  "kernelspec": {
   "display_name": "Python 3.9.8 64-bit",
   "language": "python",
   "name": "python3"
  },
  "language_info": {
   "codemirror_mode": {
    "name": "ipython",
    "version": 3
   },
   "file_extension": ".py",
   "mimetype": "text/x-python",
   "name": "python",
   "nbconvert_exporter": "python",
   "pygments_lexer": "ipython3",
   "version": "3.9.8"
  },
  "orig_nbformat": 4,
  "vscode": {
   "interpreter": {
    "hash": "119291516cda16c1f20f004fce1af5d13e51e8d9e9c44b4802d0276c8255ca61"
   }
  }
 },
 "nbformat": 4,
 "nbformat_minor": 2
}
