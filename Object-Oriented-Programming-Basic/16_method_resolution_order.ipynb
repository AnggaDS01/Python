{
 "cells": [
  {
   "cell_type": "code",
   "execution_count": 5,
   "metadata": {},
   "outputs": [
    {
     "name": "stdout",
     "output_type": "stream",
     "text": [
      "ini adalah method super class B\n",
      "Help on Sub_Class in module __main__ object:\n",
      "\n",
      "class Sub_Class(Super_Class_B, Super_Class_A)\n",
      " |  Method resolution order:\n",
      " |      Sub_Class\n",
      " |      Super_Class_B\n",
      " |      Super_Class_A\n",
      " |      builtins.object\n",
      " |  \n",
      " |  Methods inherited from Super_Class_B:\n",
      " |  \n",
      " |  method_super_class(self)\n",
      " |  \n",
      " |  ----------------------------------------------------------------------\n",
      " |  Data descriptors inherited from Super_Class_B:\n",
      " |  \n",
      " |  __dict__\n",
      " |      dictionary for instance variables (if defined)\n",
      " |  \n",
      " |  __weakref__\n",
      " |      list of weak references to the object (if defined)\n",
      "\n"
     ]
    }
   ],
   "source": [
    "class Super_Class_A:\n",
    "  def method_super_class(self):\n",
    "    print('ini adalah method super class A')\n",
    "class Super_Class_B:\n",
    "  def method_super_class(self):\n",
    "    print('ini adalah method super class B')\n",
    "\n",
    "class Sub_Class(Super_Class_B, Super_Class_A):\n",
    "    # def method_super_class(self):\n",
    "    #   print('ini adalah method super class C') override\n",
    "    pass\n",
    "\n",
    "object_sub_class = Sub_Class()\n",
    "object_sub_class.method_super_class()\n",
    "\n",
    "help(object_sub_class)"
   ]
  },
  {
   "cell_type": "code",
   "execution_count": null,
   "metadata": {},
   "outputs": [],
   "source": []
  }
 ],
 "metadata": {
  "kernelspec": {
   "display_name": "Python 3.9.8 64-bit",
   "language": "python",
   "name": "python3"
  },
  "language_info": {
   "codemirror_mode": {
    "name": "ipython",
    "version": 3
   },
   "file_extension": ".py",
   "mimetype": "text/x-python",
   "name": "python",
   "nbconvert_exporter": "python",
   "pygments_lexer": "ipython3",
   "version": "3.9.8"
  },
  "orig_nbformat": 4,
  "vscode": {
   "interpreter": {
    "hash": "119291516cda16c1f20f004fce1af5d13e51e8d9e9c44b4802d0276c8255ca61"
   }
  }
 },
 "nbformat": 4,
 "nbformat_minor": 2
}
