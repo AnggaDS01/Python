{
 "cells": [
  {
   "cell_type": "code",
   "execution_count": 13,
   "metadata": {},
   "outputs": [
    {
     "name": "stdout",
     "output_type": "stream",
     "text": [
      "150\n",
      "170\n"
     ]
    }
   ],
   "source": [
    "class Hero:\n",
    "  # class variabel\n",
    "  jumlah_hero = 0\n",
    "  def __init__(self, input_name, input_health, input_power, input_armor):\n",
    "    self.name = input_name\n",
    "    self.health = input_health\n",
    "    self.power = input_power\n",
    "    self.armor = input_armor\n",
    "    Hero.jumlah_hero += 1\n",
    "\n",
    "  # void function, method tanpa function\n",
    "  def intro(self):\n",
    "    print(f'hello my name is {self.name}')\n",
    "\n",
    "  # methdo dengan argumen\n",
    "  def health_up(self, up):\n",
    "    self.health += up\n",
    "\n",
    "  # method dengan return\n",
    "  def get_health(self):\n",
    "    return self.health\n",
    "\n",
    "hero1 = Hero('knight', 150, 20, 50)\n",
    "hero2 = Hero('witch', 75, 50, 25)\n",
    "\n",
    "# print(hero1.intro())\n",
    "# print(hero1.health)\n",
    "# hero1.health_up(20)\n",
    "# print(hero1.health)\n",
    "\n",
    "print(hero1.get_health())\n",
    "hero1.health_up(20)\n",
    "print(hero1.get_health())"
   ]
  }
 ],
 "metadata": {
  "kernelspec": {
   "display_name": "Python 3.9.8 64-bit",
   "language": "python",
   "name": "python3"
  },
  "language_info": {
   "codemirror_mode": {
    "name": "ipython",
    "version": 3
   },
   "file_extension": ".py",
   "mimetype": "text/x-python",
   "name": "python",
   "nbconvert_exporter": "python",
   "pygments_lexer": "ipython3",
   "version": "3.9.8"
  },
  "orig_nbformat": 4,
  "vscode": {
   "interpreter": {
    "hash": "119291516cda16c1f20f004fce1af5d13e51e8d9e9c44b4802d0276c8255ca61"
   }
  }
 },
 "nbformat": 4,
 "nbformat_minor": 2
}
