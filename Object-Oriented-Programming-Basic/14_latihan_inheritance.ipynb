{
 "cells": [
  {
   "cell_type": "code",
   "execution_count": 1,
   "metadata": {},
   "outputs": [],
   "source": [
    "class Hero:\n",
    "  def __init__(self, input_name):\n",
    "    self.health_pool = [0, 100, 200, 300, 400, 500]\n",
    "    self.power_pool = [0, 10, 20, 30, 40, 50]\n",
    "    self.armor_pool = [0, 1, 2, 3, 4, 5]\n",
    "    self.__name = input_name\n",
    "    self.__exp = 0\n",
    "    self.__level = 0\n",
    "\n",
    "    self.__exp_max = 100\n",
    "\n",
    "  def show_info(self):\n",
    "    print(f'{self.__name} (exp = {self.__exp}/{self.__exp_max})\\n\\tlevel: {self.__level}\\n\\thealth: {self.__health}\\n\\tpower: {self.__power}\\n\\tarmor: {self.__armor}\\n\\t')\n",
    " \n",
    "  @property\n",
    "  def health_pool(self):\n",
    "    pass\n",
    "\n",
    "  @property\n",
    "  def power_pool(self):\n",
    "    pass\n",
    "\n",
    "  @property\n",
    "  def armor_pool(self):\n",
    "    pass\n",
    "\n",
    "  @property\n",
    "  def level_up(self):\n",
    "    pass\n",
    "\n",
    "  @property\n",
    "  def gain_exp(self):\n",
    "    pass\n",
    "\n",
    "  @health_pool.setter\n",
    "  def health_pool(self, input):\n",
    "    self.__health_pool = input\n",
    "\n",
    "  @power_pool.setter\n",
    "  def power_pool(self, input):\n",
    "    self.__power_pool = input\n",
    "\n",
    "  @armor_pool.setter\n",
    "  def armor_pool(self, input):\n",
    "    self.__armor_pool = input\n",
    "\n",
    "  @gain_exp.setter\n",
    "  def gain_exp(self, input):\n",
    "    self.__exp += input\n",
    "    if self.__exp >= self.__exp_max:\n",
    "      self.level_up = self.__exp//self.__exp_max\n",
    "      self.__exp %= self.__exp_max\n",
    "\n",
    "      self.__exp_max = self.__level*100\n",
    "\n",
    "  @level_up.setter\n",
    "  def level_up(self, input):\n",
    "    self.__level += input\n",
    "    self.__health = self.__health_pool[self.__level]\n",
    "    self.__power = self.__power_pool[self.__level]\n",
    "    self.__armor = self.__armor_pool[self.__level]\n",
    "\n",
    "class Hero_Tank(Hero):\n",
    "  def __init__(self, input_name):\n",
    "    super().__init__(input_name)\n",
    "    self.health_pool = [0, 100, 150, 250, 350, 500]\n",
    "    self.power__pool = [0, 20, 35, 40, 45, 50]\n",
    "    self.armor_pool = [0, 1, 3, 6, 8, 10]\n",
    "    self.level_up = 1\n",
    "\n",
    "\n",
    "class Hero_Range(Hero):\n",
    "  def __init__(self, input_name):\n",
    "    super().__init__(input_name)\n",
    "    self.health_pool = [0, 50, 75, 100, 125, 150]\n",
    "    self.power = [0, 25, 40, 55, 65, 75]\n",
    "    self.armor_pool = [0, .5, 1, 1.5, 2, 2.5]\n",
    "    self.level_up = 1"
   ]
  },
  {
   "cell_type": "code",
   "execution_count": 2,
   "metadata": {},
   "outputs": [
    {
     "name": "stdout",
     "output_type": "stream",
     "text": [
      "Archer (exp = 10/500)\n",
      "\tlevel: 5\n",
      "\thealth: 150\n",
      "\tpower: 50\n",
      "\tarmor: 2.5\n",
      "\t\n"
     ]
    }
   ],
   "source": [
    "archer = Hero_Range('Archer')\n",
    "giant = Hero_Tank('Giant')\n",
    "\n",
    "archer.gain_exp = 120\n",
    "archer.gain_exp = 210\n",
    "archer.gain_exp = 280\n",
    "archer.gain_exp = 400\n",
    "\n",
    "archer.show_info()"
   ]
  },
  {
   "cell_type": "code",
   "execution_count": 106,
   "metadata": {},
   "outputs": [],
   "source": [
    "import numpy as np\n",
    "from sklearn.preprocessing import MinMaxScaler\n",
    "\n",
    "class Activation_Function:\n",
    "  @property\n",
    "  def get_output(self):\n",
    "    return self.__dict__[f'_{self.__class__.__name__}__output']\n",
    "\n",
    "class Activation_ReLU(Activation_Function):\n",
    "  def forward(self, inputs):\n",
    "    self.__output = np.maximum(0, inputs)\n",
    "\n",
    "class Activation_Softmax(Activation_Function):\n",
    "  def forward(self, inputs):\n",
    "    exp_values = np.exp(inputs)\n",
    "    exp_sum = np.sum(exp_values, axis=1, keepdims=True)\n",
    "    self.__output = exp_values / exp_sum"
   ]
  },
  {
   "cell_type": "code",
   "execution_count": 127,
   "metadata": {},
   "outputs": [
    {
     "data": {
      "text/plain": [
       "array([[0.94747977, 0.99247678, 1.        , 1.        ],\n",
       "       [1.        , 0.        , 0.96567658, 0.        ],\n",
       "       [0.        , 1.        , 0.        , 0.67118004],\n",
       "       [0.43853599, 0.79182333, 0.35919692, 0.20275116]])"
      ]
     },
     "execution_count": 127,
     "metadata": {},
     "output_type": "execute_result"
    }
   ],
   "source": [
    "np.random.seed(0)\n",
    "\n",
    "scaler = MinMaxScaler()\n",
    "A = np.random.randn(4,4) * 10\n",
    "A_scaled = scaler.fit_transform(A)\n",
    "\n",
    "activation1 = Activation_ReLU()\n",
    "activation2 = Activation_Softmax()\n",
    "activation3 = Activation_Softmax()\n",
    "\n",
    "activation1.forward(A_scaled)\n",
    "activation2.forward(A_scaled)\n",
    "activation3.forward(A_scaled)"
   ]
  }
 ],
 "metadata": {
  "kernelspec": {
   "display_name": "Python 3.8.8 ('base')",
   "language": "python",
   "name": "python3"
  },
  "language_info": {
   "codemirror_mode": {
    "name": "ipython",
    "version": 3
   },
   "file_extension": ".py",
   "mimetype": "text/x-python",
   "name": "python",
   "nbconvert_exporter": "python",
   "pygments_lexer": "ipython3",
   "version": "3.8.8"
  },
  "orig_nbformat": 4,
  "vscode": {
   "interpreter": {
    "hash": "1c81c2596e5cc8cc0b4e3b6ac58ddfe1b07275552d7af6606521061d9fa52088"
   }
  }
 },
 "nbformat": 4,
 "nbformat_minor": 2
}
