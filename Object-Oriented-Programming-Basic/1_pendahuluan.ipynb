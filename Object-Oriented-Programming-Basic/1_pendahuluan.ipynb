{
 "cells": [
  {
   "cell_type": "code",
   "execution_count": 11,
   "metadata": {},
   "outputs": [
    {
     "name": "stdout",
     "output_type": "stream",
     "text": [
      "{'name': 'sniper', 'health': 100}\n"
     ]
    }
   ],
   "source": [
    "class Hero: # template\n",
    "  pass\n",
    "\n",
    "hero1 = Hero() # object / instance (instansiate)\n",
    "hero2 = Hero()\n",
    "\n",
    "hero1.name = 'sniper'\n",
    "hero1.health = 100\n",
    "\n",
    "hero2.name = 'sven'\n",
    "hero2.health = 200\n",
    "\n",
    "print(hero1.__dict__)"
   ]
  }
 ],
 "metadata": {
  "kernelspec": {
   "display_name": "Python 3.10.4 64-bit",
   "language": "python",
   "name": "python3"
  },
  "language_info": {
   "codemirror_mode": {
    "name": "ipython",
    "version": 3
   },
   "file_extension": ".py",
   "mimetype": "text/x-python",
   "name": "python",
   "nbconvert_exporter": "python",
   "pygments_lexer": "ipython3",
   "version": "3.10.4"
  },
  "orig_nbformat": 4,
  "vscode": {
   "interpreter": {
    "hash": "916dbcbb3f70747c44a77c7bcd40155683ae19c65e1c03b4aa3499c5328201f1"
   }
  }
 },
 "nbformat": 4,
 "nbformat_minor": 2
}
