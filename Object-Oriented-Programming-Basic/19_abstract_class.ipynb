{
 "cells": [
  {
   "cell_type": "code",
   "execution_count": 16,
   "metadata": {},
   "outputs": [
    {
     "ename": "TypeError",
     "evalue": "Can't instantiate abstract class RadioButton with abstract method click",
     "output_type": "error",
     "traceback": [
      "\u001b[1;31m---------------------------------------------------------------------------\u001b[0m",
      "\u001b[1;31mTypeError\u001b[0m                                 Traceback (most recent call last)",
      "\u001b[1;32m<ipython-input-16-31c3791c2bb4>\u001b[0m in \u001b[0;36m<module>\u001b[1;34m\u001b[0m\n\u001b[0;32m     20\u001b[0m     \u001b[0mprint\u001b[0m\u001b[1;33m(\u001b[0m\u001b[1;34m'button hover'\u001b[0m\u001b[1;33m)\u001b[0m\u001b[1;33m\u001b[0m\u001b[1;33m\u001b[0m\u001b[0m\n\u001b[0;32m     21\u001b[0m \u001b[1;33m\u001b[0m\u001b[0m\n\u001b[1;32m---> 22\u001b[1;33m \u001b[0mtombol1\u001b[0m \u001b[1;33m=\u001b[0m \u001b[0mRadioButton\u001b[0m\u001b[1;33m(\u001b[0m\u001b[1;33m)\u001b[0m\u001b[1;33m\u001b[0m\u001b[1;33m\u001b[0m\u001b[0m\n\u001b[0m\u001b[0;32m     23\u001b[0m \u001b[0mtombol1\u001b[0m\u001b[1;33m.\u001b[0m\u001b[0mhover\u001b[0m\u001b[1;33m(\u001b[0m\u001b[1;33m)\u001b[0m\u001b[1;33m\u001b[0m\u001b[1;33m\u001b[0m\u001b[0m\n\u001b[0;32m     24\u001b[0m \u001b[1;33m\u001b[0m\u001b[0m\n",
      "\u001b[1;31mTypeError\u001b[0m: Can't instantiate abstract class RadioButton with abstract method click"
     ]
    }
   ],
   "source": [
    "# membuat class abstract\n",
    "# abc = abstract base class\n",
    "from abc import ABC, abstractmethod\n",
    "\n",
    "class Button(ABC):\n",
    "\n",
    "  @abstractmethod\n",
    "  def click(self):\n",
    "    pass\n",
    "\n",
    "class PushButton(Button):\n",
    "  def click(self):\n",
    "    print('Push Button Click')\n",
    "\n",
    "class RadioButton(Button):\n",
    "  # def click(self):\n",
    "  #   print('Push Button Click')\n",
    "\n",
    "  def hover(self):\n",
    "    print('button hover')\n",
    "\n",
    "tombol1 = RadioButton()\n",
    "tombol1.hover()\n",
    "\n",
    "# help(tombol1)"
   ]
  },
  {
   "cell_type": "code",
   "execution_count": null,
   "metadata": {},
   "outputs": [],
   "source": []
  }
 ],
 "metadata": {
  "kernelspec": {
   "display_name": "Python 3.9.8 64-bit",
   "language": "python",
   "name": "python3"
  },
  "language_info": {
   "codemirror_mode": {
    "name": "ipython",
    "version": 3
   },
   "file_extension": ".py",
   "mimetype": "text/x-python",
   "name": "python",
   "nbconvert_exporter": "python",
   "pygments_lexer": "ipython3",
   "version": "3.9.8"
  },
  "orig_nbformat": 4,
  "vscode": {
   "interpreter": {
    "hash": "119291516cda16c1f20f004fce1af5d13e51e8d9e9c44b4802d0276c8255ca61"
   }
  }
 },
 "nbformat": 4,
 "nbformat_minor": 2
}
