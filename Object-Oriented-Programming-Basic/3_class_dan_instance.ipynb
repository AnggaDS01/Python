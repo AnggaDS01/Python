{
 "cells": [
  {
   "cell_type": "code",
   "execution_count": 14,
   "metadata": {},
   "outputs": [
    {
     "name": "stdout",
     "output_type": "stream",
     "text": [
      "membuat hero dengan nama knight\n",
      "1\n",
      "membuat hero dengan nama witch\n",
      "1\n"
     ]
    }
   ],
   "source": [
    "class Hero: # template\n",
    "  # class variabel\n",
    "  jumlah = 0\n",
    "\n",
    "  def __init__(self, input_name, input_health, input_power, input_armor):\n",
    "    self.name = input_name\n",
    "    self.health = input_health\n",
    "    self.power = input_power\n",
    "    self.armor = input_armor\n",
    "    Hero.jumlah += 1\n",
    "    print(f'membuat hero dengan nama {input_name}')\n",
    "\n",
    "hero1 = Hero('knight', 150, 20, 50)\n",
    "print(Hero.jumlah)\n",
    "hero2 = Hero('witch', 75, 50, 25)\n",
    "print(Hero.jumlah)\n",
    "\n",
    "# print(hero1.__dict__)\n",
    "# print(hero2.__dict__)\n",
    "# print(Hero.__dict__)"
   ]
  }
 ],
 "metadata": {
  "kernelspec": {
   "display_name": "Python 3.9.8 64-bit",
   "language": "python",
   "name": "python3"
  },
  "language_info": {
   "codemirror_mode": {
    "name": "ipython",
    "version": 3
   },
   "file_extension": ".py",
   "mimetype": "text/x-python",
   "name": "python",
   "nbconvert_exporter": "python",
   "pygments_lexer": "ipython3",
   "version": "3.9.8"
  },
  "orig_nbformat": 4,
  "vscode": {
   "interpreter": {
    "hash": "119291516cda16c1f20f004fce1af5d13e51e8d9e9c44b4802d0276c8255ca61"
   }
  }
 },
 "nbformat": 4,
 "nbformat_minor": 2
}
