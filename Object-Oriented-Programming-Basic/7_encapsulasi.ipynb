{
 "cells": [
  {
   "cell_type": "code",
   "execution_count": 17,
   "metadata": {},
   "outputs": [
    {
     "name": "stdout",
     "output_type": "stream",
     "text": [
      "{'_Hero__name': 'Knight', '_Hero__health': 150, '_Hero__power': 75}\n",
      "{'_Hero__name': 'Knight', '_Hero__health': 150, '_Hero__power': 75, 'name': 'udin'}\n"
     ]
    }
   ],
   "source": [
    "class Hero:\n",
    "  def __init__(self, input_name, input_health, input_power):\n",
    "    self.__name = input_name\n",
    "    self.__health = input_health\n",
    "    self.__power = input_power\n",
    "\n",
    "  # getter\n",
    "  def get_name(self):\n",
    "    return self.__name\n",
    "  \n",
    "  def get_health(self):\n",
    "    return self.__health\n",
    "\n",
    "  # setter\n",
    "  def set_attacked(self, enemy_attack):\n",
    "    self.__health -= enemy_attack\n",
    "\n",
    "  def set_name(self, new_name):\n",
    "    self.__name = new_name\n",
    "    return self.__name\n",
    "\n",
    "# awal dari game\n",
    "knight = Hero('Knight', 150, 75)\n",
    "\n",
    "# game berjalan\n",
    "# print(knight.get_name())\n",
    "# print(knight.get_health())\n",
    "# knight.set_attacked(50)\n",
    "# print(knight.get_health())\n",
    "\n"
   ]
  }
 ],
 "metadata": {
  "kernelspec": {
   "display_name": "Python 3.9.8 64-bit",
   "language": "python",
   "name": "python3"
  },
  "language_info": {
   "codemirror_mode": {
    "name": "ipython",
    "version": 3
   },
   "file_extension": ".py",
   "mimetype": "text/x-python",
   "name": "python",
   "nbconvert_exporter": "python",
   "pygments_lexer": "ipython3",
   "version": "3.9.8"
  },
  "orig_nbformat": 4,
  "vscode": {
   "interpreter": {
    "hash": "119291516cda16c1f20f004fce1af5d13e51e8d9e9c44b4802d0276c8255ca61"
   }
  }
 },
 "nbformat": 4,
 "nbformat_minor": 2
}
