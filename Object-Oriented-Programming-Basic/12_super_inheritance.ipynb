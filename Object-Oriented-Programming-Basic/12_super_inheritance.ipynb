{
 "cells": [
  {
   "cell_type": "code",
   "execution_count": 20,
   "metadata": {},
   "outputs": [
    {
     "name": "stdout",
     "output_type": "stream",
     "text": [
      "Giant dengan health: 600\n",
      "None\n"
     ]
    }
   ],
   "source": [
    "class Hero:\n",
    "  def __init__(self, input_name, input_health):\n",
    "    self.name = input_name\n",
    "    self.health = input_health\n",
    "\n",
    "  @property\n",
    "  def get_info(self):\n",
    "    print(\"%s dengan health: %g\" % (self.name, self.health))\n",
    "    pass\n",
    "\n",
    "class Hero_range(Hero):\n",
    "  def __init__(self, input_name):\n",
    "    super().__init__(input_name, 100)\n",
    "    # super().get_info\n",
    "    \n",
    "class Hero_tank(Hero):\n",
    "  def __init__(self, input_name):\n",
    "    super().__init__(input_name, 600)\n",
    "\n",
    "giant = Hero_tank('Giant')\n",
    "archer = Hero_range('Archer')\n",
    "\n",
    "print(giant.get_info)\n",
    "# print(archer.health)\n",
    "    "
   ]
  }
 ],
 "metadata": {
  "kernelspec": {
   "display_name": "Python 3.9.8 64-bit",
   "language": "python",
   "name": "python3"
  },
  "language_info": {
   "codemirror_mode": {
    "name": "ipython",
    "version": 3
   },
   "file_extension": ".py",
   "mimetype": "text/x-python",
   "name": "python",
   "nbconvert_exporter": "python",
   "pygments_lexer": "ipython3",
   "version": "3.9.8"
  },
  "orig_nbformat": 4,
  "vscode": {
   "interpreter": {
    "hash": "119291516cda16c1f20f004fce1af5d13e51e8d9e9c44b4802d0276c8255ca61"
   }
  }
 },
 "nbformat": 4,
 "nbformat_minor": 2
}
