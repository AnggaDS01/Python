{
 "cells": [
  {
   "cell_type": "code",
   "execution_count": 6,
   "metadata": {},
   "outputs": [
    {
     "name": "stdout",
     "output_type": "stream",
     "text": [
      "Giant \n",
      "\tHealth: 600\n"
     ]
    }
   ],
   "source": [
    "class Hero:\n",
    "  def __init__(self, input_name, input_health):\n",
    "    self.name = input_name\n",
    "    self.health = input_health\n",
    "\n",
    "  def get_info(self):\n",
    "    print(\"%s \\n\\tHealth: %g\" % (self.name, self.health))\n",
    "\n",
    "class Hero_range(Hero):\n",
    "  def __init__(self, input_name):\n",
    "    super().__init__(input_name, 100)\n",
    "    \n",
    "  # override\n",
    "  def get_info(self):\n",
    "    print(\"%s \\n\\tTipe: range\\n\\tHealth: %g\" % (self.name, self.health))\n",
    "\n",
    "class Hero_tank(Hero):\n",
    "  def __init__(self, input_name):\n",
    "    super().__init__(input_name, 600)\n",
    "\n",
    "giant = Hero_tank('Giant')\n",
    "archer = Hero_range('Archer')\n",
    "\n",
    "giant.get_info()"
   ]
  }
 ],
 "metadata": {
  "kernelspec": {
   "display_name": "Python 3.9.8 64-bit",
   "language": "python",
   "name": "python3"
  },
  "language_info": {
   "codemirror_mode": {
    "name": "ipython",
    "version": 3
   },
   "file_extension": ".py",
   "mimetype": "text/x-python",
   "name": "python",
   "nbconvert_exporter": "python",
   "pygments_lexer": "ipython3",
   "version": "3.9.8"
  },
  "orig_nbformat": 4,
  "vscode": {
   "interpreter": {
    "hash": "119291516cda16c1f20f004fce1af5d13e51e8d9e9c44b4802d0276c8255ca61"
   }
  }
 },
 "nbformat": 4,
 "nbformat_minor": 2
}
