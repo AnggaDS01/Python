{
 "cells": [
  {
   "cell_type": "code",
   "execution_count": 12,
   "metadata": {},
   "outputs": [
    {
     "name": "stdout",
     "output_type": "stream",
     "text": [
      "{'name': 'barbarian', 'health': 100, '_Hero__private': 'private', '_protected': 'protected'}\n",
      "{'__module__': '__main__', 'jumlah': 0, '_Hero__private_jumlah': 0, '__init__': <function Hero.__init__ at 0x000001FB10C6CB80>, '__dict__': <attribute '__dict__' of 'Hero' objects>, '__weakref__': <attribute '__weakref__' of 'Hero' objects>, '__doc__': None}\n"
     ]
    }
   ],
   "source": [
    "class Hero:\n",
    "  # class variabel\n",
    "  jumlah = 0\n",
    "  __private_jumlah = 0\n",
    "\n",
    "  def __init__(self, name, health):\n",
    "    self.name = name\n",
    "    self.health = health\n",
    "\n",
    "    # variabel instance private\n",
    "    self.__private = 'private'\n",
    "\n",
    "    # variabel instance protected\n",
    "    self._protected = 'protected'\n",
    "\n",
    "barbarian = Hero('barbarian', 100)\n",
    "\n",
    "# print(barbarian.__dict__)\n",
    "# print(barbarian._protected)\n",
    "# barbarian._protected = 'test'\n",
    "# print(barbarian.__dict__)\n",
    "# print(barbarian._protected)\n",
    "\n",
    "print(barbarian.__dict__)\n",
    "print(Hero.__dict__)"
   ]
  }
 ],
 "metadata": {
  "kernelspec": {
   "display_name": "Python 3.9.8 64-bit",
   "language": "python",
   "name": "python3"
  },
  "language_info": {
   "codemirror_mode": {
    "name": "ipython",
    "version": 3
   },
   "file_extension": ".py",
   "mimetype": "text/x-python",
   "name": "python",
   "nbconvert_exporter": "python",
   "pygments_lexer": "ipython3",
   "version": "3.9.8"
  },
  "orig_nbformat": 4,
  "vscode": {
   "interpreter": {
    "hash": "119291516cda16c1f20f004fce1af5d13e51e8d9e9c44b4802d0276c8255ca61"
   }
  }
 },
 "nbformat": 4,
 "nbformat_minor": 2
}
