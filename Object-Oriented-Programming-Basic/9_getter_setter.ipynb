{
 "cells": [
  {
   "cell_type": "code",
   "execution_count": 27,
   "metadata": {},
   "outputs": [
    {
     "name": "stdout",
     "output_type": "stream",
     "text": [
      "50\n",
      "{'name': 'Knight', '_Hero__health': 150, '_Hero__armor': 50}\n",
      "None\n",
      "75\n",
      "{'name': 'Knight', '_Hero__health': 150, '_Hero__armor': 75}\n"
     ]
    }
   ],
   "source": [
    "class Hero:\n",
    "  def __init__(self, input_name, input_health, input_armor):\n",
    "    self.name = input_name\n",
    "    self.__health = input_health\n",
    "    self.__armor = input_armor\n",
    "    # self.__info = f\"name {self.name}: \\n\\thealth: {self.__health} \\n\\tarmor: {self.__armor}\"\n",
    "\n",
    "  @property\n",
    "  def get_info(self):\n",
    "    # return self.__info\n",
    "    return f\"name {self.name}: \\n\\thealth: {self.__health} \\n\\tarmor: {self.__armor}\"\n",
    "\n",
    "  @property\n",
    "  def armor(self):\n",
    "    pass\n",
    "\n",
    "  @armor.getter\n",
    "  def get_armor(self):\n",
    "    return self.__armor\n",
    "\n",
    "  @armor.setter\n",
    "  def set_armor(self, input):\n",
    "    self.__armor = input\n",
    "\n",
    "# knight = Hero('Knight', 150, 50)\n",
    "# knight.name = 'test'\n",
    "# print(knight.get_info)\n",
    "# print(knight.__dict__)\n",
    "\n",
    "knight = Hero('Knight', 150, 50)\n",
    "print(knight.get_armor)\n",
    "print(knight.__dict__)\n",
    "knight.set_armor = 75\n",
    "print(knight.get_armor)\n",
    "print(knight.__dict__)\n"
   ]
  }
 ],
 "metadata": {
  "kernelspec": {
   "display_name": "Python 3.10.4 64-bit",
   "language": "python",
   "name": "python3"
  },
  "language_info": {
   "codemirror_mode": {
    "name": "ipython",
    "version": 3
   },
   "file_extension": ".py",
   "mimetype": "text/x-python",
   "name": "python",
   "nbconvert_exporter": "python",
   "pygments_lexer": "ipython3",
   "version": "3.10.4"
  },
  "orig_nbformat": 4,
  "vscode": {
   "interpreter": {
    "hash": "916dbcbb3f70747c44a77c7bcd40155683ae19c65e1c03b4aa3499c5328201f1"
   }
  }
 },
 "nbformat": 4,
 "nbformat_minor": 2
}
