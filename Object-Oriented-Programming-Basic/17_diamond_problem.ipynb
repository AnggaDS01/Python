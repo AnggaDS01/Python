{
 "cells": [
  {
   "cell_type": "code",
   "execution_count": 2,
   "metadata": {},
   "outputs": [
    {
     "name": "stdout",
     "output_type": "stream",
     "text": [
      "ini adalah method sub class A\n",
      "Help on Sub_Sub_Class in module __main__ object:\n",
      "\n",
      "class Sub_Sub_Class(Sub_Class_A, Sub_Class_B)\n",
      " |  Method resolution order:\n",
      " |      Sub_Sub_Class\n",
      " |      Sub_Class_A\n",
      " |      Sub_Class_B\n",
      " |      Super_Class\n",
      " |      builtins.object\n",
      " |  \n",
      " |  Methods inherited from Sub_Class_A:\n",
      " |  \n",
      " |  show(self)\n",
      " |  \n",
      " |  ----------------------------------------------------------------------\n",
      " |  Data descriptors inherited from Super_Class:\n",
      " |  \n",
      " |  __dict__\n",
      " |      dictionary for instance variables (if defined)\n",
      " |  \n",
      " |  __weakref__\n",
      " |      list of weak references to the object (if defined)\n",
      "\n"
     ]
    }
   ],
   "source": [
    "class Super_Class:\n",
    "  def show(self):\n",
    "    print('ini adalah method super class')\n",
    "\n",
    "class Sub_Class_A(Super_Class):\n",
    "  def show(self):\n",
    "    print('ini adalah method sub class A')\n",
    "\n",
    "class Sub_Class_B(Super_Class):\n",
    "  def show(self):\n",
    "    print('ini adalah method sub class B')\n",
    "\n",
    "class Sub_Sub_Class(Sub_Class_A, Sub_Class_B):\n",
    "  pass\n",
    "\n",
    "object = Sub_Sub_Class()\n",
    "object.show()\n",
    "\n",
    "help(object)"
   ]
  }
 ],
 "metadata": {
  "kernelspec": {
   "display_name": "Python 3.9.8 64-bit",
   "language": "python",
   "name": "python3"
  },
  "language_info": {
   "codemirror_mode": {
    "name": "ipython",
    "version": 3
   },
   "file_extension": ".py",
   "mimetype": "text/x-python",
   "name": "python",
   "nbconvert_exporter": "python",
   "pygments_lexer": "ipython3",
   "version": "3.9.8"
  },
  "orig_nbformat": 4,
  "vscode": {
   "interpreter": {
    "hash": "119291516cda16c1f20f004fce1af5d13e51e8d9e9c44b4802d0276c8255ca61"
   }
  }
 },
 "nbformat": 4,
 "nbformat_minor": 2
}
