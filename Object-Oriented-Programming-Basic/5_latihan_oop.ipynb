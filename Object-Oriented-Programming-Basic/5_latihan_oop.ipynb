{
 "cells": [
  {
   "cell_type": "code",
   "execution_count": 18,
   "metadata": {},
   "outputs": [
    {
     "name": "stdout",
     "output_type": "stream",
     "text": [
      "knight menyerang archer\n",
      "archer diserang knight\n",
      "attack terasa: 3.75\n",
      "darah tersisa: 71.25\n",
      "\n",
      "\n"
     ]
    }
   ],
   "source": [
    "class Hero:\n",
    "  def __init__(self, input_name, input_health, input_power, input_armor):\n",
    "    self.name = input_name\n",
    "    self.health = input_health\n",
    "    self.power = input_power\n",
    "    self.armor = input_armor\n",
    "\n",
    "  def attack(self, attack_hero_name):\n",
    "    print(f'{self.name} menyerang {attack_hero_name.name}')\n",
    "    attack_hero_name.diserang(self.name, self.power)\n",
    "\n",
    "  def diserang(self, attacked_hero_name, enemy_attack):\n",
    "    print(f'{self.name} diserang {attacked_hero_name}')\n",
    "    hit_point = enemy_attack / self.armor\n",
    "    print(f'attack terasa: {hit_point}')\n",
    "    if self.health <= 0:\n",
    "      self.health = 0\n",
    "      print(f'{self.name} tewas!!')\n",
    "      print(f'darah tersisa: {self.health}')\n",
    "    else:\n",
    "      self.health -= hit_point\n",
    "      print(f'darah tersisa: {self.health}')\n",
    "\n",
    "archer = Hero('archer', 75, 100, 20)\n",
    "knight = Hero('knight', 150, 75, 50)\n",
    "\n",
    "# archer.attack(knight)\n",
    "# print('\\n')\n",
    "knight.attack(archer)\n",
    "print('\\n')\n"
   ]
  }
 ],
 "metadata": {
  "kernelspec": {
   "display_name": "Python 3.9.8 64-bit",
   "language": "python",
   "name": "python3"
  },
  "language_info": {
   "codemirror_mode": {
    "name": "ipython",
    "version": 3
   },
   "file_extension": ".py",
   "mimetype": "text/x-python",
   "name": "python",
   "nbconvert_exporter": "python",
   "pygments_lexer": "ipython3",
   "version": "3.9.8"
  },
  "orig_nbformat": 4,
  "vscode": {
   "interpreter": {
    "hash": "119291516cda16c1f20f004fce1af5d13e51e8d9e9c44b4802d0276c8255ca61"
   }
  }
 },
 "nbformat": 4,
 "nbformat_minor": 2
}
